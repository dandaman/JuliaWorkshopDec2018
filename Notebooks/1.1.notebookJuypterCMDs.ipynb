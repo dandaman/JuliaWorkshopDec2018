{
 "cells": [
  {
   "cell_type": "markdown",
   "metadata": {},
   "source": [
    "## This is a place for you to try things"
   ]
  },
  {
   "cell_type": "code",
   "execution_count": 1,
   "metadata": {},
   "outputs": [
    {
     "name": "stdout",
     "output_type": "stream",
     "text": [
      "My name is Daniel\n"
     ]
    }
   ],
   "source": [
    "#=let us first try go into edit mode, change the name to your name, switch to cmd mode \n",
    "and run this cell =#\n",
    "myName = \"Daniel\"\n",
    "println(\"My name is $myName\")"
   ]
  },
  {
   "cell_type": "markdown",
   "metadata": {},
   "source": [
    "change this cell to markdown"
   ]
  },
  {
   "cell_type": "code",
   "execution_count": 2,
   "metadata": {},
   "outputs": [],
   "source": [
    "#now add a new cell above and below and delete them again\n"
   ]
  },
  {
   "cell_type": "code",
   "execution_count": 3,
   "metadata": {},
   "outputs": [
    {
     "data": {
      "text/plain": [
       "replace (generic function with 9 methods)"
      ]
     },
     "execution_count": 3,
     "metadata": {},
     "output_type": "execute_result"
    }
   ],
   "source": [
    "replace\n",
    "#try find out about this command"
   ]
  },
  {
   "cell_type": "code",
   "execution_count": 4,
   "metadata": {},
   "outputs": [],
   "source": [
    "# Next try splitting this cell just above this line\n",
    "\n",
    "# and then merge it with this one"
   ]
  },
  {
   "cell_type": "code",
   "execution_count": 5,
   "metadata": {},
   "outputs": [
    {
     "data": {
      "text/plain": [
       "4.423486518356425"
      ]
     },
     "execution_count": 5,
     "metadata": {},
     "output_type": "execute_result"
    }
   ],
   "source": [
    "sum(rand(10))"
   ]
  },
  {
   "cell_type": "code",
   "execution_count": 6,
   "metadata": {},
   "outputs": [],
   "source": [
    "# try to toggle the output of the cell above"
   ]
  },
  {
   "cell_type": "code",
   "execution_count": 7,
   "metadata": {},
   "outputs": [],
   "source": [
    "using DataFrames"
   ]
  },
  {
   "cell_type": "code",
   "execution_count": 8,
   "metadata": {},
   "outputs": [
    {
     "name": "stdout",
     "output_type": "stream",
     "text": [
      "search: \u001b[0m\u001b[1mw\u001b[22m\u001b[0m\u001b[1mr\u001b[22m\u001b[0m\u001b[1mi\u001b[22m\u001b[0m\u001b[1mt\u001b[22m\u001b[0m\u001b[1me\u001b[22m\u001b[0m\u001b[1mt\u001b[22m\u001b[0m\u001b[1ma\u001b[22m\u001b[0m\u001b[1mb\u001b[22m\u001b[0m\u001b[1ml\u001b[22m\u001b[0m\u001b[1me\u001b[22m\n",
      "\n"
     ]
    },
    {
     "data": {
      "text/latex": [
       "Write data to a tabular-file format (CSV, TSV, ...)\n",
       "\n",
       "\\begin{verbatim}\n",
       "writetable(filename, df, [keyword options])\n",
       "\\end{verbatim}\n",
       "\\subsubsection{Arguments}\n",
       "\\begin{itemize}\n",
       "\\item \\texttt{filename::AbstractString} : the filename to be created\n",
       "\n",
       "\n",
       "\\item \\texttt{df::AbstractDataFrame} : the AbstractDataFrame to be written\n",
       "\n",
       "\\end{itemize}\n",
       "\\subsubsection{Keyword Arguments}\n",
       "\\begin{itemize}\n",
       "\\item \\texttt{separator::Char} – The separator character that you would like to use. Defaults to the output of \\texttt{getseparator(filename)}, which uses commas for files that end in \\texttt{.csv}, tabs for files that end in \\texttt{.tsv} and a single space for files that end in \\texttt{.wsv}.\n",
       "\n",
       "\n",
       "\\item \\texttt{quotemark::Char} – The character used to delimit string fields. Defaults to \\texttt{'\"'}.\n",
       "\n",
       "\n",
       "\\item \\texttt{header::Bool} – Should the file contain a header that specifies the column names from \\texttt{df}. Defaults to \\texttt{true}.\n",
       "\n",
       "\n",
       "\\item \\texttt{nastring::AbstractString} – What to write in place of missing data. Defaults to \\texttt{\"NA\"}.\n",
       "\n",
       "\\end{itemize}\n",
       "\\subsubsection{Result}\n",
       "\\begin{itemize}\n",
       "\\item \\texttt{::DataFrame}\n",
       "\n",
       "\\end{itemize}\n",
       "\\subsubsection{Examples}\n",
       "\\begin{verbatim}\n",
       "df = DataFrame(A = 1:10)\n",
       "writetable(\"output.csv\", df)\n",
       "writetable(\"output.dat\", df, separator = ',', header = false)\n",
       "writetable(\"output.dat\", df, quotemark = ''', separator = ',')\n",
       "writetable(\"output.dat\", df, header = false)\n",
       "\\end{verbatim}\n"
      ],
      "text/markdown": [
       "Write data to a tabular-file format (CSV, TSV, ...)\n",
       "\n",
       "```julia\n",
       "writetable(filename, df, [keyword options])\n",
       "```\n",
       "\n",
       "### Arguments\n",
       "\n",
       "  * `filename::AbstractString` : the filename to be created\n",
       "  * `df::AbstractDataFrame` : the AbstractDataFrame to be written\n",
       "\n",
       "### Keyword Arguments\n",
       "\n",
       "  * `separator::Char` – The separator character that you would like to use. Defaults to the output of `getseparator(filename)`, which uses commas for files that end in `.csv`, tabs for files that end in `.tsv` and a single space for files that end in `.wsv`.\n",
       "  * `quotemark::Char` – The character used to delimit string fields. Defaults to `'\"'`.\n",
       "  * `header::Bool` – Should the file contain a header that specifies the column names from `df`. Defaults to `true`.\n",
       "  * `nastring::AbstractString` – What to write in place of missing data. Defaults to `\"NA\"`.\n",
       "\n",
       "### Result\n",
       "\n",
       "  * `::DataFrame`\n",
       "\n",
       "### Examples\n",
       "\n",
       "```julia\n",
       "df = DataFrame(A = 1:10)\n",
       "writetable(\"output.csv\", df)\n",
       "writetable(\"output.dat\", df, separator = ',', header = false)\n",
       "writetable(\"output.dat\", df, quotemark = ''', separator = ',')\n",
       "writetable(\"output.dat\", df, header = false)\n",
       "```\n"
      ],
      "text/plain": [
       "  Write data to a tabular-file format (CSV, TSV, ...)\n",
       "\n",
       "\u001b[36m  writetable(filename, df, [keyword options])\u001b[39m\n",
       "\n",
       "\u001b[1m  Arguments\u001b[22m\n",
       "\u001b[1m  –––––––––––\u001b[22m\n",
       "\n",
       "    •    \u001b[36mfilename::AbstractString\u001b[39m : the filename to be created\n",
       "\n",
       "    •    \u001b[36mdf::AbstractDataFrame\u001b[39m : the AbstractDataFrame to be written\n",
       "\n",
       "\u001b[1m  Keyword Arguments\u001b[22m\n",
       "\u001b[1m  –––––––––––––––––––\u001b[22m\n",
       "\n",
       "    •    \u001b[36mseparator::Char\u001b[39m – The separator character that you would like to\n",
       "        use. Defaults to the output of \u001b[36mgetseparator(filename)\u001b[39m, which uses\n",
       "        commas for files that end in \u001b[36m.csv\u001b[39m, tabs for files that end in \u001b[36m.tsv\u001b[39m\n",
       "        and a single space for files that end in \u001b[36m.wsv\u001b[39m.\n",
       "\n",
       "    •    \u001b[36mquotemark::Char\u001b[39m – The character used to delimit string fields.\n",
       "        Defaults to \u001b[36m'\"'\u001b[39m.\n",
       "\n",
       "    •    \u001b[36mheader::Bool\u001b[39m – Should the file contain a header that specifies the\n",
       "        column names from \u001b[36mdf\u001b[39m. Defaults to \u001b[36mtrue\u001b[39m.\n",
       "\n",
       "    •    \u001b[36mnastring::AbstractString\u001b[39m – What to write in place of missing data.\n",
       "        Defaults to \u001b[36m\"NA\"\u001b[39m.\n",
       "\n",
       "\u001b[1m  Result\u001b[22m\n",
       "\u001b[1m  ––––––––\u001b[22m\n",
       "\n",
       "    •    \u001b[36m::DataFrame\u001b[39m\n",
       "\n",
       "\u001b[1m  Examples\u001b[22m\n",
       "\u001b[1m  ––––––––––\u001b[22m\n",
       "\n",
       "\u001b[36m  df = DataFrame(A = 1:10)\u001b[39m\n",
       "\u001b[36m  writetable(\"output.csv\", df)\u001b[39m\n",
       "\u001b[36m  writetable(\"output.dat\", df, separator = ',', header = false)\u001b[39m\n",
       "\u001b[36m  writetable(\"output.dat\", df, quotemark = ''', separator = ',')\u001b[39m\n",
       "\u001b[36m  writetable(\"output.dat\", df, header = false)\u001b[39m"
      ]
     },
     "execution_count": 8,
     "metadata": {},
     "output_type": "execute_result"
    }
   ],
   "source": [
    "?writetable"
   ]
  },
  {
   "cell_type": "code",
   "execution_count": 9,
   "metadata": {},
   "outputs": [
    {
     "name": "stderr",
     "output_type": "stream",
     "text": [
      "┌ Warning: readtable is deprecated, use CSV.read from the CSV package instead\n",
      "│   caller = ip:0x0\n",
      "└ @ Core :-1\n"
     ]
    },
    {
     "data": {
      "text/html": [
       "<table class=\"data-frame\"><thead><tr><th></th><th>line</th><th>trait1</th><th>trait2</th><th>trait3</th><th>location</th><th>year</th></tr><tr><th></th><th>String⍰</th><th>Float64⍰</th><th>Float64⍰</th><th>Float64⍰</th><th>String⍰</th><th>Int64⍰</th></tr></thead><tbody><tr><th>1</th><td>A</td><td>14.51</td><td>164.26</td><td>54.92</td><td>CH</td><td>2017</td></tr><tr><th>2</th><td>B</td><td>24.96</td><td>554.82</td><td>75.18</td><td>D</td><td>2016</td></tr><tr><th>3</th><td>C</td><td>24.39</td><td>94.43</td><td>94.8</td><td>F</td><td>2015</td></tr><tr><th>4</th><td>D</td><td>34.65</td><td>915.16</td><td>45.62</td><td>I</td><td>2017</td></tr><tr><th>5</th><td>E</td><td>15.49</td><td>725.89</td><td>26.24</td><td>USA</td><td>2018</td></tr></tbody></table>"
      ],
      "text/latex": [
       "\\begin{tabular}{r|cccccc}\n",
       "\t& line & trait1 & trait2 & trait3 & location & year\\\\\n",
       "\t\\hline\n",
       "\t1 & A & 14.51 & 164.26 & 54.92 & CH & 2017 \\\\\n",
       "\t2 & B & 24.96 & 554.82 & 75.18 & D & 2016 \\\\\n",
       "\t3 & C & 24.39 & 94.43 & 94.8 & F & 2015 \\\\\n",
       "\t4 & D & 34.65 & 915.16 & 45.62 & I & 2017 \\\\\n",
       "\t5 & E & 15.49 & 725.89 & 26.24 & USA & 2018 \\\\\n",
       "\\end{tabular}\n"
      ],
      "text/plain": [
       "5×6 DataFrame\n",
       "│ Row │ line    │ trait1   │ trait2   │ trait3   │ location │ year   │\n",
       "│     │ \u001b[90mString⍰\u001b[39m │ \u001b[90mFloat64⍰\u001b[39m │ \u001b[90mFloat64⍰\u001b[39m │ \u001b[90mFloat64⍰\u001b[39m │ \u001b[90mString⍰\u001b[39m  │ \u001b[90mInt64⍰\u001b[39m │\n",
       "├─────┼─────────┼──────────┼──────────┼──────────┼──────────┼────────┤\n",
       "│ 1   │ A       │ 14.51    │ 164.26   │ 54.92    │ CH       │ 2017   │\n",
       "│ 2   │ B       │ 24.96    │ 554.82   │ 75.18    │ D        │ 2016   │\n",
       "│ 3   │ C       │ 24.39    │ 94.43    │ 94.8     │ F        │ 2015   │\n",
       "│ 4   │ D       │ 34.65    │ 915.16   │ 45.62    │ I        │ 2017   │\n",
       "│ 5   │ E       │ 15.49    │ 725.89   │ 26.24    │ USA      │ 2018   │"
      ]
     },
     "execution_count": 9,
     "metadata": {},
     "output_type": "execute_result"
    }
   ],
   "source": [
    "k=readtable(\"exampleData.csv\",separator = ';')"
   ]
  },
  {
   "cell_type": "code",
   "execution_count": 10,
   "metadata": {},
   "outputs": [
    {
     "data": {
      "text/plain": [
       "5-element Array{Union{Missing, String},1}:\n",
       " \"CH\" \n",
       " \"D\"  \n",
       " \"F\"  \n",
       " \"I\"  \n",
       " \"USA\""
      ]
     },
     "execution_count": 10,
     "metadata": {},
     "output_type": "execute_result"
    }
   ],
   "source": [
    "k.location"
   ]
  },
  {
   "cell_type": "code",
   "execution_count": 11,
   "metadata": {},
   "outputs": [],
   "source": [
    "using StatsBase"
   ]
  },
  {
   "cell_type": "code",
   "execution_count": 12,
   "metadata": {},
   "outputs": [
    {
     "data": {
      "text/plain": [
       "2-element Array{Union{Missing, String},1}:\n",
       " \"D\" \n",
       " \"CH\""
      ]
     },
     "execution_count": 12,
     "metadata": {},
     "output_type": "execute_result"
    }
   ],
   "source": [
    "StatsBase.sample(k.location,2)"
   ]
  },
  {
   "cell_type": "code",
   "execution_count": 13,
   "metadata": {},
   "outputs": [],
   "source": [
    "using Statistics"
   ]
  },
  {
   "cell_type": "code",
   "execution_count": 14,
   "metadata": {},
   "outputs": [
    {
     "data": {
      "text/plain": [
       "8.212435692290077"
      ]
     },
     "execution_count": 14,
     "metadata": {},
     "output_type": "execute_result"
    }
   ],
   "source": [
    "Statistics.std(k.trait1)"
   ]
  },
  {
   "cell_type": "code",
   "execution_count": 16,
   "metadata": {},
   "outputs": [
    {
     "data": {
      "application/vnd.plotly.v1+json": {
       "data": [
        {
         "colorbar": {
          "title": ""
         },
         "hoverinfo": "text",
         "legendgroup": "y1",
         "line": {
          "color": "rgba(0, 154, 250, 1.000)",
          "dash": "solid",
          "shape": "linear",
          "width": 2
         },
         "mode": "lines",
         "name": "y1",
         "showlegend": true,
         "text": [
          null,
          null,
          null,
          null,
          null
         ],
         "type": "scatter",
         "x": [
          1,
          2,
          3,
          4,
          5
         ],
         "xaxis": "x1",
         "y": [
          0.5300302836762725,
          0.7986050841960974,
          0.24993138078420407,
          0.43416436343709,
          0.11050409702964892
         ],
         "yaxis": "y1",
         "zmax": 0.1,
         "zmin": -0.1
        },
        {
         "colorbar": {
          "title": ""
         },
         "hoverinfo": "text",
         "legendgroup": "y2",
         "line": {
          "color": "rgba(227, 111, 71, 1.000)",
          "dash": "solid",
          "shape": "linear",
          "width": 2
         },
         "mode": "lines",
         "name": "y2",
         "showlegend": true,
         "text": [
          null,
          null,
          null,
          null,
          null
         ],
         "type": "scatter",
         "x": [
          1,
          2,
          3,
          4,
          5
         ],
         "xaxis": "x1",
         "y": [
          0.040070025226734085,
          0.5382907381488253,
          0.5619473649961848,
          0.9158731015262873,
          0.09298683010943987
         ],
         "yaxis": "y1",
         "zmax": 0.1,
         "zmin": -0.1
        },
        {
         "colorbar": {
          "title": ""
         },
         "hoverinfo": "text",
         "legendgroup": "y3",
         "line": {
          "color": "rgba(62, 164, 78, 1.000)",
          "dash": "solid",
          "shape": "linear",
          "width": 2
         },
         "mode": "lines",
         "name": "y3",
         "showlegend": true,
         "text": [
          null,
          null,
          null,
          null,
          null
         ],
         "type": "scatter",
         "x": [
          1,
          2,
          3,
          4,
          5
         ],
         "xaxis": "x1",
         "y": [
          0.10029461650166693,
          0.4535254957076471,
          0.8245563892226022,
          0.7285449010408398,
          0.20229912642932835
         ],
         "yaxis": "y1",
         "zmax": 0.1,
         "zmin": -0.1
        },
        {
         "colorbar": {
          "title": ""
         },
         "hoverinfo": "text",
         "legendgroup": "y4",
         "line": {
          "color": "rgba(195, 113, 210, 1.000)",
          "dash": "solid",
          "shape": "linear",
          "width": 2
         },
         "mode": "lines",
         "name": "y4",
         "showlegend": true,
         "text": [
          null,
          null,
          null,
          null,
          null
         ],
         "type": "scatter",
         "x": [
          1,
          2,
          3,
          4,
          5
         ],
         "xaxis": "x1",
         "y": [
          0.7155821108398137,
          0.06565244344841159,
          0.9913985730316479,
          0.4858850962920338,
          0.18466803857834901
         ],
         "yaxis": "y1",
         "zmax": 0.1,
         "zmin": -0.1
        },
        {
         "colorbar": {
          "title": ""
         },
         "hoverinfo": "text",
         "legendgroup": "y5",
         "line": {
          "color": "rgba(172, 142, 24, 1.000)",
          "dash": "solid",
          "shape": "linear",
          "width": 2
         },
         "mode": "lines",
         "name": "y5",
         "showlegend": true,
         "text": [
          null,
          null,
          null,
          null,
          null
         ],
         "type": "scatter",
         "x": [
          1,
          2,
          3,
          4,
          5
         ],
         "xaxis": "x1",
         "y": [
          0.32450978236696626,
          0.3274684169977291,
          0.5199373106676959,
          0.719453968798009,
          0.3939605812708602
         ],
         "yaxis": "y1",
         "zmax": 0.1,
         "zmin": -0.1
        }
       ],
       "layout": {
        "annotations": [
         {
          "font": {
           "color": "rgba(0, 0, 0, 1.000)",
           "family": "sans-serif",
           "size": 20
          },
          "rotation": 0,
          "showarrow": false,
          "text": "My Plot",
          "x": 0.5222222222222223,
          "xanchor": "center",
          "xref": "paper",
          "y": 1,
          "yanchor": "top",
          "yref": "paper"
         }
        ],
        "height": 400,
        "legend": {
         "bgcolor": "rgba(255, 255, 255, 1.000)",
         "bordercolor": "rgba(0, 0, 0, 1.000)",
         "font": {
          "color": "rgba(0, 0, 0, 1.000)",
          "family": "sans-serif",
          "size": 11
         },
         "tracegroupgap": 0,
         "x": 1,
         "y": 1
        },
        "margin": {
         "b": 20,
         "l": 0,
         "r": 0,
         "t": 20
        },
        "paper_bgcolor": "rgba(255, 255, 255, 1.000)",
        "plot_bgcolor": "rgba(255, 255, 255, 1.000)",
        "showlegend": true,
        "width": 600,
        "xaxis": {
         "anchor": "y1",
         "domain": [
          0.05100612423447069,
          0.9934383202099737
         ],
         "gridcolor": "rgba(0, 0, 0, 0.100)",
         "gridwidth": 0.5,
         "linecolor": "rgba(0, 0, 0, 1.000)",
         "mirror": false,
         "range": [
          0.88,
          5.12
         ],
         "showgrid": true,
         "showline": true,
         "showticklabels": true,
         "tickangle": 0,
         "tickcolor": "rgb(0, 0, 0)",
         "tickfont": {
          "color": "rgba(0, 0, 0, 1.000)",
          "family": "sans-serif",
          "size": 11
         },
         "tickmode": "array",
         "ticks": "inside",
         "ticktext": [
          "1",
          "2",
          "3",
          "4",
          "5"
         ],
         "tickvals": [
          1,
          2,
          3,
          4,
          5
         ],
         "title": "",
         "titlefont": {
          "color": "rgba(0, 0, 0, 1.000)",
          "family": "sans-serif",
          "size": 15
         },
         "type": "-",
         "visible": true,
         "zeroline": false,
         "zerolinecolor": "rgba(0, 0, 0, 1.000)"
        },
        "yaxis": {
         "anchor": "x1",
         "domain": [
          0.03762029746281716,
          0.9415463692038496
         ],
         "gridcolor": "rgba(0, 0, 0, 0.100)",
         "gridwidth": 0.5,
         "linecolor": "rgba(0, 0, 0, 1.000)",
         "mirror": false,
         "range": [
          0.01153016879258667,
          1.0199384294657954
         ],
         "showgrid": true,
         "showline": true,
         "showticklabels": true,
         "tickangle": 0,
         "tickcolor": "rgb(0, 0, 0)",
         "tickfont": {
          "color": "rgba(0, 0, 0, 1.000)",
          "family": "sans-serif",
          "size": 11
         },
         "tickmode": "array",
         "ticks": "inside",
         "ticktext": [
          "0.2",
          "0.4",
          "0.6",
          "0.8",
          "1.0"
         ],
         "tickvals": [
          0.2,
          0.4,
          0.6000000000000001,
          0.8,
          1
         ],
         "title": "",
         "titlefont": {
          "color": "rgba(0, 0, 0, 1.000)",
          "family": "sans-serif",
          "size": 15
         },
         "type": "-",
         "visible": true,
         "zeroline": false,
         "zerolinecolor": "rgba(0, 0, 0, 1.000)"
        }
       }
      },
      "text/html": [
       "    <div id=\"9f8e3b99-a248-46ef-98c2-583303a0cfc7\" style=\"width:600px;height:400px;\"></div>\n",
       "    <script>\n",
       "    PLOT = document.getElementById('9f8e3b99-a248-46ef-98c2-583303a0cfc7');\n",
       "    Plotly.plot(PLOT, [{\"xaxis\":\"x1\",\"colorbar\":{\"title\":\"\"},\"yaxis\":\"y1\",\"text\":[null,null,null,null,null],\"x\":[1,2,3,4,5],\"showlegend\":true,\"mode\":\"lines\",\"name\":\"y1\",\"zmin\":-0.1,\"legendgroup\":\"y1\",\"zmax\":0.1,\"line\":{\"color\":\"rgba(0, 154, 250, 1.000)\",\"shape\":\"linear\",\"dash\":\"solid\",\"width\":2},\"y\":[0.5300302836762725,0.7986050841960974,0.24993138078420407,0.43416436343709,0.11050409702964892],\"type\":\"scatter\",\"hoverinfo\":\"text\"},{\"xaxis\":\"x1\",\"colorbar\":{\"title\":\"\"},\"yaxis\":\"y1\",\"text\":[null,null,null,null,null],\"x\":[1,2,3,4,5],\"showlegend\":true,\"mode\":\"lines\",\"name\":\"y2\",\"zmin\":-0.1,\"legendgroup\":\"y2\",\"zmax\":0.1,\"line\":{\"color\":\"rgba(227, 111, 71, 1.000)\",\"shape\":\"linear\",\"dash\":\"solid\",\"width\":2},\"y\":[0.040070025226734085,0.5382907381488253,0.5619473649961848,0.9158731015262873,0.09298683010943987],\"type\":\"scatter\",\"hoverinfo\":\"text\"},{\"xaxis\":\"x1\",\"colorbar\":{\"title\":\"\"},\"yaxis\":\"y1\",\"text\":[null,null,null,null,null],\"x\":[1,2,3,4,5],\"showlegend\":true,\"mode\":\"lines\",\"name\":\"y3\",\"zmin\":-0.1,\"legendgroup\":\"y3\",\"zmax\":0.1,\"line\":{\"color\":\"rgba(62, 164, 78, 1.000)\",\"shape\":\"linear\",\"dash\":\"solid\",\"width\":2},\"y\":[0.10029461650166693,0.4535254957076471,0.8245563892226022,0.7285449010408398,0.20229912642932835],\"type\":\"scatter\",\"hoverinfo\":\"text\"},{\"xaxis\":\"x1\",\"colorbar\":{\"title\":\"\"},\"yaxis\":\"y1\",\"text\":[null,null,null,null,null],\"x\":[1,2,3,4,5],\"showlegend\":true,\"mode\":\"lines\",\"name\":\"y4\",\"zmin\":-0.1,\"legendgroup\":\"y4\",\"zmax\":0.1,\"line\":{\"color\":\"rgba(195, 113, 210, 1.000)\",\"shape\":\"linear\",\"dash\":\"solid\",\"width\":2},\"y\":[0.7155821108398137,0.06565244344841159,0.9913985730316479,0.4858850962920338,0.18466803857834901],\"type\":\"scatter\",\"hoverinfo\":\"text\"},{\"xaxis\":\"x1\",\"colorbar\":{\"title\":\"\"},\"yaxis\":\"y1\",\"text\":[null,null,null,null,null],\"x\":[1,2,3,4,5],\"showlegend\":true,\"mode\":\"lines\",\"name\":\"y5\",\"zmin\":-0.1,\"legendgroup\":\"y5\",\"zmax\":0.1,\"line\":{\"color\":\"rgba(172, 142, 24, 1.000)\",\"shape\":\"linear\",\"dash\":\"solid\",\"width\":2},\"y\":[0.32450978236696626,0.3274684169977291,0.5199373106676959,0.719453968798009,0.3939605812708602],\"type\":\"scatter\",\"hoverinfo\":\"text\"}], {\"showlegend\":true,\"xaxis\":{\"showticklabels\":true,\"gridwidth\":0.5,\"tickvals\":[1.0,2.0,3.0,4.0,5.0],\"visible\":true,\"ticks\":\"inside\",\"range\":[0.88,5.12],\"domain\":[0.05100612423447069,0.9934383202099737],\"tickmode\":\"array\",\"linecolor\":\"rgba(0, 0, 0, 1.000)\",\"showgrid\":true,\"title\":\"\",\"mirror\":false,\"tickangle\":0,\"showline\":true,\"gridcolor\":\"rgba(0, 0, 0, 0.100)\",\"titlefont\":{\"color\":\"rgba(0, 0, 0, 1.000)\",\"family\":\"sans-serif\",\"size\":15},\"tickcolor\":\"rgb(0, 0, 0)\",\"ticktext\":[\"1\",\"2\",\"3\",\"4\",\"5\"],\"zeroline\":false,\"type\":\"-\",\"tickfont\":{\"color\":\"rgba(0, 0, 0, 1.000)\",\"family\":\"sans-serif\",\"size\":11},\"zerolinecolor\":\"rgba(0, 0, 0, 1.000)\",\"anchor\":\"y1\"},\"paper_bgcolor\":\"rgba(255, 255, 255, 1.000)\",\"annotations\":[{\"yanchor\":\"top\",\"xanchor\":\"center\",\"rotation\":-0.0,\"y\":1.0,\"font\":{\"color\":\"rgba(0, 0, 0, 1.000)\",\"family\":\"sans-serif\",\"size\":20},\"yref\":\"paper\",\"showarrow\":false,\"text\":\"My Plot\",\"xref\":\"paper\",\"x\":0.5222222222222223}],\"height\":400,\"margin\":{\"l\":0,\"b\":20,\"r\":0,\"t\":20},\"plot_bgcolor\":\"rgba(255, 255, 255, 1.000)\",\"yaxis\":{\"showticklabels\":true,\"gridwidth\":0.5,\"tickvals\":[0.2,0.4,0.6000000000000001,0.8,1.0],\"visible\":true,\"ticks\":\"inside\",\"range\":[0.01153016879258667,1.0199384294657954],\"domain\":[0.03762029746281716,0.9415463692038496],\"tickmode\":\"array\",\"linecolor\":\"rgba(0, 0, 0, 1.000)\",\"showgrid\":true,\"title\":\"\",\"mirror\":false,\"tickangle\":0,\"showline\":true,\"gridcolor\":\"rgba(0, 0, 0, 0.100)\",\"titlefont\":{\"color\":\"rgba(0, 0, 0, 1.000)\",\"family\":\"sans-serif\",\"size\":15},\"tickcolor\":\"rgb(0, 0, 0)\",\"ticktext\":[\"0.2\",\"0.4\",\"0.6\",\"0.8\",\"1.0\"],\"zeroline\":false,\"type\":\"-\",\"tickfont\":{\"color\":\"rgba(0, 0, 0, 1.000)\",\"family\":\"sans-serif\",\"size\":11},\"zerolinecolor\":\"rgba(0, 0, 0, 1.000)\",\"anchor\":\"x1\"},\"legend\":{\"tracegroupgap\":0,\"bordercolor\":\"rgba(0, 0, 0, 1.000)\",\"bgcolor\":\"rgba(255, 255, 255, 1.000)\",\"font\":{\"color\":\"rgba(0, 0, 0, 1.000)\",\"family\":\"sans-serif\",\"size\":11},\"y\":1.0,\"x\":1.0},\"width\":600});\n",
       "    </script>\n"
      ]
     },
     "execution_count": 16,
     "metadata": {},
     "output_type": "execute_result"
    }
   ],
   "source": [
    "using Plots\n",
    "plotly() # Choose the Plotly.jl backend for web interactivity\n",
    "plot(rand(5,5),linewidth=2,title=\"My Plot\")"
   ]
  },
  {
   "cell_type": "code",
   "execution_count": 20,
   "metadata": {},
   "outputs": [
    {
     "data": {
      "text/plain": [
       "String"
      ]
     },
     "execution_count": 20,
     "metadata": {},
     "output_type": "execute_result"
    }
   ],
   "source": [
    "typeof(myName)"
   ]
  },
  {
   "cell_type": "code",
   "execution_count": 61,
   "metadata": {},
   "outputs": [
    {
     "name": "stdout",
     "output_type": "stream",
     "text": [
      "ieeniaiDDa\n",
      "nneaDiaanD\n",
      "ainneDnnaD\n",
      "eDnieaDlaa\n",
      "neDiaiiain\n",
      "laaiaeaaie\n",
      "llDeniDeDD\n",
      "DaDlllleni\n",
      "leanaaeali\n",
      "Daelnnnlln\n",
      "ellDalilei\n",
      "nlliDDeDne\n",
      "aeeeaaalla\n",
      "neiDaeeDni\n",
      "aaannDnlna\n",
      "aDeDaelnle\n",
      "nnnieiDDal\n",
      "lilnDieian\n",
      "Daallnllin\n",
      "nlDiainalD\n"
     ]
    }
   ],
   "source": [
    "for i in range(1,20)\n",
    "    println(myName[rand(1:length(myName),10)])\n",
    "end"
   ]
  }
 ],
 "metadata": {
  "@webio": {
   "lastCommId": "a0bed7a994704ca68b6d3a1e0fbeca1c",
   "lastKernelId": "64ea0e91-7a97-4dc1-a60f-c760e8c48ec5"
  },
  "kernelspec": {
   "display_name": "Julia 1.0.2",
   "language": "julia",
   "name": "julia-1.0"
  },
  "language_info": {
   "file_extension": ".jl",
   "mimetype": "application/julia",
   "name": "julia",
   "version": "1.0.2"
  }
 },
 "nbformat": 4,
 "nbformat_minor": 2
}
