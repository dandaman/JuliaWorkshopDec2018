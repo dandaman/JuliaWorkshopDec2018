{
 "cells": [
  {
   "cell_type": "markdown",
   "metadata": {},
   "source": [
    "# Whole Genome Analyses Using Julia"
   ]
  },
  {
   "cell_type": "markdown",
   "metadata": {},
   "source": [
    "Julia is a dynamic programming language that is similar to R, Python and Matlab. However, in compting speed, it approaches that of C and Fortran. Thus, it is an ideal language for whole genome analyses that rely on MCMC techniques.\n",
    "\n",
    "This course will start with installation of Julia and Jupyter Notebook on your computer. Next we will demonstrate the use of a genetic simulation package called XSim and a whole-genome analysis package called JWAS. Both of these are open-source packages that are written entirely in Julia. Next we will introduce programming in Julia, including using it as a matrix calculator. Finally, advanced programming topics in Julia will be introduced.  "
   ]
  },
  {
   "cell_type": "markdown",
   "metadata": {},
   "source": [
    "## Tentative Schedule:\n",
    "\n",
    "-  Day 1: Introduction to Docker containers, Jupyter notebooks and Julia\n",
    "    -  9:00 - 12:00 \n",
    "    >   Introduce and install Docker (a container platform), Jupyter notebooks and Julia. A docker\n",
    "    container is an executable piece of software with everything needed to run it, including the operating system,\n",
    "    libraries and all other required packages. A Jupyter notebook is a document that can contain code cells with\n",
    "    fragments of code written in a language such as R, Julia or Python, together with the output from these cells. In\n",
    "    addition, these notebook documents can contain Markdown cells that can include text with equations, figues, tables\n",
    "    and links. After installing Docker on your computer, we will download a container with Linux, Python, Jupyter,\n",
    "    Julia, and the Julia packages: XSim and JWAS. \n",
    "\n",
    "    -  13:30 - 15:00 \n",
    "    >  File I/O, data manipulation and graphics in Julia; \n",
    "       adding functionality to and updating docker container.\n",
    "       \n",
    "    -  15:30 - 18:00 \n",
    "    >  Lab"
   ]
  },
  {
   "cell_type": "markdown",
   "metadata": {},
   "source": [
    "-  Day 2: Genetic data simulation package XSIM\n",
    "    -  9:00 - 12:00 \n",
    "    >  Introduce XSim, an open-source Julia package to simulate genetic and phenotypic data. XSim can \n",
    "        simulate data from a specified pedigree or according to a mating scheme. Real haplotypes can be used\n",
    "        to construct the chromosomes \n",
    "    of the founders, or they can be simulated given allele frequencies, map positions, etc. \n",
    "    -  13:30 - 15:00\n",
    "    >  Simulate a plant breeding program using XSIM\n",
    "    -  15:30 - 18:00\n",
    "    >  Lab"
   ]
  },
  {
   "cell_type": "markdown",
   "metadata": {},
   "source": [
    "-  Day 3: Whole genome analyses using JWAS\n",
    "    -  9:00 - 12:00 \n",
    "    >  Introduce JWAS, an open-source Julia package for Bayesian, mixed linear model analyses.\n",
    "       JWAS can accommodate univariate and multivariate mixed models that include direct \n",
    "       and maternal genetic effects, permanent environmental effects, and random marker\n",
    "       effects (Bayesian alphabet). \n",
    "    -  13:30 - 15:00\n",
    "    >  Whole genome analyses with incomplete genomic data (single step)\n",
    "    -  15:30 - 18:00\n",
    "    >  Lab"
   ]
  },
  {
   "cell_type": "markdown",
   "metadata": {},
   "source": [
    "-  Day 4: Introduction to programming in Julia\n",
    "    -  9:00 - 12:00 \n",
    "    >  Construct and solve Henderson's mixed model equations; Compute inverse of additive relationship matrix using the\n",
    "       matrix inversion lemma (Woodbury identity). \n",
    "    -  13:30 - 15:00\n",
    "    >  Algorithm for inverse of a positive definite\n",
    "       matrix.\n",
    "    -  15:30 - 18:00\n",
    "    >  Lab"
   ]
  },
  {
   "cell_type": "markdown",
   "metadata": {},
   "source": [
    "-  Day 5: Advanced programming topics in Julia\n",
    "    -  9:00 - 12:00 \n",
    "    >  User-defined types, dictionaries, and recursive functions will be introduced by examining the pedigree module\n",
    "       of JWAS. \n",
    "    -  13:30 - 15:00\n",
    "    >  Algorithm for computing inbreeding for an arbitrary pedigree.\n",
    "    -  15:30 - 18:00\n",
    "    >  Lab"
   ]
  }
 ],
 "metadata": {
  "kernelspec": {
   "display_name": "Julia 1.0.0",
   "language": "julia",
   "name": "julia-1.0"
  },
  "language_info": {
   "file_extension": ".jl",
   "mimetype": "application/julia",
   "name": "julia",
   "version": "1.0.0"
  }
 },
 "nbformat": 4,
 "nbformat_minor": 2
}
