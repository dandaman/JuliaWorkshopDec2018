{
 "cells": [
  {
   "cell_type": "markdown",
   "metadata": {},
   "source": [
    "### Notes:\n",
    "\n",
    "* Day 1: Docker, Jupyter and Julia \n",
    "\n",
    "    * [Introduction to Docker](../Slides/dockerIntro.pdf)\n",
    "    * [Introduction to Jupyter](1.1.notebookJuypterCMDs.ipynb)\n",
    "    * [Input/output Commands](1.2.notebook_IO_dataFrames.ipynb)\n",
    "    * [Strings, Arrays, Dictionaries, Plotting](1.3.notebook_StringsArraysDictPlotting.ipynb)\n",
    "\n",
    "* Day 2: XSim\n",
    "\n"
   ]
  }
 ],
 "metadata": {
  "kernelspec": {
   "display_name": "Julia 1.0.2",
   "language": "julia",
   "name": "julia-1.0"
  },
  "language_info": {
   "file_extension": ".jl",
   "mimetype": "application/julia",
   "name": "julia",
   "version": "1.0.2"
  }
 },
 "nbformat": 4,
 "nbformat_minor": 2
}
