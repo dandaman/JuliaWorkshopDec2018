{
 "cells": [
  {
   "cell_type": "markdown",
   "metadata": {},
   "source": [
    "# PedModule from JWAS\n",
    "\n",
    "I have slightly modified it for the workshop. "
   ]
  },
  {
   "cell_type": "markdown",
   "metadata": {},
   "source": [
    "#### Need to instaall ProgressMeter package\n",
    "\n",
    "Uncomment the next two lines the first time you use this notebook. "
   ]
  },
  {
   "cell_type": "code",
   "execution_count": 2,
   "metadata": {},
   "outputs": [],
   "source": [
    "using DataFrames,CSV\n",
    "using SparseArrays\n",
    "using ProgressMeter\n",
    "using Printf"
   ]
  },
  {
   "cell_type": "code",
   "execution_count": 3,
   "metadata": {},
   "outputs": [],
   "source": [
    "mutable struct PedNode\n",
    "    seqID::Int64\n",
    "    sire::String\n",
    "    dam::String\n",
    "    f::Float64\n",
    "end\n",
    "\n",
    "mutable struct Pedigree\n",
    "    currentID::Int64 # the current \"oldest\" thing\n",
    "    idMap::Dict{AbstractString,PedNode}\n",
    "    aij::Dict{Int64, Float64} #additive \n",
    "    setNG::Set # no genotype set\n",
    "    setG::Set # with genotype set\n",
    "end"
   ]
  },
  {
   "cell_type": "code",
   "execution_count": 5,
   "metadata": {},
   "outputs": [
    {
     "data": {
      "text/plain": [
       "fillMap! (generic function with 1 method)"
      ]
     },
     "execution_count": 5,
     "metadata": {},
     "output_type": "execute_result"
    }
   ],
   "source": [
    "function fillMap!(ped::Pedigree,df)\n",
    "    n = size(df,1)\n",
    "    for i in unique(df[2]) \n",
    "        if i!=\"0\" && !haskey(ped.idMap,i)          # skip if 0 or already done\n",
    "            ped.idMap[i]=PedNode(0,\"0\",\"0\",-1.0)\n",
    "        end\n",
    "    end\n",
    "    for i in unique(df[3])\n",
    "        if i!=\"0\" && !haskey(ped.idMap,i)         # same for dams\n",
    "            ped.idMap[i]=PedNode(0,\"0\",\"0\",-1.0)\n",
    "        end\n",
    "    end\n",
    "    j=1\n",
    "    for i in df[1]\n",
    "        ped.idMap[i]=PedNode(0,df[j,2],df[j,3],-1.0)\n",
    "        j+=1\n",
    "    end\n",
    "end"
   ]
  },
  {
   "cell_type": "code",
   "execution_count": 6,
   "metadata": {},
   "outputs": [
    {
     "data": {
      "text/plain": [
       "code! (generic function with 1 method)"
      ]
     },
     "execution_count": 6,
     "metadata": {},
     "output_type": "execute_result"
    }
   ],
   "source": [
    "function code!(ped::Pedigree,id::AbstractString)\n",
    "# The idea for this function came from a perl script by Bernt Guldbrandtsen\n",
    "    if ped.idMap[id].seqID!=0\n",
    "        return\n",
    "    end\n",
    "    sireID = ped.idMap[id].sire\n",
    "    damID  = ped.idMap[id].dam\n",
    "    if sireID!=\"0\" && ped.idMap[sireID].seqID==0\n",
    "        code!(ped,sireID)\n",
    "    end\n",
    "    if damID!=\"0\" && ped.idMap[damID].seqID==0\n",
    "        code!(ped,damID)\n",
    "    end\n",
    "    ped.idMap[id].seqID = ped.currentID\n",
    "    ped.currentID += 1\n",
    "end"
   ]
  },
  {
   "cell_type": "code",
   "execution_count": 12,
   "metadata": {},
   "outputs": [
    {
     "data": {
      "text/plain": [
       "Dict{Int64,String} with 0 entries"
      ]
     },
     "execution_count": 12,
     "metadata": {},
     "output_type": "execute_result"
    }
   ],
   "source": [
    "myDict = Dict{Int64,String}()\n",
    "#myDict = Dict()"
   ]
  },
  {
   "cell_type": "code",
   "execution_count": 13,
   "metadata": {},
   "outputs": [
    {
     "data": {
      "text/plain": [
       "\"Rohan\""
      ]
     },
     "execution_count": 13,
     "metadata": {},
     "output_type": "execute_result"
    }
   ],
   "source": [
    "myDict[1] = \"Rohan\""
   ]
  },
  {
   "cell_type": "code",
   "execution_count": 19,
   "metadata": {},
   "outputs": [
    {
     "data": {
      "text/plain": [
       "true"
      ]
     },
     "execution_count": 19,
     "metadata": {},
     "output_type": "execute_result"
    }
   ],
   "source": [
    "haskey(myDict,1)\n",
    "1 in keys(myDict)"
   ]
  },
  {
   "cell_type": "code",
   "execution_count": 20,
   "metadata": {},
   "outputs": [
    {
     "data": {
      "text/plain": [
       "calcInbreeding! (generic function with 1 method)"
      ]
     },
     "execution_count": 20,
     "metadata": {},
     "output_type": "execute_result"
    }
   ],
   "source": [
    "function calcInbreeding!(ped::Pedigree,id::AbstractString)\n",
    "    @printf \"calcInbreeding for: %s \\n\" id\n",
    "    if ped.idMap[id].f > -1.0\n",
    "        return ped.idMap[id].f\n",
    "    end\n",
    "    sireID = ped.idMap[id].sire\n",
    "    damID  = ped.idMap[id].dam\n",
    "    if (sireID==\"0\" || damID==\"0\" )\n",
    "        ped.idMap[id].f = 0.0\n",
    "    else\n",
    "        ped.idMap[id].f = 0.5*calcAddRel!(ped,sireID,damID)\n",
    "    end\n",
    "end"
   ]
  },
  {
   "cell_type": "code",
   "execution_count": 21,
   "metadata": {},
   "outputs": [
    {
     "data": {
      "text/plain": [
       "(4, 7)"
      ]
     },
     "execution_count": 21,
     "metadata": {},
     "output_type": "execute_result"
    }
   ],
   "source": [
    "x = 7\n",
    "y = 4\n",
    "old,young = x < y ? (x,y) : (y,x)"
   ]
  },
  {
   "cell_type": "code",
   "execution_count": 22,
   "metadata": {},
   "outputs": [
    {
     "data": {
      "text/plain": [
       "(1, 4)"
      ]
     },
     "execution_count": 22,
     "metadata": {},
     "output_type": "execute_result"
    }
   ],
   "source": [
    "x = 1\n",
    "y = 4\n",
    "old,young = x < y ? (x,y) : (y,x)"
   ]
  },
  {
   "cell_type": "code",
   "execution_count": 23,
   "metadata": {},
   "outputs": [
    {
     "data": {
      "text/plain": [
       "calcAddRel! (generic function with 1 method)"
      ]
     },
     "execution_count": 23,
     "metadata": {},
     "output_type": "execute_result"
    }
   ],
   "source": [
    "function calcAddRel!(ped::Pedigree,id1::AbstractString,id2::AbstractString)\n",
    "    @printf \"calcRel between %s and %s \\n\" id1 id2\n",
    "    if id1==\"0\" || id2==\"0\"           \n",
    "        return 0.0\n",
    "    end\n",
    "    old,yng = ped.idMap[id1].seqID < ped.idMap[id2].seqID ? (id1,id2) : (id2,id1) #making sure that left is always younger\n",
    "    oldID = ped.idMap[old].seqID\n",
    "    yngID = ped.idMap[yng].seqID\n",
    "\n",
    "    n = yngID - 1                     # if aleady done, return stored value\n",
    "    aijKey = n*(n+1)/2 + oldID\n",
    "    if haskey(ped.aij,aijKey)\n",
    "        return ped.aij[aijKey]\n",
    "    end\n",
    "\n",
    "    sireOfYng = ped.idMap[yng].sire\n",
    "    damOfYng  = ped.idMap[yng].dam\n",
    "\n",
    "    if old==yng                       # aii\n",
    "        aii = 1.0 + 0.5*calcAddRel!(ped,sireOfYng,damOfYng)\n",
    "        ped.aij[aijKey] = aii\n",
    "        return (aii)\n",
    "    end\n",
    "\n",
    "    aOldDamYoung  = (old==\"0\" || damOfYng ==\"0\") ? 0.0 : calcAddRel!(ped,old,damOfYng)\n",
    "    aOldSireYoung = (old==\"0\" || sireOfYng==\"0\") ? 0.0 : calcAddRel!(ped,old,sireOfYng)\n",
    "    aijVal = 0.5*(aOldSireYoung + aOldDamYoung)\n",
    "    ped.aij[aijKey] = aijVal\n",
    "\n",
    "    return aijVal\n",
    "end"
   ]
  },
  {
   "cell_type": "code",
   "execution_count": 24,
   "metadata": {},
   "outputs": [
    {
     "data": {
      "text/plain": [
       "mkPed (generic function with 1 method)"
      ]
     },
     "execution_count": 24,
     "metadata": {},
     "output_type": "execute_result"
    }
   ],
   "source": [
    "function  mkPed(pedFile::AbstractString;header=false,separator=',')\n",
    "    df  = CSV.read(pedFile,types=[String,String,String],\n",
    "                    delim=separator,header=header)\n",
    "    ped = Pedigree(1,Dict{AbstractString,PedNode}(),\n",
    "                     Dict{Int64, Float64}(),\n",
    "                     Set(),Set())\n",
    "    fillMap!(ped,df)\n",
    "    @showprogress \"coding pedigree... \" for id in keys(ped.idMap)\n",
    "     code!(ped,id)\n",
    "    end\n",
    "    @showprogress \"calculating inbreeding... \" for id in keys(ped.idMap)\n",
    "      calcInbreeding!(ped,id)\n",
    "    end\n",
    "    println(\"Finished!\")\n",
    "    return ped\n",
    "end"
   ]
  },
  {
   "cell_type": "code",
   "execution_count": 25,
   "metadata": {},
   "outputs": [
    {
     "data": {
      "text/plain": [
       "getIDs (generic function with 1 method)"
      ]
     },
     "execution_count": 25,
     "metadata": {},
     "output_type": "execute_result"
    }
   ],
   "source": [
    "function getIDs(ped::Pedigree)\n",
    "    n = length(ped.idMap)\n",
    "    ids = Array{String}(undef,n)\n",
    "    for i in ped.idMap\n",
    "      ids[i[2].seqID] = i[1]\n",
    "    end\n",
    "    return ids\n",
    "end"
   ]
  },
  {
   "cell_type": "code",
   "execution_count": 29,
   "metadata": {},
   "outputs": [
    {
     "data": {
      "text/plain": [
       "2×3 Array{Int64,2}:\n",
       " 140331225743368  140331225747072  140331225747200\n",
       " 140331225747008  140331225747136  140331252513744"
      ]
     },
     "execution_count": 29,
     "metadata": {},
     "output_type": "execute_result"
    }
   ],
   "source": [
    "a = Array{Int64}(undef,2,3)"
   ]
  },
  {
   "cell_type": "code",
   "execution_count": 17,
   "metadata": {},
   "outputs": [
    {
     "data": {
      "text/plain": [
       "2×3 Array{Int64,2}:\n",
       " 25  25  25\n",
       " 25  25  25"
      ]
     },
     "execution_count": 17,
     "metadata": {},
     "output_type": "execute_result"
    }
   ],
   "source": [
    "b = fill(25,2,3)"
   ]
  },
  {
   "cell_type": "code",
   "execution_count": 34,
   "metadata": {},
   "outputs": [
    {
     "name": "stderr",
     "output_type": "stream",
     "text": [
      "\u001b[32mcoding pedigree... 100%|████████████████████████████████| Time: 0:00:00\u001b[39m\n"
     ]
    },
    {
     "name": "stdout",
     "output_type": "stream",
     "text": [
      "calcInbreeding for: A \n",
      "calcInbreeding for: C \n",
      "calcRel between A and B1 \n",
      "calcInbreeding for: B1 \n",
      "calcInbreeding for: D \n",
      "calcRel between A and B1 \n",
      "calcInbreeding for: E \n",
      "calcRel between C and D \n",
      "calcRel between C and B1 \n",
      "calcRel between B1 and B1 \n",
      "calcRel between 0 and 0 \n",
      "calcRel between B1 and A \n",
      "calcRel between C and A \n",
      "calcRel between A and B1 \n",
      "calcRel between A and A \n",
      "calcRel between 0 and 0 \n",
      "calcInbreeding for: F \n",
      "calcRel between A and D \n",
      "calcRel between A and B1 \n",
      "calcRel between A and A \n",
      "Finished!\n"
     ]
    }
   ],
   "source": [
    "ped1 = mkPed(\"ped1\",separator=' ');"
   ]
  },
  {
   "cell_type": "code",
   "execution_count": 35,
   "metadata": {},
   "outputs": [
    {
     "data": {
      "text/plain": [
       "Dict{AbstractString,PedNode} with 6 entries:\n",
       "  \"A\"  => PedNode(1, \"0\", \"0\", 0.0)\n",
       "  \"C\"  => PedNode(3, \"A\", \"B1\", 0.0)\n",
       "  \"B1\" => PedNode(2, \"0\", \"0\", 0.0)\n",
       "  \"D\"  => PedNode(4, \"A\", \"B1\", 0.0)\n",
       "  \"E\"  => PedNode(5, \"C\", \"D\", 0.25)\n",
       "  \"F\"  => PedNode(6, \"A\", \"D\", 0.25)"
      ]
     },
     "execution_count": 35,
     "metadata": {},
     "output_type": "execute_result"
    }
   ],
   "source": [
    "ped1.idMap"
   ]
  },
  {
   "cell_type": "code",
   "execution_count": 37,
   "metadata": {},
   "outputs": [
    {
     "data": {
      "text/plain": [
       "6-element Array{String,1}:\n",
       " \"A\" \n",
       " \"C\" \n",
       " \"B1\"\n",
       " \"D\" \n",
       " \"E\" \n",
       " \"F\" "
      ]
     },
     "execution_count": 37,
     "metadata": {},
     "output_type": "execute_result"
    }
   ],
   "source": [
    "[id for id in keys(ped1.idMap)]"
   ]
  },
  {
   "cell_type": "code",
   "execution_count": 36,
   "metadata": {},
   "outputs": [
    {
     "data": {
      "text/plain": [
       "6-element Array{String,1}:\n",
       " \"A\" \n",
       " \"B1\"\n",
       " \"C\" \n",
       " \"D\" \n",
       " \"E\" \n",
       " \"F\" "
      ]
     },
     "execution_count": 36,
     "metadata": {},
     "output_type": "execute_result"
    }
   ],
   "source": [
    "getIDs(ped1)"
   ]
  },
  {
   "cell_type": "code",
   "execution_count": 13,
   "metadata": {},
   "outputs": [
    {
     "data": {
      "text/plain": [
       "HAi (generic function with 1 method)"
      ]
     },
     "execution_count": 13,
     "metadata": {},
     "output_type": "execute_result"
    }
   ],
   "source": [
    "function AInverse(ped::Pedigree)\n",
    "    ii,jj,vv = HAi(ped)\n",
    "    hAi      = sparse(ii,jj,vv)\n",
    "    Ai       = hAi'hAi\n",
    "    return Ai\n",
    "end\n",
    "\n",
    "function HAi(ped::Pedigree)\n",
    "    ii = Int64[]\n",
    "    jj = Int64[]\n",
    "    vv = Float64[]\n",
    "    for ind in keys(ped.idMap)\n",
    "        sire = ped.idMap[ind].sire\n",
    "        dam  = ped.idMap[ind].dam\n",
    "        sirePos = sire==\"0\" ? 0 : ped.idMap[sire].seqID\n",
    "        damPos  = dam ==\"0\" ? 0 : ped.idMap[dam ].seqID\n",
    "        myPos   = ped.idMap[ind].seqID\n",
    "        if sirePos>0 && damPos>0\n",
    "            d = sqrt(4.0/(2 - ped.idMap[sire].f - ped.idMap[dam].f))\n",
    "            push!(ii,myPos)\n",
    "            push!(jj,sirePos)\n",
    "            push!(vv,-0.5*d)\n",
    "            push!(ii,myPos)\n",
    "            push!(jj,damPos)\n",
    "            push!(vv,-0.5*d)\n",
    "            push!(ii,myPos)\n",
    "            push!(jj,myPos)\n",
    "            push!(vv,d)\n",
    "         elseif sirePos>0\n",
    "            d = sqrt(4.0/(3 - ped.idMap[sire].f))\n",
    "            push!(ii,myPos)\n",
    "            push!(jj,sirePos)\n",
    "            push!(vv,-0.5*d)\n",
    "            push!(ii,myPos)\n",
    "            push!(jj,myPos)\n",
    "            push!(vv,d)\n",
    "          elseif damPos>0\n",
    "            d = sqrt(4.0/(3 - ped.idMap[dam].f))\n",
    "            push!(ii,myPos)\n",
    "            push!(jj,damPos)\n",
    "            push!(vv,-0.5*d)\n",
    "            push!(ii,myPos)\n",
    "            push!(jj,myPos)\n",
    "            push!(vv,d)\n",
    "        else\n",
    "            d = 1.0\n",
    "            push!(ii,myPos)\n",
    "            push!(jj,myPos)\n",
    "            push!(vv,d)\n",
    "        end\n",
    "    end\n",
    "    return (ii,jj,vv)\n",
    "end"
   ]
  },
  {
   "cell_type": "code",
   "execution_count": 42,
   "metadata": {},
   "outputs": [
    {
     "data": {
      "text/plain": [
       "6×6 SparseMatrixCSC{Float64,Int64} with 26 stored entries:\n",
       "  [1, 1]  =  2.5\n",
       "  [2, 1]  =  1.0\n",
       "  [3, 1]  =  -1.0\n",
       "  [4, 1]  =  -0.5\n",
       "  [6, 1]  =  -1.0\n",
       "  [1, 2]  =  1.0\n",
       "  [2, 2]  =  2.0\n",
       "  [3, 2]  =  -1.0\n",
       "  [4, 2]  =  -1.0\n",
       "  [1, 3]  =  -1.0\n",
       "  [2, 3]  =  -1.0\n",
       "  [3, 3]  =  2.5\n",
       "  [4, 3]  =  0.5\n",
       "  [5, 3]  =  -1.0\n",
       "  [1, 4]  =  -0.5\n",
       "  [2, 4]  =  -1.0\n",
       "  [3, 4]  =  0.5\n",
       "  [4, 4]  =  3.0\n",
       "  [5, 4]  =  -1.0\n",
       "  [6, 4]  =  -1.0\n",
       "  [3, 5]  =  -1.0\n",
       "  [4, 5]  =  -1.0\n",
       "  [5, 5]  =  2.0\n",
       "  [1, 6]  =  -1.0\n",
       "  [4, 6]  =  -1.0\n",
       "  [6, 6]  =  2.0"
      ]
     },
     "execution_count": 42,
     "metadata": {},
     "output_type": "execute_result"
    }
   ],
   "source": [
    "AInverse(ped1)"
   ]
  },
  {
   "cell_type": "code",
   "execution_count": 43,
   "metadata": {},
   "outputs": [
    {
     "data": {
      "text/plain": [
       "6×6 Array{Float64,2}:\n",
       "  2.5   1.0  -1.0  -0.5   0.0  -1.0\n",
       "  1.0   2.0  -1.0  -1.0   0.0   0.0\n",
       " -1.0  -1.0   2.5   0.5  -1.0   0.0\n",
       " -0.5  -1.0   0.5   3.0  -1.0  -1.0\n",
       "  0.0   0.0  -1.0  -1.0   2.0   0.0\n",
       " -1.0   0.0   0.0  -1.0   0.0   2.0"
      ]
     },
     "execution_count": 43,
     "metadata": {},
     "output_type": "execute_result"
    }
   ],
   "source": [
    "Matrix(AInverse(ped1))"
   ]
  }
 ],
 "metadata": {
  "@webio": {
   "lastCommId": "c8338563d1d24a1a859df01998747225",
   "lastKernelId": "32ce12b0-e1c1-4a2b-8d3d-4fe6f3705989"
  },
  "kernelspec": {
   "display_name": "Julia 1.0.2",
   "language": "julia",
   "name": "julia-1.0"
  },
  "language_info": {
   "file_extension": ".jl",
   "mimetype": "application/julia",
   "name": "julia",
   "version": "1.0.2"
  }
 },
 "nbformat": 4,
 "nbformat_minor": 2
}
