{
 "cells": [
  {
   "cell_type": "code",
   "execution_count": 19,
   "metadata": {},
   "outputs": [
    {
     "name": "stdout",
     "output_type": "stream",
     "text": [
      "\u001b[32m\u001b[1m  Updating\u001b[22m\u001b[39m registry at `~/.julia/registries/General`\n",
      "\u001b[32m\u001b[1m  Updating\u001b[22m\u001b[39m git-repo `https://github.com/JuliaRegistries/General.git`\n",
      "\u001b[2K\u001b[?25h\u001b[32m\u001b[1m   Cloning\u001b[22m\u001b[39m git-repo `https://github.com/reworkhow/JWAS.jl.git`\n",
      "\u001b[2K\u001b[?25h\u001b[32m\u001b[1m  Updating\u001b[22m\u001b[39m git-repo `https://github.com/reworkhow/JWAS.jl.git`\n",
      "\u001b[2K\u001b[?25h"
     ]
    },
    {
     "name": "stderr",
     "output_type": "stream",
     "text": [
      "┌ Info: Path `/home/jovyan/rohan/JuliaDev/JWAS` exists and looks like the correct package, using existing path instead of cloning\n",
      "└ @ Pkg.Types /buildworker/worker/package_linux64/build/usr/share/julia/stdlib/v0.7/Pkg/src/Types.jl:573\n"
     ]
    },
    {
     "name": "stdout",
     "output_type": "stream",
     "text": [
      "\u001b[32m\u001b[1m Resolving\u001b[22m\u001b[39m package versions...\n",
      "\u001b[32m\u001b[1m Installed\u001b[22m\u001b[39m Arpack ─────────── v0.3.0\n",
      "\u001b[32m\u001b[1m Installed\u001b[22m\u001b[39m TableTraits ────── v0.4.0\n",
      "\u001b[32m\u001b[1m Installed\u001b[22m\u001b[39m Parsers ────────── v0.2.11\n",
      "\u001b[32m\u001b[1m Installed\u001b[22m\u001b[39m MbedTLS ────────── v0.6.6\n",
      "\u001b[32m\u001b[1m Installed\u001b[22m\u001b[39m SpecialFunctions ─ v0.7.2\n",
      "\u001b[32m\u001b[1m Installed\u001b[22m\u001b[39m Tables ─────────── v0.1.10\n",
      "\u001b[32m\u001b[1m Installed\u001b[22m\u001b[39m Colors ─────────── v0.9.5\n",
      "\u001b[32m\u001b[1m Installed\u001b[22m\u001b[39m CodecZlib ──────── v0.5.1\n",
      "\u001b[32m\u001b[1m Installed\u001b[22m\u001b[39m CSV ────────────── v0.4.2\n",
      "\u001b[32m\u001b[1m Installed\u001b[22m\u001b[39m GR ─────────────── v0.35.0\n",
      "\u001b[32m\u001b[1m  Updating\u001b[22m\u001b[39m `~/.julia/environments/v0.7/Project.toml`\n",
      " \u001b[90m [336ed68f]\u001b[39m\u001b[93m ↑ CSV v0.4.1 ⇒ v0.4.2\u001b[39m\n",
      " \u001b[90m [c9a035f4]\u001b[39m\u001b[93m ↑ JWAS v0.4.1+ #master (https://github.com/reworkhow/JWAS.jl.git) ⇒ v0.4.2+ [`~/rohan/JuliaDev/JWAS`]\u001b[39m\n",
      "\u001b[32m\u001b[1m  Updating\u001b[22m\u001b[39m `~/.julia/environments/v0.7/Manifest.toml`\n",
      " \u001b[90m [7d9fca2a]\u001b[39m\u001b[93m ↑ Arpack v0.2.3 ⇒ v0.3.0\u001b[39m\n",
      " \u001b[90m [336ed68f]\u001b[39m\u001b[93m ↑ CSV v0.4.1 ⇒ v0.4.2\u001b[39m\n",
      " \u001b[90m [944b1d66]\u001b[39m\u001b[93m ↑ CodecZlib v0.5.0 ⇒ v0.5.1\u001b[39m\n",
      " \u001b[90m [5ae59095]\u001b[39m\u001b[93m ↑ Colors v0.9.4 ⇒ v0.9.5\u001b[39m\n",
      " \u001b[90m [28b8d3ca]\u001b[39m\u001b[93m ↑ GR v0.34.1 ⇒ v0.35.0\u001b[39m\n",
      " \u001b[90m [c9a035f4]\u001b[39m\u001b[93m ↑ JWAS v0.4.1+ #master (https://github.com/reworkhow/JWAS.jl.git) ⇒ v0.4.2+ [`~/rohan/JuliaDev/JWAS`]\u001b[39m\n",
      " \u001b[90m [739be429]\u001b[39m\u001b[93m ↑ MbedTLS v0.6.3 ⇒ v0.6.6\u001b[39m\n",
      " \u001b[90m [69de0a69]\u001b[39m\u001b[93m ↑ Parsers v0.2.7 ⇒ v0.2.11\u001b[39m\n",
      " \u001b[90m [276daf66]\u001b[39m\u001b[93m ↑ SpecialFunctions v0.7.1 ⇒ v0.7.2\u001b[39m\n",
      " \u001b[90m [3783bdb8]\u001b[39m\u001b[93m ↑ TableTraits v0.3.1 ⇒ v0.4.0\u001b[39m\n",
      " \u001b[90m [bd369af6]\u001b[39m\u001b[93m ↑ Tables v0.1.9 ⇒ v0.1.10\u001b[39m\n",
      "\u001b[32m\u001b[1m  Building\u001b[22m\u001b[39m MbedTLS ─────────→ `~/.julia/packages/MbedTLS/r1Ufc/deps/build.log`\n",
      "\u001b[32m\u001b[1m  Building\u001b[22m\u001b[39m GR ──────────────→ `~/.julia/packages/GR/k8wwU/deps/build.log`\n",
      "\u001b[32m\u001b[1m  Building\u001b[22m\u001b[39m SpecialFunctions → `~/.julia/packages/SpecialFunctions/fvheQ/deps/build.log`\n",
      "\u001b[32m\u001b[1m  Building\u001b[22m\u001b[39m Arpack ──────────→ `~/.julia/packages/Arpack/UiiMc/deps/build.log`\n",
      "\u001b[32m\u001b[1m  Building\u001b[22m\u001b[39m CodecZlib ───────→ `~/.julia/packages/CodecZlib/DAjXH/deps/build.log`\n"
     ]
    }
   ],
   "source": [
    "#using Pkg\n",
    "#Pkg.develop(\"JWAS\")"
   ]
  },
  {
   "cell_type": "code",
   "execution_count": 1,
   "metadata": {},
   "outputs": [],
   "source": [
    "using JWAS,CSV,DataFrames,LinearAlgebra,Statistics,Random,DelimitedFiles\n",
    "using Distributions\n",
    "using Printf"
   ]
  },
  {
   "cell_type": "code",
   "execution_count": 2,
   "metadata": {},
   "outputs": [
    {
     "name": "stderr",
     "output_type": "stream",
     "text": [
      "┌ Warning: readtable is deprecated, use CSV.read from the CSV package instead\n",
      "│   caller = ip:0x0\n",
      "└ @ Core :-1\n"
     ]
    }
   ],
   "source": [
    "phenofile  = \"phenotypes.txt\"\n",
    "genofile   = \"genotypes.txt\"\n",
    "df = readtable(genofile,header=false)\n",
    "headerMarkers = [df[1,i] for i=2:size(df,2)]\n",
    "id = string.(df[2:end,1]);"
   ]
  },
  {
   "cell_type": "code",
   "execution_count": 5,
   "metadata": {},
   "outputs": [
    {
     "data": {
      "text/html": [
       "<table class=\"data-frame\"><thead><tr><th></th><th>x1</th><th>x2</th><th>x3</th><th>x4</th><th>x5</th><th>x6</th><th>x7</th><th>x8</th><th>x9</th><th>x10</th><th>x11</th><th>x12</th><th>x13</th><th>x14</th><th>x15</th><th>x16</th><th>x17</th><th>x18</th><th>x19</th><th>x20</th><th>x21</th><th>x22</th><th>x23</th><th>x24</th><th>x25</th><th>x26</th><th>x27</th><th>x28</th><th>x29</th><th>x30</th><th>x31</th><th>x32</th><th>x33</th><th>x34</th><th>x35</th><th>x36</th><th>x37</th><th>x38</th><th>x39</th><th>x40</th><th>x41</th><th>x42</th><th>x43</th><th>x44</th><th>x45</th><th>x46</th><th>x47</th><th>x48</th><th>x49</th><th>x50</th><th>x51</th><th>x52</th><th>x53</th><th>x54</th><th>x55</th><th>x56</th><th>x57</th><th>x58</th><th>x59</th><th>x60</th><th>x61</th><th>x62</th><th>x63</th><th>x64</th><th>x65</th><th>x66</th><th>x67</th><th>x68</th><th>x69</th><th>x70</th><th>x71</th><th>x72</th><th>x73</th><th>x74</th><th>x75</th><th>x76</th><th>x77</th><th>x78</th><th>x79</th><th>x80</th><th>x81</th><th>x82</th><th>x83</th><th>x84</th><th>x85</th><th>x86</th><th>x87</th><th>x88</th><th>x89</th><th>x90</th><th>x91</th><th>x92</th><th>x93</th><th>x94</th><th>x95</th><th>x96</th><th>x97</th><th>x98</th><th>x99</th><th>x100</th><th>x101</th><th>x102</th><th>x103</th><th>x104</th><th>x105</th><th>x106</th><th>x107</th><th>x108</th><th>x109</th><th>x110</th><th>x111</th><th>x112</th><th>x113</th><th>x114</th><th>x115</th><th>x116</th><th>x117</th><th>x118</th><th>x119</th><th>x120</th><th>x121</th><th>x122</th><th>x123</th><th>x124</th><th>x125</th><th>x126</th><th>x127</th><th>x128</th><th>x129</th><th>x130</th><th>x131</th><th>x132</th><th>x133</th><th>x134</th><th>x135</th><th>x136</th><th>x137</th><th>x138</th><th>x139</th><th>x140</th><th>x141</th><th>x142</th><th>x143</th><th>x144</th><th>x145</th><th>x146</th><th>x147</th><th>x148</th><th>x149</th><th>x150</th><th>x151</th><th>x152</th><th>x153</th><th>x154</th><th>x155</th><th>x156</th><th>x157</th><th>x158</th><th>x159</th><th>x160</th><th>x161</th><th>x162</th><th>x163</th><th>x164</th><th>x165</th><th>x166</th><th>x167</th><th>x168</th><th>x169</th><th>x170</th><th>x171</th><th>x172</th><th>x173</th><th>x174</th><th>x175</th><th>x176</th><th>x177</th><th>x178</th><th>x179</th><th>x180</th><th>x181</th><th>x182</th><th>x183</th><th>x184</th><th>x185</th><th>x186</th><th>x187</th><th>x188</th><th>x189</th><th>x190</th><th>x191</th><th>x192</th><th>x193</th><th>x194</th><th>x195</th><th>x196</th><th>x197</th><th>x198</th><th>x199</th><th>x200</th><th>x201</th><th>x202</th><th>x203</th><th>x204</th><th>x205</th><th>x206</th><th>x207</th><th>x208</th><th>x209</th><th>x210</th><th>x211</th><th>x212</th><th>x213</th><th>x214</th><th>x215</th><th>x216</th><th>x217</th><th>x218</th><th>x219</th><th>x220</th><th>x221</th><th>x222</th><th>x223</th><th>x224</th><th>x225</th><th>x226</th><th>x227</th><th>x228</th><th>x229</th><th>x230</th><th>x231</th><th>x232</th><th>x233</th><th>x234</th><th>x235</th><th>x236</th><th>x237</th><th>x238</th><th>x239</th><th>x240</th><th>x241</th><th>x242</th><th>x243</th><th>x244</th><th>x245</th><th>x246</th><th>x247</th><th>x248</th><th>x249</th><th>x250</th><th>x251</th><th>x252</th><th>x253</th><th>x254</th><th>x255</th><th>x256</th><th>x257</th><th>x258</th><th>x259</th><th>x260</th><th>x261</th><th>x262</th><th>x263</th><th>x264</th><th>x265</th><th>x266</th><th>x267</th><th>x268</th><th>x269</th><th>x270</th><th>x271</th><th>x272</th><th>x273</th><th>x274</th><th>x275</th><th>x276</th><th>x277</th><th>x278</th><th>x279</th><th>x280</th><th>x281</th><th>x282</th><th>x283</th><th>x284</th><th>x285</th><th>x286</th><th>x287</th><th>x288</th><th>x289</th><th>x290</th><th>x291</th><th>x292</th><th>x293</th><th>x294</th><th>x295</th><th>x296</th><th>x297</th><th>x298</th><th>x299</th><th>x300</th><th>x301</th><th>x302</th><th>x303</th><th>x304</th><th>x305</th><th>x306</th><th>x307</th><th>x308</th><th>x309</th><th>x310</th><th>x311</th><th>x312</th><th>x313</th><th>x314</th><th>x315</th><th>x316</th><th>x317</th><th>x318</th><th>x319</th><th>x320</th><th>x321</th><th>x322</th><th>x323</th><th>x324</th><th>x325</th><th>x326</th><th>x327</th><th>x328</th><th>x329</th><th>x330</th><th>x331</th><th>x332</th><th>x333</th><th>x334</th><th>x335</th><th>x336</th><th>x337</th><th>x338</th><th>x339</th><th>x340</th><th>x341</th><th>x342</th><th>x343</th><th>x344</th><th>x345</th><th>x346</th><th>x347</th><th>x348</th><th>x349</th><th>x350</th><th>x351</th><th>x352</th><th>x353</th><th>x354</th><th>x355</th><th>x356</th><th>x357</th><th>x358</th><th>x359</th><th>x360</th><th>x361</th><th>x362</th><th>x363</th><th>x364</th><th>x365</th><th>x366</th><th>x367</th><th>x368</th><th>x369</th><th>x370</th><th>x371</th><th>x372</th><th>x373</th><th>x374</th><th>x375</th><th>x376</th><th>x377</th><th>x378</th><th>x379</th><th>x380</th><th>x381</th><th>x382</th><th>x383</th><th>x384</th><th>x385</th><th>x386</th><th>x387</th><th>x388</th><th>x389</th><th>x390</th><th>x391</th><th>x392</th><th>x393</th><th>x394</th><th>x395</th><th>x396</th><th>x397</th><th>x398</th><th>x399</th><th>x400</th><th>x401</th><th>x402</th><th>x403</th><th>x404</th><th>x405</th><th>x406</th><th>x407</th><th>x408</th><th>x409</th><th>x410</th><th>x411</th><th>x412</th><th>x413</th><th>x414</th><th>x415</th><th>x416</th><th>x417</th><th>x418</th><th>x419</th><th>x420</th><th>x421</th><th>x422</th><th>x423</th><th>x424</th><th>x425</th><th>x426</th><th>x427</th><th>x428</th><th>x429</th><th>x430</th><th>x431</th><th>x432</th><th>x433</th><th>x434</th><th>x435</th><th>x436</th><th>x437</th><th>x438</th><th>x439</th><th>x440</th><th>x441</th><th>x442</th><th>x443</th><th>x444</th><th>x445</th><th>x446</th><th>x447</th><th>x448</th><th>x449</th><th>x450</th><th>x451</th><th>x452</th><th>x453</th><th>x454</th><th>x455</th><th>x456</th><th>x457</th><th>x458</th><th>x459</th><th>x460</th><th>x461</th><th>x462</th><th>x463</th><th>x464</th><th>x465</th><th>x466</th><th>x467</th><th>x468</th><th>x469</th><th>x470</th><th>x471</th><th>x472</th><th>x473</th><th>x474</th><th>x475</th><th>x476</th><th>x477</th><th>x478</th><th>x479</th><th>x480</th><th>x481</th><th>x482</th><th>x483</th><th>x484</th><th>x485</th><th>x486</th><th>x487</th><th>x488</th><th>x489</th><th>x490</th><th>x491</th><th>x492</th><th>x493</th><th>x494</th><th>x495</th><th>x496</th><th>x497</th><th>x498</th><th>x499</th><th>x500</th><th>x501</th><th>x502</th><th>x503</th><th>x504</th><th>x505</th><th>x506</th><th>x507</th><th>x508</th><th>x509</th><th>x510</th><th>x511</th><th>x512</th><th>x513</th><th>x514</th><th>x515</th><th>x516</th><th>x517</th><th>x518</th><th>x519</th><th>x520</th><th>x521</th><th>x522</th><th>x523</th><th>x524</th><th>x525</th><th>x526</th><th>x527</th><th>x528</th><th>x529</th><th>x530</th><th>x531</th><th>x532</th><th>x533</th><th>x534</th><th>x535</th><th>x536</th><th>x537</th><th>x538</th><th>x539</th><th>x540</th><th>x541</th><th>x542</th><th>x543</th><th>x544</th><th>x545</th><th>x546</th><th>x547</th><th>x548</th><th>x549</th><th>x550</th><th>x551</th><th>x552</th><th>x553</th><th>x554</th><th>x555</th><th>x556</th><th>x557</th><th>x558</th><th>x559</th><th>x560</th><th>x561</th><th>x562</th><th>x563</th><th>x564</th><th>x565</th><th>x566</th><th>x567</th><th>x568</th><th>x569</th><th>x570</th><th>x571</th><th>x572</th><th>x573</th><th>x574</th><th>x575</th><th>x576</th><th>x577</th><th>x578</th><th>x579</th><th>x580</th><th>x581</th><th>x582</th><th>x583</th><th>x584</th><th>x585</th><th>x586</th><th>x587</th><th>x588</th><th>x589</th><th>x590</th><th>x591</th><th>x592</th><th>x593</th><th>x594</th><th>x595</th><th>x596</th><th>x597</th><th>x598</th><th>x599</th><th>x600</th><th>x601</th><th>x602</th><th>x603</th><th>x604</th><th>x605</th><th>x606</th><th>x607</th><th>x608</th><th>x609</th><th>x610</th><th>x611</th><th>x612</th><th>x613</th><th>x614</th><th>x615</th><th>x616</th><th>x617</th><th>x618</th><th>x619</th><th>x620</th><th>x621</th><th>x622</th><th>x623</th><th>x624</th><th>x625</th><th>x626</th><th>x627</th><th>x628</th><th>x629</th><th>x630</th><th>x631</th><th>x632</th><th>x633</th><th>x634</th><th>x635</th><th>x636</th><th>x637</th><th>x638</th><th>x639</th><th>x640</th><th>x641</th><th>x642</th><th>x643</th><th>x644</th><th>x645</th><th>x646</th><th>x647</th><th>x648</th><th>x649</th><th>x650</th><th>x651</th><th>x652</th><th>x653</th><th>x654</th><th>x655</th><th>x656</th><th>x657</th><th>x658</th><th>x659</th><th>x660</th><th>x661</th><th>x662</th><th>x663</th><th>x664</th><th>x665</th><th>x666</th><th>x667</th><th>x668</th><th>x669</th><th>x670</th><th>x671</th><th>x672</th><th>x673</th><th>x674</th><th>x675</th><th>x676</th><th>x677</th><th>x678</th><th>x679</th><th>x680</th><th>x681</th><th>x682</th><th>x683</th><th>x684</th><th>x685</th><th>x686</th><th>x687</th><th>x688</th><th>x689</th><th>x690</th><th>x691</th><th>x692</th><th>x693</th><th>x694</th><th>x695</th><th>x696</th><th>x697</th><th>x698</th><th>x699</th><th>x700</th><th>x701</th><th>x702</th><th>x703</th><th>x704</th><th>x705</th><th>x706</th><th>x707</th><th>x708</th><th>x709</th><th>x710</th><th>x711</th><th>x712</th><th>x713</th><th>x714</th><th>x715</th><th>x716</th><th>x717</th><th>x718</th><th>x719</th><th>x720</th><th>x721</th><th>x722</th><th>x723</th><th>x724</th><th>x725</th><th>x726</th><th>x727</th><th>x728</th><th>x729</th><th>x730</th><th>x731</th><th>x732</th><th>x733</th><th>x734</th><th>x735</th><th>x736</th><th>x737</th><th>x738</th><th>x739</th><th>x740</th><th>x741</th><th>x742</th><th>x743</th><th>x744</th><th>x745</th><th>x746</th><th>x747</th><th>x748</th><th>x749</th><th>x750</th><th>x751</th><th>x752</th><th>x753</th><th>x754</th><th>x755</th><th>x756</th><th>x757</th><th>x758</th><th>x759</th><th>x760</th><th>x761</th><th>x762</th><th>x763</th><th>x764</th><th>x765</th><th>x766</th><th>x767</th><th>x768</th><th>x769</th><th>x770</th><th>x771</th><th>x772</th><th>x773</th><th>x774</th><th>x775</th><th>x776</th><th>x777</th><th>x778</th><th>x779</th><th>x780</th><th>x781</th><th>x782</th><th>x783</th><th>x784</th><th>x785</th><th>x786</th><th>x787</th><th>x788</th><th>x789</th><th>x790</th><th>x791</th><th>x792</th><th>x793</th><th>x794</th><th>x795</th><th>x796</th><th>x797</th><th>x798</th><th>x799</th><th>x800</th><th>x801</th><th>x802</th><th>x803</th><th>x804</th><th>x805</th><th>x806</th><th>x807</th><th>x808</th><th>x809</th><th>x810</th><th>x811</th><th>x812</th><th>x813</th><th>x814</th><th>x815</th><th>x816</th><th>x817</th><th>x818</th><th>x819</th><th>x820</th><th>x821</th><th>x822</th><th>x823</th><th>x824</th><th>x825</th><th>x826</th><th>x827</th><th>x828</th><th>x829</th><th>x830</th><th>x831</th><th>x832</th><th>x833</th><th>x834</th><th>x835</th><th>x836</th><th>x837</th><th>x838</th><th>x839</th><th>x840</th><th>x841</th><th>x842</th><th>x843</th><th>x844</th><th>x845</th><th>x846</th><th>x847</th><th>x848</th><th>x849</th><th>x850</th><th>x851</th><th>x852</th><th>x853</th><th>x854</th><th>x855</th><th>x856</th><th>x857</th><th>x858</th><th>x859</th><th>x860</th><th>x861</th><th>x862</th><th>x863</th><th>x864</th><th>x865</th><th>x866</th><th>x867</th><th>x868</th><th>x869</th><th>x870</th><th>x871</th><th>x872</th><th>x873</th><th>x874</th><th>x875</th><th>x876</th><th>x877</th><th>x878</th><th>x879</th><th>x880</th><th>x881</th><th>x882</th><th>x883</th><th>x884</th><th>x885</th><th>x886</th><th>x887</th><th>x888</th><th>x889</th><th>x890</th><th>x891</th><th>x892</th><th>x893</th><th>x894</th><th>x895</th><th>x896</th><th>x897</th><th>x898</th><th>x899</th><th>x900</th><th>x901</th><th>x902</th><th>x903</th><th>x904</th><th>x905</th><th>x906</th><th>x907</th><th>x908</th><th>x909</th><th>x910</th><th>x911</th><th>x912</th><th>x913</th><th>x914</th><th>x915</th><th>x916</th><th>x917</th><th>x918</th><th>x919</th><th>x920</th><th>x921</th><th>x922</th><th>x923</th><th>x924</th><th>x925</th><th>x926</th><th>x927</th><th>x928</th><th>x929</th><th>x930</th><th>x931</th><th>x932</th><th>x933</th><th>x934</th><th>x935</th><th>x936</th><th>x937</th><th>x938</th><th>x939</th><th>x940</th><th>x941</th><th>x942</th><th>x943</th><th>x944</th><th>x945</th><th>x946</th><th>x947</th><th>x948</th><th>x949</th><th>x950</th><th>x951</th><th>x952</th><th>x953</th><th>x954</th><th>x955</th><th>x956</th><th>x957</th><th>x958</th><th>x959</th><th>x960</th><th>x961</th><th>x962</th><th>x963</th><th>x964</th><th>x965</th><th>x966</th><th>x967</th><th>x968</th><th>x969</th><th>x970</th><th>x971</th><th>x972</th><th>x973</th><th>x974</th><th>x975</th><th>x976</th><th>x977</th><th>x978</th><th>x979</th><th>x980</th><th>x981</th><th>x982</th><th>x983</th><th>x984</th><th>x985</th><th>x986</th><th>x987</th><th>x988</th><th>x989</th><th>x990</th><th>x991</th><th>x992</th><th>x993</th><th>x994</th><th>x995</th><th>x996</th><th>x997</th><th>x998</th><th>x999</th><th>x1000</th><th>x1001</th><th>x1002</th><th>x1003</th><th>x1004</th><th>x1005</th><th>x1006</th><th>x1007</th><th>x1008</th><th>x1009</th><th>x1010</th><th>x1011</th><th>x1012</th><th>x1013</th><th>x1014</th><th>x1015</th><th>x1016</th><th>x1017</th><th>x1018</th><th>x1019</th><th>x1020</th><th>x1021</th><th>x1022</th><th>x1023</th><th>x1024</th><th>x1025</th><th>x1026</th><th>x1027</th><th>x1028</th><th>x1029</th><th>x1030</th><th>x1031</th><th>x1032</th><th>x1033</th><th>x1034</th><th>x1035</th><th>x1036</th><th>x1037</th><th>x1038</th><th>x1039</th><th>x1040</th><th>x1041</th><th>x1042</th><th>x1043</th><th>x1044</th><th>x1045</th><th>x1046</th><th>x1047</th><th>x1048</th><th>x1049</th><th>x1050</th><th>x1051</th><th>x1052</th><th>x1053</th><th>x1054</th><th>x1055</th><th>x1056</th><th>x1057</th><th>x1058</th><th>x1059</th><th>x1060</th><th>x1061</th><th>x1062</th><th>x1063</th><th>x1064</th><th>x1065</th><th>x1066</th><th>x1067</th><th>x1068</th><th>x1069</th><th>x1070</th><th>x1071</th><th>x1072</th><th>x1073</th><th>x1074</th><th>x1075</th><th>x1076</th><th>x1077</th><th>x1078</th><th>x1079</th><th>x1080</th><th>x1081</th><th>x1082</th><th>x1083</th><th>x1084</th><th>x1085</th><th>x1086</th><th>x1087</th><th>x1088</th><th>x1089</th><th>x1090</th><th>x1091</th><th>x1092</th><th>x1093</th><th>x1094</th><th>x1095</th><th>x1096</th><th>x1097</th><th>x1098</th><th>x1099</th><th>x1100</th><th>x1101</th><th>x1102</th><th>x1103</th><th>x1104</th><th>x1105</th><th>x1106</th><th>x1107</th><th>x1108</th><th>x1109</th><th>x1110</th><th>x1111</th><th>x1112</th><th>x1113</th><th>x1114</th><th>x1115</th><th>x1116</th><th>x1117</th><th>x1118</th><th>x1119</th><th>x1120</th><th>x1121</th><th>x1122</th><th>x1123</th><th>x1124</th><th>x1125</th><th>x1126</th><th>x1127</th><th>x1128</th><th>x1129</th><th>x1130</th><th>x1131</th><th>x1132</th><th>x1133</th><th>x1134</th><th>x1135</th><th>x1136</th><th>x1137</th><th>x1138</th><th>x1139</th><th>x1140</th><th>x1141</th><th>x1142</th><th>x1143</th><th>x1144</th><th>x1145</th><th>x1146</th><th>x1147</th><th>x1148</th><th>x1149</th><th>x1150</th><th>x1151</th><th>x1152</th><th>x1153</th><th>x1154</th><th>x1155</th><th>x1156</th><th>x1157</th><th>x1158</th><th>x1159</th><th>x1160</th><th>x1161</th><th>x1162</th><th>x1163</th><th>x1164</th><th>x1165</th><th>x1166</th><th>x1167</th><th>x1168</th><th>x1169</th><th>x1170</th><th>x1171</th><th>x1172</th><th>x1173</th><th>x1174</th><th>x1175</th><th>x1176</th><th>x1177</th><th>x1178</th><th>x1179</th><th>x1180</th><th>x1181</th><th>x1182</th><th>x1183</th><th>x1184</th><th>x1185</th><th>x1186</th><th>x1187</th><th>x1188</th><th>x1189</th><th>x1190</th><th>x1191</th><th>x1192</th><th>x1193</th><th>x1194</th><th>x1195</th><th>x1196</th><th>x1197</th><th>x1198</th><th>x1199</th><th>x1200</th><th>x1201</th><th>x1202</th><th>x1203</th><th>x1204</th><th>x1205</th><th>x1206</th><th>x1207</th><th>x1208</th><th>x1209</th><th>x1210</th><th>x1211</th><th>x1212</th><th>x1213</th><th>x1214</th><th>x1215</th><th>x1216</th><th>x1217</th><th>x1218</th><th>x1219</th><th>x1220</th><th>x1221</th><th>x1222</th><th>x1223</th><th>x1224</th><th>x1225</th><th>x1226</th><th>x1227</th><th>x1228</th><th>x1229</th><th>x1230</th><th>x1231</th><th>x1232</th><th>x1233</th><th>x1234</th><th>x1235</th><th>x1236</th><th>x1237</th><th>x1238</th><th>x1239</th><th>x1240</th><th>x1241</th><th>x1242</th><th>x1243</th><th>x1244</th><th>x1245</th><th>x1246</th><th>x1247</th><th>x1248</th><th>x1249</th><th>x1250</th><th>x1251</th><th>x1252</th><th>x1253</th><th>x1254</th><th>x1255</th><th>x1256</th><th>x1257</th><th>x1258</th><th>x1259</th><th>x1260</th><th>x1261</th><th>x1262</th><th>x1263</th><th>x1264</th><th>x1265</th><th>x1266</th><th>x1267</th><th>x1268</th><th>x1269</th><th>x1270</th><th>x1271</th><th>x1272</th><th>x1273</th><th>x1274</th><th>x1275</th><th>x1276</th><th>x1277</th><th>x1278</th><th>x1279</th><th>x1280</th></tr><tr><th></th><th>String⍰</th><th>String⍰</th><th>String⍰</th><th>String⍰</th><th>String⍰</th><th>String⍰</th><th>String⍰</th><th>String⍰</th><th>String⍰</th><th>String⍰</th><th>String⍰</th><th>String⍰</th><th>String⍰</th><th>String⍰</th><th>String⍰</th><th>String⍰</th><th>String⍰</th><th>String⍰</th><th>String⍰</th><th>String⍰</th><th>String⍰</th><th>String⍰</th><th>String⍰</th><th>String⍰</th><th>String⍰</th><th>String⍰</th><th>String⍰</th><th>String⍰</th><th>String⍰</th><th>String⍰</th><th>String⍰</th><th>String⍰</th><th>String⍰</th><th>String⍰</th><th>String⍰</th><th>String⍰</th><th>String⍰</th><th>String⍰</th><th>String⍰</th><th>String⍰</th><th>String⍰</th><th>String⍰</th><th>String⍰</th><th>String⍰</th><th>String⍰</th><th>String⍰</th><th>String⍰</th><th>String⍰</th><th>String⍰</th><th>String⍰</th><th>String⍰</th><th>String⍰</th><th>String⍰</th><th>String⍰</th><th>String⍰</th><th>String⍰</th><th>String⍰</th><th>String⍰</th><th>String⍰</th><th>String⍰</th><th>String⍰</th><th>String⍰</th><th>String⍰</th><th>String⍰</th><th>String⍰</th><th>String⍰</th><th>String⍰</th><th>String⍰</th><th>String⍰</th><th>String⍰</th><th>String⍰</th><th>String⍰</th><th>String⍰</th><th>String⍰</th><th>String⍰</th><th>String⍰</th><th>String⍰</th><th>String⍰</th><th>String⍰</th><th>String⍰</th><th>String⍰</th><th>String⍰</th><th>String⍰</th><th>String⍰</th><th>String⍰</th><th>String⍰</th><th>String⍰</th><th>String⍰</th><th>String⍰</th><th>String⍰</th><th>String⍰</th><th>String⍰</th><th>String⍰</th><th>String⍰</th><th>String⍰</th><th>String⍰</th><th>String⍰</th><th>String⍰</th><th>String⍰</th><th>String⍰</th><th>String⍰</th><th>String⍰</th><th>String⍰</th><th>String⍰</th><th>String⍰</th><th>String⍰</th><th>String⍰</th><th>String⍰</th><th>String⍰</th><th>String⍰</th><th>String⍰</th><th>String⍰</th><th>String⍰</th><th>String⍰</th><th>String⍰</th><th>String⍰</th><th>String⍰</th><th>String⍰</th><th>String⍰</th><th>String⍰</th><th>String⍰</th><th>String⍰</th><th>String⍰</th><th>String⍰</th><th>String⍰</th><th>String⍰</th><th>String⍰</th><th>String⍰</th><th>String⍰</th><th>String⍰</th><th>String⍰</th><th>String⍰</th><th>String⍰</th><th>String⍰</th><th>String⍰</th><th>String⍰</th><th>String⍰</th><th>String⍰</th><th>String⍰</th><th>String⍰</th><th>String⍰</th><th>String⍰</th><th>String⍰</th><th>String⍰</th><th>String⍰</th><th>String⍰</th><th>String⍰</th><th>String⍰</th><th>String⍰</th><th>String⍰</th><th>String⍰</th><th>String⍰</th><th>String⍰</th><th>String⍰</th><th>String⍰</th><th>String⍰</th><th>String⍰</th><th>String⍰</th><th>String⍰</th><th>String⍰</th><th>String⍰</th><th>String⍰</th><th>String⍰</th><th>String⍰</th><th>String⍰</th><th>String⍰</th><th>String⍰</th><th>String⍰</th><th>String⍰</th><th>String⍰</th><th>String⍰</th><th>String⍰</th><th>String⍰</th><th>String⍰</th><th>String⍰</th><th>String⍰</th><th>String⍰</th><th>String⍰</th><th>String⍰</th><th>String⍰</th><th>String⍰</th><th>String⍰</th><th>String⍰</th><th>String⍰</th><th>String⍰</th><th>String⍰</th><th>String⍰</th><th>String⍰</th><th>String⍰</th><th>String⍰</th><th>String⍰</th><th>String⍰</th><th>String⍰</th><th>String⍰</th><th>String⍰</th><th>String⍰</th><th>String⍰</th><th>String⍰</th><th>String⍰</th><th>String⍰</th><th>String⍰</th><th>String⍰</th><th>String⍰</th><th>String⍰</th><th>String⍰</th><th>String⍰</th><th>String⍰</th><th>String⍰</th><th>String⍰</th><th>String⍰</th><th>String⍰</th><th>String⍰</th><th>String⍰</th><th>String⍰</th><th>String⍰</th><th>String⍰</th><th>String⍰</th><th>String⍰</th><th>String⍰</th><th>String⍰</th><th>String⍰</th><th>String⍰</th><th>String⍰</th><th>String⍰</th><th>String⍰</th><th>String⍰</th><th>String⍰</th><th>String⍰</th><th>String⍰</th><th>String⍰</th><th>String⍰</th><th>String⍰</th><th>String⍰</th><th>String⍰</th><th>String⍰</th><th>String⍰</th><th>String⍰</th><th>String⍰</th><th>String⍰</th><th>String⍰</th><th>String⍰</th><th>String⍰</th><th>String⍰</th><th>String⍰</th><th>String⍰</th><th>String⍰</th><th>String⍰</th><th>String⍰</th><th>String⍰</th><th>String⍰</th><th>String⍰</th><th>String⍰</th><th>String⍰</th><th>String⍰</th><th>String⍰</th><th>String⍰</th><th>String⍰</th><th>String⍰</th><th>String⍰</th><th>String⍰</th><th>String⍰</th><th>String⍰</th><th>String⍰</th><th>String⍰</th><th>String⍰</th><th>String⍰</th><th>String⍰</th><th>String⍰</th><th>String⍰</th><th>String⍰</th><th>String⍰</th><th>String⍰</th><th>String⍰</th><th>String⍰</th><th>String⍰</th><th>String⍰</th><th>String⍰</th><th>String⍰</th><th>String⍰</th><th>String⍰</th><th>String⍰</th><th>String⍰</th><th>String⍰</th><th>String⍰</th><th>String⍰</th><th>String⍰</th><th>String⍰</th><th>String⍰</th><th>String⍰</th><th>String⍰</th><th>String⍰</th><th>String⍰</th><th>String⍰</th><th>String⍰</th><th>String⍰</th><th>String⍰</th><th>String⍰</th><th>String⍰</th><th>String⍰</th><th>String⍰</th><th>String⍰</th><th>String⍰</th><th>String⍰</th><th>String⍰</th><th>String⍰</th><th>String⍰</th><th>String⍰</th><th>String⍰</th><th>String⍰</th><th>String⍰</th><th>String⍰</th><th>String⍰</th><th>String⍰</th><th>String⍰</th><th>String⍰</th><th>String⍰</th><th>String⍰</th><th>String⍰</th><th>String⍰</th><th>String⍰</th><th>String⍰</th><th>String⍰</th><th>String⍰</th><th>String⍰</th><th>String⍰</th><th>String⍰</th><th>String⍰</th><th>String⍰</th><th>String⍰</th><th>String⍰</th><th>String⍰</th><th>String⍰</th><th>String⍰</th><th>String⍰</th><th>String⍰</th><th>String⍰</th><th>String⍰</th><th>String⍰</th><th>String⍰</th><th>String⍰</th><th>String⍰</th><th>String⍰</th><th>String⍰</th><th>String⍰</th><th>String⍰</th><th>String⍰</th><th>String⍰</th><th>String⍰</th><th>String⍰</th><th>String⍰</th><th>String⍰</th><th>String⍰</th><th>String⍰</th><th>String⍰</th><th>String⍰</th><th>String⍰</th><th>String⍰</th><th>String⍰</th><th>String⍰</th><th>String⍰</th><th>String⍰</th><th>String⍰</th><th>String⍰</th><th>String⍰</th><th>String⍰</th><th>String⍰</th><th>String⍰</th><th>String⍰</th><th>String⍰</th><th>String⍰</th><th>String⍰</th><th>String⍰</th><th>String⍰</th><th>String⍰</th><th>String⍰</th><th>String⍰</th><th>String⍰</th><th>String⍰</th><th>String⍰</th><th>String⍰</th><th>String⍰</th><th>String⍰</th><th>String⍰</th><th>String⍰</th><th>String⍰</th><th>String⍰</th><th>String⍰</th><th>String⍰</th><th>String⍰</th><th>String⍰</th><th>String⍰</th><th>String⍰</th><th>String⍰</th><th>String⍰</th><th>String⍰</th><th>String⍰</th><th>String⍰</th><th>String⍰</th><th>String⍰</th><th>String⍰</th><th>String⍰</th><th>String⍰</th><th>String⍰</th><th>String⍰</th><th>String⍰</th><th>String⍰</th><th>String⍰</th><th>String⍰</th><th>String⍰</th><th>String⍰</th><th>String⍰</th><th>String⍰</th><th>String⍰</th><th>String⍰</th><th>String⍰</th><th>String⍰</th><th>String⍰</th><th>String⍰</th><th>String⍰</th><th>String⍰</th><th>String⍰</th><th>String⍰</th><th>String⍰</th><th>String⍰</th><th>String⍰</th><th>String⍰</th><th>String⍰</th><th>String⍰</th><th>String⍰</th><th>String⍰</th><th>String⍰</th><th>String⍰</th><th>String⍰</th><th>String⍰</th><th>String⍰</th><th>String⍰</th><th>String⍰</th><th>String⍰</th><th>String⍰</th><th>String⍰</th><th>String⍰</th><th>String⍰</th><th>String⍰</th><th>String⍰</th><th>String⍰</th><th>String⍰</th><th>String⍰</th><th>String⍰</th><th>String⍰</th><th>String⍰</th><th>String⍰</th><th>String⍰</th><th>String⍰</th><th>String⍰</th><th>String⍰</th><th>String⍰</th><th>String⍰</th><th>String⍰</th><th>String⍰</th><th>String⍰</th><th>String⍰</th><th>String⍰</th><th>String⍰</th><th>String⍰</th><th>String⍰</th><th>String⍰</th><th>String⍰</th><th>String⍰</th><th>String⍰</th><th>String⍰</th><th>String⍰</th><th>String⍰</th><th>String⍰</th><th>String⍰</th><th>String⍰</th><th>String⍰</th><th>String⍰</th><th>String⍰</th><th>String⍰</th><th>String⍰</th><th>String⍰</th><th>String⍰</th><th>String⍰</th><th>String⍰</th><th>String⍰</th><th>String⍰</th><th>String⍰</th><th>String⍰</th><th>String⍰</th><th>String⍰</th><th>String⍰</th><th>String⍰</th><th>String⍰</th><th>String⍰</th><th>String⍰</th><th>String⍰</th><th>String⍰</th><th>String⍰</th><th>String⍰</th><th>String⍰</th><th>String⍰</th><th>String⍰</th><th>String⍰</th><th>String⍰</th><th>String⍰</th><th>String⍰</th><th>String⍰</th><th>String⍰</th><th>String⍰</th><th>String⍰</th><th>String⍰</th><th>String⍰</th><th>String⍰</th><th>String⍰</th><th>String⍰</th><th>String⍰</th><th>String⍰</th><th>String⍰</th><th>String⍰</th><th>String⍰</th><th>String⍰</th><th>String⍰</th><th>String⍰</th><th>String⍰</th><th>String⍰</th><th>String⍰</th><th>String⍰</th><th>String⍰</th><th>String⍰</th><th>String⍰</th><th>String⍰</th><th>String⍰</th><th>String⍰</th><th>String⍰</th><th>String⍰</th><th>String⍰</th><th>String⍰</th><th>String⍰</th><th>String⍰</th><th>String⍰</th><th>String⍰</th><th>String⍰</th><th>String⍰</th><th>String⍰</th><th>String⍰</th><th>String⍰</th><th>String⍰</th><th>String⍰</th><th>String⍰</th><th>String⍰</th><th>String⍰</th><th>String⍰</th><th>String⍰</th><th>String⍰</th><th>String⍰</th><th>String⍰</th><th>String⍰</th><th>String⍰</th><th>String⍰</th><th>String⍰</th><th>String⍰</th><th>String⍰</th><th>String⍰</th><th>String⍰</th><th>String⍰</th><th>String⍰</th><th>String⍰</th><th>String⍰</th><th>String⍰</th><th>String⍰</th><th>String⍰</th><th>String⍰</th><th>String⍰</th><th>String⍰</th><th>String⍰</th><th>String⍰</th><th>String⍰</th><th>String⍰</th><th>String⍰</th><th>String⍰</th><th>String⍰</th><th>String⍰</th><th>String⍰</th><th>String⍰</th><th>String⍰</th><th>String⍰</th><th>String⍰</th><th>String⍰</th><th>String⍰</th><th>String⍰</th><th>String⍰</th><th>String⍰</th><th>String⍰</th><th>String⍰</th><th>String⍰</th><th>String⍰</th><th>String⍰</th><th>String⍰</th><th>String⍰</th><th>String⍰</th><th>String⍰</th><th>String⍰</th><th>String⍰</th><th>String⍰</th><th>String⍰</th><th>String⍰</th><th>String⍰</th><th>String⍰</th><th>String⍰</th><th>String⍰</th><th>String⍰</th><th>String⍰</th><th>String⍰</th><th>String⍰</th><th>String⍰</th><th>String⍰</th><th>String⍰</th><th>String⍰</th><th>String⍰</th><th>String⍰</th><th>String⍰</th><th>String⍰</th><th>String⍰</th><th>String⍰</th><th>String⍰</th><th>String⍰</th><th>String⍰</th><th>String⍰</th><th>String⍰</th><th>String⍰</th><th>String⍰</th><th>String⍰</th><th>String⍰</th><th>String⍰</th><th>String⍰</th><th>String⍰</th><th>String⍰</th><th>String⍰</th><th>String⍰</th><th>String⍰</th><th>String⍰</th><th>String⍰</th><th>String⍰</th><th>String⍰</th><th>String⍰</th><th>String⍰</th><th>String⍰</th><th>String⍰</th><th>String⍰</th><th>String⍰</th><th>String⍰</th><th>String⍰</th><th>String⍰</th><th>String⍰</th><th>String⍰</th><th>String⍰</th><th>String⍰</th><th>String⍰</th><th>String⍰</th><th>String⍰</th><th>String⍰</th><th>String⍰</th><th>String⍰</th><th>String⍰</th><th>String⍰</th><th>String⍰</th><th>String⍰</th><th>String⍰</th><th>String⍰</th><th>String⍰</th><th>String⍰</th><th>String⍰</th><th>String⍰</th><th>String⍰</th><th>String⍰</th><th>String⍰</th><th>String⍰</th><th>String⍰</th><th>String⍰</th><th>String⍰</th><th>String⍰</th><th>String⍰</th><th>String⍰</th><th>String⍰</th><th>String⍰</th><th>String⍰</th><th>String⍰</th><th>String⍰</th><th>String⍰</th><th>String⍰</th><th>String⍰</th><th>String⍰</th><th>String⍰</th><th>String⍰</th><th>String⍰</th><th>String⍰</th><th>String⍰</th><th>String⍰</th><th>String⍰</th><th>String⍰</th><th>String⍰</th><th>String⍰</th><th>String⍰</th><th>String⍰</th><th>String⍰</th><th>String⍰</th><th>String⍰</th><th>String⍰</th><th>String⍰</th><th>String⍰</th><th>String⍰</th><th>String⍰</th><th>String⍰</th><th>String⍰</th><th>String⍰</th><th>String⍰</th><th>String⍰</th><th>String⍰</th><th>String⍰</th><th>String⍰</th><th>String⍰</th><th>String⍰</th><th>String⍰</th><th>String⍰</th><th>String⍰</th><th>String⍰</th><th>String⍰</th><th>String⍰</th><th>String⍰</th><th>String⍰</th><th>String⍰</th><th>String⍰</th><th>String⍰</th><th>String⍰</th><th>String⍰</th><th>String⍰</th><th>String⍰</th><th>String⍰</th><th>String⍰</th><th>String⍰</th><th>String⍰</th><th>String⍰</th><th>String⍰</th><th>String⍰</th><th>String⍰</th><th>String⍰</th><th>String⍰</th><th>String⍰</th><th>String⍰</th><th>String⍰</th><th>String⍰</th><th>String⍰</th><th>String⍰</th><th>String⍰</th><th>String⍰</th><th>String⍰</th><th>String⍰</th><th>String⍰</th><th>String⍰</th><th>String⍰</th><th>String⍰</th><th>String⍰</th><th>String⍰</th><th>String⍰</th><th>String⍰</th><th>String⍰</th><th>String⍰</th><th>String⍰</th><th>String⍰</th><th>String⍰</th><th>String⍰</th><th>String⍰</th><th>String⍰</th><th>String⍰</th><th>String⍰</th><th>String⍰</th><th>String⍰</th><th>String⍰</th><th>String⍰</th><th>String⍰</th><th>String⍰</th><th>String⍰</th><th>String⍰</th><th>String⍰</th><th>String⍰</th><th>String⍰</th><th>String⍰</th><th>String⍰</th><th>String⍰</th><th>String⍰</th><th>String⍰</th><th>String⍰</th><th>String⍰</th><th>String⍰</th><th>String⍰</th><th>String⍰</th><th>String⍰</th><th>String⍰</th><th>String⍰</th><th>String⍰</th><th>String⍰</th><th>String⍰</th><th>String⍰</th><th>String⍰</th><th>String⍰</th><th>String⍰</th><th>String⍰</th><th>String⍰</th><th>String⍰</th><th>String⍰</th><th>String⍰</th><th>String⍰</th><th>String⍰</th><th>String⍰</th><th>String⍰</th><th>String⍰</th><th>String⍰</th><th>String⍰</th><th>String⍰</th><th>String⍰</th><th>String⍰</th><th>String⍰</th><th>String⍰</th><th>String⍰</th><th>String⍰</th><th>String⍰</th><th>String⍰</th><th>String⍰</th><th>String⍰</th><th>String⍰</th><th>String⍰</th><th>String⍰</th><th>String⍰</th><th>String⍰</th><th>String⍰</th><th>String⍰</th><th>String⍰</th><th>String⍰</th><th>String⍰</th><th>String⍰</th><th>String⍰</th><th>String⍰</th><th>String⍰</th><th>String⍰</th><th>String⍰</th><th>String⍰</th><th>String⍰</th><th>String⍰</th><th>String⍰</th><th>String⍰</th><th>String⍰</th><th>String⍰</th><th>String⍰</th><th>String⍰</th><th>String⍰</th><th>String⍰</th><th>String⍰</th><th>String⍰</th><th>String⍰</th><th>String⍰</th><th>String⍰</th><th>String⍰</th><th>String⍰</th><th>String⍰</th><th>String⍰</th><th>String⍰</th><th>String⍰</th><th>String⍰</th><th>String⍰</th><th>String⍰</th><th>String⍰</th><th>String⍰</th><th>String⍰</th><th>String⍰</th><th>String⍰</th><th>String⍰</th><th>String⍰</th><th>String⍰</th><th>String⍰</th><th>String⍰</th><th>String⍰</th><th>String⍰</th><th>String⍰</th><th>String⍰</th><th>String⍰</th><th>String⍰</th><th>String⍰</th><th>String⍰</th><th>String⍰</th><th>String⍰</th><th>String⍰</th><th>String⍰</th><th>String⍰</th><th>String⍰</th><th>String⍰</th><th>String⍰</th><th>String⍰</th><th>String⍰</th><th>String⍰</th><th>String⍰</th><th>String⍰</th><th>String⍰</th><th>String⍰</th><th>String⍰</th><th>String⍰</th><th>String⍰</th><th>String⍰</th><th>String⍰</th><th>String⍰</th><th>String⍰</th><th>String⍰</th><th>String⍰</th><th>String⍰</th><th>String⍰</th><th>String⍰</th><th>String⍰</th><th>String⍰</th><th>String⍰</th><th>String⍰</th><th>String⍰</th><th>String⍰</th><th>String⍰</th><th>String⍰</th><th>String⍰</th><th>String⍰</th><th>String⍰</th><th>String⍰</th><th>String⍰</th><th>String⍰</th><th>String⍰</th><th>String⍰</th><th>String⍰</th><th>String⍰</th><th>String⍰</th><th>String⍰</th><th>String⍰</th><th>String⍰</th><th>String⍰</th><th>String⍰</th><th>String⍰</th><th>String⍰</th><th>String⍰</th><th>String⍰</th><th>String⍰</th><th>String⍰</th><th>String⍰</th><th>String⍰</th><th>String⍰</th><th>String⍰</th><th>String⍰</th><th>String⍰</th><th>String⍰</th><th>String⍰</th><th>String⍰</th><th>String⍰</th><th>String⍰</th><th>String⍰</th><th>String⍰</th><th>String⍰</th><th>String⍰</th><th>String⍰</th><th>String⍰</th><th>String⍰</th><th>String⍰</th><th>String⍰</th><th>String⍰</th><th>String⍰</th><th>String⍰</th><th>String⍰</th><th>String⍰</th><th>String⍰</th><th>String⍰</th><th>String⍰</th><th>String⍰</th><th>String⍰</th><th>String⍰</th><th>String⍰</th><th>String⍰</th><th>String⍰</th><th>String⍰</th><th>String⍰</th><th>String⍰</th><th>String⍰</th><th>String⍰</th><th>String⍰</th><th>String⍰</th><th>String⍰</th><th>String⍰</th><th>String⍰</th><th>String⍰</th><th>String⍰</th><th>String⍰</th><th>String⍰</th><th>String⍰</th><th>String⍰</th><th>String⍰</th><th>String⍰</th><th>String⍰</th><th>String⍰</th><th>String⍰</th><th>String⍰</th><th>String⍰</th><th>String⍰</th><th>String⍰</th><th>String⍰</th><th>String⍰</th><th>String⍰</th><th>String⍰</th><th>String⍰</th><th>String⍰</th><th>String⍰</th><th>String⍰</th><th>String⍰</th><th>String⍰</th><th>String⍰</th><th>String⍰</th><th>String⍰</th><th>String⍰</th><th>String⍰</th><th>String⍰</th><th>String⍰</th><th>String⍰</th><th>String⍰</th><th>String⍰</th><th>String⍰</th><th>String⍰</th><th>String⍰</th><th>String⍰</th><th>String⍰</th><th>String⍰</th><th>String⍰</th><th>String⍰</th><th>String⍰</th><th>String⍰</th><th>String⍰</th><th>String⍰</th><th>String⍰</th><th>String⍰</th><th>String⍰</th><th>String⍰</th><th>String⍰</th><th>String⍰</th><th>String⍰</th><th>String⍰</th><th>String⍰</th><th>String⍰</th><th>String⍰</th><th>String⍰</th><th>String⍰</th><th>String⍰</th><th>String⍰</th><th>String⍰</th><th>String⍰</th><th>String⍰</th><th>String⍰</th><th>String⍰</th><th>String⍰</th><th>String⍰</th><th>String⍰</th><th>String⍰</th><th>String⍰</th><th>String⍰</th><th>String⍰</th><th>String⍰</th><th>String⍰</th><th>String⍰</th><th>String⍰</th><th>String⍰</th><th>String⍰</th><th>String⍰</th><th>String⍰</th><th>String⍰</th><th>String⍰</th><th>String⍰</th><th>String⍰</th><th>String⍰</th><th>String⍰</th><th>String⍰</th><th>String⍰</th><th>String⍰</th><th>String⍰</th><th>String⍰</th><th>String⍰</th><th>String⍰</th><th>String⍰</th><th>String⍰</th><th>String⍰</th><th>String⍰</th><th>String⍰</th><th>String⍰</th><th>String⍰</th><th>String⍰</th><th>String⍰</th><th>String⍰</th><th>String⍰</th><th>String⍰</th><th>String⍰</th><th>String⍰</th><th>String⍰</th><th>String⍰</th><th>String⍰</th><th>String⍰</th><th>String⍰</th><th>String⍰</th><th>String⍰</th><th>String⍰</th><th>String⍰</th><th>String⍰</th><th>String⍰</th><th>String⍰</th><th>String⍰</th><th>String⍰</th><th>String⍰</th><th>String⍰</th><th>String⍰</th><th>String⍰</th><th>String⍰</th><th>String⍰</th><th>String⍰</th><th>String⍰</th><th>String⍰</th><th>String⍰</th><th>String⍰</th><th>String⍰</th><th>String⍰</th><th>String⍰</th><th>String⍰</th><th>String⍰</th><th>String⍰</th><th>String⍰</th><th>String⍰</th><th>String⍰</th><th>String⍰</th><th>String⍰</th><th>String⍰</th><th>String⍰</th><th>String⍰</th><th>String⍰</th><th>String⍰</th><th>String⍰</th><th>String⍰</th><th>String⍰</th><th>String⍰</th><th>String⍰</th><th>String⍰</th><th>String⍰</th><th>String⍰</th><th>String⍰</th><th>String⍰</th><th>String⍰</th><th>String⍰</th><th>String⍰</th><th>String⍰</th><th>String⍰</th><th>String⍰</th><th>String⍰</th><th>String⍰</th><th>String⍰</th><th>String⍰</th><th>String⍰</th><th>String⍰</th><th>String⍰</th><th>String⍰</th><th>String⍰</th><th>String⍰</th><th>String⍰</th><th>String⍰</th><th>String⍰</th><th>String⍰</th><th>String⍰</th><th>String⍰</th><th>String⍰</th><th>String⍰</th><th>String⍰</th><th>String⍰</th><th>String⍰</th><th>String⍰</th><th>String⍰</th><th>String⍰</th><th>String⍰</th><th>String⍰</th><th>String⍰</th><th>String⍰</th><th>String⍰</th><th>String⍰</th><th>String⍰</th><th>String⍰</th><th>String⍰</th><th>String⍰</th><th>String⍰</th><th>String⍰</th><th>String⍰</th><th>String⍰</th><th>String⍰</th><th>String⍰</th><th>String⍰</th><th>String⍰</th><th>String⍰</th><th>String⍰</th><th>String⍰</th><th>String⍰</th><th>String⍰</th><th>String⍰</th><th>String⍰</th><th>String⍰</th><th>String⍰</th><th>String⍰</th><th>String⍰</th><th>String⍰</th><th>String⍰</th><th>String⍰</th><th>String⍰</th><th>String⍰</th><th>String⍰</th><th>String⍰</th><th>String⍰</th><th>String⍰</th><th>String⍰</th><th>String⍰</th><th>String⍰</th><th>String⍰</th><th>String⍰</th><th>String⍰</th><th>String⍰</th><th>String⍰</th><th>String⍰</th><th>String⍰</th><th>String⍰</th><th>String⍰</th><th>String⍰</th><th>String⍰</th><th>String⍰</th><th>String⍰</th><th>String⍰</th><th>String⍰</th><th>String⍰</th><th>String⍰</th><th>String⍰</th><th>String⍰</th><th>String⍰</th><th>String⍰</th><th>String⍰</th><th>String⍰</th><th>String⍰</th><th>String⍰</th><th>String⍰</th><th>String⍰</th><th>String⍰</th><th>String⍰</th><th>String⍰</th><th>String⍰</th><th>String⍰</th><th>String⍰</th><th>String⍰</th><th>String⍰</th><th>String⍰</th><th>String⍰</th><th>String⍰</th><th>String⍰</th><th>String⍰</th><th>String⍰</th><th>String⍰</th><th>String⍰</th><th>String⍰</th><th>String⍰</th><th>String⍰</th><th>String⍰</th><th>String⍰</th><th>String⍰</th><th>String⍰</th><th>String⍰</th><th>String⍰</th><th>String⍰</th><th>String⍰</th><th>String⍰</th><th>String⍰</th><th>String⍰</th><th>String⍰</th><th>String⍰</th><th>String⍰</th></tr></thead><tbody><tr><th>1</th><td>id</td><td>wPt.0538</td><td>wPt.8463</td><td>wPt.6348</td><td>wPt.9992</td><td>wPt.2838</td><td>wPt.8266</td><td>wPt.1100</td><td>wPt.0653</td><td>wPt.4418</td><td>wPt.2152</td><td>wPt.9049</td><td>wPt.7068</td><td>wPt.1681</td><td>wPt.5480</td><td>wPt.1695</td><td>wPt.4025</td><td>wPt.4125</td><td>wPt.7238</td><td>wPt.7924</td><td>wPt.4029</td><td>wPt.5672</td><td>wPt.4600</td><td>wPt.4209</td><td>wPt.6777</td><td>wPt.8124</td><td>wPt.6117</td><td>wPt.5877</td><td>wPt.4814</td><td>wPt.9368</td><td>wPt.0245</td><td>wPt.8894</td><td>wPt.0473</td><td>wPt.4602</td><td>wPt.9196</td><td>wPt.1741</td><td>wPt.3855</td><td>wPt.8921</td><td>wPt.1505</td><td>wPt.9532</td><td>wPt.0205</td><td>wPt.1547</td><td>wPt.4427</td><td>wPt.4419</td><td>wPt.6853</td><td>wPt.5027</td><td>wPt.3611</td><td>wPt.2866</td><td>wPt.3605</td><td>wPt.1272</td><td>wPt.1940</td><td>wPt.5688</td><td>wPt.3533</td><td>wPt.3563</td><td>wPt.1191</td><td>wPt.3677</td><td>wPt.3774</td><td>wPt.6214</td><td>wPt.9270</td><td>wPt.8015</td><td>wPt.3109</td><td>wPt.0789</td><td>wPt.8021</td><td>wPt.3804</td><td>wPt.6343</td><td>wPt.0312</td><td>wPt.6965</td><td>wPt.0049</td><td>wPt.3879</td><td>wPt.4720</td><td>wPt.7063</td><td>wPt.7229</td><td>wPt.9757</td><td>wPt.4283</td><td>wPt.2185</td><td>wPt.5234</td><td>wPt.3451</td><td>wPt.8283</td><td>wPt.1313</td><td>wPt.3376</td><td>wPt.7906</td><td>wPt.7360</td><td>wPt.1589</td><td>wPt.7024</td><td>wPt.0695</td><td>wPt.8949</td><td>wPt.2872</td><td>wPt.1420</td><td>wPt.3491</td><td>wPt.8986</td><td>wPt.6442</td><td>wPt.2644</td><td>wPt.3738</td><td>wPt.6502</td><td>wPt.3030</td><td>wPt.2013</td><td>wPt.4597</td><td>wPt.7947</td><td>wPt.8183</td><td>wPt.7821</td><td>wPt.0689</td><td>wPt.4748</td><td>wPt.5390</td><td>wPt.3244</td><td>wPt.1737</td><td>wPt.8569</td><td>wPt.4199</td><td>wPt.1560</td><td>wPt.9746</td><td>wPt.4569</td><td>wPt.6997</td><td>wPt.9552</td><td>wPt.4709</td><td>wPt.8752</td><td>wPt.2311</td><td>wPt.9266</td><td>wPt.5587</td><td>wPt.0105</td><td>wPt.7413</td><td>wPt.6427</td><td>wPt.4129</td><td>wPt.8016</td><td>wPt.2689</td><td>wPt.7777</td><td>wPt.2938</td><td>wPt.3870</td><td>wPt.8054</td><td>wPt.3608</td><td>wPt.3462</td><td>wPt.5547</td><td>wPt.5716</td><td>wPt.8460</td><td>wPt.5343</td><td>wPt.0259</td><td>wPt.0950</td><td>wPt.2106</td><td>wPt.3247</td><td>wPt.2416</td><td>wPt.7711</td><td>wPt.2501</td><td>wPt.6074</td><td>wPt.1657</td><td>wPt.3389</td><td>wPt.1922</td><td>wPt.2572</td><td>wPt.4229</td><td>wPt.4386</td><td>wPt.9467</td><td>wPt.1085</td><td>wPt.1362</td><td>wPt.2424</td><td>wPt.0615</td><td>wPt.7150</td><td>wPt.5749</td><td>wPt.7502</td><td>wPt.5914</td><td>wPt.8399</td><td>wPt.0465</td><td>wPt.3697</td><td>wPt.9522</td><td>wPt.4140</td><td>wPt.1176</td><td>wPt.9154</td><td>wPt.7872</td><td>wPt.0228</td><td>wPt.8167</td><td>wPt.0032</td><td>wPt.2406</td><td>wPt.8833</td><td>wPt.9418</td><td>wPt.5334</td><td>wPt.9796</td><td>wPt.5320</td><td>wPt.6661</td><td>wPt.0619</td><td>wPt.3114</td><td>wPt.4576</td><td>wPt.8770</td><td>wPt.2464</td><td>wPt.0098</td><td>wPt.7695</td><td>wPt.9925</td><td>wPt.2497</td><td>wPt.1723</td><td>wPt.7027</td><td>wPt.8404</td><td>wPt.1377</td><td>wPt.0170</td><td>wPt.7608</td><td>wPt.0419</td><td>wPt.4721</td><td>wPt.8043</td><td>wPt.6967</td><td>wPt.5333</td><td>wPt.9075</td><td>wPt.2266</td><td>wPt.7273</td><td>wPt.5265</td><td>wPt.5489</td><td>wPt.5590</td><td>wPt.2260</td><td>wPt.8292</td><td>wPt.4660</td><td>wPt.4370</td><td>wPt.4645</td><td>wPt.4555</td><td>wPt.1770</td><td>wPt.0995</td><td>wPt.1489</td><td>wPt.4924</td><td>wPt.0094</td><td>wPt.8072</td><td>wPt.7785</td><td>wPt.7626</td><td>wPt.5408</td><td>wPt.1628</td><td>wPt.1165</td><td>wPt.1209</td><td>wPt.8492</td><td>wPt.7627</td><td>wPt.9822</td><td>wPt.3130</td><td>wPt.5942</td><td>wPt.1196</td><td>wPt.9562</td><td>wPt.0405</td><td>wPt.7354</td><td>wPt.6735</td><td>wPt.5506</td><td>wPt.4144</td><td>wPt.3816</td><td>wPt.4725</td><td>wPt.8449</td><td>wPt.4765</td><td>wPt.1264</td><td>wPt.2565</td><td>wPt.2698</td><td>wPt.7030</td><td>wPt.3045</td><td>wPt.9857</td><td>wPt.1852</td><td>wPt.3743</td><td>wPt.0164</td><td>wPt.3566</td><td>wPt.4407</td><td>wPt.9859</td><td>wPt.6156</td><td>wPt.0036</td><td>wPt.9668</td><td>wPt.4988</td><td>wPt.0365</td><td>wPt.9788</td><td>wPt.3581</td><td>wPt.2379</td><td>wPt.3733</td><td>wPt.2054</td><td>wPt.6142</td><td>wPt.3921</td><td>wPt.5892</td><td>wPt.5816</td><td>wPt.7034</td><td>wPt.9952</td><td>wPt.3468</td><td>wPt.1684</td><td>wPt.3661</td><td>wPt.2575</td><td>wPt.1482</td><td>wPt.1325</td><td>wPt.1688</td><td>wPt.7599</td><td>wPt.7842</td><td>wPt.0484</td><td>wPt.5556</td><td>wPt.2273</td><td>wPt.1733</td><td>wPt.5996</td><td>wPt.5836</td><td>wPt.1743</td><td>wPt.0021</td><td>wPt.5172</td><td>wPt.6404</td><td>wPt.8657</td><td>wPt.4596</td><td>wPt.5316</td><td>wPt.9833</td><td>wPt.9382</td><td>wPt.7956</td><td>wPt.9474</td><td>wPt.5067</td><td>wPt.3965</td><td>wPt.8004</td><td>wPt.1822</td><td>wPt.3561</td><td>wPt.3116</td><td>wPt.8920</td><td>wPt.7101</td><td>wPt.5696</td><td>wPt.0921</td><td>wPt.6854</td><td>wPt.7642</td><td>wPt.8328</td><td>wPt.8343</td><td>wPt.4290</td><td>wPt.5346</td><td>wPt.6047</td><td>wPt.7280</td><td>wPt.9624</td><td>wPt.0745</td><td>wPt.4572</td><td>wPt.3349</td><td>wPt.9205</td><td>wPt.0935</td><td>wPt.2258</td><td>wPt.2151</td><td>wPt.8960</td><td>wPt.3833</td><td>wPt.1664</td><td>wPt.0359</td><td>wPt.0100</td><td>wPt.5175</td><td>wPt.3457</td><td>wPt.8168</td><td>wPt.8412</td><td>wPt.4172</td><td>wPt.2781</td><td>wPt.2755</td><td>wPt.9930</td><td>wPt.8396</td><td>wPt.7887</td><td>wPt.0477</td><td>wPt.0959</td><td>wPt.7992</td><td>wPt.1400</td><td>wPt.8713</td><td>wPt.4835</td><td>wPt.6560</td><td>wPt.3836</td><td>wPt.7151</td><td>wPt.9402</td><td>wPt.1301</td><td>wPt.3992</td><td>wPt.3569</td><td>wPt.8616</td><td>wPt.9598</td><td>wPt.2559</td><td>wPt.8141</td><td>wPt.6447</td><td>wPt.6019</td><td>wPt.9904</td><td>wPt.4134</td><td>wPt.6320</td><td>wPt.9887</td><td>wPt.1541</td><td>wPt.2897</td><td>wPt.0471</td><td>wPt.2614</td><td>wPt.5870</td><td>wPt.1048</td><td>wPt.1046</td><td>wPt.0817</td><td>wPt.1457</td><td>wPt.1149</td><td>wPt.2636</td><td>wPt.5765</td><td>wPt.9903</td><td>wPt.3226</td><td>wPt.0694</td><td>wPt.2356</td><td>wPt.5738</td><td>wPt.3334</td><td>wPt.0128</td><td>wPt.6434</td><td>wPt.3707</td><td>wPt.5256</td><td>wPt.1159</td><td>wPt.4996</td><td>wPt.3378</td><td>wPt.0705</td><td>wPt.1314</td><td>wPt.7015</td><td>wPt.8644</td><td>wPt.4662</td><td>wPt.1531</td><td>wPt.5934</td><td>wPt.9103</td><td>wPt.1437</td><td>wPt.9664</td><td>wPt.5138</td><td>wPt.3309</td><td>wPt.6970</td><td>wPt.2305</td><td>wPt.5652</td><td>wPt.7330</td><td>wPt.5825</td><td>wPt.1011</td><td>wPt.3723</td><td>wPt.8446</td><td>wPt.7046</td><td>wPt.8545</td><td>wPt.9116</td><td>wPt.2788</td><td>wPt.0832</td><td>wPt.6688</td><td>wPt.9170</td><td>wPt.7614</td><td>wPt.4532</td><td>wPt.1403</td><td>wPt.7004</td><td>wPt.1708</td><td>wPt.9277</td><td>wPt.1562</td><td>wPt.8267</td><td>wPt.1155</td><td>wPt.3824</td><td>wPt.5505</td><td>wPt.6005</td><td>wPt.0610</td><td>wPt.3093</td><td>wPt.6904</td><td>wPt.1554</td><td>wPt.7665</td><td>wPt.5270</td><td>wPt.0357</td><td>wPt.7623</td><td>wPt.2087</td><td>wPt.7299</td><td>wPt.5769</td><td>wPt.0864</td><td>wPt.4916</td><td>wPt.7108</td><td>wPt.5350</td><td>wPt.7142</td><td>wPt.3465</td><td>wPt.4476</td><td>wPt.0246</td><td>wPt.5434</td><td>wPt.1888</td><td>wPt.7092</td><td>wPt.4487</td><td>wPt.3086</td><td>wPt.6754</td><td>wPt.4424</td><td>wPt.2218</td><td>wPt.5896</td><td>wPt.5865</td><td>wPt.3983</td><td>wPt.2847</td><td>wPt.6654</td><td>wPt.6709</td><td>wPt.9690</td><td>wPt.8841</td><td>wPt.3524</td><td>wPt.2291</td><td>wPt.0008</td><td>wPt.5851</td><td>wPt.3922</td><td>wPt.7475</td><td>wPt.8000</td><td>wPt.0047</td><td>wPt.9990</td><td>wPt.2527</td><td>wPt.5069</td><td>wPt.0934</td><td>wPt.0884</td><td>wPt.9369</td><td>wPt.3939</td><td>wPt.6687</td><td>wPt.9510</td><td>wPt.2526</td><td>wPt.9432</td><td>wPt.1826</td><td>wPt.7576</td><td>wPt.5242</td><td>wPt.7486</td><td>wPt.4553</td><td>wPt.0413</td><td>wPt.9679</td><td>wPt.3132</td><td>wPt.8886</td><td>wPt.8239</td><td>wPt.2573</td><td>wPt.4559</td><td>wPt.8091</td><td>wPt.1533</td><td>wPt.3282</td><td>wPt.0944</td><td>wPt.5562</td><td>wPt.8814</td><td>wPt.7946</td><td>c.117337</td><td>c.117411</td><td>c.117416</td><td>c.117417</td><td>c.117418</td><td>c.117419</td><td>c.117430</td><td>c.117438</td><td>c.117439</td><td>c.117444</td><td>c.117446</td><td>c.117448</td><td>c.117472</td><td>c.117474</td><td>c.117493</td><td>c.117500</td><td>wPt.9804</td><td>wPt.9310</td><td>wPt.5096</td><td>wPt.8650</td><td>wPt.8658</td><td>wPt.9268</td><td>wPt.4412</td><td>wPt.2150</td><td>wPt.5118</td><td>wPt.0384</td><td>wPt.5533</td><td>wPt.6627</td><td>wPt.7160</td><td>wPt.4016</td><td>wPt.8271</td><td>wPt.1263</td><td>wPt.5274</td><td>wPt.9256</td><td>wPt.1903</td><td>wPt.3459</td><td>wPt.8721</td><td>wPt.0744</td><td>wPt.1642</td><td>wPt.3948</td><td>wPt.0696</td><td>wPt.4218</td><td>wPt.3728</td><td>wPt.3393</td><td>wPt.0330</td><td>wPt.5049</td><td>wPt.4017</td><td>wPt.1911</td><td>wPt.0431</td><td>wPt.2991</td><td>wPt.4796</td><td>wPt.3477</td><td>wPt.1167</td><td>wPt.0280</td><td>wPt.7636</td><td>wPt.2951</td><td>wPt.7062</td><td>wPt.9124</td><td>wPt.1302</td><td>wPt.9181</td><td>wPt.3904</td><td>wPt.4706</td><td>wPt.6785</td><td>wPt.0504</td><td>wPt.2095</td><td>wPt.6460</td><td>wPt.5313</td><td>wPt.1931</td><td>wPt.4680</td><td>wPt.1951</td><td>wPt.6273</td><td>wPt.7767</td><td>wPt.3388</td><td>wPt.4917</td><td>wPt.5128</td><td>wPt.6199</td><td>wPt.3978</td><td>wPt.1250</td><td>wPt.3108</td><td>wPt.6994</td><td>wPt.2216</td><td>wPt.9401</td><td>wPt.5801</td><td>wPt.1812</td><td>wPt.5231</td><td>wPt.0391</td><td>wPt.6668</td><td>wPt.1512</td><td>wPt.6116</td><td>wPt.2448</td><td>wPt.0194</td><td>wPt.7954</td><td>wPt.6234</td><td>wPt.5906</td><td>wPt.3177</td><td>wPt.4434</td><td>wPt.7951</td><td>wPt.7026</td><td>wPt.7662</td><td>wPt.9977</td><td>wPt.9380</td><td>wPt.2160</td><td>wPt.9592</td><td>wPt.8006</td><td>wPt.4620</td><td>wPt.7939</td><td>wPt.0240</td><td>wPt.6931</td><td>wPt.4533</td><td>wPt.9951</td><td>wPt.3632</td><td>wPt.9814</td><td>wPt.3753</td><td>wPt.7907</td><td>wPt.1259</td><td>wPt.9422</td><td>wPt.3795</td><td>wPt.0697</td><td>wPt.5745</td><td>wPt.3118</td><td>wPt.7009</td><td>wPt.1853</td><td>wPt.3328</td><td>wPt.4936</td><td>wPt.1973</td><td>wPt.7204</td><td>wPt.8876</td><td>wPt.0853</td><td>wPt.6726</td><td>wPt.2315</td><td>wPt.2725</td><td>wPt.8268</td><td>wPt.7756</td><td>wPt.9454</td><td>wPt.6575</td><td>wPt.5176</td><td>wPt.0974</td><td>wPt.4249</td><td>wPt.5674</td><td>wPt.2551</td><td>wPt.3923</td><td>wPt.0373</td><td>wPt.7394</td><td>wPt.2994</td><td>wPt.1370</td><td>wPt.2084</td><td>wPt.4301</td><td>wPt.5647</td><td>wPt.0408</td><td>wPt.5037</td><td>wPt.8226</td><td>wPt.4131</td><td>wPt.2019</td><td>wPt.9793</td><td>wPt.1023</td><td>wPt.9350</td><td>wPt.0605</td><td>wPt.2135</td><td>wPt.1171</td><td>wPt.2933</td><td>wPt.7114</td><td>wPt.3304</td><td>wPt.4545</td><td>wPt.9666</td><td>wPt.5105</td><td>wPt.4858</td><td>wPt.1859</td><td>wPt.7807</td><td>wPt.7757</td><td>wPt.3636</td><td>wPt.9780</td><td>c.303848</td><td>c.303849</td><td>c.303877</td><td>c.303887</td><td>c.303896</td><td>c.303931</td><td>c.303943</td><td>c.303944</td><td>c.303948</td><td>c.303952</td><td>c.303974</td><td>c.304024</td><td>c.304025</td><td>c.304031</td><td>c.304045</td><td>c.304060</td><td>c.304069</td><td>c.304128</td><td>c.304141</td><td>c.304157</td><td>c.304166</td><td>c.304172</td><td>c.304200</td><td>c.304205</td><td>c.304211</td><td>c.304224</td><td>c.304244</td><td>c.304248</td><td>c.304255</td><td>c.304264</td><td>c.304278</td><td>c.304279</td><td>c.304283</td><td>c.304307</td><td>c.304317</td><td>c.304329</td><td>c.304361</td><td>c.304364</td><td>c.304367</td><td>c.304382</td><td>c.304383</td><td>c.304391</td><td>c.304407</td><td>c.304424</td><td>c.304430</td><td>c.304454</td><td>c.304485</td><td>c.304513</td><td>c.304544</td><td>c.304547</td><td>c.304560</td><td>c.304566</td><td>c.304576</td><td>c.304600</td><td>c.304610</td><td>c.304635</td><td>c.304657</td><td>c.304668</td><td>c.304677</td><td>c.304691</td><td>c.304701</td><td>c.304723</td><td>c.304771</td><td>c.304777</td><td>c.304782</td><td>c.304801</td><td>c.304802</td><td>c.304805</td><td>c.304835</td><td>c.304839</td><td>c.304842</td><td>c.304851</td><td>c.304885</td><td>c.304915</td><td>c.304934</td><td>c.304962</td><td>c.304972</td><td>c.304991</td><td>c.305013</td><td>c.305044</td><td>c.305054</td><td>c.305092</td><td>c.305107</td><td>c.305115</td><td>c.305151</td><td>c.305166</td><td>c.305220</td><td>c.305231</td><td>c.305232</td><td>c.305238</td><td>c.305270</td><td>c.305301</td><td>c.305338</td><td>c.305342</td><td>c.305345</td><td>c.305387</td><td>c.305406</td><td>c.305417</td><td>c.305423</td><td>c.305496</td><td>c.305501</td><td>c.305528</td><td>c.305561</td><td>c.305569</td><td>c.305613</td><td>c.305697</td><td>c.305701</td><td>c.305711</td><td>c.305713</td><td>c.305726</td><td>c.305742</td><td>c.305829</td><td>c.306004</td><td>c.306023</td><td>c.306024</td><td>c.306034</td><td>c.306099</td><td>c.306153</td><td>c.306188</td><td>c.306596</td><td>c.306872</td><td>c.310624</td><td>c.310864</td><td>c.310877</td><td>c.310954</td><td>c.311004</td><td>c.311407</td><td>c.311566</td><td>c.311648</td><td>c.311736</td><td>c.311893</td><td>c.312155</td><td>c.312361</td><td>c.312377</td><td>c.312411</td><td>c.312549</td><td>c.312613</td><td>c.312736</td><td>c.312808</td><td>c.312980</td><td>c.313026</td><td>c.343366</td><td>c.343378</td><td>c.343392</td><td>c.343426</td><td>c.343478</td><td>c.343583</td><td>c.343694</td><td>c.343738</td><td>c.343777</td><td>c.343821</td><td>c.343833</td><td>c.343844</td><td>c.343869</td><td>c.343912</td><td>c.343926</td><td>c.343930</td><td>c.343936</td><td>c.343943</td><td>c.343945</td><td>c.343986</td><td>c.343987</td><td>c.343989</td><td>c.343999</td><td>c.344008</td><td>c.344062</td><td>c.344065</td><td>c.344082</td><td>c.344090</td><td>c.344101</td><td>c.344107</td><td>c.344123</td><td>c.344152</td><td>c.344179</td><td>c.344244</td><td>c.344247</td><td>c.344260</td><td>c.344272</td><td>c.344275</td><td>c.344289</td><td>c.344301</td><td>c.344315</td><td>c.344329</td><td>c.344330</td><td>c.344382</td><td>c.344385</td><td>c.344388</td><td>c.344410</td><td>c.344422</td><td>c.344425</td><td>c.344427</td><td>c.344429</td><td>c.344480</td><td>c.344517</td><td>c.344544</td><td>c.344553</td><td>c.344560</td><td>c.344562</td><td>c.344573</td><td>c.344609</td><td>c.344644</td><td>c.344673</td><td>c.344692</td><td>c.344700</td><td>c.344712</td><td>c.344746</td><td>c.344758</td><td>c.344799</td><td>c.344809</td><td>c.344869</td><td>c.344943</td><td>c.344955</td><td>c.344962</td><td>c.344973</td><td>c.344977</td><td>c.344980</td><td>c.344998</td><td>c.344999</td><td>c.345020</td><td>c.345031</td><td>c.345032</td><td>c.345054</td><td>c.345055</td><td>c.345072</td><td>c.345074</td><td>c.345088</td><td>c.345090</td><td>c.345107</td><td>c.345127</td><td>c.345150</td><td>c.345152</td><td>c.345194</td><td>c.345203</td><td>c.345225</td><td>c.345237</td><td>c.345245</td><td>c.345250</td><td>c.345254</td><td>c.345285</td><td>c.345306</td><td>c.345319</td><td>c.345327</td><td>c.345341</td><td>c.345359</td><td>c.345364</td><td>c.345368</td><td>c.345374</td><td>c.345442</td><td>c.345454</td><td>c.345456</td><td>c.345471</td><td>c.345492</td><td>c.345497</td><td>c.345532</td><td>c.345541</td><td>c.345561</td><td>c.345566</td><td>c.345583</td><td>c.345585</td><td>c.345619</td><td>c.345625</td><td>c.345634</td><td>c.345638</td><td>c.345641</td><td>c.345668</td><td>c.345672</td><td>c.345722</td><td>c.345746</td><td>c.345767</td><td>c.345830</td><td>c.345836</td><td>c.345838</td><td>c.345869</td><td>c.345897</td><td>c.345905</td><td>c.345922</td><td>c.345926</td><td>c.345947</td><td>c.345995</td><td>c.346000</td><td>c.346019</td><td>c.346027</td><td>c.346038</td><td>c.346078</td><td>c.346098</td><td>c.346131</td><td>c.346133</td><td>c.346134</td><td>c.346154</td><td>c.346196</td><td>c.346227</td><td>c.346229</td><td>c.346235</td><td>c.346237</td><td>c.346241</td><td>c.346246</td><td>c.346249</td><td>c.346314</td><td>c.346335</td><td>c.346343</td><td>c.346386</td><td>c.346394</td><td>c.346407</td><td>c.346523</td><td>c.346533</td><td>c.346554</td><td>c.346623</td><td>c.346746</td><td>c.346775</td><td>c.346784</td><td>c.346828</td><td>c.346852</td><td>c.346879</td><td>c.346957</td><td>c.347009</td><td>c.347042</td><td>c.347108</td><td>c.347194</td><td>c.347223</td><td>c.347249</td><td>c.347295</td><td>c.347335</td><td>c.347395</td><td>c.347432</td><td>c.347521</td><td>c.347681</td><td>c.347702</td><td>c.347725</td><td>c.347821</td><td>c.347917</td><td>c.347929</td><td>c.347958</td><td>c.347989</td><td>c.348013</td><td>c.348015</td><td>c.348051</td><td>c.348071</td><td>c.348101</td><td>c.348103</td><td>c.348111</td><td>c.348126</td><td>c.348129</td><td>c.348141</td><td>c.348181</td><td>c.348186</td><td>c.348206</td><td>c.348216</td><td>c.348225</td><td>c.348246</td><td>c.348252</td><td>c.348294</td><td>c.348314</td><td>c.348355</td><td>c.348358</td><td>c.348369</td><td>c.348373</td><td>c.348383</td><td>c.348404</td><td>c.348413</td><td>c.348420</td><td>c.348456</td><td>c.348464</td><td>c.348465</td><td>c.348496</td><td>c.348498</td><td>c.348501</td><td>c.348521</td><td>c.348528</td><td>c.348540</td><td>c.348553</td><td>c.348559</td><td>c.348582</td><td>c.348591</td><td>c.348609</td><td>c.348633</td><td>c.348652</td><td>c.348667</td><td>c.348674</td><td>c.348728</td><td>c.348732</td><td>c.348774</td><td>c.348880</td><td>c.348929</td><td>c.349121</td><td>c.349142</td><td>c.349151</td><td>c.349157</td><td>c.349170</td><td>c.349206</td><td>c.349207</td><td>c.349220</td><td>c.349234</td><td>c.349259</td><td>c.349264</td><td>c.349277</td><td>c.349302</td><td>c.349303</td><td>c.349305</td><td>c.349329</td><td>c.349333</td><td>c.349397</td><td>c.349410</td><td>c.349417</td><td>c.349438</td><td>c.349457</td><td>c.349495</td><td>c.349504</td><td>c.370577</td><td>c.372366</td><td>c.372376</td><td>c.372377</td><td>c.372404</td><td>c.372408</td><td>c.372424</td><td>c.372455</td><td>c.372464</td><td>c.372470</td><td>c.372480</td><td>c.372483</td><td>c.372490</td><td>c.372508</td><td>c.372515</td><td>c.372522</td><td>c.372528</td><td>c.372535</td><td>c.372541</td><td>c.372565</td><td>c.372567</td><td>c.372574</td><td>c.372596</td><td>c.372599</td><td>c.372621</td><td>c.372640</td><td>c.372641</td><td>c.372664</td><td>c.372669</td><td>c.372675</td><td>c.372684</td><td>c.372691</td><td>c.372696</td><td>c.372712</td><td>c.372717</td><td>c.372845</td><td>c.372897</td><td>c.372967</td><td>c.373063</td><td>c.373080</td><td>c.373172</td><td>c.373185</td><td>c.373205</td><td>c.373218</td><td>c.373376</td><td>c.373384</td><td>c.373747</td><td>c.373816</td><td>c.373879</td><td>c.373892</td><td>c.373928</td><td>c.373941</td><td>c.374042</td><td>c.374068</td><td>c.374164</td><td>c.374431</td><td>c.374835</td><td>c.374903</td><td>c.375042</td><td>c.375127</td><td>c.375371</td><td>c.375520</td><td>c.375616</td><td>c.375736</td><td>c.375787</td><td>c.375921</td><td>c.375954</td><td>c.376040</td><td>c.376167</td><td>c.376312</td><td>c.376332</td><td>c.376380</td><td>c.376404</td><td>c.376406</td><td>c.376463</td><td>c.376528</td><td>c.376551</td><td>c.376593</td><td>c.376851</td><td>c.377353</td><td>c.377383</td><td>c.377405</td><td>c.377410</td><td>c.377416</td><td>c.377478</td><td>c.377479</td><td>c.377494</td><td>c.377565</td><td>c.377577</td><td>c.377579</td><td>c.377607</td><td>c.377656</td><td>c.377693</td><td>c.377694</td><td>c.377714</td><td>c.377734</td><td>c.377781</td><td>c.377784</td><td>c.377823</td><td>c.377925</td><td>c.377941</td><td>c.377954</td><td>c.377959</td><td>c.377964</td><td>c.378027</td><td>c.378047</td><td>c.378079</td><td>c.378083</td><td>c.378140</td><td>c.378142</td><td>c.378173</td><td>c.378212</td><td>c.378214</td><td>c.378216</td><td>c.378243</td><td>c.378288</td><td>c.378294</td><td>c.378303</td><td>c.378328</td><td>c.378331</td><td>c.378352</td><td>c.378405</td><td>c.378503</td><td>c.378535</td><td>c.378539</td><td>c.378563</td><td>c.378579</td><td>c.378600</td><td>c.378601</td><td>c.378616</td><td>c.378619</td><td>c.378625</td><td>c.378650</td><td>c.378696</td><td>c.378704</td><td>c.378706</td><td>c.378717</td><td>c.378765</td><td>c.378781</td><td>c.378828</td><td>c.378832</td><td>c.378859</td><td>c.378886</td><td>c.378892</td><td>c.378896</td><td>c.378903</td><td>c.378956</td><td>c.379040</td><td>c.379070</td><td>c.379092</td><td>c.379105</td><td>c.379269</td><td>c.379274</td><td>c.379285</td><td>c.379317</td><td>c.379413</td><td>c.379495</td><td>c.379596</td><td>c.379640</td><td>c.379652</td><td>c.379655</td><td>c.379670</td><td>c.379698</td><td>c.379716</td><td>c.379717</td><td>c.379733</td><td>c.379771</td><td>c.379790</td><td>c.379821</td><td>c.379865</td><td>c.379940</td><td>c.380050</td><td>c.380120</td><td>c.380161</td><td>c.380196</td><td>c.380217</td><td>c.380225</td><td>c.380253</td><td>c.380272</td><td>c.380286</td><td>c.380591</td><td>c.380632</td><td>c.380675</td><td>c.380762</td><td>c.381049</td><td>c.381104</td><td>c.381146</td><td>c.381227</td><td>c.381467</td><td>c.381486</td><td>c.381523</td><td>c.381695</td><td>c.381717</td><td>c.381764</td><td>c.381838</td><td>c.381845</td><td>c.381874</td><td>c.381876</td><td>c.381932</td><td>c.408111</td><td>c.408112</td><td>c.408149</td><td>c.408266</td><td>c.408290</td><td>c.408294</td><td>c.408330</td><td>c.408336</td><td>c.408375</td><td>c.408393</td><td>c.408422</td><td>c.408424</td><td>c.408426</td><td>c.408443</td></tr><tr><th>2</th><td>1</td><td>0</td><td>1</td><td>1</td><td>1</td><td>1</td><td>0</td><td>1</td><td>1</td><td>1</td><td>1</td><td>1</td><td>1</td><td>0</td><td>0</td><td>0</td><td>1</td><td>0</td><td>1</td><td>1</td><td>0</td><td>0</td><td>1</td><td>1</td><td>1</td><td>1</td><td>1</td><td>1</td><td>1</td><td>0</td><td>1</td><td>1</td><td>0</td><td>1</td><td>1</td><td>0</td><td>1</td><td>1</td><td>1</td><td>1</td><td>1</td><td>1</td><td>1</td><td>1</td><td>0</td><td>1</td><td>1</td><td>0</td><td>1</td><td>1</td><td>0</td><td>0</td><td>1</td><td>1</td><td>1</td><td>1</td><td>1</td><td>1</td><td>1</td><td>0</td><td>1</td><td>1</td><td>0</td><td>1</td><td>0</td><td>0</td><td>0</td><td>1</td><td>1</td><td>0</td><td>0</td><td>1</td><td>1</td><td>0</td><td>1</td><td>0</td><td>0</td><td>1</td><td>1</td><td>0</td><td>1</td><td>1</td><td>1</td><td>0</td><td>1</td><td>1</td><td>0</td><td>1</td><td>0</td><td>1</td><td>1</td><td>0</td><td>1</td><td>1</td><td>0</td><td>1</td><td>1</td><td>0</td><td>1</td><td>1</td><td>1</td><td>0</td><td>1</td><td>0</td><td>1</td><td>0</td><td>1</td><td>0</td><td>1</td><td>0</td><td>0</td><td>1</td><td>1</td><td>1</td><td>1</td><td>1</td><td>1</td><td>1</td><td>1</td><td>1</td><td>1</td><td>0</td><td>1</td><td>1</td><td>1</td><td>1</td><td>1</td><td>0</td><td>1</td><td>1</td><td>1</td><td>0</td><td>0</td><td>1</td><td>1</td><td>0</td><td>1</td><td>0</td><td>0</td><td>0</td><td>1</td><td>0</td><td>0</td><td>0</td><td>1</td><td>1</td><td>0</td><td>0</td><td>1</td><td>0</td><td>1</td><td>1</td><td>0</td><td>1</td><td>1</td><td>1</td><td>0</td><td>0</td><td>1</td><td>1</td><td>1</td><td>1</td><td>1</td><td>1</td><td>0</td><td>0</td><td>0</td><td>1</td><td>0</td><td>0</td><td>1</td><td>1</td><td>0</td><td>0</td><td>1</td><td>0</td><td>1</td><td>1</td><td>0</td><td>1</td><td>1</td><td>0</td><td>1</td><td>1</td><td>1</td><td>1</td><td>1</td><td>1</td><td>1</td><td>1</td><td>0</td><td>1</td><td>1</td><td>1</td><td>1</td><td>1</td><td>1</td><td>1</td><td>1</td><td>1</td><td>0</td><td>1</td><td>1</td><td>1</td><td>1</td><td>0</td><td>1</td><td>1</td><td>1</td><td>1</td><td>0</td><td>1</td><td>1</td><td>1</td><td>1</td><td>1</td><td>0</td><td>1</td><td>0</td><td>1</td><td>1</td><td>0</td><td>1</td><td>1</td><td>1</td><td>1</td><td>0</td><td>1</td><td>1</td><td>1</td><td>1</td><td>1</td><td>1</td><td>1</td><td>0</td><td>1</td><td>1</td><td>1</td><td>0</td><td>1</td><td>1</td><td>0</td><td>1</td><td>1</td><td>1</td><td>1</td><td>1</td><td>1</td><td>1</td><td>1</td><td>1</td><td>1</td><td>1</td><td>1</td><td>1</td><td>1</td><td>0</td><td>0</td><td>1</td><td>1</td><td>0</td><td>1</td><td>0</td><td>1</td><td>0</td><td>0</td><td>1</td><td>0</td><td>0</td><td>1</td><td>0</td><td>0</td><td>0</td><td>1</td><td>1</td><td>1</td><td>1</td><td>0</td><td>0</td><td>0</td><td>0</td><td>0</td><td>1</td><td>0</td><td>1</td><td>1</td><td>1</td><td>1</td><td>1</td><td>1</td><td>0</td><td>1</td><td>1</td><td>1</td><td>0</td><td>1</td><td>0</td><td>1</td><td>0</td><td>1</td><td>1</td><td>0</td><td>0</td><td>1</td><td>1</td><td>1</td><td>1</td><td>0</td><td>0</td><td>1</td><td>0</td><td>0</td><td>1</td><td>0</td><td>1</td><td>1</td><td>0</td><td>1</td><td>1</td><td>1</td><td>1</td><td>1</td><td>1</td><td>0</td><td>0</td><td>0</td><td>0</td><td>1</td><td>1</td><td>1</td><td>0</td><td>0</td><td>1</td><td>1</td><td>1</td><td>1</td><td>0</td><td>1</td><td>1</td><td>0</td><td>1</td><td>1</td><td>1</td><td>1</td><td>1</td><td>1</td><td>1</td><td>1</td><td>0</td><td>0</td><td>0</td><td>0</td><td>0</td><td>0</td><td>1</td><td>1</td><td>0</td><td>1</td><td>0</td><td>1</td><td>1</td><td>0</td><td>0</td><td>1</td><td>1</td><td>1</td><td>1</td><td>1</td><td>0</td><td>1</td><td>1</td><td>1</td><td>1</td><td>1</td><td>1</td><td>0</td><td>1</td><td>0</td><td>0</td><td>1</td><td>1</td><td>1</td><td>0</td><td>1</td><td>1</td><td>1</td><td>1</td><td>0</td><td>1</td><td>1</td><td>0</td><td>1</td><td>0</td><td>1</td><td>0</td><td>1</td><td>1</td><td>0</td><td>1</td><td>1</td><td>1</td><td>0</td><td>0</td><td>1</td><td>1</td><td>1</td><td>0</td><td>1</td><td>0</td><td>0</td><td>1</td><td>1</td><td>0</td><td>1</td><td>1</td><td>0</td><td>0</td><td>0</td><td>0</td><td>1</td><td>1</td><td>0</td><td>0</td><td>1</td><td>0</td><td>0</td><td>0</td><td>0</td><td>0</td><td>0</td><td>1</td><td>1</td><td>1</td><td>1</td><td>0</td><td>1</td><td>1</td><td>0</td><td>1</td><td>0</td><td>1</td><td>0</td><td>1</td><td>0</td><td>0</td><td>0</td><td>0</td><td>1</td><td>1</td><td>0</td><td>1</td><td>1</td><td>0</td><td>1</td><td>1</td><td>1</td><td>1</td><td>1</td><td>1</td><td>0</td><td>0</td><td>0</td><td>1</td><td>0</td><td>1</td><td>0</td><td>1</td><td>0</td><td>1</td><td>0</td><td>0</td><td>1</td><td>0</td><td>1</td><td>1</td><td>1</td><td>1</td><td>1</td><td>0</td><td>1</td><td>0</td><td>1</td><td>0</td><td>0</td><td>1</td><td>1</td><td>1</td><td>1</td><td>1</td><td>1</td><td>0</td><td>1</td><td>1</td><td>1</td><td>1</td><td>1</td><td>0</td><td>0</td><td>0</td><td>1</td><td>1</td><td>1</td><td>1</td><td>0</td><td>1</td><td>1</td><td>1</td><td>1</td><td>0</td><td>1</td><td>1</td><td>1</td><td>0</td><td>0</td><td>1</td><td>1</td><td>1</td><td>1</td><td>0</td><td>0</td><td>0</td><td>1</td><td>1</td><td>1</td><td>1</td><td>1</td><td>1</td><td>1</td><td>1</td><td>0</td><td>1</td><td>0</td><td>1</td><td>1</td><td>1</td><td>0</td><td>1</td><td>0</td><td>1</td><td>1</td><td>1</td><td>1</td><td>1</td><td>1</td><td>1</td><td>1</td><td>1</td><td>0</td><td>1</td><td>0</td><td>1</td><td>1</td><td>1</td><td>1</td><td>0</td><td>1</td><td>1</td><td>0</td><td>1</td><td>0</td><td>0</td><td>1</td><td>1</td><td>0</td><td>1</td><td>1</td><td>0</td><td>0</td><td>1</td><td>0</td><td>0</td><td>0</td><td>1</td><td>0</td><td>0</td><td>1</td><td>1</td><td>1</td><td>0</td><td>1</td><td>1</td><td>0</td><td>1</td><td>1</td><td>1</td><td>1</td><td>0</td><td>1</td><td>1</td><td>1</td><td>0</td><td>0</td><td>0</td><td>0</td><td>0</td><td>1</td><td>1</td><td>1</td><td>0</td><td>1</td><td>1</td><td>1</td><td>1</td><td>1</td><td>1</td><td>0</td><td>0</td><td>1</td><td>1</td><td>0</td><td>1</td><td>1</td><td>1</td><td>1</td><td>1</td><td>1</td><td>1</td><td>1</td><td>1</td><td>1</td><td>1</td><td>0</td><td>1</td><td>1</td><td>0</td><td>1</td><td>1</td><td>1</td><td>1</td><td>1</td><td>0</td><td>1</td><td>1</td><td>0</td><td>0</td><td>1</td><td>0</td><td>1</td><td>1</td><td>1</td><td>1</td><td>1</td><td>1</td><td>1</td><td>1</td><td>1</td><td>1</td><td>1</td><td>1</td><td>1</td><td>1</td><td>1</td><td>1</td><td>1</td><td>1</td><td>1</td><td>0</td><td>0</td><td>1</td><td>0</td><td>1</td><td>0</td><td>0</td><td>1</td><td>0</td><td>0</td><td>1</td><td>1</td><td>1</td><td>0</td><td>1</td><td>1</td><td>0</td><td>1</td><td>1</td><td>0</td><td>1</td><td>1</td><td>1</td><td>1</td><td>1</td><td>1</td><td>1</td><td>0</td><td>1</td><td>1</td><td>1</td><td>1</td><td>1</td><td>0</td><td>0</td><td>0</td><td>1</td><td>1</td><td>1</td><td>1</td><td>0</td><td>0</td><td>1</td><td>1</td><td>1</td><td>1</td><td>1</td><td>1</td><td>0</td><td>1</td><td>1</td><td>1</td><td>1</td><td>1</td><td>1</td><td>1</td><td>0</td><td>0</td><td>1</td><td>1</td><td>1</td><td>1</td><td>0</td><td>1</td><td>0</td><td>1</td><td>0</td><td>1</td><td>1</td><td>1</td><td>0</td><td>1</td><td>1</td><td>1</td><td>0</td><td>0</td><td>0</td><td>0</td><td>0</td><td>0</td><td>1</td><td>1</td><td>1</td><td>1</td><td>1</td><td>1</td><td>1</td><td>0</td><td>0</td><td>0</td><td>1</td><td>1</td><td>1</td><td>0</td><td>1</td><td>1</td><td>1</td><td>1</td><td>1</td><td>1</td><td>1</td><td>1</td><td>0</td><td>1</td><td>1</td><td>1</td><td>1</td><td>1</td><td>1</td><td>1</td><td>0</td><td>0</td><td>1</td><td>0</td><td>0</td><td>0</td><td>1</td><td>1</td><td>1</td><td>0</td><td>0</td><td>1</td><td>0</td><td>1</td><td>1</td><td>0</td><td>1</td><td>0</td><td>1</td><td>1</td><td>1</td><td>1</td><td>0</td><td>0</td><td>1</td><td>1</td><td>1</td><td>1</td><td>0</td><td>1</td><td>0</td><td>1</td><td>0</td><td>0</td><td>0</td><td>1</td><td>0</td><td>0</td><td>1</td><td>1</td><td>1</td><td>1</td><td>1</td><td>0</td><td>1</td><td>0</td><td>0</td><td>0</td><td>1</td><td>1</td><td>1</td><td>0</td><td>1</td><td>1</td><td>0</td><td>0</td><td>1</td><td>1</td><td>1</td><td>0</td><td>0</td><td>0</td><td>0</td><td>1</td><td>0</td><td>1</td><td>1</td><td>1</td><td>0</td><td>1</td><td>1</td><td>1</td><td>0</td><td>1</td><td>0</td><td>0</td><td>1</td><td>1</td><td>0</td><td>1</td><td>1</td><td>1</td><td>0</td><td>1</td><td>0</td><td>1</td><td>1</td><td>0</td><td>1</td><td>1</td><td>0</td><td>1</td><td>1</td><td>0</td><td>1</td><td>1</td><td>1</td><td>0</td><td>1</td><td>0</td><td>1</td><td>1</td><td>0</td><td>1</td><td>0</td><td>0</td><td>0</td><td>0</td><td>0</td><td>0</td><td>1</td><td>0</td><td>0</td><td>1</td><td>1</td><td>1</td><td>1</td><td>0</td><td>1</td><td>1</td><td>1</td><td>1</td><td>1</td><td>1</td><td>0</td><td>1</td><td>1</td><td>1</td><td>0</td><td>1</td><td>1</td><td>0</td><td>0</td><td>1</td><td>1</td><td>1</td><td>1</td><td>1</td><td>0</td><td>0</td><td>1</td><td>0</td><td>1</td><td>1</td><td>1</td><td>0</td><td>1</td><td>0</td><td>0</td><td>1</td><td>1</td><td>0</td><td>1</td><td>1</td><td>1</td><td>0</td><td>1</td><td>0</td><td>1</td><td>0</td><td>1</td><td>1</td><td>0</td><td>1</td><td>1</td><td>0</td><td>0</td><td>0</td><td>1</td><td>1</td><td>1</td><td>0</td><td>1</td><td>1</td><td>0</td><td>1</td><td>0</td><td>1</td><td>0</td><td>1</td><td>1</td><td>1</td><td>1</td><td>1</td><td>1</td><td>0</td><td>0</td><td>0</td><td>1</td><td>0</td><td>1</td><td>1</td><td>0</td><td>1</td><td>0</td><td>0</td><td>1</td><td>0</td><td>0</td><td>0</td><td>0</td><td>0</td><td>1</td><td>0</td><td>1</td><td>0</td><td>0</td><td>0</td><td>0</td><td>0</td><td>0</td><td>0</td><td>0</td><td>0</td><td>1</td><td>1</td><td>0</td><td>0</td><td>0</td><td>1</td><td>1</td><td>0</td><td>0</td><td>0</td><td>0</td><td>1</td><td>0</td><td>1</td><td>1</td><td>1</td><td>0</td><td>0</td><td>0</td><td>1</td><td>0</td><td>1</td><td>0</td><td>0</td><td>1</td><td>1</td><td>1</td><td>0</td><td>0</td><td>1</td><td>0</td><td>1</td><td>0</td><td>1</td><td>1</td><td>0</td><td>0</td><td>1</td><td>0</td><td>0</td><td>0</td><td>1</td><td>0</td><td>1</td><td>1</td><td>0</td><td>1</td><td>0</td><td>0</td><td>1</td><td>1</td><td>1</td><td>0</td><td>0</td><td>1</td><td>1</td><td>0</td><td>0</td><td>1</td><td>0</td><td>1</td><td>1</td><td>1</td><td>0</td><td>0</td><td>1</td><td>0</td><td>0</td><td>1</td><td>0</td><td>1</td><td>0</td><td>0</td><td>1</td><td>0</td><td>0</td><td>1</td><td>0</td><td>0</td><td>0</td><td>1</td><td>1</td><td>1</td><td>1</td><td>1</td><td>0</td><td>1</td><td>1</td><td>1</td><td>1</td><td>1</td><td>1</td><td>1</td><td>1</td><td>1</td><td>0</td><td>1</td><td>0</td><td>1</td><td>1</td><td>1</td><td>1</td><td>1</td><td>0</td><td>1</td><td>1</td><td>0</td><td>1</td><td>1</td><td>0</td><td>1</td><td>1</td><td>0</td><td>1</td><td>0</td><td>1</td><td>1</td><td>1</td><td>1</td><td>1</td><td>1</td><td>1</td><td>1</td><td>0</td><td>1</td><td>0</td><td>1</td><td>1</td><td>1</td><td>1</td><td>1</td><td>1</td><td>1</td><td>1</td><td>1</td><td>1</td><td>0</td><td>1</td><td>1</td><td>0</td><td>1</td><td>1</td><td>1</td><td>0</td><td>1</td><td>1</td><td>0</td><td>0</td><td>1</td><td>0</td><td>0</td><td>1</td><td>0</td><td>0</td><td>0</td><td>0</td><td>0</td><td>0</td><td>0</td><td>0</td><td>0</td><td>0</td><td>0</td><td>1</td><td>0</td><td>1</td><td>1</td><td>0</td><td>0</td><td>1</td><td>0</td><td>1</td><td>1</td><td>1</td><td>1</td><td>0</td><td>1</td><td>0</td><td>0</td><td>0</td><td>0</td><td>1</td><td>1</td><td>0</td><td>0</td><td>0</td><td>1</td><td>0</td><td>1</td><td>0</td><td>1</td><td>1</td><td>1</td><td>1</td><td>1</td><td>1</td><td>1</td><td>1</td><td>0</td><td>1</td><td>1</td><td>1</td><td>0</td><td>1</td><td>0</td><td>1</td><td>1</td><td>0</td><td>1</td><td>0</td><td>0</td><td>1</td><td>1</td><td>1</td><td>1</td><td>1</td><td>0</td><td>1</td><td>0</td><td>0</td><td>1</td><td>1</td><td>1</td><td>0</td><td>1</td><td>0</td><td>1</td><td>1</td><td>0</td><td>0</td><td>0</td><td>1</td><td>1</td><td>0</td><td>0</td><td>0</td><td>1</td><td>1</td><td>0</td><td>1</td><td>1</td><td>1</td><td>1</td><td>1</td><td>1</td><td>1</td><td>1</td><td>1</td><td>0</td><td>0</td><td>0</td><td>1</td><td>0</td><td>1</td><td>0</td><td>1</td><td>0</td><td>1</td><td>1</td><td>1</td><td>1</td><td>0</td><td>1</td><td>1</td><td>0</td><td>0</td><td>0</td><td>0</td><td>1</td><td>1</td><td>0</td><td>0</td><td>1</td><td>1</td><td>0</td><td>1</td><td>1</td><td>0</td><td>1</td><td>0</td><td>1</td><td>1</td><td>0</td><td>1</td><td>1</td><td>0</td><td>1</td><td>1</td><td>0</td><td>1</td><td>1</td><td>0</td><td>1</td><td>1</td><td>1</td><td>0</td><td>0</td><td>0</td><td>0</td><td>1</td></tr><tr><th>3</th><td>2</td><td>1</td><td>1</td><td>1</td><td>1</td><td>1</td><td>0</td><td>1</td><td>1</td><td>0</td><td>1</td><td>1</td><td>0</td><td>1</td><td>0</td><td>0</td><td>1</td><td>0</td><td>1</td><td>0</td><td>0</td><td>0</td><td>0</td><td>1</td><td>1</td><td>1</td><td>1</td><td>0</td><td>0</td><td>0</td><td>1</td><td>0</td><td>0</td><td>0</td><td>0</td><td>1</td><td>1</td><td>0</td><td>0</td><td>0</td><td>1</td><td>0</td><td>0</td><td>1</td><td>1</td><td>1</td><td>1</td><td>1</td><td>1</td><td>0</td><td>0</td><td>0</td><td>1</td><td>1</td><td>1</td><td>1</td><td>1</td><td>0</td><td>0</td><td>1</td><td>0</td><td>0</td><td>0</td><td>1</td><td>0</td><td>1</td><td>1</td><td>0</td><td>1</td><td>0</td><td>1</td><td>0</td><td>1</td><td>0</td><td>1</td><td>1</td><td>0</td><td>1</td><td>1</td><td>1</td><td>1</td><td>1</td><td>1</td><td>0</td><td>0</td><td>1</td><td>1</td><td>0</td><td>0</td><td>1</td><td>1</td><td>1</td><td>1</td><td>0</td><td>0</td><td>1</td><td>0</td><td>0</td><td>1</td><td>0</td><td>1</td><td>0</td><td>1</td><td>1</td><td>1</td><td>1</td><td>1</td><td>0</td><td>1</td><td>0</td><td>0</td><td>1</td><td>0</td><td>1</td><td>0</td><td>0</td><td>1</td><td>0</td><td>1</td><td>1</td><td>0</td><td>0</td><td>1</td><td>1</td><td>1</td><td>0</td><td>1</td><td>0</td><td>0</td><td>0</td><td>0</td><td>1</td><td>0</td><td>1</td><td>0</td><td>0</td><td>1</td><td>1</td><td>1</td><td>0</td><td>1</td><td>1</td><td>0</td><td>0</td><td>0</td><td>1</td><td>0</td><td>1</td><td>1</td><td>0</td><td>1</td><td>1</td><td>0</td><td>0</td><td>1</td><td>1</td><td>0</td><td>0</td><td>1</td><td>1</td><td>1</td><td>1</td><td>0</td><td>0</td><td>0</td><td>1</td><td>0</td><td>0</td><td>0</td><td>1</td><td>1</td><td>1</td><td>0</td><td>1</td><td>0</td><td>0</td><td>0</td><td>0</td><td>1</td><td>1</td><td>1</td><td>1</td><td>0</td><td>1</td><td>1</td><td>1</td><td>1</td><td>1</td><td>1</td><td>1</td><td>0</td><td>0</td><td>0</td><td>1</td><td>1</td><td>0</td><td>1</td><td>0</td><td>1</td><td>0</td><td>1</td><td>0</td><td>0</td><td>0</td><td>0</td><td>0</td><td>1</td><td>0</td><td>1</td><td>1</td><td>0</td><td>1</td><td>1</td><td>0</td><td>1</td><td>0</td><td>1</td><td>1</td><td>1</td><td>0</td><td>0</td><td>0</td><td>1</td><td>1</td><td>1</td><td>0</td><td>0</td><td>1</td><td>1</td><td>1</td><td>0</td><td>0</td><td>1</td><td>1</td><td>0</td><td>1</td><td>0</td><td>1</td><td>0</td><td>0</td><td>1</td><td>1</td><td>0</td><td>1</td><td>0</td><td>0</td><td>0</td><td>0</td><td>0</td><td>0</td><td>0</td><td>1</td><td>1</td><td>0</td><td>1</td><td>0</td><td>1</td><td>0</td><td>0</td><td>1</td><td>0</td><td>1</td><td>0</td><td>0</td><td>0</td><td>1</td><td>0</td><td>0</td><td>0</td><td>1</td><td>0</td><td>0</td><td>0</td><td>0</td><td>1</td><td>1</td><td>1</td><td>0</td><td>0</td><td>0</td><td>1</td><td>0</td><td>0</td><td>0</td><td>0</td><td>0</td><td>0</td><td>1</td><td>1</td><td>1</td><td>1</td><td>0</td><td>1</td><td>0</td><td>1</td><td>1</td><td>0</td><td>1</td><td>0</td><td>0</td><td>1</td><td>0</td><td>0</td><td>1</td><td>1</td><td>0</td><td>0</td><td>0</td><td>1</td><td>0</td><td>0</td><td>0</td><td>0</td><td>0</td><td>1</td><td>1</td><td>0</td><td>1</td><td>0</td><td>1</td><td>0</td><td>1</td><td>1</td><td>0</td><td>0</td><td>1</td><td>0</td><td>0</td><td>0</td><td>1</td><td>0</td><td>0</td><td>1</td><td>1</td><td>1</td><td>0</td><td>0</td><td>0</td><td>1</td><td>0</td><td>1</td><td>0</td><td>1</td><td>0</td><td>0</td><td>0</td><td>1</td><td>1</td><td>0</td><td>0</td><td>0</td><td>0</td><td>1</td><td>1</td><td>1</td><td>1</td><td>0</td><td>0</td><td>0</td><td>0</td><td>0</td><td>1</td><td>0</td><td>1</td><td>1</td><td>1</td><td>0</td><td>0</td><td>0</td><td>0</td><td>1</td><td>1</td><td>1</td><td>1</td><td>1</td><td>0</td><td>1</td><td>0</td><td>0</td><td>1</td><td>0</td><td>0</td><td>1</td><td>1</td><td>0</td><td>0</td><td>1</td><td>0</td><td>1</td><td>1</td><td>0</td><td>1</td><td>0</td><td>0</td><td>1</td><td>0</td><td>0</td><td>0</td><td>0</td><td>0</td><td>1</td><td>0</td><td>0</td><td>1</td><td>0</td><td>0</td><td>1</td><td>1</td><td>0</td><td>1</td><td>0</td><td>1</td><td>1</td><td>1</td><td>1</td><td>1</td><td>1</td><td>0</td><td>0</td><td>1</td><td>0</td><td>1</td><td>0</td><td>1</td><td>1</td><td>0</td><td>1</td><td>0</td><td>1</td><td>1</td><td>1</td><td>0</td><td>1</td><td>1</td><td>1</td><td>1</td><td>1</td><td>1</td><td>1</td><td>1</td><td>0</td><td>1</td><td>1</td><td>0</td><td>0</td><td>0</td><td>0</td><td>0</td><td>0</td><td>0</td><td>1</td><td>1</td><td>1</td><td>0</td><td>1</td><td>1</td><td>1</td><td>0</td><td>0</td><td>0</td><td>1</td><td>0</td><td>0</td><td>0</td><td>0</td><td>1</td><td>1</td><td>1</td><td>0</td><td>1</td><td>0</td><td>1</td><td>0</td><td>1</td><td>1</td><td>1</td><td>1</td><td>0</td><td>1</td><td>1</td><td>0</td><td>1</td><td>0</td><td>0</td><td>1</td><td>0</td><td>0</td><td>1</td><td>1</td><td>1</td><td>0</td><td>1</td><td>1</td><td>1</td><td>1</td><td>1</td><td>0</td><td>0</td><td>1</td><td>1</td><td>1</td><td>1</td><td>1</td><td>0</td><td>1</td><td>0</td><td>0</td><td>1</td><td>1</td><td>1</td><td>0</td><td>1</td><td>1</td><td>1</td><td>0</td><td>0</td><td>1</td><td>1</td><td>0</td><td>1</td><td>1</td><td>0</td><td>0</td><td>0</td><td>1</td><td>0</td><td>0</td><td>1</td><td>1</td><td>0</td><td>1</td><td>1</td><td>1</td><td>0</td><td>0</td><td>0</td><td>1</td><td>0</td><td>1</td><td>1</td><td>1</td><td>0</td><td>0</td><td>1</td><td>1</td><td>1</td><td>1</td><td>0</td><td>1</td><td>1</td><td>1</td><td>0</td><td>1</td><td>0</td><td>1</td><td>0</td><td>0</td><td>0</td><td>0</td><td>0</td><td>0</td><td>1</td><td>0</td><td>1</td><td>1</td><td>1</td><td>0</td><td>1</td><td>1</td><td>0</td><td>1</td><td>1</td><td>0</td><td>1</td><td>1</td><td>0</td><td>1</td><td>1</td><td>1</td><td>1</td><td>1</td><td>1</td><td>1</td><td>1</td><td>1</td><td>1</td><td>1</td><td>1</td><td>1</td><td>1</td><td>0</td><td>1</td><td>0</td><td>0</td><td>1</td><td>0</td><td>1</td><td>1</td><td>1</td><td>0</td><td>1</td><td>0</td><td>1</td><td>1</td><td>1</td><td>0</td><td>0</td><td>1</td><td>0</td><td>1</td><td>1</td><td>1</td><td>1</td><td>1</td><td>1</td><td>1</td><td>1</td><td>1</td><td>1</td><td>1</td><td>0</td><td>1</td><td>1</td><td>1</td><td>1</td><td>1</td><td>0</td><td>0</td><td>0</td><td>0</td><td>1</td><td>1</td><td>0</td><td>1</td><td>0</td><td>1</td><td>0</td><td>1</td><td>1</td><td>1</td><td>1</td><td>1</td><td>1</td><td>1</td><td>0</td><td>1</td><td>1</td><td>1</td><td>1</td><td>1</td><td>1</td><td>1</td><td>0</td><td>1</td><td>1</td><td>0</td><td>0</td><td>0</td><td>0</td><td>0</td><td>1</td><td>1</td><td>0</td><td>0</td><td>1</td><td>0</td><td>1</td><td>1</td><td>0</td><td>0</td><td>1</td><td>1</td><td>0</td><td>0</td><td>0</td><td>1</td><td>0</td><td>1</td><td>0</td><td>1</td><td>1</td><td>1</td><td>0</td><td>1</td><td>0</td><td>0</td><td>1</td><td>1</td><td>0</td><td>0</td><td>1</td><td>0</td><td>1</td><td>1</td><td>1</td><td>1</td><td>1</td><td>0</td><td>0</td><td>1</td><td>1</td><td>0</td><td>1</td><td>1</td><td>0</td><td>1</td><td>1</td><td>1</td><td>1</td><td>1</td><td>1</td><td>0</td><td>1</td><td>0</td><td>1</td><td>1</td><td>1</td><td>1</td><td>1</td><td>1</td><td>0</td><td>1</td><td>0</td><td>1</td><td>1</td><td>1</td><td>0</td><td>1</td><td>1</td><td>1</td><td>0</td><td>1</td><td>1</td><td>1</td><td>1</td><td>1</td><td>1</td><td>0</td><td>0</td><td>0</td><td>0</td><td>1</td><td>1</td><td>0</td><td>1</td><td>0</td><td>1</td><td>1</td><td>0</td><td>0</td><td>1</td><td>1</td><td>1</td><td>1</td><td>0</td><td>0</td><td>1</td><td>0</td><td>0</td><td>0</td><td>0</td><td>1</td><td>1</td><td>0</td><td>1</td><td>1</td><td>0</td><td>0</td><td>1</td><td>1</td><td>0</td><td>0</td><td>1</td><td>1</td><td>1</td><td>1</td><td>0</td><td>1</td><td>0</td><td>1</td><td>0</td><td>0</td><td>1</td><td>1</td><td>1</td><td>0</td><td>0</td><td>1</td><td>1</td><td>1</td><td>0</td><td>1</td><td>1</td><td>1</td><td>1</td><td>1</td><td>1</td><td>1</td><td>0</td><td>0</td><td>0</td><td>1</td><td>1</td><td>0</td><td>0</td><td>1</td><td>1</td><td>0</td><td>1</td><td>1</td><td>0</td><td>0</td><td>0</td><td>0</td><td>1</td><td>0</td><td>1</td><td>0</td><td>0</td><td>1</td><td>0</td><td>0</td><td>1</td><td>1</td><td>0</td><td>0</td><td>0</td><td>0</td><td>0</td><td>1</td><td>1</td><td>0</td><td>0</td><td>1</td><td>0</td><td>0</td><td>1</td><td>0</td><td>0</td><td>0</td><td>0</td><td>1</td><td>1</td><td>0</td><td>1</td><td>1</td><td>1</td><td>1</td><td>0</td><td>1</td><td>1</td><td>1</td><td>1</td><td>1</td><td>0</td><td>1</td><td>0</td><td>1</td><td>1</td><td>1</td><td>0</td><td>0</td><td>1</td><td>0</td><td>1</td><td>0</td><td>1</td><td>1</td><td>0</td><td>1</td><td>1</td><td>0</td><td>0</td><td>0</td><td>0</td><td>0</td><td>1</td><td>1</td><td>1</td><td>1</td><td>1</td><td>0</td><td>1</td><td>0</td><td>1</td><td>0</td><td>0</td><td>1</td><td>1</td><td>0</td><td>0</td><td>1</td><td>0</td><td>0</td><td>1</td><td>0</td><td>1</td><td>0</td><td>1</td><td>1</td><td>1</td><td>1</td><td>1</td><td>1</td><td>1</td><td>0</td><td>0</td><td>0</td><td>0</td><td>1</td><td>1</td><td>0</td><td>1</td><td>1</td><td>1</td><td>1</td><td>1</td><td>1</td><td>1</td><td>1</td><td>0</td><td>0</td><td>0</td><td>1</td><td>1</td><td>0</td><td>1</td><td>1</td><td>0</td><td>0</td><td>1</td><td>0</td><td>0</td><td>1</td><td>1</td><td>0</td><td>1</td><td>1</td><td>0</td><td>1</td><td>0</td><td>1</td><td>0</td><td>1</td><td>0</td><td>1</td><td>1</td><td>1</td><td>1</td><td>1</td><td>0</td><td>0</td><td>0</td><td>0</td><td>1</td><td>0</td><td>0</td><td>1</td><td>1</td><td>1</td><td>0</td><td>0</td><td>1</td><td>0</td><td>0</td><td>0</td><td>0</td><td>0</td><td>1</td><td>0</td><td>0</td><td>0</td><td>0</td><td>1</td><td>0</td><td>1</td><td>0</td><td>0</td><td>0</td><td>0</td><td>0</td><td>1</td><td>0</td><td>0</td><td>0</td><td>0</td><td>1</td><td>0</td><td>0</td><td>1</td><td>0</td><td>1</td><td>0</td><td>0</td><td>0</td><td>1</td><td>0</td><td>0</td><td>0</td><td>1</td><td>0</td><td>1</td><td>1</td><td>0</td><td>1</td><td>1</td><td>1</td><td>0</td><td>1</td><td>1</td><td>0</td><td>0</td><td>0</td><td>0</td><td>0</td><td>0</td><td>1</td><td>0</td><td>0</td><td>0</td><td>0</td><td>1</td><td>0</td><td>1</td><td>1</td><td>0</td><td>1</td><td>0</td><td>0</td><td>1</td><td>1</td><td>0</td><td>0</td><td>0</td><td>1</td><td>0</td><td>0</td><td>0</td><td>1</td><td>0</td><td>1</td><td>1</td><td>1</td><td>0</td><td>0</td><td>0</td><td>1</td><td>0</td><td>1</td><td>1</td><td>1</td><td>0</td><td>0</td><td>1</td><td>0</td><td>0</td><td>1</td><td>1</td><td>0</td><td>0</td><td>1</td><td>1</td><td>1</td><td>0</td><td>1</td><td>1</td><td>0</td><td>1</td><td>1</td><td>1</td><td>1</td><td>0</td><td>1</td><td>1</td><td>1</td><td>1</td><td>1</td><td>1</td><td>1</td><td>1</td><td>1</td><td>1</td><td>1</td><td>1</td><td>1</td><td>1</td><td>1</td><td>1</td><td>1</td><td>0</td><td>1</td><td>1</td><td>1</td><td>1</td><td>1</td><td>1</td><td>1</td><td>1</td><td>1</td><td>1</td><td>1</td><td>1</td><td>1</td><td>0</td><td>0</td><td>0</td><td>1</td><td>1</td><td>1</td><td>0</td><td>1</td><td>0</td><td>1</td><td>0</td><td>0</td><td>0</td><td>0</td><td>1</td><td>1</td><td>0</td><td>0</td><td>1</td><td>1</td><td>1</td><td>1</td><td>1</td><td>1</td><td>0</td><td>0</td><td>1</td><td>1</td><td>1</td><td>0</td><td>0</td><td>0</td><td>0</td><td>0</td><td>0</td><td>1</td><td>0</td><td>0</td><td>1</td><td>1</td><td>1</td><td>1</td><td>0</td><td>0</td><td>1</td><td>0</td><td>0</td><td>0</td><td>1</td><td>1</td><td>1</td><td>1</td><td>0</td><td>1</td><td>0</td><td>0</td><td>1</td><td>0</td><td>0</td><td>1</td><td>0</td><td>0</td><td>0</td><td>0</td><td>0</td><td>1</td><td>0</td><td>0</td><td>0</td><td>0</td><td>1</td><td>1</td><td>1</td><td>1</td><td>1</td><td>1</td><td>0</td><td>1</td><td>0</td><td>0</td><td>0</td><td>0</td><td>1</td><td>1</td><td>1</td><td>1</td><td>0</td><td>0</td><td>1</td><td>1</td><td>1</td><td>1</td><td>0</td><td>1</td><td>0</td><td>0</td><td>1</td><td>0</td><td>0</td><td>0</td><td>1</td><td>0</td><td>0</td><td>1</td><td>1</td><td>0</td><td>0</td><td>1</td><td>1</td><td>1</td><td>0</td><td>0</td><td>0</td><td>1</td><td>0</td><td>1</td><td>0</td><td>1</td><td>0</td><td>0</td><td>1</td><td>0</td><td>0</td><td>0</td><td>0</td><td>0</td><td>1</td><td>0</td><td>1</td><td>0</td><td>1</td><td>1</td><td>1</td><td>0</td><td>1</td><td>1</td><td>0</td><td>1</td><td>0</td><td>1</td><td>0</td><td>0</td><td>0</td><td>0</td><td>0</td><td>1</td><td>0</td><td>0</td><td>1</td><td>1</td><td>0</td><td>0</td><td>1</td><td>0</td><td>1</td><td>0</td><td>0</td><td>1</td><td>0</td><td>1</td><td>1</td><td>1</td><td>0</td><td>0</td><td>1</td><td>0</td><td>1</td><td>1</td><td>1</td><td>0</td><td>0</td><td>0</td><td>0</td><td>1</td><td>1</td><td>1</td><td>1</td></tr><tr><th>4</th><td>3</td><td>1</td><td>1</td><td>1</td><td>1</td><td>1</td><td>0</td><td>1</td><td>1</td><td>0</td><td>1</td><td>0</td><td>0</td><td>1</td><td>0</td><td>0</td><td>1</td><td>0</td><td>1</td><td>0</td><td>0</td><td>0</td><td>0</td><td>1</td><td>1</td><td>1</td><td>1</td><td>0</td><td>0</td><td>0</td><td>1</td><td>0</td><td>0</td><td>0</td><td>0</td><td>1</td><td>1</td><td>0</td><td>0</td><td>0</td><td>1</td><td>0</td><td>0</td><td>1</td><td>1</td><td>1</td><td>1</td><td>1</td><td>1</td><td>0</td><td>0</td><td>0</td><td>1</td><td>1</td><td>1</td><td>1</td><td>1</td><td>0</td><td>0</td><td>1</td><td>0</td><td>0</td><td>0</td><td>1</td><td>0</td><td>1</td><td>1</td><td>0</td><td>1</td><td>0</td><td>1</td><td>0</td><td>1</td><td>0</td><td>1</td><td>1</td><td>0</td><td>1</td><td>1</td><td>1</td><td>1</td><td>1</td><td>1</td><td>0</td><td>0</td><td>1</td><td>1</td><td>0</td><td>0</td><td>1</td><td>1</td><td>1</td><td>1</td><td>0</td><td>0</td><td>1</td><td>0</td><td>0</td><td>1</td><td>0</td><td>1</td><td>0</td><td>1</td><td>1</td><td>1</td><td>1</td><td>1</td><td>0</td><td>1</td><td>0</td><td>1</td><td>1</td><td>0</td><td>1</td><td>0</td><td>0</td><td>1</td><td>0</td><td>1</td><td>1</td><td>0</td><td>0</td><td>1</td><td>1</td><td>1</td><td>0</td><td>1</td><td>0</td><td>0</td><td>0</td><td>0</td><td>1</td><td>0</td><td>1</td><td>0</td><td>0</td><td>1</td><td>1</td><td>1</td><td>0</td><td>1</td><td>1</td><td>0</td><td>0</td><td>0</td><td>1</td><td>0</td><td>1</td><td>1</td><td>0</td><td>1</td><td>1</td><td>0</td><td>0</td><td>1</td><td>1</td><td>0</td><td>0</td><td>1</td><td>1</td><td>1</td><td>1</td><td>0</td><td>0</td><td>0</td><td>1</td><td>0</td><td>0</td><td>0</td><td>1</td><td>1</td><td>1</td><td>0</td><td>1</td><td>0</td><td>1</td><td>0</td><td>0</td><td>1</td><td>1</td><td>1</td><td>1</td><td>0</td><td>1</td><td>1</td><td>1</td><td>1</td><td>1</td><td>1</td><td>1</td><td>0</td><td>0</td><td>0</td><td>1</td><td>1</td><td>0</td><td>1</td><td>0</td><td>1</td><td>0</td><td>1</td><td>0</td><td>0</td><td>0</td><td>0</td><td>0</td><td>1</td><td>0</td><td>1</td><td>1</td><td>1</td><td>1</td><td>1</td><td>0</td><td>1</td><td>0</td><td>1</td><td>1</td><td>1</td><td>0</td><td>0</td><td>0</td><td>1</td><td>1</td><td>1</td><td>0</td><td>0</td><td>1</td><td>1</td><td>1</td><td>0</td><td>0</td><td>1</td><td>1</td><td>0</td><td>1</td><td>0</td><td>1</td><td>0</td><td>0</td><td>1</td><td>1</td><td>0</td><td>1</td><td>0</td><td>0</td><td>0</td><td>0</td><td>0</td><td>0</td><td>0</td><td>1</td><td>1</td><td>0</td><td>1</td><td>0</td><td>1</td><td>0</td><td>0</td><td>1</td><td>0</td><td>1</td><td>0</td><td>0</td><td>0</td><td>1</td><td>0</td><td>0</td><td>0</td><td>1</td><td>0</td><td>0</td><td>0</td><td>0</td><td>1</td><td>1</td><td>1</td><td>0</td><td>0</td><td>0</td><td>1</td><td>0</td><td>0</td><td>0</td><td>0</td><td>0</td><td>0</td><td>1</td><td>1</td><td>1</td><td>1</td><td>0</td><td>1</td><td>0</td><td>1</td><td>1</td><td>0</td><td>1</td><td>0</td><td>0</td><td>1</td><td>0</td><td>0</td><td>1</td><td>1</td><td>0</td><td>0</td><td>0</td><td>1</td><td>0</td><td>0</td><td>0</td><td>0</td><td>0</td><td>1</td><td>1</td><td>0</td><td>1</td><td>0</td><td>1</td><td>0</td><td>1</td><td>1</td><td>0</td><td>0</td><td>1</td><td>0</td><td>0</td><td>0</td><td>1</td><td>0</td><td>0</td><td>1</td><td>1</td><td>1</td><td>0</td><td>0</td><td>0</td><td>1</td><td>0</td><td>1</td><td>0</td><td>1</td><td>0</td><td>0</td><td>0</td><td>1</td><td>1</td><td>0</td><td>0</td><td>0</td><td>0</td><td>1</td><td>1</td><td>1</td><td>1</td><td>0</td><td>0</td><td>0</td><td>0</td><td>0</td><td>1</td><td>0</td><td>1</td><td>1</td><td>1</td><td>0</td><td>0</td><td>0</td><td>0</td><td>1</td><td>1</td><td>1</td><td>1</td><td>1</td><td>0</td><td>1</td><td>0</td><td>0</td><td>1</td><td>0</td><td>0</td><td>1</td><td>1</td><td>0</td><td>0</td><td>1</td><td>0</td><td>1</td><td>1</td><td>0</td><td>1</td><td>0</td><td>0</td><td>1</td><td>0</td><td>0</td><td>0</td><td>0</td><td>0</td><td>1</td><td>0</td><td>0</td><td>1</td><td>0</td><td>0</td><td>1</td><td>1</td><td>0</td><td>1</td><td>0</td><td>1</td><td>1</td><td>1</td><td>1</td><td>1</td><td>1</td><td>0</td><td>0</td><td>1</td><td>0</td><td>1</td><td>0</td><td>1</td><td>1</td><td>0</td><td>1</td><td>0</td><td>1</td><td>1</td><td>1</td><td>0</td><td>1</td><td>1</td><td>1</td><td>1</td><td>1</td><td>1</td><td>1</td><td>1</td><td>0</td><td>1</td><td>1</td><td>0</td><td>0</td><td>0</td><td>0</td><td>0</td><td>0</td><td>0</td><td>1</td><td>1</td><td>1</td><td>0</td><td>1</td><td>1</td><td>1</td><td>0</td><td>0</td><td>0</td><td>1</td><td>0</td><td>0</td><td>0</td><td>0</td><td>1</td><td>1</td><td>1</td><td>0</td><td>1</td><td>0</td><td>1</td><td>0</td><td>1</td><td>1</td><td>1</td><td>1</td><td>0</td><td>1</td><td>1</td><td>0</td><td>1</td><td>0</td><td>0</td><td>1</td><td>0</td><td>0</td><td>1</td><td>1</td><td>1</td><td>0</td><td>1</td><td>1</td><td>1</td><td>1</td><td>1</td><td>0</td><td>0</td><td>1</td><td>1</td><td>1</td><td>1</td><td>1</td><td>0</td><td>1</td><td>0</td><td>0</td><td>1</td><td>1</td><td>1</td><td>0</td><td>1</td><td>1</td><td>1</td><td>0</td><td>0</td><td>1</td><td>1</td><td>0</td><td>1</td><td>1</td><td>0</td><td>0</td><td>0</td><td>1</td><td>1</td><td>0</td><td>1</td><td>1</td><td>0</td><td>1</td><td>1</td><td>1</td><td>0</td><td>0</td><td>0</td><td>1</td><td>0</td><td>1</td><td>1</td><td>1</td><td>0</td><td>0</td><td>1</td><td>1</td><td>1</td><td>1</td><td>0</td><td>1</td><td>1</td><td>1</td><td>0</td><td>1</td><td>0</td><td>1</td><td>0</td><td>0</td><td>0</td><td>0</td><td>0</td><td>0</td><td>1</td><td>0</td><td>1</td><td>1</td><td>1</td><td>0</td><td>1</td><td>1</td><td>0</td><td>1</td><td>1</td><td>0</td><td>1</td><td>1</td><td>0</td><td>1</td><td>1</td><td>1</td><td>1</td><td>1</td><td>1</td><td>1</td><td>1</td><td>1</td><td>1</td><td>1</td><td>1</td><td>1</td><td>1</td><td>0</td><td>1</td><td>0</td><td>0</td><td>1</td><td>0</td><td>1</td><td>1</td><td>1</td><td>0</td><td>1</td><td>0</td><td>1</td><td>1</td><td>1</td><td>0</td><td>0</td><td>1</td><td>0</td><td>1</td><td>1</td><td>1</td><td>1</td><td>1</td><td>1</td><td>1</td><td>1</td><td>1</td><td>1</td><td>1</td><td>0</td><td>1</td><td>1</td><td>1</td><td>1</td><td>1</td><td>0</td><td>0</td><td>0</td><td>0</td><td>1</td><td>1</td><td>0</td><td>1</td><td>0</td><td>1</td><td>0</td><td>1</td><td>1</td><td>1</td><td>1</td><td>1</td><td>1</td><td>1</td><td>0</td><td>1</td><td>1</td><td>1</td><td>1</td><td>1</td><td>1</td><td>1</td><td>0</td><td>1</td><td>1</td><td>0</td><td>0</td><td>0</td><td>0</td><td>0</td><td>1</td><td>1</td><td>0</td><td>0</td><td>1</td><td>0</td><td>1</td><td>1</td><td>0</td><td>0</td><td>1</td><td>1</td><td>0</td><td>0</td><td>0</td><td>1</td><td>0</td><td>1</td><td>0</td><td>1</td><td>1</td><td>1</td><td>0</td><td>1</td><td>0</td><td>0</td><td>1</td><td>1</td><td>0</td><td>0</td><td>1</td><td>0</td><td>1</td><td>1</td><td>1</td><td>1</td><td>1</td><td>0</td><td>0</td><td>1</td><td>1</td><td>0</td><td>1</td><td>1</td><td>0</td><td>1</td><td>1</td><td>1</td><td>1</td><td>1</td><td>1</td><td>0</td><td>1</td><td>0</td><td>1</td><td>1</td><td>1</td><td>1</td><td>1</td><td>1</td><td>0</td><td>1</td><td>0</td><td>1</td><td>1</td><td>1</td><td>0</td><td>1</td><td>1</td><td>1</td><td>0</td><td>1</td><td>1</td><td>1</td><td>1</td><td>1</td><td>1</td><td>0</td><td>0</td><td>0</td><td>0</td><td>1</td><td>1</td><td>0</td><td>1</td><td>0</td><td>1</td><td>1</td><td>0</td><td>0</td><td>1</td><td>1</td><td>1</td><td>1</td><td>0</td><td>0</td><td>1</td><td>0</td><td>0</td><td>0</td><td>0</td><td>1</td><td>1</td><td>0</td><td>1</td><td>1</td><td>0</td><td>0</td><td>1</td><td>1</td><td>0</td><td>0</td><td>1</td><td>1</td><td>1</td><td>1</td><td>0</td><td>1</td><td>0</td><td>1</td><td>0</td><td>0</td><td>1</td><td>1</td><td>1</td><td>0</td><td>0</td><td>1</td><td>1</td><td>1</td><td>0</td><td>1</td><td>1</td><td>1</td><td>1</td><td>1</td><td>1</td><td>1</td><td>0</td><td>0</td><td>0</td><td>1</td><td>1</td><td>0</td><td>0</td><td>1</td><td>1</td><td>0</td><td>1</td><td>1</td><td>0</td><td>0</td><td>0</td><td>0</td><td>1</td><td>0</td><td>1</td><td>0</td><td>0</td><td>1</td><td>0</td><td>0</td><td>1</td><td>1</td><td>0</td><td>0</td><td>0</td><td>0</td><td>0</td><td>1</td><td>1</td><td>0</td><td>0</td><td>1</td><td>0</td><td>0</td><td>1</td><td>0</td><td>0</td><td>0</td><td>0</td><td>1</td><td>1</td><td>0</td><td>1</td><td>1</td><td>1</td><td>1</td><td>0</td><td>1</td><td>1</td><td>1</td><td>1</td><td>1</td><td>0</td><td>1</td><td>0</td><td>1</td><td>1</td><td>1</td><td>0</td><td>0</td><td>1</td><td>0</td><td>1</td><td>0</td><td>1</td><td>1</td><td>0</td><td>1</td><td>1</td><td>0</td><td>0</td><td>0</td><td>0</td><td>0</td><td>1</td><td>1</td><td>1</td><td>1</td><td>1</td><td>0</td><td>1</td><td>0</td><td>1</td><td>0</td><td>0</td><td>1</td><td>1</td><td>0</td><td>0</td><td>1</td><td>0</td><td>0</td><td>1</td><td>0</td><td>1</td><td>0</td><td>1</td><td>1</td><td>1</td><td>1</td><td>1</td><td>1</td><td>1</td><td>0</td><td>0</td><td>0</td><td>0</td><td>1</td><td>1</td><td>0</td><td>1</td><td>1</td><td>1</td><td>1</td><td>1</td><td>1</td><td>1</td><td>1</td><td>0</td><td>0</td><td>0</td><td>1</td><td>1</td><td>0</td><td>1</td><td>1</td><td>0</td><td>0</td><td>1</td><td>0</td><td>0</td><td>1</td><td>1</td><td>0</td><td>1</td><td>1</td><td>0</td><td>1</td><td>0</td><td>1</td><td>0</td><td>1</td><td>0</td><td>1</td><td>1</td><td>1</td><td>1</td><td>1</td><td>0</td><td>0</td><td>0</td><td>0</td><td>1</td><td>0</td><td>0</td><td>1</td><td>1</td><td>1</td><td>0</td><td>0</td><td>1</td><td>0</td><td>0</td><td>0</td><td>0</td><td>0</td><td>1</td><td>0</td><td>0</td><td>0</td><td>0</td><td>1</td><td>0</td><td>1</td><td>0</td><td>0</td><td>0</td><td>0</td><td>0</td><td>1</td><td>0</td><td>0</td><td>0</td><td>0</td><td>1</td><td>0</td><td>0</td><td>1</td><td>0</td><td>1</td><td>0</td><td>0</td><td>0</td><td>1</td><td>0</td><td>0</td><td>0</td><td>1</td><td>0</td><td>1</td><td>1</td><td>0</td><td>1</td><td>1</td><td>1</td><td>0</td><td>1</td><td>1</td><td>0</td><td>0</td><td>0</td><td>0</td><td>0</td><td>0</td><td>1</td><td>0</td><td>1</td><td>0</td><td>0</td><td>1</td><td>0</td><td>1</td><td>1</td><td>0</td><td>1</td><td>0</td><td>0</td><td>1</td><td>1</td><td>0</td><td>0</td><td>0</td><td>1</td><td>0</td><td>0</td><td>0</td><td>1</td><td>0</td><td>1</td><td>1</td><td>1</td><td>0</td><td>0</td><td>0</td><td>1</td><td>0</td><td>1</td><td>1</td><td>1</td><td>0</td><td>0</td><td>1</td><td>0</td><td>0</td><td>1</td><td>1</td><td>0</td><td>0</td><td>1</td><td>1</td><td>1</td><td>0</td><td>1</td><td>1</td><td>0</td><td>1</td><td>1</td><td>1</td><td>1</td><td>0</td><td>1</td><td>1</td><td>1</td><td>1</td><td>1</td><td>1</td><td>1</td><td>1</td><td>1</td><td>1</td><td>1</td><td>1</td><td>1</td><td>1</td><td>1</td><td>1</td><td>1</td><td>0</td><td>1</td><td>1</td><td>1</td><td>1</td><td>0</td><td>1</td><td>1</td><td>1</td><td>1</td><td>1</td><td>1</td><td>1</td><td>1</td><td>0</td><td>0</td><td>0</td><td>1</td><td>1</td><td>1</td><td>0</td><td>1</td><td>0</td><td>1</td><td>0</td><td>0</td><td>0</td><td>0</td><td>1</td><td>1</td><td>0</td><td>0</td><td>1</td><td>1</td><td>1</td><td>1</td><td>1</td><td>1</td><td>0</td><td>0</td><td>1</td><td>1</td><td>1</td><td>0</td><td>0</td><td>0</td><td>0</td><td>0</td><td>0</td><td>1</td><td>0</td><td>0</td><td>1</td><td>1</td><td>1</td><td>1</td><td>0</td><td>0</td><td>1</td><td>0</td><td>0</td><td>0</td><td>1</td><td>1</td><td>1</td><td>1</td><td>0</td><td>1</td><td>0</td><td>0</td><td>1</td><td>0</td><td>0</td><td>1</td><td>1</td><td>0</td><td>0</td><td>0</td><td>0</td><td>1</td><td>0</td><td>0</td><td>0</td><td>0</td><td>1</td><td>1</td><td>1</td><td>1</td><td>1</td><td>1</td><td>0</td><td>1</td><td>0</td><td>0</td><td>0</td><td>0</td><td>1</td><td>1</td><td>1</td><td>1</td><td>0</td><td>0</td><td>1</td><td>1</td><td>1</td><td>1</td><td>0</td><td>1</td><td>0</td><td>0</td><td>1</td><td>0</td><td>0</td><td>0</td><td>1</td><td>0</td><td>0</td><td>1</td><td>1</td><td>0</td><td>0</td><td>1</td><td>1</td><td>1</td><td>0</td><td>0</td><td>0</td><td>1</td><td>0</td><td>1</td><td>0</td><td>1</td><td>0</td><td>0</td><td>1</td><td>0</td><td>0</td><td>0</td><td>0</td><td>0</td><td>1</td><td>0</td><td>1</td><td>0</td><td>1</td><td>1</td><td>1</td><td>0</td><td>1</td><td>1</td><td>0</td><td>1</td><td>0</td><td>1</td><td>0</td><td>0</td><td>0</td><td>0</td><td>0</td><td>1</td><td>0</td><td>0</td><td>1</td><td>1</td><td>0</td><td>0</td><td>1</td><td>0</td><td>1</td><td>0</td><td>0</td><td>1</td><td>0</td><td>1</td><td>1</td><td>1</td><td>0</td><td>0</td><td>1</td><td>0</td><td>1</td><td>1</td><td>1</td><td>0</td><td>0</td><td>0</td><td>0</td><td>1</td><td>1</td><td>1</td><td>1</td></tr><tr><th>5</th><td>4</td><td>0</td><td>1</td><td>1</td><td>1</td><td>1</td><td>0</td><td>1</td><td>1</td><td>1</td><td>1</td><td>1</td><td>1</td><td>0</td><td>0</td><td>0</td><td>1</td><td>0</td><td>1</td><td>1</td><td>1</td><td>0</td><td>1</td><td>0</td><td>1</td><td>1</td><td>1</td><td>1</td><td>1</td><td>0</td><td>1</td><td>0</td><td>0</td><td>1</td><td>1</td><td>0</td><td>1</td><td>1</td><td>1</td><td>0</td><td>0</td><td>0</td><td>0</td><td>1</td><td>0</td><td>1</td><td>1</td><td>1</td><td>1</td><td>0</td><td>0</td><td>1</td><td>1</td><td>1</td><td>1</td><td>0</td><td>1</td><td>1</td><td>1</td><td>1</td><td>0</td><td>1</td><td>0</td><td>0</td><td>0</td><td>0</td><td>0</td><td>0</td><td>1</td><td>0</td><td>1</td><td>1</td><td>1</td><td>0</td><td>1</td><td>1</td><td>0</td><td>1</td><td>1</td><td>1</td><td>1</td><td>1</td><td>1</td><td>0</td><td>1</td><td>1</td><td>1</td><td>1</td><td>1</td><td>1</td><td>1</td><td>0</td><td>1</td><td>1</td><td>0</td><td>1</td><td>1</td><td>0</td><td>1</td><td>1</td><td>1</td><td>1</td><td>0</td><td>1</td><td>1</td><td>1</td><td>1</td><td>0</td><td>1</td><td>0</td><td>0</td><td>1</td><td>0</td><td>1</td><td>1</td><td>1</td><td>1</td><td>1</td><td>1</td><td>1</td><td>1</td><td>1</td><td>1</td><td>1</td><td>1</td><td>0</td><td>1</td><td>0</td><td>1</td><td>1</td><td>1</td><td>0</td><td>0</td><td>1</td><td>1</td><td>0</td><td>1</td><td>1</td><td>1</td><td>0</td><td>1</td><td>1</td><td>1</td><td>0</td><td>1</td><td>1</td><td>0</td><td>0</td><td>0</td><td>0</td><td>1</td><td>1</td><td>0</td><td>1</td><td>1</td><td>1</td><td>0</td><td>1</td><td>1</td><td>1</td><td>0</td><td>1</td><td>1</td><td>1</td><td>1</td><td>0</td><td>1</td><td>0</td><td>0</td><td>0</td><td>1</td><td>1</td><td>0</td><td>0</td><td>0</td><td>0</td><td>1</td><td>1</td><td>0</td><td>1</td><td>1</td><td>0</td><td>0</td><td>1</td><td>1</td><td>1</td><td>1</td><td>1</td><td>0</td><td>1</td><td>0</td><td>0</td><td>0</td><td>1</td><td>0</td><td>1</td><td>1</td><td>0</td><td>0</td><td>1</td><td>0</td><td>0</td><td>1</td><td>1</td><td>1</td><td>0</td><td>1</td><td>1</td><td>1</td><td>1</td><td>1</td><td>1</td><td>1</td><td>0</td><td>1</td><td>1</td><td>0</td><td>1</td><td>1</td><td>1</td><td>1</td><td>0</td><td>1</td><td>1</td><td>1</td><td>1</td><td>0</td><td>1</td><td>1</td><td>1</td><td>1</td><td>1</td><td>1</td><td>1</td><td>0</td><td>1</td><td>1</td><td>1</td><td>0</td><td>1</td><td>1</td><td>1</td><td>0</td><td>0</td><td>1</td><td>1</td><td>1</td><td>0</td><td>0</td><td>0</td><td>1</td><td>1</td><td>1</td><td>0</td><td>1</td><td>1</td><td>0</td><td>0</td><td>1</td><td>1</td><td>0</td><td>1</td><td>1</td><td>1</td><td>0</td><td>1</td><td>0</td><td>0</td><td>1</td><td>1</td><td>0</td><td>0</td><td>0</td><td>0</td><td>1</td><td>0</td><td>0</td><td>0</td><td>0</td><td>1</td><td>0</td><td>0</td><td>1</td><td>0</td><td>1</td><td>1</td><td>1</td><td>1</td><td>1</td><td>1</td><td>1</td><td>1</td><td>1</td><td>0</td><td>1</td><td>0</td><td>0</td><td>1</td><td>1</td><td>1</td><td>1</td><td>0</td><td>0</td><td>1</td><td>1</td><td>1</td><td>0</td><td>0</td><td>1</td><td>1</td><td>0</td><td>0</td><td>1</td><td>0</td><td>1</td><td>1</td><td>1</td><td>1</td><td>1</td><td>1</td><td>0</td><td>1</td><td>1</td><td>0</td><td>0</td><td>0</td><td>0</td><td>1</td><td>1</td><td>1</td><td>1</td><td>1</td><td>1</td><td>1</td><td>1</td><td>0</td><td>0</td><td>0</td><td>1</td><td>0</td><td>1</td><td>1</td><td>1</td><td>0</td><td>0</td><td>1</td><td>1</td><td>1</td><td>0</td><td>0</td><td>1</td><td>0</td><td>0</td><td>1</td><td>1</td><td>1</td><td>0</td><td>0</td><td>0</td><td>1</td><td>1</td><td>0</td><td>1</td><td>1</td><td>1</td><td>0</td><td>1</td><td>1</td><td>0</td><td>1</td><td>1</td><td>1</td><td>1</td><td>1</td><td>1</td><td>1</td><td>1</td><td>0</td><td>0</td><td>1</td><td>0</td><td>1</td><td>1</td><td>1</td><td>0</td><td>0</td><td>1</td><td>0</td><td>1</td><td>1</td><td>0</td><td>1</td><td>1</td><td>1</td><td>0</td><td>1</td><td>1</td><td>0</td><td>0</td><td>1</td><td>1</td><td>1</td><td>1</td><td>1</td><td>0</td><td>1</td><td>0</td><td>1</td><td>1</td><td>1</td><td>1</td><td>1</td><td>0</td><td>1</td><td>1</td><td>1</td><td>0</td><td>0</td><td>1</td><td>1</td><td>1</td><td>0</td><td>0</td><td>1</td><td>1</td><td>1</td><td>1</td><td>1</td><td>0</td><td>0</td><td>1</td><td>1</td><td>1</td><td>1</td><td>1</td><td>1</td><td>1</td><td>1</td><td>1</td><td>0</td><td>0</td><td>0</td><td>1</td><td>0</td><td>0</td><td>0</td><td>1</td><td>1</td><td>1</td><td>1</td><td>1</td><td>1</td><td>0</td><td>0</td><td>1</td><td>1</td><td>1</td><td>1</td><td>1</td><td>0</td><td>1</td><td>1</td><td>0</td><td>1</td><td>1</td><td>0</td><td>1</td><td>1</td><td>1</td><td>1</td><td>1</td><td>1</td><td>1</td><td>1</td><td>1</td><td>1</td><td>1</td><td>1</td><td>0</td><td>1</td><td>1</td><td>1</td><td>1</td><td>1</td><td>1</td><td>1</td><td>1</td><td>1</td><td>1</td><td>1</td><td>0</td><td>1</td><td>1</td><td>1</td><td>1</td><td>1</td><td>0</td><td>1</td><td>1</td><td>1</td><td>1</td><td>1</td><td>1</td><td>1</td><td>1</td><td>1</td><td>1</td><td>1</td><td>1</td><td>1</td><td>0</td><td>0</td><td>0</td><td>0</td><td>0</td><td>1</td><td>1</td><td>1</td><td>1</td><td>0</td><td>1</td><td>0</td><td>1</td><td>1</td><td>1</td><td>1</td><td>1</td><td>1</td><td>1</td><td>0</td><td>1</td><td>0</td><td>0</td><td>1</td><td>0</td><td>1</td><td>1</td><td>0</td><td>1</td><td>1</td><td>1</td><td>1</td><td>1</td><td>1</td><td>0</td><td>1</td><td>1</td><td>0</td><td>1</td><td>0</td><td>1</td><td>0</td><td>0</td><td>0</td><td>0</td><td>1</td><td>1</td><td>1</td><td>1</td><td>0</td><td>0</td><td>1</td><td>0</td><td>1</td><td>1</td><td>1</td><td>1</td><td>0</td><td>1</td><td>0</td><td>0</td><td>1</td><td>1</td><td>0</td><td>0</td><td>1</td><td>1</td><td>1</td><td>1</td><td>1</td><td>1</td><td>1</td><td>1</td><td>1</td><td>1</td><td>1</td><td>1</td><td>1</td><td>1</td><td>1</td><td>0</td><td>0</td><td>1</td><td>0</td><td>0</td><td>1</td><td>1</td><td>1</td><td>0</td><td>1</td><td>0</td><td>0</td><td>1</td><td>1</td><td>1</td><td>0</td><td>0</td><td>1</td><td>0</td><td>1</td><td>1</td><td>1</td><td>1</td><td>1</td><td>1</td><td>1</td><td>1</td><td>1</td><td>1</td><td>1</td><td>1</td><td>0</td><td>1</td><td>1</td><td>0</td><td>1</td><td>0</td><td>0</td><td>0</td><td>1</td><td>1</td><td>0</td><td>0</td><td>1</td><td>0</td><td>1</td><td>0</td><td>0</td><td>1</td><td>1</td><td>1</td><td>1</td><td>1</td><td>1</td><td>0</td><td>1</td><td>1</td><td>1</td><td>1</td><td>1</td><td>1</td><td>1</td><td>1</td><td>1</td><td>1</td><td>0</td><td>0</td><td>0</td><td>0</td><td>0</td><td>1</td><td>1</td><td>1</td><td>0</td><td>1</td><td>0</td><td>1</td><td>1</td><td>1</td><td>0</td><td>1</td><td>1</td><td>0</td><td>1</td><td>1</td><td>0</td><td>1</td><td>1</td><td>1</td><td>1</td><td>0</td><td>1</td><td>0</td><td>1</td><td>1</td><td>0</td><td>1</td><td>1</td><td>1</td><td>0</td><td>1</td><td>0</td><td>1</td><td>1</td><td>1</td><td>1</td><td>0</td><td>0</td><td>1</td><td>1</td><td>1</td><td>0</td><td>1</td><td>1</td><td>0</td><td>1</td><td>0</td><td>1</td><td>1</td><td>1</td><td>1</td><td>0</td><td>1</td><td>0</td><td>1</td><td>1</td><td>0</td><td>1</td><td>1</td><td>1</td><td>0</td><td>0</td><td>0</td><td>1</td><td>0</td><td>1</td><td>1</td><td>1</td><td>0</td><td>1</td><td>1</td><td>1</td><td>0</td><td>1</td><td>1</td><td>0</td><td>1</td><td>0</td><td>1</td><td>0</td><td>0</td><td>1</td><td>1</td><td>0</td><td>0</td><td>0</td><td>1</td><td>1</td><td>1</td><td>0</td><td>1</td><td>1</td><td>1</td><td>1</td><td>0</td><td>0</td><td>1</td><td>0</td><td>1</td><td>0</td><td>1</td><td>1</td><td>1</td><td>0</td><td>1</td><td>1</td><td>1</td><td>0</td><td>1</td><td>0</td><td>0</td><td>0</td><td>1</td><td>1</td><td>1</td><td>1</td><td>0</td><td>1</td><td>0</td><td>1</td><td>0</td><td>0</td><td>1</td><td>1</td><td>1</td><td>0</td><td>0</td><td>1</td><td>0</td><td>0</td><td>1</td><td>1</td><td>1</td><td>1</td><td>1</td><td>1</td><td>0</td><td>1</td><td>0</td><td>0</td><td>0</td><td>0</td><td>0</td><td>0</td><td>0</td><td>0</td><td>1</td><td>0</td><td>1</td><td>0</td><td>1</td><td>1</td><td>0</td><td>0</td><td>1</td><td>1</td><td>0</td><td>0</td><td>1</td><td>0</td><td>0</td><td>1</td><td>1</td><td>1</td><td>1</td><td>1</td><td>0</td><td>0</td><td>0</td><td>1</td><td>1</td><td>1</td><td>0</td><td>1</td><td>0</td><td>1</td><td>0</td><td>0</td><td>0</td><td>1</td><td>1</td><td>1</td><td>1</td><td>0</td><td>0</td><td>1</td><td>1</td><td>1</td><td>0</td><td>0</td><td>0</td><td>1</td><td>1</td><td>0</td><td>1</td><td>1</td><td>0</td><td>1</td><td>1</td><td>1</td><td>1</td><td>0</td><td>1</td><td>0</td><td>1</td><td>1</td><td>1</td><td>1</td><td>0</td><td>1</td><td>0</td><td>0</td><td>0</td><td>1</td><td>0</td><td>0</td><td>1</td><td>1</td><td>1</td><td>1</td><td>1</td><td>0</td><td>1</td><td>0</td><td>1</td><td>1</td><td>0</td><td>1</td><td>1</td><td>1</td><td>1</td><td>1</td><td>0</td><td>1</td><td>0</td><td>0</td><td>1</td><td>1</td><td>0</td><td>1</td><td>1</td><td>1</td><td>1</td><td>1</td><td>1</td><td>0</td><td>1</td><td>0</td><td>1</td><td>1</td><td>1</td><td>0</td><td>0</td><td>1</td><td>0</td><td>1</td><td>1</td><td>0</td><td>1</td><td>1</td><td>1</td><td>1</td><td>1</td><td>0</td><td>1</td><td>1</td><td>1</td><td>1</td><td>0</td><td>1</td><td>1</td><td>1</td><td>0</td><td>1</td><td>1</td><td>1</td><td>1</td><td>0</td><td>0</td><td>1</td><td>0</td><td>1</td><td>0</td><td>1</td><td>0</td><td>1</td><td>1</td><td>1</td><td>0</td><td>1</td><td>1</td><td>0</td><td>0</td><td>0</td><td>1</td><td>0</td><td>1</td><td>1</td><td>1</td><td>1</td><td>0</td><td>0</td><td>1</td><td>0</td><td>0</td><td>0</td><td>0</td><td>0</td><td>1</td><td>1</td><td>1</td><td>0</td><td>0</td><td>1</td><td>0</td><td>1</td><td>0</td><td>0</td><td>0</td><td>0</td><td>1</td><td>1</td><td>1</td><td>0</td><td>0</td><td>0</td><td>1</td><td>0</td><td>1</td><td>0</td><td>0</td><td>1</td><td>0</td><td>1</td><td>0</td><td>1</td><td>0</td><td>0</td><td>0</td><td>1</td><td>0</td><td>1</td><td>1</td><td>0</td><td>1</td><td>1</td><td>1</td><td>0</td><td>0</td><td>0</td><td>0</td><td>1</td><td>0</td><td>0</td><td>1</td><td>0</td><td>1</td><td>0</td><td>0</td><td>0</td><td>0</td><td>1</td><td>0</td><td>1</td><td>1</td><td>0</td><td>1</td><td>0</td><td>1</td><td>1</td><td>1</td><td>1</td><td>0</td><td>0</td><td>1</td><td>0</td><td>0</td><td>0</td><td>1</td><td>0</td><td>1</td><td>1</td><td>0</td><td>0</td><td>0</td><td>0</td><td>1</td><td>0</td><td>1</td><td>0</td><td>1</td><td>0</td><td>1</td><td>1</td><td>0</td><td>0</td><td>1</td><td>0</td><td>0</td><td>0</td><td>1</td><td>1</td><td>1</td><td>0</td><td>1</td><td>0</td><td>1</td><td>1</td><td>1</td><td>1</td><td>1</td><td>1</td><td>1</td><td>1</td><td>1</td><td>1</td><td>1</td><td>1</td><td>1</td><td>1</td><td>1</td><td>1</td><td>1</td><td>1</td><td>1</td><td>1</td><td>1</td><td>1</td><td>1</td><td>0</td><td>1</td><td>1</td><td>0</td><td>1</td><td>0</td><td>1</td><td>1</td><td>1</td><td>1</td><td>1</td><td>1</td><td>1</td><td>0</td><td>0</td><td>0</td><td>1</td><td>1</td><td>1</td><td>1</td><td>0</td><td>1</td><td>1</td><td>1</td><td>1</td><td>1</td><td>1</td><td>0</td><td>1</td><td>1</td><td>0</td><td>1</td><td>1</td><td>1</td><td>0</td><td>0</td><td>1</td><td>0</td><td>0</td><td>1</td><td>0</td><td>0</td><td>1</td><td>0</td><td>0</td><td>1</td><td>0</td><td>0</td><td>0</td><td>1</td><td>0</td><td>0</td><td>1</td><td>1</td><td>1</td><td>1</td><td>0</td><td>0</td><td>0</td><td>1</td><td>0</td><td>1</td><td>1</td><td>1</td><td>1</td><td>1</td><td>0</td><td>1</td><td>0</td><td>1</td><td>0</td><td>1</td><td>0</td><td>1</td><td>0</td><td>0</td><td>0</td><td>0</td><td>0</td><td>1</td><td>0</td><td>0</td><td>0</td><td>0</td><td>1</td><td>1</td><td>1</td><td>1</td><td>1</td><td>1</td><td>0</td><td>1</td><td>0</td><td>0</td><td>1</td><td>0</td><td>0</td><td>1</td><td>1</td><td>1</td><td>0</td><td>1</td><td>0</td><td>1</td><td>1</td><td>1</td><td>0</td><td>1</td><td>0</td><td>0</td><td>1</td><td>1</td><td>1</td><td>1</td><td>1</td><td>0</td><td>0</td><td>1</td><td>1</td><td>0</td><td>0</td><td>1</td><td>1</td><td>0</td><td>0</td><td>0</td><td>0</td><td>1</td><td>1</td><td>1</td><td>1</td><td>0</td><td>1</td><td>1</td><td>1</td><td>0</td><td>1</td><td>0</td><td>0</td><td>0</td><td>0</td><td>0</td><td>1</td><td>0</td><td>1</td><td>0</td><td>0</td><td>0</td><td>1</td><td>1</td><td>1</td><td>1</td><td>0</td><td>1</td><td>1</td><td>1</td><td>0</td><td>0</td><td>1</td><td>1</td><td>0</td><td>0</td><td>0</td><td>0</td><td>0</td><td>1</td><td>1</td><td>0</td><td>0</td><td>0</td><td>0</td><td>1</td><td>1</td><td>0</td><td>1</td><td>1</td><td>1</td><td>1</td><td>1</td><td>0</td><td>1</td><td>1</td><td>1</td><td>1</td><td>1</td><td>0</td><td>0</td><td>1</td><td>0</td><td>1</td><td>0</td></tr><tr><th>6</th><td>5</td><td>0</td><td>1</td><td>1</td><td>1</td><td>1</td><td>0</td><td>1</td><td>1</td><td>1</td><td>1</td><td>1</td><td>1</td><td>1</td><td>0</td><td>0</td><td>1</td><td>0</td><td>1</td><td>1</td><td>1</td><td>0</td><td>1</td><td>1</td><td>1</td><td>1</td><td>1</td><td>1</td><td>1</td><td>1</td><td>1</td><td>1</td><td>0</td><td>0</td><td>0</td><td>0</td><td>1</td><td>1</td><td>0</td><td>1</td><td>1</td><td>1</td><td>1</td><td>1</td><td>0</td><td>1</td><td>1</td><td>1</td><td>1</td><td>0</td><td>0</td><td>1</td><td>1</td><td>0</td><td>1</td><td>1</td><td>1</td><td>1</td><td>1</td><td>0</td><td>1</td><td>1</td><td>1</td><td>1</td><td>0</td><td>0</td><td>0</td><td>1</td><td>1</td><td>0</td><td>0</td><td>0</td><td>1</td><td>0</td><td>1</td><td>0</td><td>0</td><td>1</td><td>1</td><td>1</td><td>1</td><td>1</td><td>1</td><td>1</td><td>1</td><td>1</td><td>0</td><td>0</td><td>0</td><td>1</td><td>0</td><td>0</td><td>1</td><td>1</td><td>0</td><td>1</td><td>0</td><td>0</td><td>1</td><td>1</td><td>1</td><td>1</td><td>1</td><td>1</td><td>1</td><td>0</td><td>1</td><td>0</td><td>1</td><td>0</td><td>1</td><td>1</td><td>1</td><td>1</td><td>1</td><td>1</td><td>1</td><td>1</td><td>1</td><td>1</td><td>1</td><td>1</td><td>1</td><td>1</td><td>0</td><td>0</td><td>1</td><td>0</td><td>1</td><td>1</td><td>0</td><td>0</td><td>0</td><td>1</td><td>1</td><td>0</td><td>1</td><td>1</td><td>0</td><td>0</td><td>1</td><td>1</td><td>0</td><td>0</td><td>1</td><td>1</td><td>0</td><td>0</td><td>1</td><td>0</td><td>1</td><td>1</td><td>0</td><td>1</td><td>1</td><td>1</td><td>0</td><td>0</td><td>1</td><td>1</td><td>1</td><td>1</td><td>1</td><td>1</td><td>1</td><td>0</td><td>0</td><td>1</td><td>0</td><td>0</td><td>1</td><td>1</td><td>0</td><td>1</td><td>0</td><td>1</td><td>1</td><td>1</td><td>0</td><td>1</td><td>1</td><td>0</td><td>1</td><td>1</td><td>1</td><td>1</td><td>1</td><td>1</td><td>1</td><td>1</td><td>1</td><td>1</td><td>1</td><td>1</td><td>0</td><td>1</td><td>1</td><td>0</td><td>1</td><td>1</td><td>0</td><td>0</td><td>1</td><td>1</td><td>1</td><td>0</td><td>1</td><td>1</td><td>1</td><td>1</td><td>0</td><td>1</td><td>1</td><td>1</td><td>1</td><td>1</td><td>0</td><td>1</td><td>1</td><td>1</td><td>1</td><td>0</td><td>1</td><td>1</td><td>1</td><td>1</td><td>0</td><td>1</td><td>1</td><td>1</td><td>1</td><td>1</td><td>0</td><td>1</td><td>0</td><td>1</td><td>1</td><td>1</td><td>0</td><td>1</td><td>1</td><td>0</td><td>1</td><td>1</td><td>1</td><td>1</td><td>1</td><td>1</td><td>1</td><td>1</td><td>1</td><td>1</td><td>1</td><td>1</td><td>1</td><td>1</td><td>0</td><td>0</td><td>1</td><td>1</td><td>0</td><td>1</td><td>1</td><td>1</td><td>0</td><td>1</td><td>1</td><td>0</td><td>0</td><td>1</td><td>0</td><td>0</td><td>0</td><td>1</td><td>1</td><td>1</td><td>1</td><td>0</td><td>1</td><td>0</td><td>0</td><td>0</td><td>1</td><td>1</td><td>1</td><td>1</td><td>1</td><td>1</td><td>1</td><td>1</td><td>1</td><td>1</td><td>1</td><td>1</td><td>1</td><td>1</td><td>0</td><td>1</td><td>1</td><td>1</td><td>1</td><td>0</td><td>1</td><td>1</td><td>1</td><td>1</td><td>1</td><td>0</td><td>0</td><td>1</td><td>0</td><td>0</td><td>1</td><td>0</td><td>1</td><td>1</td><td>1</td><td>1</td><td>1</td><td>1</td><td>1</td><td>1</td><td>1</td><td>1</td><td>0</td><td>1</td><td>0</td><td>1</td><td>1</td><td>1</td><td>0</td><td>1</td><td>0</td><td>1</td><td>1</td><td>1</td><td>1</td><td>1</td><td>1</td><td>0</td><td>1</td><td>1</td><td>1</td><td>1</td><td>1</td><td>1</td><td>1</td><td>1</td><td>0</td><td>0</td><td>0</td><td>0</td><td>0</td><td>0</td><td>1</td><td>1</td><td>0</td><td>1</td><td>1</td><td>1</td><td>1</td><td>0</td><td>1</td><td>1</td><td>1</td><td>0</td><td>1</td><td>1</td><td>0</td><td>0</td><td>0</td><td>1</td><td>1</td><td>1</td><td>1</td><td>1</td><td>1</td><td>0</td><td>0</td><td>1</td><td>1</td><td>1</td><td>0</td><td>1</td><td>0</td><td>0</td><td>1</td><td>0</td><td>1</td><td>1</td><td>0</td><td>1</td><td>1</td><td>1</td><td>0</td><td>0</td><td>1</td><td>0</td><td>1</td><td>1</td><td>1</td><td>1</td><td>0</td><td>1</td><td>1</td><td>1</td><td>0</td><td>1</td><td>0</td><td>1</td><td>1</td><td>0</td><td>0</td><td>1</td><td>1</td><td>0</td><td>1</td><td>0</td><td>1</td><td>1</td><td>1</td><td>0</td><td>0</td><td>1</td><td>1</td><td>0</td><td>0</td><td>1</td><td>0</td><td>0</td><td>1</td><td>0</td><td>1</td><td>1</td><td>0</td><td>1</td><td>0</td><td>0</td><td>1</td><td>0</td><td>1</td><td>0</td><td>1</td><td>0</td><td>0</td><td>0</td><td>0</td><td>1</td><td>1</td><td>0</td><td>1</td><td>1</td><td>0</td><td>1</td><td>1</td><td>1</td><td>1</td><td>0</td><td>1</td><td>0</td><td>1</td><td>0</td><td>1</td><td>0</td><td>1</td><td>0</td><td>1</td><td>1</td><td>1</td><td>1</td><td>0</td><td>1</td><td>1</td><td>1</td><td>1</td><td>1</td><td>1</td><td>1</td><td>0</td><td>1</td><td>0</td><td>1</td><td>0</td><td>0</td><td>1</td><td>1</td><td>1</td><td>1</td><td>1</td><td>1</td><td>0</td><td>1</td><td>1</td><td>1</td><td>1</td><td>1</td><td>0</td><td>0</td><td>0</td><td>1</td><td>1</td><td>1</td><td>1</td><td>1</td><td>1</td><td>1</td><td>0</td><td>1</td><td>1</td><td>1</td><td>0</td><td>0</td><td>0</td><td>0</td><td>1</td><td>1</td><td>1</td><td>1</td><td>1</td><td>0</td><td>0</td><td>1</td><td>1</td><td>0</td><td>1</td><td>1</td><td>1</td><td>1</td><td>1</td><td>0</td><td>1</td><td>0</td><td>1</td><td>1</td><td>1</td><td>1</td><td>1</td><td>0</td><td>1</td><td>1</td><td>0</td><td>1</td><td>1</td><td>1</td><td>1</td><td>1</td><td>1</td><td>0</td><td>1</td><td>0</td><td>0</td><td>1</td><td>1</td><td>0</td><td>0</td><td>1</td><td>1</td><td>0</td><td>1</td><td>1</td><td>1</td><td>1</td><td>1</td><td>1</td><td>1</td><td>0</td><td>0</td><td>0</td><td>1</td><td>0</td><td>0</td><td>1</td><td>1</td><td>1</td><td>0</td><td>0</td><td>1</td><td>1</td><td>1</td><td>1</td><td>1</td><td>0</td><td>1</td><td>1</td><td>1</td><td>1</td><td>1</td><td>1</td><td>1</td><td>1</td><td>0</td><td>0</td><td>1</td><td>0</td><td>0</td><td>1</td><td>1</td><td>1</td><td>0</td><td>1</td><td>0</td><td>1</td><td>1</td><td>1</td><td>1</td><td>0</td><td>0</td><td>1</td><td>1</td><td>1</td><td>0</td><td>1</td><td>1</td><td>0</td><td>1</td><td>1</td><td>1</td><td>1</td><td>1</td><td>1</td><td>1</td><td>1</td><td>1</td><td>1</td><td>0</td><td>1</td><td>1</td><td>0</td><td>1</td><td>0</td><td>0</td><td>1</td><td>1</td><td>0</td><td>0</td><td>1</td><td>1</td><td>0</td><td>1</td><td>1</td><td>0</td><td>1</td><td>1</td><td>1</td><td>1</td><td>1</td><td>1</td><td>1</td><td>1</td><td>1</td><td>1</td><td>0</td><td>0</td><td>1</td><td>1</td><td>1</td><td>0</td><td>0</td><td>1</td><td>0</td><td>1</td><td>0</td><td>0</td><td>0</td><td>1</td><td>0</td><td>1</td><td>1</td><td>0</td><td>0</td><td>1</td><td>1</td><td>0</td><td>1</td><td>1</td><td>0</td><td>1</td><td>1</td><td>1</td><td>1</td><td>1</td><td>1</td><td>1</td><td>0</td><td>1</td><td>0</td><td>1</td><td>1</td><td>1</td><td>0</td><td>0</td><td>0</td><td>1</td><td>1</td><td>1</td><td>1</td><td>1</td><td>0</td><td>1</td><td>1</td><td>1</td><td>0</td><td>1</td><td>1</td><td>0</td><td>1</td><td>1</td><td>1</td><td>1</td><td>1</td><td>1</td><td>0</td><td>1</td><td>1</td><td>1</td><td>1</td><td>0</td><td>1</td><td>1</td><td>1</td><td>0</td><td>0</td><td>0</td><td>1</td><td>1</td><td>1</td><td>0</td><td>1</td><td>1</td><td>1</td><td>1</td><td>0</td><td>0</td><td>0</td><td>1</td><td>0</td><td>1</td><td>0</td><td>1</td><td>1</td><td>1</td><td>0</td><td>1</td><td>0</td><td>0</td><td>0</td><td>1</td><td>1</td><td>1</td><td>0</td><td>1</td><td>1</td><td>1</td><td>1</td><td>1</td><td>0</td><td>1</td><td>1</td><td>1</td><td>1</td><td>1</td><td>1</td><td>1</td><td>1</td><td>1</td><td>1</td><td>0</td><td>0</td><td>1</td><td>0</td><td>0</td><td>0</td><td>1</td><td>1</td><td>1</td><td>1</td><td>0</td><td>1</td><td>0</td><td>0</td><td>1</td><td>0</td><td>1</td><td>0</td><td>1</td><td>0</td><td>0</td><td>1</td><td>0</td><td>0</td><td>1</td><td>1</td><td>1</td><td>1</td><td>1</td><td>1</td><td>0</td><td>1</td><td>1</td><td>0</td><td>0</td><td>1</td><td>0</td><td>0</td><td>1</td><td>1</td><td>1</td><td>1</td><td>1</td><td>0</td><td>1</td><td>0</td><td>0</td><td>0</td><td>1</td><td>1</td><td>1</td><td>0</td><td>1</td><td>0</td><td>0</td><td>0</td><td>0</td><td>1</td><td>1</td><td>1</td><td>0</td><td>0</td><td>0</td><td>1</td><td>0</td><td>1</td><td>1</td><td>1</td><td>0</td><td>1</td><td>1</td><td>0</td><td>0</td><td>1</td><td>1</td><td>1</td><td>1</td><td>1</td><td>0</td><td>1</td><td>1</td><td>1</td><td>1</td><td>1</td><td>0</td><td>1</td><td>1</td><td>1</td><td>1</td><td>1</td><td>0</td><td>1</td><td>1</td><td>1</td><td>1</td><td>0</td><td>1</td><td>0</td><td>1</td><td>1</td><td>1</td><td>1</td><td>0</td><td>1</td><td>1</td><td>1</td><td>0</td><td>0</td><td>0</td><td>1</td><td>1</td><td>1</td><td>1</td><td>1</td><td>1</td><td>1</td><td>1</td><td>0</td><td>1</td><td>1</td><td>0</td><td>1</td><td>1</td><td>1</td><td>0</td><td>1</td><td>0</td><td>1</td><td>0</td><td>1</td><td>1</td><td>0</td><td>0</td><td>1</td><td>1</td><td>1</td><td>1</td><td>1</td><td>0</td><td>0</td><td>1</td><td>0</td><td>0</td><td>1</td><td>1</td><td>0</td><td>0</td><td>0</td><td>0</td><td>1</td><td>0</td><td>0</td><td>1</td><td>1</td><td>1</td><td>0</td><td>1</td><td>0</td><td>1</td><td>0</td><td>1</td><td>1</td><td>0</td><td>1</td><td>0</td><td>0</td><td>0</td><td>0</td><td>1</td><td>0</td><td>1</td><td>0</td><td>1</td><td>1</td><td>0</td><td>1</td><td>0</td><td>1</td><td>0</td><td>1</td><td>1</td><td>1</td><td>0</td><td>1</td><td>1</td><td>0</td><td>0</td><td>0</td><td>1</td><td>0</td><td>0</td><td>1</td><td>1</td><td>1</td><td>1</td><td>0</td><td>1</td><td>0</td><td>0</td><td>0</td><td>0</td><td>0</td><td>1</td><td>1</td><td>1</td><td>0</td><td>0</td><td>1</td><td>0</td><td>1</td><td>0</td><td>0</td><td>0</td><td>0</td><td>1</td><td>1</td><td>1</td><td>0</td><td>0</td><td>0</td><td>1</td><td>0</td><td>1</td><td>0</td><td>0</td><td>1</td><td>0</td><td>1</td><td>1</td><td>1</td><td>0</td><td>1</td><td>0</td><td>1</td><td>0</td><td>1</td><td>1</td><td>0</td><td>1</td><td>1</td><td>1</td><td>0</td><td>0</td><td>1</td><td>0</td><td>0</td><td>0</td><td>0</td><td>1</td><td>0</td><td>1</td><td>0</td><td>1</td><td>1</td><td>0</td><td>1</td><td>0</td><td>1</td><td>1</td><td>0</td><td>1</td><td>0</td><td>1</td><td>1</td><td>1</td><td>1</td><td>1</td><td>0</td><td>1</td><td>0</td><td>0</td><td>0</td><td>1</td><td>0</td><td>0</td><td>1</td><td>1</td><td>0</td><td>0</td><td>1</td><td>1</td><td>0</td><td>0</td><td>0</td><td>1</td><td>0</td><td>0</td><td>0</td><td>0</td><td>0</td><td>1</td><td>0</td><td>1</td><td>0</td><td>1</td><td>1</td><td>1</td><td>0</td><td>1</td><td>0</td><td>1</td><td>1</td><td>1</td><td>1</td><td>1</td><td>1</td><td>1</td><td>1</td><td>1</td><td>0</td><td>1</td><td>0</td><td>1</td><td>1</td><td>1</td><td>1</td><td>1</td><td>1</td><td>1</td><td>1</td><td>0</td><td>1</td><td>1</td><td>0</td><td>1</td><td>1</td><td>0</td><td>1</td><td>0</td><td>1</td><td>1</td><td>0</td><td>1</td><td>1</td><td>1</td><td>1</td><td>1</td><td>0</td><td>1</td><td>1</td><td>1</td><td>1</td><td>1</td><td>1</td><td>1</td><td>1</td><td>1</td><td>1</td><td>1</td><td>1</td><td>1</td><td>1</td><td>1</td><td>0</td><td>1</td><td>1</td><td>1</td><td>0</td><td>0</td><td>1</td><td>0</td><td>0</td><td>1</td><td>0</td><td>0</td><td>1</td><td>0</td><td>0</td><td>0</td><td>0</td><td>0</td><td>0</td><td>0</td><td>1</td><td>0</td><td>1</td><td>1</td><td>1</td><td>1</td><td>0</td><td>1</td><td>0</td><td>0</td><td>0</td><td>0</td><td>1</td><td>1</td><td>1</td><td>1</td><td>0</td><td>1</td><td>0</td><td>1</td><td>0</td><td>1</td><td>1</td><td>1</td><td>0</td><td>0</td><td>0</td><td>1</td><td>0</td><td>1</td><td>0</td><td>0</td><td>1</td><td>0</td><td>1</td><td>1</td><td>1</td><td>1</td><td>1</td><td>1</td><td>1</td><td>1</td><td>1</td><td>0</td><td>1</td><td>0</td><td>1</td><td>1</td><td>1</td><td>1</td><td>0</td><td>1</td><td>0</td><td>0</td><td>1</td><td>1</td><td>0</td><td>0</td><td>1</td><td>0</td><td>0</td><td>0</td><td>1</td><td>0</td><td>1</td><td>0</td><td>0</td><td>1</td><td>1</td><td>0</td><td>0</td><td>0</td><td>1</td><td>1</td><td>0</td><td>0</td><td>0</td><td>1</td><td>1</td><td>1</td><td>1</td><td>0</td><td>1</td><td>1</td><td>1</td><td>1</td><td>1</td><td>1</td><td>1</td><td>0</td><td>0</td><td>0</td><td>1</td><td>0</td><td>1</td><td>1</td><td>1</td><td>0</td><td>1</td><td>1</td><td>1</td><td>1</td><td>0</td><td>0</td><td>1</td><td>0</td><td>0</td><td>0</td><td>0</td><td>1</td><td>0</td><td>0</td><td>0</td><td>1</td><td>1</td><td>1</td><td>1</td><td>1</td><td>0</td><td>1</td><td>0</td><td>1</td><td>1</td><td>0</td><td>1</td><td>1</td><td>1</td><td>0</td><td>1</td><td>0</td><td>0</td><td>1</td><td>1</td><td>1</td><td>1</td><td>1</td><td>0</td><td>0</td><td>0</td><td>1</td><td>1</td></tr></tbody></table>"
      ],
      "text/latex": [
       "\\begin{tabular}{r|cccccccccccccccccccccccccccccccccccccccccccccccccccccccccccccccccccccccccccccccccccccccccccccccccccccccccccccccccccccccccccccccccccccccccccccccccccccccccccccccccccccccccccccccccccccccccccccccccccccccccccccccccccccccccccccccccccccccccccccccccccccccccccccccccccccccccccccccccccccccccccccccccccccccccccccccccccccccccccccccccccccccccccccccccccccccccccccccccccccccccccccccccccccccccccccccccccccccccccccccccccccccccccccccccccccccccccccccccccccccccccccccccccccccccccccccccccccccccccccccccccccccccccccccccccccccccccccccccccccccccccccccccccccccccccccccccccccccccccccccccccccccccccccccccccccccccccccccccccccccccccccccccccccccccccccccccccccccccccccccccccccccccccccccccccccccccccccccccccccccccccccccccccccccccccccccccccccccccccccccccccccccccccccccccccccccccccccccccccccccccccccccccccccccccccccccccccccccccccccccccccccccccccccccccccccccccccccccccccccccccccccccccccccccccccccccccccccccccccccccccccccccccccccccccccccccccccccccccccccccccccccccccccccccccccccccccccccccccccccccccccccccccccccccccccccccccccccccccccccccccccccccccccccccccccccccccccccccccccccccccccccccccccccccccccccccccccccccccccccccccccccccccccccccccccccccccccccccccccccccccccccccccccccccccccccccccccccccccccccccccccccccccccccccccccccccccccccccccccccccccccccccccccccccccccccccccccccccccccccccccccccccccccccccccccccccccccccccccccccccc}\n",
       "\t& x1 & x2 & x3 & x4 & x5 & x6 & x7 & x8 & x9 & x10 & x11 & x12 & x13 & x14 & x15 & x16 & x17 & x18 & x19 & x20 & x21 & x22 & x23 & x24 & x25 & x26 & x27 & x28 & x29 & x30 & x31 & x32 & x33 & x34 & x35 & x36 & x37 & x38 & x39 & x40 & x41 & x42 & x43 & x44 & x45 & x46 & x47 & x48 & x49 & x50 & x51 & x52 & x53 & x54 & x55 & x56 & x57 & x58 & x59 & x60 & x61 & x62 & x63 & x64 & x65 & x66 & x67 & x68 & x69 & x70 & x71 & x72 & x73 & x74 & x75 & x76 & x77 & x78 & x79 & x80 & x81 & x82 & x83 & x84 & x85 & x86 & x87 & x88 & x89 & x90 & x91 & x92 & x93 & x94 & x95 & x96 & x97 & x98 & x99 & x100 & x101 & x102 & x103 & x104 & x105 & x106 & x107 & x108 & x109 & x110 & x111 & x112 & x113 & x114 & x115 & x116 & x117 & x118 & x119 & x120 & x121 & x122 & x123 & x124 & x125 & x126 & x127 & x128 & x129 & x130 & x131 & x132 & x133 & x134 & x135 & x136 & x137 & x138 & x139 & x140 & x141 & x142 & x143 & x144 & x145 & x146 & x147 & x148 & x149 & x150 & x151 & x152 & x153 & x154 & x155 & x156 & x157 & x158 & x159 & x160 & x161 & x162 & x163 & x164 & x165 & x166 & x167 & x168 & x169 & x170 & x171 & x172 & x173 & x174 & x175 & x176 & x177 & x178 & x179 & x180 & x181 & x182 & x183 & x184 & x185 & x186 & x187 & x188 & x189 & x190 & x191 & x192 & x193 & x194 & x195 & x196 & x197 & x198 & x199 & x200 & x201 & x202 & x203 & x204 & x205 & x206 & x207 & x208 & x209 & x210 & x211 & x212 & x213 & x214 & x215 & x216 & x217 & x218 & x219 & x220 & x221 & x222 & x223 & x224 & x225 & x226 & x227 & x228 & x229 & x230 & x231 & x232 & x233 & x234 & x235 & x236 & x237 & x238 & x239 & x240 & x241 & x242 & x243 & x244 & x245 & x246 & x247 & x248 & x249 & x250 & x251 & x252 & x253 & x254 & x255 & x256 & x257 & x258 & x259 & x260 & x261 & x262 & x263 & x264 & x265 & x266 & x267 & x268 & x269 & x270 & x271 & x272 & x273 & x274 & x275 & x276 & x277 & x278 & x279 & x280 & x281 & x282 & x283 & x284 & x285 & x286 & x287 & x288 & x289 & x290 & x291 & x292 & x293 & x294 & x295 & x296 & x297 & x298 & x299 & x300 & x301 & x302 & x303 & x304 & x305 & x306 & x307 & x308 & x309 & x310 & x311 & x312 & x313 & x314 & x315 & x316 & x317 & x318 & x319 & x320 & x321 & x322 & x323 & x324 & x325 & x326 & x327 & x328 & x329 & x330 & x331 & x332 & x333 & x334 & x335 & x336 & x337 & x338 & x339 & x340 & x341 & x342 & x343 & x344 & x345 & x346 & x347 & x348 & x349 & x350 & x351 & x352 & x353 & x354 & x355 & x356 & x357 & x358 & x359 & x360 & x361 & x362 & x363 & x364 & x365 & x366 & x367 & x368 & x369 & x370 & x371 & x372 & x373 & x374 & x375 & x376 & x377 & x378 & x379 & x380 & x381 & x382 & x383 & x384 & x385 & x386 & x387 & x388 & x389 & x390 & x391 & x392 & x393 & x394 & x395 & x396 & x397 & x398 & x399 & x400 & x401 & x402 & x403 & x404 & x405 & x406 & x407 & x408 & x409 & x410 & x411 & x412 & x413 & x414 & x415 & x416 & x417 & x418 & x419 & x420 & x421 & x422 & x423 & x424 & x425 & x426 & x427 & x428 & x429 & x430 & x431 & x432 & x433 & x434 & x435 & x436 & x437 & x438 & x439 & x440 & x441 & x442 & x443 & x444 & x445 & x446 & x447 & x448 & x449 & x450 & x451 & x452 & x453 & x454 & x455 & x456 & x457 & x458 & x459 & x460 & x461 & x462 & x463 & x464 & x465 & x466 & x467 & x468 & x469 & x470 & x471 & x472 & x473 & x474 & x475 & x476 & x477 & x478 & x479 & x480 & x481 & x482 & x483 & x484 & x485 & x486 & x487 & x488 & x489 & x490 & x491 & x492 & x493 & x494 & x495 & x496 & x497 & x498 & x499 & x500 & x501 & x502 & x503 & x504 & x505 & x506 & x507 & x508 & x509 & x510 & x511 & x512 & x513 & x514 & x515 & x516 & x517 & x518 & x519 & x520 & x521 & x522 & x523 & x524 & x525 & x526 & x527 & x528 & x529 & x530 & x531 & x532 & x533 & x534 & x535 & x536 & x537 & x538 & x539 & x540 & x541 & x542 & x543 & x544 & x545 & x546 & x547 & x548 & x549 & x550 & x551 & x552 & x553 & x554 & x555 & x556 & x557 & x558 & x559 & x560 & x561 & x562 & x563 & x564 & x565 & x566 & x567 & x568 & x569 & x570 & x571 & x572 & x573 & x574 & x575 & x576 & x577 & x578 & x579 & x580 & x581 & x582 & x583 & x584 & x585 & x586 & x587 & x588 & x589 & x590 & x591 & x592 & x593 & x594 & x595 & x596 & x597 & x598 & x599 & x600 & x601 & x602 & x603 & x604 & x605 & x606 & x607 & x608 & x609 & x610 & x611 & x612 & x613 & x614 & x615 & x616 & x617 & x618 & x619 & x620 & x621 & x622 & x623 & x624 & x625 & x626 & x627 & x628 & x629 & x630 & x631 & x632 & x633 & x634 & x635 & x636 & x637 & x638 & x639 & x640 & x641 & x642 & x643 & x644 & x645 & x646 & x647 & x648 & x649 & x650 & x651 & x652 & x653 & x654 & x655 & x656 & x657 & x658 & x659 & x660 & x661 & x662 & x663 & x664 & x665 & x666 & x667 & x668 & x669 & x670 & x671 & x672 & x673 & x674 & x675 & x676 & x677 & x678 & x679 & x680 & x681 & x682 & x683 & x684 & x685 & x686 & x687 & x688 & x689 & x690 & x691 & x692 & x693 & x694 & x695 & x696 & x697 & x698 & x699 & x700 & x701 & x702 & x703 & x704 & x705 & x706 & x707 & x708 & x709 & x710 & x711 & x712 & x713 & x714 & x715 & x716 & x717 & x718 & x719 & x720 & x721 & x722 & x723 & x724 & x725 & x726 & x727 & x728 & x729 & x730 & x731 & x732 & x733 & x734 & x735 & x736 & x737 & x738 & x739 & x740 & x741 & x742 & x743 & x744 & x745 & x746 & x747 & x748 & x749 & x750 & x751 & x752 & x753 & x754 & x755 & x756 & x757 & x758 & x759 & x760 & x761 & x762 & x763 & x764 & x765 & x766 & x767 & x768 & x769 & x770 & x771 & x772 & x773 & x774 & x775 & x776 & x777 & x778 & x779 & x780 & x781 & x782 & x783 & x784 & x785 & x786 & x787 & x788 & x789 & x790 & x791 & x792 & x793 & x794 & x795 & x796 & x797 & x798 & x799 & x800 & x801 & x802 & x803 & x804 & x805 & x806 & x807 & x808 & x809 & x810 & x811 & x812 & x813 & x814 & x815 & x816 & x817 & x818 & x819 & x820 & x821 & x822 & x823 & x824 & x825 & x826 & x827 & x828 & x829 & x830 & x831 & x832 & x833 & x834 & x835 & x836 & x837 & x838 & x839 & x840 & x841 & x842 & x843 & x844 & x845 & x846 & x847 & x848 & x849 & x850 & x851 & x852 & x853 & x854 & x855 & x856 & x857 & x858 & x859 & x860 & x861 & x862 & x863 & x864 & x865 & x866 & x867 & x868 & x869 & x870 & x871 & x872 & x873 & x874 & x875 & x876 & x877 & x878 & x879 & x880 & x881 & x882 & x883 & x884 & x885 & x886 & x887 & x888 & x889 & x890 & x891 & x892 & x893 & x894 & x895 & x896 & x897 & x898 & x899 & x900 & x901 & x902 & x903 & x904 & x905 & x906 & x907 & x908 & x909 & x910 & x911 & x912 & x913 & x914 & x915 & x916 & x917 & x918 & x919 & x920 & x921 & x922 & x923 & x924 & x925 & x926 & x927 & x928 & x929 & x930 & x931 & x932 & x933 & x934 & x935 & x936 & x937 & x938 & x939 & x940 & x941 & x942 & x943 & x944 & x945 & x946 & x947 & x948 & x949 & x950 & x951 & x952 & x953 & x954 & x955 & x956 & x957 & x958 & x959 & x960 & x961 & x962 & x963 & x964 & x965 & x966 & x967 & x968 & x969 & x970 & x971 & x972 & x973 & x974 & x975 & x976 & x977 & x978 & x979 & x980 & x981 & x982 & x983 & x984 & x985 & x986 & x987 & x988 & x989 & x990 & x991 & x992 & x993 & x994 & x995 & x996 & x997 & x998 & x999 & x1000 & x1001 & x1002 & x1003 & x1004 & x1005 & x1006 & x1007 & x1008 & x1009 & x1010 & x1011 & x1012 & x1013 & x1014 & x1015 & x1016 & x1017 & x1018 & x1019 & x1020 & x1021 & x1022 & x1023 & x1024 & x1025 & x1026 & x1027 & x1028 & x1029 & x1030 & x1031 & x1032 & x1033 & x1034 & x1035 & x1036 & x1037 & x1038 & x1039 & x1040 & x1041 & x1042 & x1043 & x1044 & x1045 & x1046 & x1047 & x1048 & x1049 & x1050 & x1051 & x1052 & x1053 & x1054 & x1055 & x1056 & x1057 & x1058 & x1059 & x1060 & x1061 & x1062 & x1063 & x1064 & x1065 & x1066 & x1067 & x1068 & x1069 & x1070 & x1071 & x1072 & x1073 & x1074 & x1075 & x1076 & x1077 & x1078 & x1079 & x1080 & x1081 & x1082 & x1083 & x1084 & x1085 & x1086 & x1087 & x1088 & x1089 & x1090 & x1091 & x1092 & x1093 & x1094 & x1095 & x1096 & x1097 & x1098 & x1099 & x1100 & x1101 & x1102 & x1103 & x1104 & x1105 & x1106 & x1107 & x1108 & x1109 & x1110 & x1111 & x1112 & x1113 & x1114 & x1115 & x1116 & x1117 & x1118 & x1119 & x1120 & x1121 & x1122 & x1123 & x1124 & x1125 & x1126 & x1127 & x1128 & x1129 & x1130 & x1131 & x1132 & x1133 & x1134 & x1135 & x1136 & x1137 & x1138 & x1139 & x1140 & x1141 & x1142 & x1143 & x1144 & x1145 & x1146 & x1147 & x1148 & x1149 & x1150 & x1151 & x1152 & x1153 & x1154 & x1155 & x1156 & x1157 & x1158 & x1159 & x1160 & x1161 & x1162 & x1163 & x1164 & x1165 & x1166 & x1167 & x1168 & x1169 & x1170 & x1171 & x1172 & x1173 & x1174 & x1175 & x1176 & x1177 & x1178 & x1179 & x1180 & x1181 & x1182 & x1183 & x1184 & x1185 & x1186 & x1187 & x1188 & x1189 & x1190 & x1191 & x1192 & x1193 & x1194 & x1195 & x1196 & x1197 & x1198 & x1199 & x1200 & x1201 & x1202 & x1203 & x1204 & x1205 & x1206 & x1207 & x1208 & x1209 & x1210 & x1211 & x1212 & x1213 & x1214 & x1215 & x1216 & x1217 & x1218 & x1219 & x1220 & x1221 & x1222 & x1223 & x1224 & x1225 & x1226 & x1227 & x1228 & x1229 & x1230 & x1231 & x1232 & x1233 & x1234 & x1235 & x1236 & x1237 & x1238 & x1239 & x1240 & x1241 & x1242 & x1243 & x1244 & x1245 & x1246 & x1247 & x1248 & x1249 & x1250 & x1251 & x1252 & x1253 & x1254 & x1255 & x1256 & x1257 & x1258 & x1259 & x1260 & x1261 & x1262 & x1263 & x1264 & x1265 & x1266 & x1267 & x1268 & x1269 & x1270 & x1271 & x1272 & x1273 & x1274 & x1275 & x1276 & x1277 & x1278 & x1279 & x1280\\\\\n",
       "\t\\hline\n",
       "\t1 & id & wPt.0538 & wPt.8463 & wPt.6348 & wPt.9992 & wPt.2838 & wPt.8266 & wPt.1100 & wPt.0653 & wPt.4418 & wPt.2152 & wPt.9049 & wPt.7068 & wPt.1681 & wPt.5480 & wPt.1695 & wPt.4025 & wPt.4125 & wPt.7238 & wPt.7924 & wPt.4029 & wPt.5672 & wPt.4600 & wPt.4209 & wPt.6777 & wPt.8124 & wPt.6117 & wPt.5877 & wPt.4814 & wPt.9368 & wPt.0245 & wPt.8894 & wPt.0473 & wPt.4602 & wPt.9196 & wPt.1741 & wPt.3855 & wPt.8921 & wPt.1505 & wPt.9532 & wPt.0205 & wPt.1547 & wPt.4427 & wPt.4419 & wPt.6853 & wPt.5027 & wPt.3611 & wPt.2866 & wPt.3605 & wPt.1272 & wPt.1940 & wPt.5688 & wPt.3533 & wPt.3563 & wPt.1191 & wPt.3677 & wPt.3774 & wPt.6214 & wPt.9270 & wPt.8015 & wPt.3109 & wPt.0789 & wPt.8021 & wPt.3804 & wPt.6343 & wPt.0312 & wPt.6965 & wPt.0049 & wPt.3879 & wPt.4720 & wPt.7063 & wPt.7229 & wPt.9757 & wPt.4283 & wPt.2185 & wPt.5234 & wPt.3451 & wPt.8283 & wPt.1313 & wPt.3376 & wPt.7906 & wPt.7360 & wPt.1589 & wPt.7024 & wPt.0695 & wPt.8949 & wPt.2872 & wPt.1420 & wPt.3491 & wPt.8986 & wPt.6442 & wPt.2644 & wPt.3738 & wPt.6502 & wPt.3030 & wPt.2013 & wPt.4597 & wPt.7947 & wPt.8183 & wPt.7821 & wPt.0689 & wPt.4748 & wPt.5390 & wPt.3244 & wPt.1737 & wPt.8569 & wPt.4199 & wPt.1560 & wPt.9746 & wPt.4569 & wPt.6997 & wPt.9552 & wPt.4709 & wPt.8752 & wPt.2311 & wPt.9266 & wPt.5587 & wPt.0105 & wPt.7413 & wPt.6427 & wPt.4129 & wPt.8016 & wPt.2689 & wPt.7777 & wPt.2938 & wPt.3870 & wPt.8054 & wPt.3608 & wPt.3462 & wPt.5547 & wPt.5716 & wPt.8460 & wPt.5343 & wPt.0259 & wPt.0950 & wPt.2106 & wPt.3247 & wPt.2416 & wPt.7711 & wPt.2501 & wPt.6074 & wPt.1657 & wPt.3389 & wPt.1922 & wPt.2572 & wPt.4229 & wPt.4386 & wPt.9467 & wPt.1085 & wPt.1362 & wPt.2424 & wPt.0615 & wPt.7150 & wPt.5749 & wPt.7502 & wPt.5914 & wPt.8399 & wPt.0465 & wPt.3697 & wPt.9522 & wPt.4140 & wPt.1176 & wPt.9154 & wPt.7872 & wPt.0228 & wPt.8167 & wPt.0032 & wPt.2406 & wPt.8833 & wPt.9418 & wPt.5334 & wPt.9796 & wPt.5320 & wPt.6661 & wPt.0619 & wPt.3114 & wPt.4576 & wPt.8770 & wPt.2464 & wPt.0098 & wPt.7695 & wPt.9925 & wPt.2497 & wPt.1723 & wPt.7027 & wPt.8404 & wPt.1377 & wPt.0170 & wPt.7608 & wPt.0419 & wPt.4721 & wPt.8043 & wPt.6967 & wPt.5333 & wPt.9075 & wPt.2266 & wPt.7273 & wPt.5265 & wPt.5489 & wPt.5590 & wPt.2260 & wPt.8292 & wPt.4660 & wPt.4370 & wPt.4645 & wPt.4555 & wPt.1770 & wPt.0995 & wPt.1489 & wPt.4924 & wPt.0094 & wPt.8072 & wPt.7785 & wPt.7626 & wPt.5408 & wPt.1628 & wPt.1165 & wPt.1209 & wPt.8492 & wPt.7627 & wPt.9822 & wPt.3130 & wPt.5942 & wPt.1196 & wPt.9562 & wPt.0405 & wPt.7354 & wPt.6735 & wPt.5506 & wPt.4144 & wPt.3816 & wPt.4725 & wPt.8449 & wPt.4765 & wPt.1264 & wPt.2565 & wPt.2698 & wPt.7030 & wPt.3045 & wPt.9857 & wPt.1852 & wPt.3743 & wPt.0164 & wPt.3566 & wPt.4407 & wPt.9859 & wPt.6156 & wPt.0036 & wPt.9668 & wPt.4988 & wPt.0365 & wPt.9788 & wPt.3581 & wPt.2379 & wPt.3733 & wPt.2054 & wPt.6142 & wPt.3921 & wPt.5892 & wPt.5816 & wPt.7034 & wPt.9952 & wPt.3468 & wPt.1684 & wPt.3661 & wPt.2575 & wPt.1482 & wPt.1325 & wPt.1688 & wPt.7599 & wPt.7842 & wPt.0484 & wPt.5556 & wPt.2273 & wPt.1733 & wPt.5996 & wPt.5836 & wPt.1743 & wPt.0021 & wPt.5172 & wPt.6404 & wPt.8657 & wPt.4596 & wPt.5316 & wPt.9833 & wPt.9382 & wPt.7956 & wPt.9474 & wPt.5067 & wPt.3965 & wPt.8004 & wPt.1822 & wPt.3561 & wPt.3116 & wPt.8920 & wPt.7101 & wPt.5696 & wPt.0921 & wPt.6854 & wPt.7642 & wPt.8328 & wPt.8343 & wPt.4290 & wPt.5346 & wPt.6047 & wPt.7280 & wPt.9624 & wPt.0745 & wPt.4572 & wPt.3349 & wPt.9205 & wPt.0935 & wPt.2258 & wPt.2151 & wPt.8960 & wPt.3833 & wPt.1664 & wPt.0359 & wPt.0100 & wPt.5175 & wPt.3457 & wPt.8168 & wPt.8412 & wPt.4172 & wPt.2781 & wPt.2755 & wPt.9930 & wPt.8396 & wPt.7887 & wPt.0477 & wPt.0959 & wPt.7992 & wPt.1400 & wPt.8713 & wPt.4835 & wPt.6560 & wPt.3836 & wPt.7151 & wPt.9402 & wPt.1301 & wPt.3992 & wPt.3569 & wPt.8616 & wPt.9598 & wPt.2559 & wPt.8141 & wPt.6447 & wPt.6019 & wPt.9904 & wPt.4134 & wPt.6320 & wPt.9887 & wPt.1541 & wPt.2897 & wPt.0471 & wPt.2614 & wPt.5870 & wPt.1048 & wPt.1046 & wPt.0817 & wPt.1457 & wPt.1149 & wPt.2636 & wPt.5765 & wPt.9903 & wPt.3226 & wPt.0694 & wPt.2356 & wPt.5738 & wPt.3334 & wPt.0128 & wPt.6434 & wPt.3707 & wPt.5256 & wPt.1159 & wPt.4996 & wPt.3378 & wPt.0705 & wPt.1314 & wPt.7015 & wPt.8644 & wPt.4662 & wPt.1531 & wPt.5934 & wPt.9103 & wPt.1437 & wPt.9664 & wPt.5138 & wPt.3309 & wPt.6970 & wPt.2305 & wPt.5652 & wPt.7330 & wPt.5825 & wPt.1011 & wPt.3723 & wPt.8446 & wPt.7046 & wPt.8545 & wPt.9116 & wPt.2788 & wPt.0832 & wPt.6688 & wPt.9170 & wPt.7614 & wPt.4532 & wPt.1403 & wPt.7004 & wPt.1708 & wPt.9277 & wPt.1562 & wPt.8267 & wPt.1155 & wPt.3824 & wPt.5505 & wPt.6005 & wPt.0610 & wPt.3093 & wPt.6904 & wPt.1554 & wPt.7665 & wPt.5270 & wPt.0357 & wPt.7623 & wPt.2087 & wPt.7299 & wPt.5769 & wPt.0864 & wPt.4916 & wPt.7108 & wPt.5350 & wPt.7142 & wPt.3465 & wPt.4476 & wPt.0246 & wPt.5434 & wPt.1888 & wPt.7092 & wPt.4487 & wPt.3086 & wPt.6754 & wPt.4424 & wPt.2218 & wPt.5896 & wPt.5865 & wPt.3983 & wPt.2847 & wPt.6654 & wPt.6709 & wPt.9690 & wPt.8841 & wPt.3524 & wPt.2291 & wPt.0008 & wPt.5851 & wPt.3922 & wPt.7475 & wPt.8000 & wPt.0047 & wPt.9990 & wPt.2527 & wPt.5069 & wPt.0934 & wPt.0884 & wPt.9369 & wPt.3939 & wPt.6687 & wPt.9510 & wPt.2526 & wPt.9432 & wPt.1826 & wPt.7576 & wPt.5242 & wPt.7486 & wPt.4553 & wPt.0413 & wPt.9679 & wPt.3132 & wPt.8886 & wPt.8239 & wPt.2573 & wPt.4559 & wPt.8091 & wPt.1533 & wPt.3282 & wPt.0944 & wPt.5562 & wPt.8814 & wPt.7946 & c.117337 & c.117411 & c.117416 & c.117417 & c.117418 & c.117419 & c.117430 & c.117438 & c.117439 & c.117444 & c.117446 & c.117448 & c.117472 & c.117474 & c.117493 & c.117500 & wPt.9804 & wPt.9310 & wPt.5096 & wPt.8650 & wPt.8658 & wPt.9268 & wPt.4412 & wPt.2150 & wPt.5118 & wPt.0384 & wPt.5533 & wPt.6627 & wPt.7160 & wPt.4016 & wPt.8271 & wPt.1263 & wPt.5274 & wPt.9256 & wPt.1903 & wPt.3459 & wPt.8721 & wPt.0744 & wPt.1642 & wPt.3948 & wPt.0696 & wPt.4218 & wPt.3728 & wPt.3393 & wPt.0330 & wPt.5049 & wPt.4017 & wPt.1911 & wPt.0431 & wPt.2991 & wPt.4796 & wPt.3477 & wPt.1167 & wPt.0280 & wPt.7636 & wPt.2951 & wPt.7062 & wPt.9124 & wPt.1302 & wPt.9181 & wPt.3904 & wPt.4706 & wPt.6785 & wPt.0504 & wPt.2095 & wPt.6460 & wPt.5313 & wPt.1931 & wPt.4680 & wPt.1951 & wPt.6273 & wPt.7767 & wPt.3388 & wPt.4917 & wPt.5128 & wPt.6199 & wPt.3978 & wPt.1250 & wPt.3108 & wPt.6994 & wPt.2216 & wPt.9401 & wPt.5801 & wPt.1812 & wPt.5231 & wPt.0391 & wPt.6668 & wPt.1512 & wPt.6116 & wPt.2448 & wPt.0194 & wPt.7954 & wPt.6234 & wPt.5906 & wPt.3177 & wPt.4434 & wPt.7951 & wPt.7026 & wPt.7662 & wPt.9977 & wPt.9380 & wPt.2160 & wPt.9592 & wPt.8006 & wPt.4620 & wPt.7939 & wPt.0240 & wPt.6931 & wPt.4533 & wPt.9951 & wPt.3632 & wPt.9814 & wPt.3753 & wPt.7907 & wPt.1259 & wPt.9422 & wPt.3795 & wPt.0697 & wPt.5745 & wPt.3118 & wPt.7009 & wPt.1853 & wPt.3328 & wPt.4936 & wPt.1973 & wPt.7204 & wPt.8876 & wPt.0853 & wPt.6726 & wPt.2315 & wPt.2725 & wPt.8268 & wPt.7756 & wPt.9454 & wPt.6575 & wPt.5176 & wPt.0974 & wPt.4249 & wPt.5674 & wPt.2551 & wPt.3923 & wPt.0373 & wPt.7394 & wPt.2994 & wPt.1370 & wPt.2084 & wPt.4301 & wPt.5647 & wPt.0408 & wPt.5037 & wPt.8226 & wPt.4131 & wPt.2019 & wPt.9793 & wPt.1023 & wPt.9350 & wPt.0605 & wPt.2135 & wPt.1171 & wPt.2933 & wPt.7114 & wPt.3304 & wPt.4545 & wPt.9666 & wPt.5105 & wPt.4858 & wPt.1859 & wPt.7807 & wPt.7757 & wPt.3636 & wPt.9780 & c.303848 & c.303849 & c.303877 & c.303887 & c.303896 & c.303931 & c.303943 & c.303944 & c.303948 & c.303952 & c.303974 & c.304024 & c.304025 & c.304031 & c.304045 & c.304060 & c.304069 & c.304128 & c.304141 & c.304157 & c.304166 & c.304172 & c.304200 & c.304205 & c.304211 & c.304224 & c.304244 & c.304248 & c.304255 & c.304264 & c.304278 & c.304279 & c.304283 & c.304307 & c.304317 & c.304329 & c.304361 & c.304364 & c.304367 & c.304382 & c.304383 & c.304391 & c.304407 & c.304424 & c.304430 & c.304454 & c.304485 & c.304513 & c.304544 & c.304547 & c.304560 & c.304566 & c.304576 & c.304600 & c.304610 & c.304635 & c.304657 & c.304668 & c.304677 & c.304691 & c.304701 & c.304723 & c.304771 & c.304777 & c.304782 & c.304801 & c.304802 & c.304805 & c.304835 & c.304839 & c.304842 & c.304851 & c.304885 & c.304915 & c.304934 & c.304962 & c.304972 & c.304991 & c.305013 & c.305044 & c.305054 & c.305092 & c.305107 & c.305115 & c.305151 & c.305166 & c.305220 & c.305231 & c.305232 & c.305238 & c.305270 & c.305301 & c.305338 & c.305342 & c.305345 & c.305387 & c.305406 & c.305417 & c.305423 & c.305496 & c.305501 & c.305528 & c.305561 & c.305569 & c.305613 & c.305697 & c.305701 & c.305711 & c.305713 & c.305726 & c.305742 & c.305829 & c.306004 & c.306023 & c.306024 & c.306034 & c.306099 & c.306153 & c.306188 & c.306596 & c.306872 & c.310624 & c.310864 & c.310877 & c.310954 & c.311004 & c.311407 & c.311566 & c.311648 & c.311736 & c.311893 & c.312155 & c.312361 & c.312377 & c.312411 & c.312549 & c.312613 & c.312736 & c.312808 & c.312980 & c.313026 & c.343366 & c.343378 & c.343392 & c.343426 & c.343478 & c.343583 & c.343694 & c.343738 & c.343777 & c.343821 & c.343833 & c.343844 & c.343869 & c.343912 & c.343926 & c.343930 & c.343936 & c.343943 & c.343945 & c.343986 & c.343987 & c.343989 & c.343999 & c.344008 & c.344062 & c.344065 & c.344082 & c.344090 & c.344101 & c.344107 & c.344123 & c.344152 & c.344179 & c.344244 & c.344247 & c.344260 & c.344272 & c.344275 & c.344289 & c.344301 & c.344315 & c.344329 & c.344330 & c.344382 & c.344385 & c.344388 & c.344410 & c.344422 & c.344425 & c.344427 & c.344429 & c.344480 & c.344517 & c.344544 & c.344553 & c.344560 & c.344562 & c.344573 & c.344609 & c.344644 & c.344673 & c.344692 & c.344700 & c.344712 & c.344746 & c.344758 & c.344799 & c.344809 & c.344869 & c.344943 & c.344955 & c.344962 & c.344973 & c.344977 & c.344980 & c.344998 & c.344999 & c.345020 & c.345031 & c.345032 & c.345054 & c.345055 & c.345072 & c.345074 & c.345088 & c.345090 & c.345107 & c.345127 & c.345150 & c.345152 & c.345194 & c.345203 & c.345225 & c.345237 & c.345245 & c.345250 & c.345254 & c.345285 & c.345306 & c.345319 & c.345327 & c.345341 & c.345359 & c.345364 & c.345368 & c.345374 & c.345442 & c.345454 & c.345456 & c.345471 & c.345492 & c.345497 & c.345532 & c.345541 & c.345561 & c.345566 & c.345583 & c.345585 & c.345619 & c.345625 & c.345634 & c.345638 & c.345641 & c.345668 & c.345672 & c.345722 & c.345746 & c.345767 & c.345830 & c.345836 & c.345838 & c.345869 & c.345897 & c.345905 & c.345922 & c.345926 & c.345947 & c.345995 & c.346000 & c.346019 & c.346027 & c.346038 & c.346078 & c.346098 & c.346131 & c.346133 & c.346134 & c.346154 & c.346196 & c.346227 & c.346229 & c.346235 & c.346237 & c.346241 & c.346246 & c.346249 & c.346314 & c.346335 & c.346343 & c.346386 & c.346394 & c.346407 & c.346523 & c.346533 & c.346554 & c.346623 & c.346746 & c.346775 & c.346784 & c.346828 & c.346852 & c.346879 & c.346957 & c.347009 & c.347042 & c.347108 & c.347194 & c.347223 & c.347249 & c.347295 & c.347335 & c.347395 & c.347432 & c.347521 & c.347681 & c.347702 & c.347725 & c.347821 & c.347917 & c.347929 & c.347958 & c.347989 & c.348013 & c.348015 & c.348051 & c.348071 & c.348101 & c.348103 & c.348111 & c.348126 & c.348129 & c.348141 & c.348181 & c.348186 & c.348206 & c.348216 & c.348225 & c.348246 & c.348252 & c.348294 & c.348314 & c.348355 & c.348358 & c.348369 & c.348373 & c.348383 & c.348404 & c.348413 & c.348420 & c.348456 & c.348464 & c.348465 & c.348496 & c.348498 & c.348501 & c.348521 & c.348528 & c.348540 & c.348553 & c.348559 & c.348582 & c.348591 & c.348609 & c.348633 & c.348652 & c.348667 & c.348674 & c.348728 & c.348732 & c.348774 & c.348880 & c.348929 & c.349121 & c.349142 & c.349151 & c.349157 & c.349170 & c.349206 & c.349207 & c.349220 & c.349234 & c.349259 & c.349264 & c.349277 & c.349302 & c.349303 & c.349305 & c.349329 & c.349333 & c.349397 & c.349410 & c.349417 & c.349438 & c.349457 & c.349495 & c.349504 & c.370577 & c.372366 & c.372376 & c.372377 & c.372404 & c.372408 & c.372424 & c.372455 & c.372464 & c.372470 & c.372480 & c.372483 & c.372490 & c.372508 & c.372515 & c.372522 & c.372528 & c.372535 & c.372541 & c.372565 & c.372567 & c.372574 & c.372596 & c.372599 & c.372621 & c.372640 & c.372641 & c.372664 & c.372669 & c.372675 & c.372684 & c.372691 & c.372696 & c.372712 & c.372717 & c.372845 & c.372897 & c.372967 & c.373063 & c.373080 & c.373172 & c.373185 & c.373205 & c.373218 & c.373376 & c.373384 & c.373747 & c.373816 & c.373879 & c.373892 & c.373928 & c.373941 & c.374042 & c.374068 & c.374164 & c.374431 & c.374835 & c.374903 & c.375042 & c.375127 & c.375371 & c.375520 & c.375616 & c.375736 & c.375787 & c.375921 & c.375954 & c.376040 & c.376167 & c.376312 & c.376332 & c.376380 & c.376404 & c.376406 & c.376463 & c.376528 & c.376551 & c.376593 & c.376851 & c.377353 & c.377383 & c.377405 & c.377410 & c.377416 & c.377478 & c.377479 & c.377494 & c.377565 & c.377577 & c.377579 & c.377607 & c.377656 & c.377693 & c.377694 & c.377714 & c.377734 & c.377781 & c.377784 & c.377823 & c.377925 & c.377941 & c.377954 & c.377959 & c.377964 & c.378027 & c.378047 & c.378079 & c.378083 & c.378140 & c.378142 & c.378173 & c.378212 & c.378214 & c.378216 & c.378243 & c.378288 & c.378294 & c.378303 & c.378328 & c.378331 & c.378352 & c.378405 & c.378503 & c.378535 & c.378539 & c.378563 & c.378579 & c.378600 & c.378601 & c.378616 & c.378619 & c.378625 & c.378650 & c.378696 & c.378704 & c.378706 & c.378717 & c.378765 & c.378781 & c.378828 & c.378832 & c.378859 & c.378886 & c.378892 & c.378896 & c.378903 & c.378956 & c.379040 & c.379070 & c.379092 & c.379105 & c.379269 & c.379274 & c.379285 & c.379317 & c.379413 & c.379495 & c.379596 & c.379640 & c.379652 & c.379655 & c.379670 & c.379698 & c.379716 & c.379717 & c.379733 & c.379771 & c.379790 & c.379821 & c.379865 & c.379940 & c.380050 & c.380120 & c.380161 & c.380196 & c.380217 & c.380225 & c.380253 & c.380272 & c.380286 & c.380591 & c.380632 & c.380675 & c.380762 & c.381049 & c.381104 & c.381146 & c.381227 & c.381467 & c.381486 & c.381523 & c.381695 & c.381717 & c.381764 & c.381838 & c.381845 & c.381874 & c.381876 & c.381932 & c.408111 & c.408112 & c.408149 & c.408266 & c.408290 & c.408294 & c.408330 & c.408336 & c.408375 & c.408393 & c.408422 & c.408424 & c.408426 & c.408443 \\\\\n",
       "\t2 & 1 & 0 & 1 & 1 & 1 & 1 & 0 & 1 & 1 & 1 & 1 & 1 & 1 & 0 & 0 & 0 & 1 & 0 & 1 & 1 & 0 & 0 & 1 & 1 & 1 & 1 & 1 & 1 & 1 & 0 & 1 & 1 & 0 & 1 & 1 & 0 & 1 & 1 & 1 & 1 & 1 & 1 & 1 & 1 & 0 & 1 & 1 & 0 & 1 & 1 & 0 & 0 & 1 & 1 & 1 & 1 & 1 & 1 & 1 & 0 & 1 & 1 & 0 & 1 & 0 & 0 & 0 & 1 & 1 & 0 & 0 & 1 & 1 & 0 & 1 & 0 & 0 & 1 & 1 & 0 & 1 & 1 & 1 & 0 & 1 & 1 & 0 & 1 & 0 & 1 & 1 & 0 & 1 & 1 & 0 & 1 & 1 & 0 & 1 & 1 & 1 & 0 & 1 & 0 & 1 & 0 & 1 & 0 & 1 & 0 & 0 & 1 & 1 & 1 & 1 & 1 & 1 & 1 & 1 & 1 & 1 & 0 & 1 & 1 & 1 & 1 & 1 & 0 & 1 & 1 & 1 & 0 & 0 & 1 & 1 & 0 & 1 & 0 & 0 & 0 & 1 & 0 & 0 & 0 & 1 & 1 & 0 & 0 & 1 & 0 & 1 & 1 & 0 & 1 & 1 & 1 & 0 & 0 & 1 & 1 & 1 & 1 & 1 & 1 & 0 & 0 & 0 & 1 & 0 & 0 & 1 & 1 & 0 & 0 & 1 & 0 & 1 & 1 & 0 & 1 & 1 & 0 & 1 & 1 & 1 & 1 & 1 & 1 & 1 & 1 & 0 & 1 & 1 & 1 & 1 & 1 & 1 & 1 & 1 & 1 & 0 & 1 & 1 & 1 & 1 & 0 & 1 & 1 & 1 & 1 & 0 & 1 & 1 & 1 & 1 & 1 & 0 & 1 & 0 & 1 & 1 & 0 & 1 & 1 & 1 & 1 & 0 & 1 & 1 & 1 & 1 & 1 & 1 & 1 & 0 & 1 & 1 & 1 & 0 & 1 & 1 & 0 & 1 & 1 & 1 & 1 & 1 & 1 & 1 & 1 & 1 & 1 & 1 & 1 & 1 & 1 & 0 & 0 & 1 & 1 & 0 & 1 & 0 & 1 & 0 & 0 & 1 & 0 & 0 & 1 & 0 & 0 & 0 & 1 & 1 & 1 & 1 & 0 & 0 & 0 & 0 & 0 & 1 & 0 & 1 & 1 & 1 & 1 & 1 & 1 & 0 & 1 & 1 & 1 & 0 & 1 & 0 & 1 & 0 & 1 & 1 & 0 & 0 & 1 & 1 & 1 & 1 & 0 & 0 & 1 & 0 & 0 & 1 & 0 & 1 & 1 & 0 & 1 & 1 & 1 & 1 & 1 & 1 & 0 & 0 & 0 & 0 & 1 & 1 & 1 & 0 & 0 & 1 & 1 & 1 & 1 & 0 & 1 & 1 & 0 & 1 & 1 & 1 & 1 & 1 & 1 & 1 & 1 & 0 & 0 & 0 & 0 & 0 & 0 & 1 & 1 & 0 & 1 & 0 & 1 & 1 & 0 & 0 & 1 & 1 & 1 & 1 & 1 & 0 & 1 & 1 & 1 & 1 & 1 & 1 & 0 & 1 & 0 & 0 & 1 & 1 & 1 & 0 & 1 & 1 & 1 & 1 & 0 & 1 & 1 & 0 & 1 & 0 & 1 & 0 & 1 & 1 & 0 & 1 & 1 & 1 & 0 & 0 & 1 & 1 & 1 & 0 & 1 & 0 & 0 & 1 & 1 & 0 & 1 & 1 & 0 & 0 & 0 & 0 & 1 & 1 & 0 & 0 & 1 & 0 & 0 & 0 & 0 & 0 & 0 & 1 & 1 & 1 & 1 & 0 & 1 & 1 & 0 & 1 & 0 & 1 & 0 & 1 & 0 & 0 & 0 & 0 & 1 & 1 & 0 & 1 & 1 & 0 & 1 & 1 & 1 & 1 & 1 & 1 & 0 & 0 & 0 & 1 & 0 & 1 & 0 & 1 & 0 & 1 & 0 & 0 & 1 & 0 & 1 & 1 & 1 & 1 & 1 & 0 & 1 & 0 & 1 & 0 & 0 & 1 & 1 & 1 & 1 & 1 & 1 & 0 & 1 & 1 & 1 & 1 & 1 & 0 & 0 & 0 & 1 & 1 & 1 & 1 & 0 & 1 & 1 & 1 & 1 & 0 & 1 & 1 & 1 & 0 & 0 & 1 & 1 & 1 & 1 & 0 & 0 & 0 & 1 & 1 & 1 & 1 & 1 & 1 & 1 & 1 & 0 & 1 & 0 & 1 & 1 & 1 & 0 & 1 & 0 & 1 & 1 & 1 & 1 & 1 & 1 & 1 & 1 & 1 & 0 & 1 & 0 & 1 & 1 & 1 & 1 & 0 & 1 & 1 & 0 & 1 & 0 & 0 & 1 & 1 & 0 & 1 & 1 & 0 & 0 & 1 & 0 & 0 & 0 & 1 & 0 & 0 & 1 & 1 & 1 & 0 & 1 & 1 & 0 & 1 & 1 & 1 & 1 & 0 & 1 & 1 & 1 & 0 & 0 & 0 & 0 & 0 & 1 & 1 & 1 & 0 & 1 & 1 & 1 & 1 & 1 & 1 & 0 & 0 & 1 & 1 & 0 & 1 & 1 & 1 & 1 & 1 & 1 & 1 & 1 & 1 & 1 & 1 & 0 & 1 & 1 & 0 & 1 & 1 & 1 & 1 & 1 & 0 & 1 & 1 & 0 & 0 & 1 & 0 & 1 & 1 & 1 & 1 & 1 & 1 & 1 & 1 & 1 & 1 & 1 & 1 & 1 & 1 & 1 & 1 & 1 & 1 & 1 & 0 & 0 & 1 & 0 & 1 & 0 & 0 & 1 & 0 & 0 & 1 & 1 & 1 & 0 & 1 & 1 & 0 & 1 & 1 & 0 & 1 & 1 & 1 & 1 & 1 & 1 & 1 & 0 & 1 & 1 & 1 & 1 & 1 & 0 & 0 & 0 & 1 & 1 & 1 & 1 & 0 & 0 & 1 & 1 & 1 & 1 & 1 & 1 & 0 & 1 & 1 & 1 & 1 & 1 & 1 & 1 & 0 & 0 & 1 & 1 & 1 & 1 & 0 & 1 & 0 & 1 & 0 & 1 & 1 & 1 & 0 & 1 & 1 & 1 & 0 & 0 & 0 & 0 & 0 & 0 & 1 & 1 & 1 & 1 & 1 & 1 & 1 & 0 & 0 & 0 & 1 & 1 & 1 & 0 & 1 & 1 & 1 & 1 & 1 & 1 & 1 & 1 & 0 & 1 & 1 & 1 & 1 & 1 & 1 & 1 & 0 & 0 & 1 & 0 & 0 & 0 & 1 & 1 & 1 & 0 & 0 & 1 & 0 & 1 & 1 & 0 & 1 & 0 & 1 & 1 & 1 & 1 & 0 & 0 & 1 & 1 & 1 & 1 & 0 & 1 & 0 & 1 & 0 & 0 & 0 & 1 & 0 & 0 & 1 & 1 & 1 & 1 & 1 & 0 & 1 & 0 & 0 & 0 & 1 & 1 & 1 & 0 & 1 & 1 & 0 & 0 & 1 & 1 & 1 & 0 & 0 & 0 & 0 & 1 & 0 & 1 & 1 & 1 & 0 & 1 & 1 & 1 & 0 & 1 & 0 & 0 & 1 & 1 & 0 & 1 & 1 & 1 & 0 & 1 & 0 & 1 & 1 & 0 & 1 & 1 & 0 & 1 & 1 & 0 & 1 & 1 & 1 & 0 & 1 & 0 & 1 & 1 & 0 & 1 & 0 & 0 & 0 & 0 & 0 & 0 & 1 & 0 & 0 & 1 & 1 & 1 & 1 & 0 & 1 & 1 & 1 & 1 & 1 & 1 & 0 & 1 & 1 & 1 & 0 & 1 & 1 & 0 & 0 & 1 & 1 & 1 & 1 & 1 & 0 & 0 & 1 & 0 & 1 & 1 & 1 & 0 & 1 & 0 & 0 & 1 & 1 & 0 & 1 & 1 & 1 & 0 & 1 & 0 & 1 & 0 & 1 & 1 & 0 & 1 & 1 & 0 & 0 & 0 & 1 & 1 & 1 & 0 & 1 & 1 & 0 & 1 & 0 & 1 & 0 & 1 & 1 & 1 & 1 & 1 & 1 & 0 & 0 & 0 & 1 & 0 & 1 & 1 & 0 & 1 & 0 & 0 & 1 & 0 & 0 & 0 & 0 & 0 & 1 & 0 & 1 & 0 & 0 & 0 & 0 & 0 & 0 & 0 & 0 & 0 & 1 & 1 & 0 & 0 & 0 & 1 & 1 & 0 & 0 & 0 & 0 & 1 & 0 & 1 & 1 & 1 & 0 & 0 & 0 & 1 & 0 & 1 & 0 & 0 & 1 & 1 & 1 & 0 & 0 & 1 & 0 & 1 & 0 & 1 & 1 & 0 & 0 & 1 & 0 & 0 & 0 & 1 & 0 & 1 & 1 & 0 & 1 & 0 & 0 & 1 & 1 & 1 & 0 & 0 & 1 & 1 & 0 & 0 & 1 & 0 & 1 & 1 & 1 & 0 & 0 & 1 & 0 & 0 & 1 & 0 & 1 & 0 & 0 & 1 & 0 & 0 & 1 & 0 & 0 & 0 & 1 & 1 & 1 & 1 & 1 & 0 & 1 & 1 & 1 & 1 & 1 & 1 & 1 & 1 & 1 & 0 & 1 & 0 & 1 & 1 & 1 & 1 & 1 & 0 & 1 & 1 & 0 & 1 & 1 & 0 & 1 & 1 & 0 & 1 & 0 & 1 & 1 & 1 & 1 & 1 & 1 & 1 & 1 & 0 & 1 & 0 & 1 & 1 & 1 & 1 & 1 & 1 & 1 & 1 & 1 & 1 & 0 & 1 & 1 & 0 & 1 & 1 & 1 & 0 & 1 & 1 & 0 & 0 & 1 & 0 & 0 & 1 & 0 & 0 & 0 & 0 & 0 & 0 & 0 & 0 & 0 & 0 & 0 & 1 & 0 & 1 & 1 & 0 & 0 & 1 & 0 & 1 & 1 & 1 & 1 & 0 & 1 & 0 & 0 & 0 & 0 & 1 & 1 & 0 & 0 & 0 & 1 & 0 & 1 & 0 & 1 & 1 & 1 & 1 & 1 & 1 & 1 & 1 & 0 & 1 & 1 & 1 & 0 & 1 & 0 & 1 & 1 & 0 & 1 & 0 & 0 & 1 & 1 & 1 & 1 & 1 & 0 & 1 & 0 & 0 & 1 & 1 & 1 & 0 & 1 & 0 & 1 & 1 & 0 & 0 & 0 & 1 & 1 & 0 & 0 & 0 & 1 & 1 & 0 & 1 & 1 & 1 & 1 & 1 & 1 & 1 & 1 & 1 & 0 & 0 & 0 & 1 & 0 & 1 & 0 & 1 & 0 & 1 & 1 & 1 & 1 & 0 & 1 & 1 & 0 & 0 & 0 & 0 & 1 & 1 & 0 & 0 & 1 & 1 & 0 & 1 & 1 & 0 & 1 & 0 & 1 & 1 & 0 & 1 & 1 & 0 & 1 & 1 & 0 & 1 & 1 & 0 & 1 & 1 & 1 & 0 & 0 & 0 & 0 & 1 \\\\\n",
       "\t3 & 2 & 1 & 1 & 1 & 1 & 1 & 0 & 1 & 1 & 0 & 1 & 1 & 0 & 1 & 0 & 0 & 1 & 0 & 1 & 0 & 0 & 0 & 0 & 1 & 1 & 1 & 1 & 0 & 0 & 0 & 1 & 0 & 0 & 0 & 0 & 1 & 1 & 0 & 0 & 0 & 1 & 0 & 0 & 1 & 1 & 1 & 1 & 1 & 1 & 0 & 0 & 0 & 1 & 1 & 1 & 1 & 1 & 0 & 0 & 1 & 0 & 0 & 0 & 1 & 0 & 1 & 1 & 0 & 1 & 0 & 1 & 0 & 1 & 0 & 1 & 1 & 0 & 1 & 1 & 1 & 1 & 1 & 1 & 0 & 0 & 1 & 1 & 0 & 0 & 1 & 1 & 1 & 1 & 0 & 0 & 1 & 0 & 0 & 1 & 0 & 1 & 0 & 1 & 1 & 1 & 1 & 1 & 0 & 1 & 0 & 0 & 1 & 0 & 1 & 0 & 0 & 1 & 0 & 1 & 1 & 0 & 0 & 1 & 1 & 1 & 0 & 1 & 0 & 0 & 0 & 0 & 1 & 0 & 1 & 0 & 0 & 1 & 1 & 1 & 0 & 1 & 1 & 0 & 0 & 0 & 1 & 0 & 1 & 1 & 0 & 1 & 1 & 0 & 0 & 1 & 1 & 0 & 0 & 1 & 1 & 1 & 1 & 0 & 0 & 0 & 1 & 0 & 0 & 0 & 1 & 1 & 1 & 0 & 1 & 0 & 0 & 0 & 0 & 1 & 1 & 1 & 1 & 0 & 1 & 1 & 1 & 1 & 1 & 1 & 1 & 0 & 0 & 0 & 1 & 1 & 0 & 1 & 0 & 1 & 0 & 1 & 0 & 0 & 0 & 0 & 0 & 1 & 0 & 1 & 1 & 0 & 1 & 1 & 0 & 1 & 0 & 1 & 1 & 1 & 0 & 0 & 0 & 1 & 1 & 1 & 0 & 0 & 1 & 1 & 1 & 0 & 0 & 1 & 1 & 0 & 1 & 0 & 1 & 0 & 0 & 1 & 1 & 0 & 1 & 0 & 0 & 0 & 0 & 0 & 0 & 0 & 1 & 1 & 0 & 1 & 0 & 1 & 0 & 0 & 1 & 0 & 1 & 0 & 0 & 0 & 1 & 0 & 0 & 0 & 1 & 0 & 0 & 0 & 0 & 1 & 1 & 1 & 0 & 0 & 0 & 1 & 0 & 0 & 0 & 0 & 0 & 0 & 1 & 1 & 1 & 1 & 0 & 1 & 0 & 1 & 1 & 0 & 1 & 0 & 0 & 1 & 0 & 0 & 1 & 1 & 0 & 0 & 0 & 1 & 0 & 0 & 0 & 0 & 0 & 1 & 1 & 0 & 1 & 0 & 1 & 0 & 1 & 1 & 0 & 0 & 1 & 0 & 0 & 0 & 1 & 0 & 0 & 1 & 1 & 1 & 0 & 0 & 0 & 1 & 0 & 1 & 0 & 1 & 0 & 0 & 0 & 1 & 1 & 0 & 0 & 0 & 0 & 1 & 1 & 1 & 1 & 0 & 0 & 0 & 0 & 0 & 1 & 0 & 1 & 1 & 1 & 0 & 0 & 0 & 0 & 1 & 1 & 1 & 1 & 1 & 0 & 1 & 0 & 0 & 1 & 0 & 0 & 1 & 1 & 0 & 0 & 1 & 0 & 1 & 1 & 0 & 1 & 0 & 0 & 1 & 0 & 0 & 0 & 0 & 0 & 1 & 0 & 0 & 1 & 0 & 0 & 1 & 1 & 0 & 1 & 0 & 1 & 1 & 1 & 1 & 1 & 1 & 0 & 0 & 1 & 0 & 1 & 0 & 1 & 1 & 0 & 1 & 0 & 1 & 1 & 1 & 0 & 1 & 1 & 1 & 1 & 1 & 1 & 1 & 1 & 0 & 1 & 1 & 0 & 0 & 0 & 0 & 0 & 0 & 0 & 1 & 1 & 1 & 0 & 1 & 1 & 1 & 0 & 0 & 0 & 1 & 0 & 0 & 0 & 0 & 1 & 1 & 1 & 0 & 1 & 0 & 1 & 0 & 1 & 1 & 1 & 1 & 0 & 1 & 1 & 0 & 1 & 0 & 0 & 1 & 0 & 0 & 1 & 1 & 1 & 0 & 1 & 1 & 1 & 1 & 1 & 0 & 0 & 1 & 1 & 1 & 1 & 1 & 0 & 1 & 0 & 0 & 1 & 1 & 1 & 0 & 1 & 1 & 1 & 0 & 0 & 1 & 1 & 0 & 1 & 1 & 0 & 0 & 0 & 1 & 0 & 0 & 1 & 1 & 0 & 1 & 1 & 1 & 0 & 0 & 0 & 1 & 0 & 1 & 1 & 1 & 0 & 0 & 1 & 1 & 1 & 1 & 0 & 1 & 1 & 1 & 0 & 1 & 0 & 1 & 0 & 0 & 0 & 0 & 0 & 0 & 1 & 0 & 1 & 1 & 1 & 0 & 1 & 1 & 0 & 1 & 1 & 0 & 1 & 1 & 0 & 1 & 1 & 1 & 1 & 1 & 1 & 1 & 1 & 1 & 1 & 1 & 1 & 1 & 1 & 0 & 1 & 0 & 0 & 1 & 0 & 1 & 1 & 1 & 0 & 1 & 0 & 1 & 1 & 1 & 0 & 0 & 1 & 0 & 1 & 1 & 1 & 1 & 1 & 1 & 1 & 1 & 1 & 1 & 1 & 0 & 1 & 1 & 1 & 1 & 1 & 0 & 0 & 0 & 0 & 1 & 1 & 0 & 1 & 0 & 1 & 0 & 1 & 1 & 1 & 1 & 1 & 1 & 1 & 0 & 1 & 1 & 1 & 1 & 1 & 1 & 1 & 0 & 1 & 1 & 0 & 0 & 0 & 0 & 0 & 1 & 1 & 0 & 0 & 1 & 0 & 1 & 1 & 0 & 0 & 1 & 1 & 0 & 0 & 0 & 1 & 0 & 1 & 0 & 1 & 1 & 1 & 0 & 1 & 0 & 0 & 1 & 1 & 0 & 0 & 1 & 0 & 1 & 1 & 1 & 1 & 1 & 0 & 0 & 1 & 1 & 0 & 1 & 1 & 0 & 1 & 1 & 1 & 1 & 1 & 1 & 0 & 1 & 0 & 1 & 1 & 1 & 1 & 1 & 1 & 0 & 1 & 0 & 1 & 1 & 1 & 0 & 1 & 1 & 1 & 0 & 1 & 1 & 1 & 1 & 1 & 1 & 0 & 0 & 0 & 0 & 1 & 1 & 0 & 1 & 0 & 1 & 1 & 0 & 0 & 1 & 1 & 1 & 1 & 0 & 0 & 1 & 0 & 0 & 0 & 0 & 1 & 1 & 0 & 1 & 1 & 0 & 0 & 1 & 1 & 0 & 0 & 1 & 1 & 1 & 1 & 0 & 1 & 0 & 1 & 0 & 0 & 1 & 1 & 1 & 0 & 0 & 1 & 1 & 1 & 0 & 1 & 1 & 1 & 1 & 1 & 1 & 1 & 0 & 0 & 0 & 1 & 1 & 0 & 0 & 1 & 1 & 0 & 1 & 1 & 0 & 0 & 0 & 0 & 1 & 0 & 1 & 0 & 0 & 1 & 0 & 0 & 1 & 1 & 0 & 0 & 0 & 0 & 0 & 1 & 1 & 0 & 0 & 1 & 0 & 0 & 1 & 0 & 0 & 0 & 0 & 1 & 1 & 0 & 1 & 1 & 1 & 1 & 0 & 1 & 1 & 1 & 1 & 1 & 0 & 1 & 0 & 1 & 1 & 1 & 0 & 0 & 1 & 0 & 1 & 0 & 1 & 1 & 0 & 1 & 1 & 0 & 0 & 0 & 0 & 0 & 1 & 1 & 1 & 1 & 1 & 0 & 1 & 0 & 1 & 0 & 0 & 1 & 1 & 0 & 0 & 1 & 0 & 0 & 1 & 0 & 1 & 0 & 1 & 1 & 1 & 1 & 1 & 1 & 1 & 0 & 0 & 0 & 0 & 1 & 1 & 0 & 1 & 1 & 1 & 1 & 1 & 1 & 1 & 1 & 0 & 0 & 0 & 1 & 1 & 0 & 1 & 1 & 0 & 0 & 1 & 0 & 0 & 1 & 1 & 0 & 1 & 1 & 0 & 1 & 0 & 1 & 0 & 1 & 0 & 1 & 1 & 1 & 1 & 1 & 0 & 0 & 0 & 0 & 1 & 0 & 0 & 1 & 1 & 1 & 0 & 0 & 1 & 0 & 0 & 0 & 0 & 0 & 1 & 0 & 0 & 0 & 0 & 1 & 0 & 1 & 0 & 0 & 0 & 0 & 0 & 1 & 0 & 0 & 0 & 0 & 1 & 0 & 0 & 1 & 0 & 1 & 0 & 0 & 0 & 1 & 0 & 0 & 0 & 1 & 0 & 1 & 1 & 0 & 1 & 1 & 1 & 0 & 1 & 1 & 0 & 0 & 0 & 0 & 0 & 0 & 1 & 0 & 0 & 0 & 0 & 1 & 0 & 1 & 1 & 0 & 1 & 0 & 0 & 1 & 1 & 0 & 0 & 0 & 1 & 0 & 0 & 0 & 1 & 0 & 1 & 1 & 1 & 0 & 0 & 0 & 1 & 0 & 1 & 1 & 1 & 0 & 0 & 1 & 0 & 0 & 1 & 1 & 0 & 0 & 1 & 1 & 1 & 0 & 1 & 1 & 0 & 1 & 1 & 1 & 1 & 0 & 1 & 1 & 1 & 1 & 1 & 1 & 1 & 1 & 1 & 1 & 1 & 1 & 1 & 1 & 1 & 1 & 1 & 0 & 1 & 1 & 1 & 1 & 1 & 1 & 1 & 1 & 1 & 1 & 1 & 1 & 1 & 0 & 0 & 0 & 1 & 1 & 1 & 0 & 1 & 0 & 1 & 0 & 0 & 0 & 0 & 1 & 1 & 0 & 0 & 1 & 1 & 1 & 1 & 1 & 1 & 0 & 0 & 1 & 1 & 1 & 0 & 0 & 0 & 0 & 0 & 0 & 1 & 0 & 0 & 1 & 1 & 1 & 1 & 0 & 0 & 1 & 0 & 0 & 0 & 1 & 1 & 1 & 1 & 0 & 1 & 0 & 0 & 1 & 0 & 0 & 1 & 0 & 0 & 0 & 0 & 0 & 1 & 0 & 0 & 0 & 0 & 1 & 1 & 1 & 1 & 1 & 1 & 0 & 1 & 0 & 0 & 0 & 0 & 1 & 1 & 1 & 1 & 0 & 0 & 1 & 1 & 1 & 1 & 0 & 1 & 0 & 0 & 1 & 0 & 0 & 0 & 1 & 0 & 0 & 1 & 1 & 0 & 0 & 1 & 1 & 1 & 0 & 0 & 0 & 1 & 0 & 1 & 0 & 1 & 0 & 0 & 1 & 0 & 0 & 0 & 0 & 0 & 1 & 0 & 1 & 0 & 1 & 1 & 1 & 0 & 1 & 1 & 0 & 1 & 0 & 1 & 0 & 0 & 0 & 0 & 0 & 1 & 0 & 0 & 1 & 1 & 0 & 0 & 1 & 0 & 1 & 0 & 0 & 1 & 0 & 1 & 1 & 1 & 0 & 0 & 1 & 0 & 1 & 1 & 1 & 0 & 0 & 0 & 0 & 1 & 1 & 1 & 1 \\\\\n",
       "\t4 & 3 & 1 & 1 & 1 & 1 & 1 & 0 & 1 & 1 & 0 & 1 & 0 & 0 & 1 & 0 & 0 & 1 & 0 & 1 & 0 & 0 & 0 & 0 & 1 & 1 & 1 & 1 & 0 & 0 & 0 & 1 & 0 & 0 & 0 & 0 & 1 & 1 & 0 & 0 & 0 & 1 & 0 & 0 & 1 & 1 & 1 & 1 & 1 & 1 & 0 & 0 & 0 & 1 & 1 & 1 & 1 & 1 & 0 & 0 & 1 & 0 & 0 & 0 & 1 & 0 & 1 & 1 & 0 & 1 & 0 & 1 & 0 & 1 & 0 & 1 & 1 & 0 & 1 & 1 & 1 & 1 & 1 & 1 & 0 & 0 & 1 & 1 & 0 & 0 & 1 & 1 & 1 & 1 & 0 & 0 & 1 & 0 & 0 & 1 & 0 & 1 & 0 & 1 & 1 & 1 & 1 & 1 & 0 & 1 & 0 & 1 & 1 & 0 & 1 & 0 & 0 & 1 & 0 & 1 & 1 & 0 & 0 & 1 & 1 & 1 & 0 & 1 & 0 & 0 & 0 & 0 & 1 & 0 & 1 & 0 & 0 & 1 & 1 & 1 & 0 & 1 & 1 & 0 & 0 & 0 & 1 & 0 & 1 & 1 & 0 & 1 & 1 & 0 & 0 & 1 & 1 & 0 & 0 & 1 & 1 & 1 & 1 & 0 & 0 & 0 & 1 & 0 & 0 & 0 & 1 & 1 & 1 & 0 & 1 & 0 & 1 & 0 & 0 & 1 & 1 & 1 & 1 & 0 & 1 & 1 & 1 & 1 & 1 & 1 & 1 & 0 & 0 & 0 & 1 & 1 & 0 & 1 & 0 & 1 & 0 & 1 & 0 & 0 & 0 & 0 & 0 & 1 & 0 & 1 & 1 & 1 & 1 & 1 & 0 & 1 & 0 & 1 & 1 & 1 & 0 & 0 & 0 & 1 & 1 & 1 & 0 & 0 & 1 & 1 & 1 & 0 & 0 & 1 & 1 & 0 & 1 & 0 & 1 & 0 & 0 & 1 & 1 & 0 & 1 & 0 & 0 & 0 & 0 & 0 & 0 & 0 & 1 & 1 & 0 & 1 & 0 & 1 & 0 & 0 & 1 & 0 & 1 & 0 & 0 & 0 & 1 & 0 & 0 & 0 & 1 & 0 & 0 & 0 & 0 & 1 & 1 & 1 & 0 & 0 & 0 & 1 & 0 & 0 & 0 & 0 & 0 & 0 & 1 & 1 & 1 & 1 & 0 & 1 & 0 & 1 & 1 & 0 & 1 & 0 & 0 & 1 & 0 & 0 & 1 & 1 & 0 & 0 & 0 & 1 & 0 & 0 & 0 & 0 & 0 & 1 & 1 & 0 & 1 & 0 & 1 & 0 & 1 & 1 & 0 & 0 & 1 & 0 & 0 & 0 & 1 & 0 & 0 & 1 & 1 & 1 & 0 & 0 & 0 & 1 & 0 & 1 & 0 & 1 & 0 & 0 & 0 & 1 & 1 & 0 & 0 & 0 & 0 & 1 & 1 & 1 & 1 & 0 & 0 & 0 & 0 & 0 & 1 & 0 & 1 & 1 & 1 & 0 & 0 & 0 & 0 & 1 & 1 & 1 & 1 & 1 & 0 & 1 & 0 & 0 & 1 & 0 & 0 & 1 & 1 & 0 & 0 & 1 & 0 & 1 & 1 & 0 & 1 & 0 & 0 & 1 & 0 & 0 & 0 & 0 & 0 & 1 & 0 & 0 & 1 & 0 & 0 & 1 & 1 & 0 & 1 & 0 & 1 & 1 & 1 & 1 & 1 & 1 & 0 & 0 & 1 & 0 & 1 & 0 & 1 & 1 & 0 & 1 & 0 & 1 & 1 & 1 & 0 & 1 & 1 & 1 & 1 & 1 & 1 & 1 & 1 & 0 & 1 & 1 & 0 & 0 & 0 & 0 & 0 & 0 & 0 & 1 & 1 & 1 & 0 & 1 & 1 & 1 & 0 & 0 & 0 & 1 & 0 & 0 & 0 & 0 & 1 & 1 & 1 & 0 & 1 & 0 & 1 & 0 & 1 & 1 & 1 & 1 & 0 & 1 & 1 & 0 & 1 & 0 & 0 & 1 & 0 & 0 & 1 & 1 & 1 & 0 & 1 & 1 & 1 & 1 & 1 & 0 & 0 & 1 & 1 & 1 & 1 & 1 & 0 & 1 & 0 & 0 & 1 & 1 & 1 & 0 & 1 & 1 & 1 & 0 & 0 & 1 & 1 & 0 & 1 & 1 & 0 & 0 & 0 & 1 & 1 & 0 & 1 & 1 & 0 & 1 & 1 & 1 & 0 & 0 & 0 & 1 & 0 & 1 & 1 & 1 & 0 & 0 & 1 & 1 & 1 & 1 & 0 & 1 & 1 & 1 & 0 & 1 & 0 & 1 & 0 & 0 & 0 & 0 & 0 & 0 & 1 & 0 & 1 & 1 & 1 & 0 & 1 & 1 & 0 & 1 & 1 & 0 & 1 & 1 & 0 & 1 & 1 & 1 & 1 & 1 & 1 & 1 & 1 & 1 & 1 & 1 & 1 & 1 & 1 & 0 & 1 & 0 & 0 & 1 & 0 & 1 & 1 & 1 & 0 & 1 & 0 & 1 & 1 & 1 & 0 & 0 & 1 & 0 & 1 & 1 & 1 & 1 & 1 & 1 & 1 & 1 & 1 & 1 & 1 & 0 & 1 & 1 & 1 & 1 & 1 & 0 & 0 & 0 & 0 & 1 & 1 & 0 & 1 & 0 & 1 & 0 & 1 & 1 & 1 & 1 & 1 & 1 & 1 & 0 & 1 & 1 & 1 & 1 & 1 & 1 & 1 & 0 & 1 & 1 & 0 & 0 & 0 & 0 & 0 & 1 & 1 & 0 & 0 & 1 & 0 & 1 & 1 & 0 & 0 & 1 & 1 & 0 & 0 & 0 & 1 & 0 & 1 & 0 & 1 & 1 & 1 & 0 & 1 & 0 & 0 & 1 & 1 & 0 & 0 & 1 & 0 & 1 & 1 & 1 & 1 & 1 & 0 & 0 & 1 & 1 & 0 & 1 & 1 & 0 & 1 & 1 & 1 & 1 & 1 & 1 & 0 & 1 & 0 & 1 & 1 & 1 & 1 & 1 & 1 & 0 & 1 & 0 & 1 & 1 & 1 & 0 & 1 & 1 & 1 & 0 & 1 & 1 & 1 & 1 & 1 & 1 & 0 & 0 & 0 & 0 & 1 & 1 & 0 & 1 & 0 & 1 & 1 & 0 & 0 & 1 & 1 & 1 & 1 & 0 & 0 & 1 & 0 & 0 & 0 & 0 & 1 & 1 & 0 & 1 & 1 & 0 & 0 & 1 & 1 & 0 & 0 & 1 & 1 & 1 & 1 & 0 & 1 & 0 & 1 & 0 & 0 & 1 & 1 & 1 & 0 & 0 & 1 & 1 & 1 & 0 & 1 & 1 & 1 & 1 & 1 & 1 & 1 & 0 & 0 & 0 & 1 & 1 & 0 & 0 & 1 & 1 & 0 & 1 & 1 & 0 & 0 & 0 & 0 & 1 & 0 & 1 & 0 & 0 & 1 & 0 & 0 & 1 & 1 & 0 & 0 & 0 & 0 & 0 & 1 & 1 & 0 & 0 & 1 & 0 & 0 & 1 & 0 & 0 & 0 & 0 & 1 & 1 & 0 & 1 & 1 & 1 & 1 & 0 & 1 & 1 & 1 & 1 & 1 & 0 & 1 & 0 & 1 & 1 & 1 & 0 & 0 & 1 & 0 & 1 & 0 & 1 & 1 & 0 & 1 & 1 & 0 & 0 & 0 & 0 & 0 & 1 & 1 & 1 & 1 & 1 & 0 & 1 & 0 & 1 & 0 & 0 & 1 & 1 & 0 & 0 & 1 & 0 & 0 & 1 & 0 & 1 & 0 & 1 & 1 & 1 & 1 & 1 & 1 & 1 & 0 & 0 & 0 & 0 & 1 & 1 & 0 & 1 & 1 & 1 & 1 & 1 & 1 & 1 & 1 & 0 & 0 & 0 & 1 & 1 & 0 & 1 & 1 & 0 & 0 & 1 & 0 & 0 & 1 & 1 & 0 & 1 & 1 & 0 & 1 & 0 & 1 & 0 & 1 & 0 & 1 & 1 & 1 & 1 & 1 & 0 & 0 & 0 & 0 & 1 & 0 & 0 & 1 & 1 & 1 & 0 & 0 & 1 & 0 & 0 & 0 & 0 & 0 & 1 & 0 & 0 & 0 & 0 & 1 & 0 & 1 & 0 & 0 & 0 & 0 & 0 & 1 & 0 & 0 & 0 & 0 & 1 & 0 & 0 & 1 & 0 & 1 & 0 & 0 & 0 & 1 & 0 & 0 & 0 & 1 & 0 & 1 & 1 & 0 & 1 & 1 & 1 & 0 & 1 & 1 & 0 & 0 & 0 & 0 & 0 & 0 & 1 & 0 & 1 & 0 & 0 & 1 & 0 & 1 & 1 & 0 & 1 & 0 & 0 & 1 & 1 & 0 & 0 & 0 & 1 & 0 & 0 & 0 & 1 & 0 & 1 & 1 & 1 & 0 & 0 & 0 & 1 & 0 & 1 & 1 & 1 & 0 & 0 & 1 & 0 & 0 & 1 & 1 & 0 & 0 & 1 & 1 & 1 & 0 & 1 & 1 & 0 & 1 & 1 & 1 & 1 & 0 & 1 & 1 & 1 & 1 & 1 & 1 & 1 & 1 & 1 & 1 & 1 & 1 & 1 & 1 & 1 & 1 & 1 & 0 & 1 & 1 & 1 & 1 & 0 & 1 & 1 & 1 & 1 & 1 & 1 & 1 & 1 & 0 & 0 & 0 & 1 & 1 & 1 & 0 & 1 & 0 & 1 & 0 & 0 & 0 & 0 & 1 & 1 & 0 & 0 & 1 & 1 & 1 & 1 & 1 & 1 & 0 & 0 & 1 & 1 & 1 & 0 & 0 & 0 & 0 & 0 & 0 & 1 & 0 & 0 & 1 & 1 & 1 & 1 & 0 & 0 & 1 & 0 & 0 & 0 & 1 & 1 & 1 & 1 & 0 & 1 & 0 & 0 & 1 & 0 & 0 & 1 & 1 & 0 & 0 & 0 & 0 & 1 & 0 & 0 & 0 & 0 & 1 & 1 & 1 & 1 & 1 & 1 & 0 & 1 & 0 & 0 & 0 & 0 & 1 & 1 & 1 & 1 & 0 & 0 & 1 & 1 & 1 & 1 & 0 & 1 & 0 & 0 & 1 & 0 & 0 & 0 & 1 & 0 & 0 & 1 & 1 & 0 & 0 & 1 & 1 & 1 & 0 & 0 & 0 & 1 & 0 & 1 & 0 & 1 & 0 & 0 & 1 & 0 & 0 & 0 & 0 & 0 & 1 & 0 & 1 & 0 & 1 & 1 & 1 & 0 & 1 & 1 & 0 & 1 & 0 & 1 & 0 & 0 & 0 & 0 & 0 & 1 & 0 & 0 & 1 & 1 & 0 & 0 & 1 & 0 & 1 & 0 & 0 & 1 & 0 & 1 & 1 & 1 & 0 & 0 & 1 & 0 & 1 & 1 & 1 & 0 & 0 & 0 & 0 & 1 & 1 & 1 & 1 \\\\\n",
       "\t5 & 4 & 0 & 1 & 1 & 1 & 1 & 0 & 1 & 1 & 1 & 1 & 1 & 1 & 0 & 0 & 0 & 1 & 0 & 1 & 1 & 1 & 0 & 1 & 0 & 1 & 1 & 1 & 1 & 1 & 0 & 1 & 0 & 0 & 1 & 1 & 0 & 1 & 1 & 1 & 0 & 0 & 0 & 0 & 1 & 0 & 1 & 1 & 1 & 1 & 0 & 0 & 1 & 1 & 1 & 1 & 0 & 1 & 1 & 1 & 1 & 0 & 1 & 0 & 0 & 0 & 0 & 0 & 0 & 1 & 0 & 1 & 1 & 1 & 0 & 1 & 1 & 0 & 1 & 1 & 1 & 1 & 1 & 1 & 0 & 1 & 1 & 1 & 1 & 1 & 1 & 1 & 0 & 1 & 1 & 0 & 1 & 1 & 0 & 1 & 1 & 1 & 1 & 0 & 1 & 1 & 1 & 1 & 0 & 1 & 0 & 0 & 1 & 0 & 1 & 1 & 1 & 1 & 1 & 1 & 1 & 1 & 1 & 1 & 1 & 1 & 0 & 1 & 0 & 1 & 1 & 1 & 0 & 0 & 1 & 1 & 0 & 1 & 1 & 1 & 0 & 1 & 1 & 1 & 0 & 1 & 1 & 0 & 0 & 0 & 0 & 1 & 1 & 0 & 1 & 1 & 1 & 0 & 1 & 1 & 1 & 0 & 1 & 1 & 1 & 1 & 0 & 1 & 0 & 0 & 0 & 1 & 1 & 0 & 0 & 0 & 0 & 1 & 1 & 0 & 1 & 1 & 0 & 0 & 1 & 1 & 1 & 1 & 1 & 0 & 1 & 0 & 0 & 0 & 1 & 0 & 1 & 1 & 0 & 0 & 1 & 0 & 0 & 1 & 1 & 1 & 0 & 1 & 1 & 1 & 1 & 1 & 1 & 1 & 0 & 1 & 1 & 0 & 1 & 1 & 1 & 1 & 0 & 1 & 1 & 1 & 1 & 0 & 1 & 1 & 1 & 1 & 1 & 1 & 1 & 0 & 1 & 1 & 1 & 0 & 1 & 1 & 1 & 0 & 0 & 1 & 1 & 1 & 0 & 0 & 0 & 1 & 1 & 1 & 0 & 1 & 1 & 0 & 0 & 1 & 1 & 0 & 1 & 1 & 1 & 0 & 1 & 0 & 0 & 1 & 1 & 0 & 0 & 0 & 0 & 1 & 0 & 0 & 0 & 0 & 1 & 0 & 0 & 1 & 0 & 1 & 1 & 1 & 1 & 1 & 1 & 1 & 1 & 1 & 0 & 1 & 0 & 0 & 1 & 1 & 1 & 1 & 0 & 0 & 1 & 1 & 1 & 0 & 0 & 1 & 1 & 0 & 0 & 1 & 0 & 1 & 1 & 1 & 1 & 1 & 1 & 0 & 1 & 1 & 0 & 0 & 0 & 0 & 1 & 1 & 1 & 1 & 1 & 1 & 1 & 1 & 0 & 0 & 0 & 1 & 0 & 1 & 1 & 1 & 0 & 0 & 1 & 1 & 1 & 0 & 0 & 1 & 0 & 0 & 1 & 1 & 1 & 0 & 0 & 0 & 1 & 1 & 0 & 1 & 1 & 1 & 0 & 1 & 1 & 0 & 1 & 1 & 1 & 1 & 1 & 1 & 1 & 1 & 0 & 0 & 1 & 0 & 1 & 1 & 1 & 0 & 0 & 1 & 0 & 1 & 1 & 0 & 1 & 1 & 1 & 0 & 1 & 1 & 0 & 0 & 1 & 1 & 1 & 1 & 1 & 0 & 1 & 0 & 1 & 1 & 1 & 1 & 1 & 0 & 1 & 1 & 1 & 0 & 0 & 1 & 1 & 1 & 0 & 0 & 1 & 1 & 1 & 1 & 1 & 0 & 0 & 1 & 1 & 1 & 1 & 1 & 1 & 1 & 1 & 1 & 0 & 0 & 0 & 1 & 0 & 0 & 0 & 1 & 1 & 1 & 1 & 1 & 1 & 0 & 0 & 1 & 1 & 1 & 1 & 1 & 0 & 1 & 1 & 0 & 1 & 1 & 0 & 1 & 1 & 1 & 1 & 1 & 1 & 1 & 1 & 1 & 1 & 1 & 1 & 0 & 1 & 1 & 1 & 1 & 1 & 1 & 1 & 1 & 1 & 1 & 1 & 0 & 1 & 1 & 1 & 1 & 1 & 0 & 1 & 1 & 1 & 1 & 1 & 1 & 1 & 1 & 1 & 1 & 1 & 1 & 1 & 0 & 0 & 0 & 0 & 0 & 1 & 1 & 1 & 1 & 0 & 1 & 0 & 1 & 1 & 1 & 1 & 1 & 1 & 1 & 0 & 1 & 0 & 0 & 1 & 0 & 1 & 1 & 0 & 1 & 1 & 1 & 1 & 1 & 1 & 0 & 1 & 1 & 0 & 1 & 0 & 1 & 0 & 0 & 0 & 0 & 1 & 1 & 1 & 1 & 0 & 0 & 1 & 0 & 1 & 1 & 1 & 1 & 0 & 1 & 0 & 0 & 1 & 1 & 0 & 0 & 1 & 1 & 1 & 1 & 1 & 1 & 1 & 1 & 1 & 1 & 1 & 1 & 1 & 1 & 1 & 0 & 0 & 1 & 0 & 0 & 1 & 1 & 1 & 0 & 1 & 0 & 0 & 1 & 1 & 1 & 0 & 0 & 1 & 0 & 1 & 1 & 1 & 1 & 1 & 1 & 1 & 1 & 1 & 1 & 1 & 1 & 0 & 1 & 1 & 0 & 1 & 0 & 0 & 0 & 1 & 1 & 0 & 0 & 1 & 0 & 1 & 0 & 0 & 1 & 1 & 1 & 1 & 1 & 1 & 0 & 1 & 1 & 1 & 1 & 1 & 1 & 1 & 1 & 1 & 1 & 0 & 0 & 0 & 0 & 0 & 1 & 1 & 1 & 0 & 1 & 0 & 1 & 1 & 1 & 0 & 1 & 1 & 0 & 1 & 1 & 0 & 1 & 1 & 1 & 1 & 0 & 1 & 0 & 1 & 1 & 0 & 1 & 1 & 1 & 0 & 1 & 0 & 1 & 1 & 1 & 1 & 0 & 0 & 1 & 1 & 1 & 0 & 1 & 1 & 0 & 1 & 0 & 1 & 1 & 1 & 1 & 0 & 1 & 0 & 1 & 1 & 0 & 1 & 1 & 1 & 0 & 0 & 0 & 1 & 0 & 1 & 1 & 1 & 0 & 1 & 1 & 1 & 0 & 1 & 1 & 0 & 1 & 0 & 1 & 0 & 0 & 1 & 1 & 0 & 0 & 0 & 1 & 1 & 1 & 0 & 1 & 1 & 1 & 1 & 0 & 0 & 1 & 0 & 1 & 0 & 1 & 1 & 1 & 0 & 1 & 1 & 1 & 0 & 1 & 0 & 0 & 0 & 1 & 1 & 1 & 1 & 0 & 1 & 0 & 1 & 0 & 0 & 1 & 1 & 1 & 0 & 0 & 1 & 0 & 0 & 1 & 1 & 1 & 1 & 1 & 1 & 0 & 1 & 0 & 0 & 0 & 0 & 0 & 0 & 0 & 0 & 1 & 0 & 1 & 0 & 1 & 1 & 0 & 0 & 1 & 1 & 0 & 0 & 1 & 0 & 0 & 1 & 1 & 1 & 1 & 1 & 0 & 0 & 0 & 1 & 1 & 1 & 0 & 1 & 0 & 1 & 0 & 0 & 0 & 1 & 1 & 1 & 1 & 0 & 0 & 1 & 1 & 1 & 0 & 0 & 0 & 1 & 1 & 0 & 1 & 1 & 0 & 1 & 1 & 1 & 1 & 0 & 1 & 0 & 1 & 1 & 1 & 1 & 0 & 1 & 0 & 0 & 0 & 1 & 0 & 0 & 1 & 1 & 1 & 1 & 1 & 0 & 1 & 0 & 1 & 1 & 0 & 1 & 1 & 1 & 1 & 1 & 0 & 1 & 0 & 0 & 1 & 1 & 0 & 1 & 1 & 1 & 1 & 1 & 1 & 0 & 1 & 0 & 1 & 1 & 1 & 0 & 0 & 1 & 0 & 1 & 1 & 0 & 1 & 1 & 1 & 1 & 1 & 0 & 1 & 1 & 1 & 1 & 0 & 1 & 1 & 1 & 0 & 1 & 1 & 1 & 1 & 0 & 0 & 1 & 0 & 1 & 0 & 1 & 0 & 1 & 1 & 1 & 0 & 1 & 1 & 0 & 0 & 0 & 1 & 0 & 1 & 1 & 1 & 1 & 0 & 0 & 1 & 0 & 0 & 0 & 0 & 0 & 1 & 1 & 1 & 0 & 0 & 1 & 0 & 1 & 0 & 0 & 0 & 0 & 1 & 1 & 1 & 0 & 0 & 0 & 1 & 0 & 1 & 0 & 0 & 1 & 0 & 1 & 0 & 1 & 0 & 0 & 0 & 1 & 0 & 1 & 1 & 0 & 1 & 1 & 1 & 0 & 0 & 0 & 0 & 1 & 0 & 0 & 1 & 0 & 1 & 0 & 0 & 0 & 0 & 1 & 0 & 1 & 1 & 0 & 1 & 0 & 1 & 1 & 1 & 1 & 0 & 0 & 1 & 0 & 0 & 0 & 1 & 0 & 1 & 1 & 0 & 0 & 0 & 0 & 1 & 0 & 1 & 0 & 1 & 0 & 1 & 1 & 0 & 0 & 1 & 0 & 0 & 0 & 1 & 1 & 1 & 0 & 1 & 0 & 1 & 1 & 1 & 1 & 1 & 1 & 1 & 1 & 1 & 1 & 1 & 1 & 1 & 1 & 1 & 1 & 1 & 1 & 1 & 1 & 1 & 1 & 1 & 0 & 1 & 1 & 0 & 1 & 0 & 1 & 1 & 1 & 1 & 1 & 1 & 1 & 0 & 0 & 0 & 1 & 1 & 1 & 1 & 0 & 1 & 1 & 1 & 1 & 1 & 1 & 0 & 1 & 1 & 0 & 1 & 1 & 1 & 0 & 0 & 1 & 0 & 0 & 1 & 0 & 0 & 1 & 0 & 0 & 1 & 0 & 0 & 0 & 1 & 0 & 0 & 1 & 1 & 1 & 1 & 0 & 0 & 0 & 1 & 0 & 1 & 1 & 1 & 1 & 1 & 0 & 1 & 0 & 1 & 0 & 1 & 0 & 1 & 0 & 0 & 0 & 0 & 0 & 1 & 0 & 0 & 0 & 0 & 1 & 1 & 1 & 1 & 1 & 1 & 0 & 1 & 0 & 0 & 1 & 0 & 0 & 1 & 1 & 1 & 0 & 1 & 0 & 1 & 1 & 1 & 0 & 1 & 0 & 0 & 1 & 1 & 1 & 1 & 1 & 0 & 0 & 1 & 1 & 0 & 0 & 1 & 1 & 0 & 0 & 0 & 0 & 1 & 1 & 1 & 1 & 0 & 1 & 1 & 1 & 0 & 1 & 0 & 0 & 0 & 0 & 0 & 1 & 0 & 1 & 0 & 0 & 0 & 1 & 1 & 1 & 1 & 0 & 1 & 1 & 1 & 0 & 0 & 1 & 1 & 0 & 0 & 0 & 0 & 0 & 1 & 1 & 0 & 0 & 0 & 0 & 1 & 1 & 0 & 1 & 1 & 1 & 1 & 1 & 0 & 1 & 1 & 1 & 1 & 1 & 0 & 0 & 1 & 0 & 1 & 0 \\\\\n",
       "\t6 & 5 & 0 & 1 & 1 & 1 & 1 & 0 & 1 & 1 & 1 & 1 & 1 & 1 & 1 & 0 & 0 & 1 & 0 & 1 & 1 & 1 & 0 & 1 & 1 & 1 & 1 & 1 & 1 & 1 & 1 & 1 & 1 & 0 & 0 & 0 & 0 & 1 & 1 & 0 & 1 & 1 & 1 & 1 & 1 & 0 & 1 & 1 & 1 & 1 & 0 & 0 & 1 & 1 & 0 & 1 & 1 & 1 & 1 & 1 & 0 & 1 & 1 & 1 & 1 & 0 & 0 & 0 & 1 & 1 & 0 & 0 & 0 & 1 & 0 & 1 & 0 & 0 & 1 & 1 & 1 & 1 & 1 & 1 & 1 & 1 & 1 & 0 & 0 & 0 & 1 & 0 & 0 & 1 & 1 & 0 & 1 & 0 & 0 & 1 & 1 & 1 & 1 & 1 & 1 & 1 & 0 & 1 & 0 & 1 & 0 & 1 & 1 & 1 & 1 & 1 & 1 & 1 & 1 & 1 & 1 & 1 & 1 & 1 & 1 & 0 & 0 & 1 & 0 & 1 & 1 & 0 & 0 & 0 & 1 & 1 & 0 & 1 & 1 & 0 & 0 & 1 & 1 & 0 & 0 & 1 & 1 & 0 & 0 & 1 & 0 & 1 & 1 & 0 & 1 & 1 & 1 & 0 & 0 & 1 & 1 & 1 & 1 & 1 & 1 & 1 & 0 & 0 & 1 & 0 & 0 & 1 & 1 & 0 & 1 & 0 & 1 & 1 & 1 & 0 & 1 & 1 & 0 & 1 & 1 & 1 & 1 & 1 & 1 & 1 & 1 & 1 & 1 & 1 & 1 & 0 & 1 & 1 & 0 & 1 & 1 & 0 & 0 & 1 & 1 & 1 & 0 & 1 & 1 & 1 & 1 & 0 & 1 & 1 & 1 & 1 & 1 & 0 & 1 & 1 & 1 & 1 & 0 & 1 & 1 & 1 & 1 & 0 & 1 & 1 & 1 & 1 & 1 & 0 & 1 & 0 & 1 & 1 & 1 & 0 & 1 & 1 & 0 & 1 & 1 & 1 & 1 & 1 & 1 & 1 & 1 & 1 & 1 & 1 & 1 & 1 & 1 & 0 & 0 & 1 & 1 & 0 & 1 & 1 & 1 & 0 & 1 & 1 & 0 & 0 & 1 & 0 & 0 & 0 & 1 & 1 & 1 & 1 & 0 & 1 & 0 & 0 & 0 & 1 & 1 & 1 & 1 & 1 & 1 & 1 & 1 & 1 & 1 & 1 & 1 & 1 & 1 & 0 & 1 & 1 & 1 & 1 & 0 & 1 & 1 & 1 & 1 & 1 & 0 & 0 & 1 & 0 & 0 & 1 & 0 & 1 & 1 & 1 & 1 & 1 & 1 & 1 & 1 & 1 & 1 & 0 & 1 & 0 & 1 & 1 & 1 & 0 & 1 & 0 & 1 & 1 & 1 & 1 & 1 & 1 & 0 & 1 & 1 & 1 & 1 & 1 & 1 & 1 & 1 & 0 & 0 & 0 & 0 & 0 & 0 & 1 & 1 & 0 & 1 & 1 & 1 & 1 & 0 & 1 & 1 & 1 & 0 & 1 & 1 & 0 & 0 & 0 & 1 & 1 & 1 & 1 & 1 & 1 & 0 & 0 & 1 & 1 & 1 & 0 & 1 & 0 & 0 & 1 & 0 & 1 & 1 & 0 & 1 & 1 & 1 & 0 & 0 & 1 & 0 & 1 & 1 & 1 & 1 & 0 & 1 & 1 & 1 & 0 & 1 & 0 & 1 & 1 & 0 & 0 & 1 & 1 & 0 & 1 & 0 & 1 & 1 & 1 & 0 & 0 & 1 & 1 & 0 & 0 & 1 & 0 & 0 & 1 & 0 & 1 & 1 & 0 & 1 & 0 & 0 & 1 & 0 & 1 & 0 & 1 & 0 & 0 & 0 & 0 & 1 & 1 & 0 & 1 & 1 & 0 & 1 & 1 & 1 & 1 & 0 & 1 & 0 & 1 & 0 & 1 & 0 & 1 & 0 & 1 & 1 & 1 & 1 & 0 & 1 & 1 & 1 & 1 & 1 & 1 & 1 & 0 & 1 & 0 & 1 & 0 & 0 & 1 & 1 & 1 & 1 & 1 & 1 & 0 & 1 & 1 & 1 & 1 & 1 & 0 & 0 & 0 & 1 & 1 & 1 & 1 & 1 & 1 & 1 & 0 & 1 & 1 & 1 & 0 & 0 & 0 & 0 & 1 & 1 & 1 & 1 & 1 & 0 & 0 & 1 & 1 & 0 & 1 & 1 & 1 & 1 & 1 & 0 & 1 & 0 & 1 & 1 & 1 & 1 & 1 & 0 & 1 & 1 & 0 & 1 & 1 & 1 & 1 & 1 & 1 & 0 & 1 & 0 & 0 & 1 & 1 & 0 & 0 & 1 & 1 & 0 & 1 & 1 & 1 & 1 & 1 & 1 & 1 & 0 & 0 & 0 & 1 & 0 & 0 & 1 & 1 & 1 & 0 & 0 & 1 & 1 & 1 & 1 & 1 & 0 & 1 & 1 & 1 & 1 & 1 & 1 & 1 & 1 & 0 & 0 & 1 & 0 & 0 & 1 & 1 & 1 & 0 & 1 & 0 & 1 & 1 & 1 & 1 & 0 & 0 & 1 & 1 & 1 & 0 & 1 & 1 & 0 & 1 & 1 & 1 & 1 & 1 & 1 & 1 & 1 & 1 & 1 & 0 & 1 & 1 & 0 & 1 & 0 & 0 & 1 & 1 & 0 & 0 & 1 & 1 & 0 & 1 & 1 & 0 & 1 & 1 & 1 & 1 & 1 & 1 & 1 & 1 & 1 & 1 & 0 & 0 & 1 & 1 & 1 & 0 & 0 & 1 & 0 & 1 & 0 & 0 & 0 & 1 & 0 & 1 & 1 & 0 & 0 & 1 & 1 & 0 & 1 & 1 & 0 & 1 & 1 & 1 & 1 & 1 & 1 & 1 & 0 & 1 & 0 & 1 & 1 & 1 & 0 & 0 & 0 & 1 & 1 & 1 & 1 & 1 & 0 & 1 & 1 & 1 & 0 & 1 & 1 & 0 & 1 & 1 & 1 & 1 & 1 & 1 & 0 & 1 & 1 & 1 & 1 & 0 & 1 & 1 & 1 & 0 & 0 & 0 & 1 & 1 & 1 & 0 & 1 & 1 & 1 & 1 & 0 & 0 & 0 & 1 & 0 & 1 & 0 & 1 & 1 & 1 & 0 & 1 & 0 & 0 & 0 & 1 & 1 & 1 & 0 & 1 & 1 & 1 & 1 & 1 & 0 & 1 & 1 & 1 & 1 & 1 & 1 & 1 & 1 & 1 & 1 & 0 & 0 & 1 & 0 & 0 & 0 & 1 & 1 & 1 & 1 & 0 & 1 & 0 & 0 & 1 & 0 & 1 & 0 & 1 & 0 & 0 & 1 & 0 & 0 & 1 & 1 & 1 & 1 & 1 & 1 & 0 & 1 & 1 & 0 & 0 & 1 & 0 & 0 & 1 & 1 & 1 & 1 & 1 & 0 & 1 & 0 & 0 & 0 & 1 & 1 & 1 & 0 & 1 & 0 & 0 & 0 & 0 & 1 & 1 & 1 & 0 & 0 & 0 & 1 & 0 & 1 & 1 & 1 & 0 & 1 & 1 & 0 & 0 & 1 & 1 & 1 & 1 & 1 & 0 & 1 & 1 & 1 & 1 & 1 & 0 & 1 & 1 & 1 & 1 & 1 & 0 & 1 & 1 & 1 & 1 & 0 & 1 & 0 & 1 & 1 & 1 & 1 & 0 & 1 & 1 & 1 & 0 & 0 & 0 & 1 & 1 & 1 & 1 & 1 & 1 & 1 & 1 & 0 & 1 & 1 & 0 & 1 & 1 & 1 & 0 & 1 & 0 & 1 & 0 & 1 & 1 & 0 & 0 & 1 & 1 & 1 & 1 & 1 & 0 & 0 & 1 & 0 & 0 & 1 & 1 & 0 & 0 & 0 & 0 & 1 & 0 & 0 & 1 & 1 & 1 & 0 & 1 & 0 & 1 & 0 & 1 & 1 & 0 & 1 & 0 & 0 & 0 & 0 & 1 & 0 & 1 & 0 & 1 & 1 & 0 & 1 & 0 & 1 & 0 & 1 & 1 & 1 & 0 & 1 & 1 & 0 & 0 & 0 & 1 & 0 & 0 & 1 & 1 & 1 & 1 & 0 & 1 & 0 & 0 & 0 & 0 & 0 & 1 & 1 & 1 & 0 & 0 & 1 & 0 & 1 & 0 & 0 & 0 & 0 & 1 & 1 & 1 & 0 & 0 & 0 & 1 & 0 & 1 & 0 & 0 & 1 & 0 & 1 & 1 & 1 & 0 & 1 & 0 & 1 & 0 & 1 & 1 & 0 & 1 & 1 & 1 & 0 & 0 & 1 & 0 & 0 & 0 & 0 & 1 & 0 & 1 & 0 & 1 & 1 & 0 & 1 & 0 & 1 & 1 & 0 & 1 & 0 & 1 & 1 & 1 & 1 & 1 & 0 & 1 & 0 & 0 & 0 & 1 & 0 & 0 & 1 & 1 & 0 & 0 & 1 & 1 & 0 & 0 & 0 & 1 & 0 & 0 & 0 & 0 & 0 & 1 & 0 & 1 & 0 & 1 & 1 & 1 & 0 & 1 & 0 & 1 & 1 & 1 & 1 & 1 & 1 & 1 & 1 & 1 & 0 & 1 & 0 & 1 & 1 & 1 & 1 & 1 & 1 & 1 & 1 & 0 & 1 & 1 & 0 & 1 & 1 & 0 & 1 & 0 & 1 & 1 & 0 & 1 & 1 & 1 & 1 & 1 & 0 & 1 & 1 & 1 & 1 & 1 & 1 & 1 & 1 & 1 & 1 & 1 & 1 & 1 & 1 & 1 & 0 & 1 & 1 & 1 & 0 & 0 & 1 & 0 & 0 & 1 & 0 & 0 & 1 & 0 & 0 & 0 & 0 & 0 & 0 & 0 & 1 & 0 & 1 & 1 & 1 & 1 & 0 & 1 & 0 & 0 & 0 & 0 & 1 & 1 & 1 & 1 & 0 & 1 & 0 & 1 & 0 & 1 & 1 & 1 & 0 & 0 & 0 & 1 & 0 & 1 & 0 & 0 & 1 & 0 & 1 & 1 & 1 & 1 & 1 & 1 & 1 & 1 & 1 & 0 & 1 & 0 & 1 & 1 & 1 & 1 & 0 & 1 & 0 & 0 & 1 & 1 & 0 & 0 & 1 & 0 & 0 & 0 & 1 & 0 & 1 & 0 & 0 & 1 & 1 & 0 & 0 & 0 & 1 & 1 & 0 & 0 & 0 & 1 & 1 & 1 & 1 & 0 & 1 & 1 & 1 & 1 & 1 & 1 & 1 & 0 & 0 & 0 & 1 & 0 & 1 & 1 & 1 & 0 & 1 & 1 & 1 & 1 & 0 & 0 & 1 & 0 & 0 & 0 & 0 & 1 & 0 & 0 & 0 & 1 & 1 & 1 & 1 & 1 & 0 & 1 & 0 & 1 & 1 & 0 & 1 & 1 & 1 & 0 & 1 & 0 & 0 & 1 & 1 & 1 & 1 & 1 & 0 & 0 & 0 & 1 & 1 \\\\\n",
       "\\end{tabular}\n"
      ],
      "text/plain": [
       "6×1280 DataFrame. Omitted printing of 1274 columns\n",
       "│ Row │ x1      │ x2       │ x3       │ x4       │ x5       │ x6       │\n",
       "│     │ \u001b[90mString⍰\u001b[39m │ \u001b[90mString⍰\u001b[39m  │ \u001b[90mString⍰\u001b[39m  │ \u001b[90mString⍰\u001b[39m  │ \u001b[90mString⍰\u001b[39m  │ \u001b[90mString⍰\u001b[39m  │\n",
       "├─────┼─────────┼──────────┼──────────┼──────────┼──────────┼──────────┤\n",
       "│ 1   │ id      │ wPt.0538 │ wPt.8463 │ wPt.6348 │ wPt.9992 │ wPt.2838 │\n",
       "│ 2   │ 1       │ 0        │ 1        │ 1        │ 1        │ 1        │\n",
       "│ 3   │ 2       │ 1        │ 1        │ 1        │ 1        │ 1        │\n",
       "│ 4   │ 3       │ 1        │ 1        │ 1        │ 1        │ 1        │\n",
       "│ 5   │ 4       │ 0        │ 1        │ 1        │ 1        │ 1        │\n",
       "│ 6   │ 5       │ 0        │ 1        │ 1        │ 1        │ 1        │"
      ]
     },
     "execution_count": 5,
     "metadata": {},
     "output_type": "execute_result"
    }
   ],
   "source": [
    "head(df)"
   ]
  },
  {
   "cell_type": "code",
   "execution_count": 6,
   "metadata": {
    "scrolled": false
   },
   "outputs": [
    {
     "name": "stderr",
     "output_type": "stream",
     "text": [
      "┌ Warning: readtable is deprecated, use CSV.read from the CSV package instead\n",
      "│   caller = top-level scope at In[6]:1\n",
      "└ @ Core In[6]:1\n",
      "┌ Warning: indexing with colon as row will create a copy in the future use df[col_inds] to get the columns without copying\n",
      "│   caller = top-level scope at In[6]:1\n",
      "└ @ Core In[6]:1\n",
      "┌ Warning: readtable is deprecated, use CSV.read from the CSV package instead\n",
      "│   caller = top-level scope at In[6]:2\n",
      "└ @ Core In[6]:2\n"
     ]
    }
   ],
   "source": [
    "M=convert(Array{Float64,2},readtable(genofile)[:,2:end])\n",
    "phenotypes = readtable(phenofile);"
   ]
  },
  {
   "cell_type": "code",
   "execution_count": 8,
   "metadata": {},
   "outputs": [
    {
     "data": {
      "text/plain": [
       "599×1279 Array{Float64,2}:\n",
       " 0.0  1.0  1.0  1.0  1.0  0.0  1.0  1.0  …  1.0  1.0  0.0  0.0  0.0  0.0  1.0\n",
       " 1.0  1.0  1.0  1.0  1.0  0.0  1.0  1.0     0.0  0.0  0.0  1.0  1.0  1.0  1.0\n",
       " 1.0  1.0  1.0  1.0  1.0  0.0  1.0  1.0     0.0  0.0  0.0  1.0  1.0  1.0  1.0\n",
       " 0.0  1.0  1.0  1.0  1.0  0.0  1.0  1.0     1.0  0.0  0.0  1.0  0.0  1.0  0.0\n",
       " 0.0  1.0  1.0  1.0  1.0  0.0  1.0  1.0     1.0  1.0  0.0  0.0  0.0  1.0  1.0\n",
       " 1.0  1.0  1.0  1.0  1.0  0.0  1.0  1.0  …  1.0  0.0  0.0  0.0  0.0  1.0  1.0\n",
       " 1.0  1.0  1.0  1.0  1.0  0.0  1.0  1.0     1.0  0.0  0.0  0.0  0.0  1.0  1.0\n",
       " 1.0  1.0  0.0  1.0  1.0  0.0  0.0  1.0     1.0  0.0  0.0  1.0  1.0  0.0  0.0\n",
       " 0.0  1.0  0.0  1.0  1.0  0.0  1.0  1.0     0.0  0.0  0.0  0.0  1.0  1.0  1.0\n",
       " 0.0  0.0  0.0  1.0  1.0  0.0  1.0  1.0     0.0  0.0  0.0  0.0  1.0  0.0  1.0\n",
       " 0.0  1.0  0.0  0.0  0.0  0.0  1.0  1.0  …  1.0  1.0  0.0  0.0  1.0  1.0  1.0\n",
       " 1.0  1.0  0.0  1.0  1.0  0.0  1.0  1.0     1.0  1.0  0.0  1.0  0.0  1.0  1.0\n",
       " 0.0  1.0  0.0  1.0  1.0  1.0  1.0  0.0     1.0  1.0  0.0  1.0  0.0  1.0  1.0\n",
       " ⋮                        ⋮              ⋱                 ⋮                 \n",
       " 0.0  1.0  1.0  1.0  1.0  0.0  1.0  1.0     1.0  1.0  0.0  0.0  1.0  1.0  1.0\n",
       " 0.0  1.0  1.0  1.0  1.0  0.0  1.0  1.0     0.0  1.0  0.0  1.0  0.0  1.0  1.0\n",
       " 0.0  1.0  1.0  1.0  1.0  0.0  1.0  1.0     0.0  1.0  0.0  1.0  1.0  1.0  1.0\n",
       " 1.0  1.0  0.0  1.0  1.0  0.0  1.0  1.0  …  0.0  0.0  0.0  0.0  1.0  1.0  1.0\n",
       " 1.0  1.0  1.0  1.0  1.0  0.0  1.0  1.0     1.0  0.0  0.0  1.0  0.0  1.0  1.0\n",
       " 1.0  1.0  1.0  1.0  1.0  1.0  1.0  1.0     1.0  0.0  0.0  0.0  1.0  1.0  1.0\n",
       " 1.0  1.0  1.0  1.0  1.0  0.0  1.0  1.0     1.0  0.0  0.0  1.0  1.0  1.0  1.0\n",
       " 1.0  1.0  1.0  1.0  1.0  0.0  1.0  1.0     1.0  0.0  0.0  1.0  0.0  1.0  1.0\n",
       " 0.0  1.0  1.0  1.0  1.0  0.0  1.0  1.0  …  1.0  0.0  0.0  0.0  1.0  0.0  1.0\n",
       " 0.0  1.0  1.0  1.0  1.0  1.0  1.0  1.0     1.0  0.0  0.0  1.0  1.0  1.0  1.0\n",
       " 1.0  0.0  1.0  1.0  1.0  0.0  1.0  1.0     0.0  0.0  0.0  0.0  1.0  1.0  0.0\n",
       " 1.0  1.0  1.0  1.0  1.0  1.0  1.0  1.0     0.0  1.0  0.0  0.0  1.0  1.0  1.0"
      ]
     },
     "execution_count": 8,
     "metadata": {},
     "output_type": "execute_result"
    }
   ],
   "source": [
    "M"
   ]
  },
  {
   "cell_type": "code",
   "execution_count": 9,
   "metadata": {},
   "outputs": [
    {
     "data": {
      "text/html": [
       "<table class=\"data-frame\"><thead><tr><th></th><th>id</th><th>y1</th><th>y2</th><th>y3</th><th>y4</th></tr><tr><th></th><th>Int64⍰</th><th>Float64⍰</th><th>Float64⍰</th><th>Float64⍰</th><th>Float64⍰</th></tr></thead><tbody><tr><th>1</th><td>1</td><td>1.67163</td><td>-1.72747</td><td>-1.89028</td><td>0.0509159</td></tr><tr><th>2</th><td>2</td><td>-0.252703</td><td>0.409522</td><td>0.309386</td><td>-1.73876</td></tr><tr><th>3</th><td>3</td><td>0.341815</td><td>-0.648626</td><td>-0.799559</td><td>-1.05357</td></tr><tr><th>4</th><td>4</td><td>0.785439</td><td>0.0939492</td><td>0.570468</td><td>0.551757</td></tr><tr><th>5</th><td>5</td><td>0.998318</td><td>-0.282481</td><td>1.61868</td><td>-0.114285</td></tr><tr><th>6</th><td>6</td><td>2.3361</td><td>0.626476</td><td>0.0735331</td><td>0.719586</td></tr></tbody></table>"
      ],
      "text/latex": [
       "\\begin{tabular}{r|ccccc}\n",
       "\t& id & y1 & y2 & y3 & y4\\\\\n",
       "\t\\hline\n",
       "\t1 & 1 & 1.67163 & -1.72747 & -1.89028 & 0.0509159 \\\\\n",
       "\t2 & 2 & -0.252703 & 0.409522 & 0.309386 & -1.73876 \\\\\n",
       "\t3 & 3 & 0.341815 & -0.648626 & -0.799559 & -1.05357 \\\\\n",
       "\t4 & 4 & 0.785439 & 0.0939492 & 0.570468 & 0.551757 \\\\\n",
       "\t5 & 5 & 0.998318 & -0.282481 & 1.61868 & -0.114285 \\\\\n",
       "\t6 & 6 & 2.3361 & 0.626476 & 0.0735331 & 0.719586 \\\\\n",
       "\\end{tabular}\n"
      ],
      "text/plain": [
       "6×5 DataFrame\n",
       "│ Row │ id     │ y1        │ y2        │ y3        │ y4        │\n",
       "│     │ \u001b[90mInt64⍰\u001b[39m │ \u001b[90mFloat64⍰\u001b[39m  │ \u001b[90mFloat64⍰\u001b[39m  │ \u001b[90mFloat64⍰\u001b[39m  │ \u001b[90mFloat64⍰\u001b[39m  │\n",
       "├─────┼────────┼───────────┼───────────┼───────────┼───────────┤\n",
       "│ 1   │ 1      │ 1.67163   │ -1.72747  │ -1.89028  │ 0.0509159 │\n",
       "│ 2   │ 2      │ -0.252703 │ 0.409522  │ 0.309386  │ -1.73876  │\n",
       "│ 3   │ 3      │ 0.341815  │ -0.648626 │ -0.799559 │ -1.05357  │\n",
       "│ 4   │ 4      │ 0.785439  │ 0.0939492 │ 0.570468  │ 0.551757  │\n",
       "│ 5   │ 5      │ 0.998318  │ -0.282481 │ 1.61868   │ -0.114285 │\n",
       "│ 6   │ 6      │ 2.3361    │ 0.626476  │ 0.0735331 │ 0.719586  │"
      ]
     },
     "execution_count": 9,
     "metadata": {},
     "output_type": "execute_result"
    }
   ],
   "source": [
    "head(phenotypes)"
   ]
  },
  {
   "cell_type": "code",
   "execution_count": 10,
   "metadata": {},
   "outputs": [],
   "source": [
    "mStd = std(M,dims=1) #rowSttev\n",
    "M = M ./ mStd; #divide each row by"
   ]
  },
  {
   "cell_type": "code",
   "execution_count": 12,
   "metadata": {},
   "outputs": [
    {
     "data": {
      "text/plain": [
       "1×1279 Array{Float64,2}:\n",
       " 0.477552  0.249846  0.484257  0.370227  …  0.482923  0.433615  0.2183"
      ]
     },
     "execution_count": 12,
     "metadata": {},
     "output_type": "execute_result"
    }
   ],
   "source": [
    "mStd"
   ]
  },
  {
   "cell_type": "code",
   "execution_count": 13,
   "metadata": {},
   "outputs": [
    {
     "data": {
      "text/plain": [
       "(599, 1279)"
      ]
     },
     "execution_count": 13,
     "metadata": {},
     "output_type": "execute_result"
    }
   ],
   "source": [
    "size(M)"
   ]
  },
  {
   "cell_type": "code",
   "execution_count": 14,
   "metadata": {
    "scrolled": true
   },
   "outputs": [
    {
     "data": {
      "text/plain": [
       "1×1279 Array{Float64,2}:\n",
       " 1.0  1.0  1.0  1.0  1.0  1.0  1.0  1.0  …  1.0  1.0  1.0  1.0  1.0  1.0  1.0"
      ]
     },
     "execution_count": 14,
     "metadata": {},
     "output_type": "execute_result"
    }
   ],
   "source": [
    "var(M,dims=1)"
   ]
  },
  {
   "cell_type": "code",
   "execution_count": 15,
   "metadata": {},
   "outputs": [
    {
     "data": {
      "text/plain": [
       "getTrnValSets (generic function with 1 method)"
      ]
     },
     "execution_count": 15,
     "metadata": {},
     "output_type": "execute_result"
    }
   ],
   "source": [
    "function getTrnValSets(N,trnSize)\n",
    "    # N is the size of the data set\n",
    "    trnSet = sort(sample(1:N,trnSize,replace=false))\n",
    "    mask = trues(N)\n",
    "    mask[trnSet] .= false\n",
    "    valSet = (1:N)[mask]\n",
    "    return trnSet,valSet\n",
    "end"
   ]
  },
  {
   "cell_type": "markdown",
   "metadata": {},
   "source": [
    "The \"sample\" function can be used to get a random sample from and array of objects. Some examples:"
   ]
  },
  {
   "cell_type": "code",
   "execution_count": 16,
   "metadata": {},
   "outputs": [
    {
     "data": {
      "text/plain": [
       "5-element Array{Any,1}:\n",
       "   \"a\"\n",
       "  3   \n",
       "  1   \n",
       " 45   \n",
       "  2   "
      ]
     },
     "execution_count": 16,
     "metadata": {},
     "output_type": "execute_result"
    }
   ],
   "source": [
    "sample([45,\"a\",1,1,2,2,3],5,replace=false)"
   ]
  },
  {
   "cell_type": "markdown",
   "metadata": {},
   "source": [
    "sample(1:8,5,replace=false)"
   ]
  },
  {
   "cell_type": "code",
   "execution_count": 18,
   "metadata": {},
   "outputs": [
    {
     "data": {
      "text/plain": [
       "([1, 5, 6, 8, 10], [2, 3, 4, 7, 9])"
      ]
     },
     "execution_count": 18,
     "metadata": {},
     "output_type": "execute_result"
    }
   ],
   "source": [
    "getTrnValSets(10,5)"
   ]
  },
  {
   "cell_type": "code",
   "execution_count": 19,
   "metadata": {},
   "outputs": [
    {
     "data": {
      "text/plain": [
       "5-element Array{Int64,1}:\n",
       "  1\n",
       "  3\n",
       "  8\n",
       "  9\n",
       " 10"
      ]
     },
     "execution_count": 19,
     "metadata": {},
     "output_type": "execute_result"
    }
   ],
   "source": [
    "trn, val = getTrnValSets(10,5)\n",
    "trn"
   ]
  },
  {
   "cell_type": "code",
   "execution_count": 20,
   "metadata": {},
   "outputs": [
    {
     "data": {
      "text/plain": [
       "5-element Array{Int64,1}:\n",
       " 2\n",
       " 4\n",
       " 5\n",
       " 6\n",
       " 7"
      ]
     },
     "execution_count": 20,
     "metadata": {},
     "output_type": "execute_result"
    }
   ],
   "source": [
    "val"
   ]
  },
  {
   "cell_type": "code",
   "execution_count": 21,
   "metadata": {},
   "outputs": [
    {
     "data": {
      "text/plain": [
       "5-element Array{Int64,1}:\n",
       "  1\n",
       "  2\n",
       "  5\n",
       "  8\n",
       " 10"
      ]
     },
     "execution_count": 21,
     "metadata": {},
     "output_type": "execute_result"
    }
   ],
   "source": [
    "res = getTrnValSets(10,5)\n",
    "res[1]"
   ]
  },
  {
   "cell_type": "code",
   "execution_count": 22,
   "metadata": {},
   "outputs": [
    {
     "data": {
      "text/plain": [
       "5-element Array{Int64,1}:\n",
       " 3\n",
       " 4\n",
       " 6\n",
       " 7\n",
       " 9"
      ]
     },
     "execution_count": 22,
     "metadata": {},
     "output_type": "execute_result"
    }
   ],
   "source": [
    "res[2] "
   ]
  },
  {
   "cell_type": "code",
   "execution_count": 24,
   "metadata": {
    "scrolled": false
   },
   "outputs": [
    {
     "data": {
      "text/plain": [
       "IOStream(<file wheatCorrelations>)"
      ]
     },
     "execution_count": 24,
     "metadata": {},
     "output_type": "execute_result"
    }
   ],
   "source": [
    "model_equation = \"y1 = intercept\n",
    "                  y2 = intercept\"\n",
    "\n",
    "R     = [0.5301922 -0.2248727\n",
    "        -0.2248727  0.5724733]\n",
    "\n",
    "G = [ 3.462704e-05 -2.076392e-05\n",
    "     -2.076392e-05  3.059811e-05] .* 12\n",
    "\n",
    "\n",
    "trnSize = 300\n",
    "N = size(phenotypes,1)\n",
    "resFile = open(\"wheatCorrelations\",\"w\")"
   ]
  },
  {
   "cell_type": "code",
   "execution_count": 25,
   "metadata": {},
   "outputs": [
    {
     "data": {
      "text/plain": [
       "2×2 Array{Float64,2}:\n",
       "  0.000415524  -0.000249167\n",
       " -0.000249167   0.000367177"
      ]
     },
     "execution_count": 25,
     "metadata": {},
     "output_type": "execute_result"
    }
   ],
   "source": [
    "G"
   ]
  },
  {
   "cell_type": "code",
   "execution_count": 26,
   "metadata": {
    "scrolled": false
   },
   "outputs": [
    {
     "name": "stdout",
     "output_type": "stream",
     "text": [
      "\n",
      " Iteration: 1\n",
      "\n",
      "1279 markers on 300 individuals were added.\n",
      "\u001b[31mPhenotyped individuals are not a subset of either\u001b[39m\n",
      "\u001b[31mgenotyped individuals (complete genomic data,non-single-step) or\u001b[39m\n",
      "\u001b[31mindividuals in pedigree (incomplete genomic data, single-step).\u001b[39m\n",
      "\u001b[31mOnly individuals with both information are used in the analysis.\u001b[39m\n",
      "\u001b[32mPi (Π) is not provided.\u001b[39m\n",
      "\u001b[32mPi (Π) is generated assuming all markers have effects on all traits.\u001b[39m\n",
      "\n",
      "\n",
      "\n",
      "A Linear Mixed Model was build using model equations:\n",
      "\n",
      "y1 = intercept\n",
      "y2 = intercept\n",
      "\n",
      "Model Information:\n",
      "\n",
      "Term            C/F          F/R            nLevels\n",
      "intercept       factor       fixed                1\n",
      "\n",
      "MCMC Information:\n",
      "\n",
      "methods                                      BayesL\n",
      "chain_length                                  50000\n",
      "burnin                                         1000\n",
      "estimatePi                                    false\n",
      "starting_value                                false\n",
      "printout_frequency                            10000\n",
      "output_samples_frequency                          0\n",
      "constraint                                    false\n",
      "missing_phenotypes                            false\n",
      "update_priors_frequency                           0\n",
      "\n",
      "Hyper-parameters Information: \n",
      "\n",
      "residual variances:           \n",
      "  0.53   -0.225\n",
      " -0.225   0.572\n",
      "genetic variances (genomic):  \n",
      "  0.0  -0.0\n",
      " -0.0   0.0\n",
      "marker effect variances:      \n",
      "  0.0  -0.0\n",
      " -0.0   0.0\n",
      "Π:\n",
      "combinations          probability\n",
      "[0.0, 0.0]                    0.0\n",
      "[1.0, 0.0]                    0.0\n",
      "[1.0, 1.0]                    1.0\n",
      "[0.0, 1.0]                    0.0\n",
      "\n",
      "Degree of freedom for hyper-parameters:\n",
      "\n",
      "residual variances:                           4.000\n",
      "iid random effect variances:                  4.000\n",
      "marker effect variances:                      4.000\n",
      "\n",
      "\n",
      "\n"
     ]
    },
    {
     "name": "stderr",
     "output_type": "stream",
     "text": [
      "\u001b[32mrunning MCMC for BayesL... 20%|█████                    |  ETA: 0:01:36\u001b[39m"
     ]
    },
    {
     "name": "stdout",
     "output_type": "stream",
     "text": [
      "\n",
      "Posterior means at iteration: 10000\n",
      "Residual covariance matrix: \n"
     ]
    },
    {
     "name": "stderr",
     "output_type": "stream",
     "text": [
      "\u001b[32mrunning MCMC for BayesL... 20%|█████                    |  ETA: 0:01:36\u001b[39m"
     ]
    },
    {
     "name": "stdout",
     "output_type": "stream",
     "text": [
      "[0.642091 0.08984; 0.08984 0.580399]\n",
      "Marker effects covariance matrix: \n",
      "[2.2e-5 -1.1e-5; -1.1e-5 2.6e-5]\n",
      "\n"
     ]
    },
    {
     "name": "stderr",
     "output_type": "stream",
     "text": [
      "\u001b[32mrunning MCMC for BayesL... 40%|██████████               |  ETA: 0:01:10\u001b[39m"
     ]
    },
    {
     "name": "stdout",
     "output_type": "stream",
     "text": [
      "\n",
      "Posterior means at iteration: 20000\n",
      "Residual covariance matrix: \n",
      "[0.639689 0.089302; 0.089302 0.582342]\n",
      "Marker effects covariance matrix: \n",
      "[2.2e-5 -1.2e-5; -1.2e-5 2.6e-5]\n",
      "\n"
     ]
    },
    {
     "name": "stderr",
     "output_type": "stream",
     "text": [
      "\u001b[32mrunning MCMC for BayesL... 60%|███████████████          |  ETA: 0:00:46\u001b[39m"
     ]
    },
    {
     "name": "stdout",
     "output_type": "stream",
     "text": [
      "\n",
      "Posterior means at iteration: 30000\n",
      "Residual covariance matrix: \n",
      "[0.637211 0.089401; 0.089401 0.583972]\n",
      "Marker effects covariance matrix: \n",
      "[2.3e-5 -1.2e-5; -1.2e-5 2.6e-5]\n",
      "\n"
     ]
    },
    {
     "name": "stderr",
     "output_type": "stream",
     "text": [
      "\u001b[32mrunning MCMC for BayesL... 80%|████████████████████     |  ETA: 0:00:23\u001b[39m"
     ]
    },
    {
     "name": "stdout",
     "output_type": "stream",
     "text": [
      "\n",
      "Posterior means at iteration: 40000\n",
      "Residual covariance matrix: \n",
      "[0.636763 0.088646; 0.088646 0.583489]\n",
      "Marker effects covariance matrix: \n",
      "[2.3e-5 -1.1e-5; -1.1e-5 2.6e-5]\n",
      "\n"
     ]
    },
    {
     "name": "stderr",
     "output_type": "stream",
     "text": [
      "\u001b[32mrunning MCMC for BayesL...100%|█████████████████████████|  ETA: 0:00:00\u001b[39m"
     ]
    },
    {
     "name": "stdout",
     "output_type": "stream",
     "text": [
      "\n",
      "Posterior means at iteration: 50000\n",
      "Residual covariance matrix: \n",
      "[0.638721 0.088873; 0.088873 0.58324]\n",
      "Marker effects covariance matrix: \n",
      "[2.2e-5 -1.1e-5; -1.1e-5 2.6e-5]\n",
      "\n"
     ]
    },
    {
     "name": "stderr",
     "output_type": "stream",
     "text": [
      "\u001b[32mrunning MCMC for BayesL...100%|█████████████████████████| Time: 0:01:55\u001b[39m\n"
     ]
    },
    {
     "name": "stdout",
     "output_type": "stream",
     "text": [
      "1279 markers on 300 individuals were added.\n",
      "\u001b[31mPhenotyped individuals are not a subset of either\u001b[39m\n",
      "\u001b[31mgenotyped individuals (complete genomic data,non-single-step) or\u001b[39m\n",
      "\u001b[31mindividuals in pedigree (incomplete genomic data, single-step).\u001b[39m\n",
      "\u001b[31mOnly individuals with both information are used in the analysis.\u001b[39m\n",
      "\u001b[32mPi (Π) is not provided.\u001b[39m\n",
      "\u001b[32mPi (Π) is generated assuming all markers have effects on all traits.\u001b[39m\n",
      "\n",
      "\n",
      "\n",
      "A Linear Mixed Model was build using model equations:\n",
      "\n",
      "y1 = intercept\n",
      "y2 = intercept\n",
      "\n",
      "Model Information:\n",
      "\n",
      "Term            C/F          F/R            nLevels\n",
      "intercept       factor       fixed                1\n",
      "\n",
      "MCMC Information:\n",
      "\n",
      "methods                                     RR-BLUP\n",
      "chain_length                                  50000\n",
      "burnin                                         1000\n",
      "estimatePi                                    false\n",
      "starting_value                                false\n",
      "printout_frequency                            10000\n",
      "output_samples_frequency                          0\n",
      "constraint                                    false\n",
      "missing_phenotypes                            false\n",
      "update_priors_frequency                           0\n",
      "\n",
      "Hyper-parameters Information: \n",
      "\n",
      "residual variances:           \n",
      "  0.53   -0.225\n",
      " -0.225   0.572\n",
      "genetic variances (genomic):  \n",
      "  0.0  -0.0\n",
      " -0.0   0.0\n",
      "marker effect variances:      \n",
      "  0.0  -0.0\n",
      " -0.0   0.0\n",
      "Π:\n",
      "combinations          probability\n",
      "[0.0, 0.0]                    0.0\n",
      "[1.0, 0.0]                    0.0\n",
      "[1.0, 1.0]                    1.0\n",
      "[0.0, 1.0]                    0.0\n",
      "\n",
      "Degree of freedom for hyper-parameters:\n",
      "\n",
      "residual variances:                           4.000\n",
      "iid random effect variances:                  4.000\n",
      "marker effect variances:                      4.000\n",
      "\n",
      "\n",
      "\n"
     ]
    },
    {
     "name": "stderr",
     "output_type": "stream",
     "text": [
      "\u001b[32mrunning MCMC for RR-BLUP... 20%|█████                   |  ETA: 0:01:18\u001b[39m"
     ]
    },
    {
     "name": "stdout",
     "output_type": "stream",
     "text": [
      "\n",
      "Posterior means at iteration: 10000\n",
      "Residual covariance matrix: \n",
      "[0.643701 0.088944; 0.088944 0.591065]\n",
      "Marker effects covariance matrix: \n",
      "[0.000258 -0.000134; -0.000134 0.000293]\n",
      "\n"
     ]
    },
    {
     "name": "stderr",
     "output_type": "stream",
     "text": [
      "\u001b[32mrunning MCMC for RR-BLUP... 40%|██████████              |  ETA: 0:00:59\u001b[39m"
     ]
    },
    {
     "name": "stdout",
     "output_type": "stream",
     "text": [
      "\n",
      "Posterior means at iteration: 20000\n",
      "Residual covariance matrix: \n",
      "[0.643358 0.08801; 0.08801 0.592362]\n",
      "Marker effects covariance matrix: \n",
      "[0.000259 -0.000132; -0.000132 0.00029]\n",
      "\n"
     ]
    },
    {
     "name": "stderr",
     "output_type": "stream",
     "text": [
      "\u001b[32mrunning MCMC for RR-BLUP... 60%|██████████████          |  ETA: 0:00:40\u001b[39m"
     ]
    },
    {
     "name": "stdout",
     "output_type": "stream",
     "text": [
      "\n",
      "Posterior means at iteration: 30000\n",
      "Residual covariance matrix: \n",
      "[0.642445 0.089164; 0.089164 0.591082]\n",
      "Marker effects covariance matrix: \n",
      "[0.000263 -0.000135; -0.000135 0.000294]\n",
      "\n"
     ]
    },
    {
     "name": "stderr",
     "output_type": "stream",
     "text": [
      "\u001b[32mrunning MCMC for RR-BLUP... 80%|███████████████████     |  ETA: 0:00:20\u001b[39m"
     ]
    },
    {
     "name": "stdout",
     "output_type": "stream",
     "text": [
      "\n",
      "Posterior means at iteration: 40000\n",
      "Residual covariance matrix: \n",
      "[0.642709 0.08892; 0.08892 0.58965]\n",
      "Marker effects covariance matrix: \n",
      "[0.000262 -0.000135; -0.000135 0.000296]\n",
      "\n"
     ]
    },
    {
     "name": "stderr",
     "output_type": "stream",
     "text": [
      "\u001b[32mrunning MCMC for RR-BLUP...100%|████████████████████████|  ETA: 0:00:00\u001b[39m"
     ]
    },
    {
     "name": "stdout",
     "output_type": "stream",
     "text": [
      "\n",
      "Posterior means at iteration: 50000\n",
      "Residual covariance matrix: \n",
      "[0.64364 0.089009; 0.089009 0.587639]\n",
      "Marker effects covariance matrix: \n",
      "[0.00026 -0.000135; -0.000135 0.0003]\n",
      "\n"
     ]
    },
    {
     "name": "stderr",
     "output_type": "stream",
     "text": [
      "\u001b[32mrunning MCMC for RR-BLUP...100%|████████████████████████| Time: 0:01:39\u001b[39m\n"
     ]
    },
    {
     "name": "stdout",
     "output_type": "stream",
     "text": [
      "1279 markers on 300 individuals were added.\n",
      "\u001b[31mPhenotyped individuals are not a subset of either\u001b[39m\n",
      "\u001b[31mgenotyped individuals (complete genomic data,non-single-step) or\u001b[39m\n",
      "\u001b[31mindividuals in pedigree (incomplete genomic data, single-step).\u001b[39m\n",
      "\u001b[31mOnly individuals with both information are used in the analysis.\u001b[39m\n",
      "\n",
      "\n",
      "\n",
      "A Linear Mixed Model was build using model equations:\n",
      "\n",
      "y1 = intercept\n",
      "y2 = intercept\n",
      "\n",
      "Model Information:\n",
      "\n",
      "Term            C/F          F/R            nLevels\n",
      "intercept       factor       fixed                1\n",
      "\n",
      "MCMC Information:\n",
      "\n",
      "methods                                      BayesC\n",
      "chain_length                                  50000\n",
      "burnin                                         1000\n",
      "estimatePi                                     true\n",
      "starting_value                                false\n",
      "printout_frequency                            10000\n",
      "output_samples_frequency                          0\n",
      "constraint                                    false\n",
      "missing_phenotypes                            false\n",
      "update_priors_frequency                           0\n",
      "\n",
      "Hyper-parameters Information: \n",
      "\n",
      "residual variances:           \n",
      "  0.53   -0.225\n",
      " -0.225   0.572\n",
      "genetic variances (genomic):  \n",
      "  0.0  -0.0\n",
      " -0.0   0.0\n",
      "marker effect variances:      \n",
      "  0.0  -0.0\n",
      " -0.0   0.0\n",
      "Π:\n",
      "combinations          probability\n",
      "[0.0, 0.0]                   0.25\n",
      "[1.0, 0.0]                   0.25\n",
      "[1.0, 1.0]                   0.25\n",
      "[0.0, 1.0]                   0.25\n",
      "\n",
      "Degree of freedom for hyper-parameters:\n",
      "\n",
      "residual variances:                           4.000\n",
      "iid random effect variances:                  4.000\n",
      "marker effect variances:                      4.000\n",
      "\n",
      "\n",
      "\n"
     ]
    },
    {
     "name": "stderr",
     "output_type": "stream",
     "text": [
      "\u001b[32mrunning MCMC for BayesC... 20%|█████                    |  ETA: 0:03:42\u001b[39m"
     ]
    },
    {
     "name": "stdout",
     "output_type": "stream",
     "text": [
      "\n",
      "Posterior means at iteration: 10000\n",
      "Residual covariance matrix: \n",
      "[0.642354 0.080141; 0.080141 0.577371]\n",
      "Marker effects covariance matrix: \n",
      "[0.000437 -0.000364; -0.000364 0.000603]\n",
      "π: \n",
      "Dict"
     ]
    },
    {
     "name": "stderr",
     "output_type": "stream",
     "text": [
      "\u001b[32mrunning MCMC for BayesC... 20%|█████                    |  ETA: 0:03:42\u001b[39m"
     ]
    },
    {
     "name": "stdout",
     "output_type": "stream",
     "text": [
      "([0.0, 0.0]=>0.193899,[1.0, 0.0]=>0.239212,[1.0, 1.0]=>0.360044,[0.0, 1.0]=>0.206845)\n",
      "\n"
     ]
    },
    {
     "name": "stderr",
     "output_type": "stream",
     "text": [
      "\u001b[32mrunning MCMC for BayesC... 40%|██████████               |  ETA: 0:02:46\u001b[39m"
     ]
    },
    {
     "name": "stdout",
     "output_type": "stream",
     "text": [
      "\n",
      "Posterior means at iteration: 20000\n",
      "Residual covariance matrix: \n",
      "[0.640394 0.08186; 0.08186 0.580544]\n",
      "Marker effects covariance matrix: \n",
      "[0.000433 -0.000364; -0.000364 0.000579]\n",
      "π: \n",
      "Dict([0.0, 0.0]=>0.153274,[1.0, 0.0]=>0.255945,[1.0, 1.0]=>0.371571,[0.0, 1.0]=>0.219209)\n",
      "\n"
     ]
    },
    {
     "name": "stderr",
     "output_type": "stream",
     "text": [
      "\u001b[32mrunning MCMC for BayesC... 60%|███████████████          |  ETA: 0:01:50\u001b[39m"
     ]
    },
    {
     "name": "stdout",
     "output_type": "stream",
     "text": [
      "\n",
      "Posterior means at iteration: 30000\n",
      "Residual covariance matrix: \n",
      "[0.640637 0.082529; 0.082529 0.579539]\n",
      "Marker effects covariance matrix: \n",
      "[0.000466 -0.000377; -0.000377 0.000562]\n",
      "π: \n",
      "Dict([0.0, 0.0]=>0.155463,[1.0, 0.0]=>0.230455,[1.0, 1.0]=>0.376737,[0.0, 1.0]=>0.237345)\n",
      "\n"
     ]
    },
    {
     "name": "stderr",
     "output_type": "stream",
     "text": [
      "\u001b[32mrunning MCMC for BayesC... 80%|████████████████████     |  ETA: 0:00:55\u001b[39m"
     ]
    },
    {
     "name": "stdout",
     "output_type": "stream",
     "text": [
      "\n",
      "Posterior means at iteration: 40000\n",
      "Residual covariance matrix: \n",
      "[0.641286 0.083431; 0.083431 0.581203]\n",
      "Marker effects covariance matrix: \n",
      "[0.000484 -0.000381; -0.000381 0.000552]\n",
      "π: \n",
      "Dict([0.0, 0.0]=>0.166514,[1.0, 0.0]=>0.21778,[1.0, 1.0]=>0.383017,[0.0, 1.0]=>0.232689)\n",
      "\n"
     ]
    },
    {
     "name": "stderr",
     "output_type": "stream",
     "text": [
      "\u001b[32mrunning MCMC for BayesC...100%|█████████████████████████|  ETA: 0:00:00\u001b[39m"
     ]
    },
    {
     "name": "stdout",
     "output_type": "stream",
     "text": [
      "\n",
      "Posterior means at iteration: 50000\n",
      "Residual covariance matrix: \n",
      "[0.640168 0.082617; 0.082617 0.581034]\n",
      "Marker effects covariance matrix: \n",
      "[0.000504 -0.000392; -0.000392 0.000547]\n",
      "π: \n",
      "Dict([0.0, 0.0]=>0.163066,[1.0, 0.0]=>0.219245,[1.0, 1.0]=>0.365628,[0.0, 1.0]=>0.252061)\n",
      "\n"
     ]
    },
    {
     "name": "stderr",
     "output_type": "stream",
     "text": [
      "\u001b[32mrunning MCMC for BayesC...100%|█████████████████████████| Time: 0:04:38\u001b[39m\n"
     ]
    },
    {
     "name": "stdout",
     "output_type": "stream",
     "text": [
      "\n",
      " Iteration: 2\n",
      "\n",
      "1279 markers on 300 individuals were added.\n",
      "\u001b[31mPhenotyped individuals are not a subset of either\u001b[39m\n",
      "\u001b[31mgenotyped individuals (complete genomic data,non-single-step) or\u001b[39m\n",
      "\u001b[31mindividuals in pedigree (incomplete genomic data, single-step).\u001b[39m\n",
      "\u001b[31mOnly individuals with both information are used in the analysis.\u001b[39m\n",
      "\u001b[32mPi (Π) is not provided.\u001b[39m\n",
      "\u001b[32mPi (Π) is generated assuming all markers have effects on all traits.\u001b[39m\n",
      "\n",
      "\n",
      "\n",
      "A Linear Mixed Model was build using model equations:\n",
      "\n",
      "y1 = intercept\n",
      "y2 = intercept\n",
      "\n",
      "Model Information:\n",
      "\n",
      "Term            C/F          F/R            nLevels\n",
      "intercept       factor       fixed                1\n",
      "\n",
      "MCMC Information:\n",
      "\n",
      "methods                                      BayesL\n",
      "chain_length                                  50000\n",
      "burnin                                         1000\n",
      "estimatePi                                    false\n",
      "starting_value                                false\n",
      "printout_frequency                            10000\n",
      "output_samples_frequency                          0\n",
      "constraint                                    false\n",
      "missing_phenotypes                            false\n",
      "update_priors_frequency                           0\n",
      "\n",
      "Hyper-parameters Information: \n",
      "\n",
      "residual variances:           \n",
      "  0.53   -0.225\n",
      " -0.225   0.572\n",
      "genetic variances (genomic):  \n",
      "  0.0  -0.0\n",
      " -0.0   0.0\n",
      "marker effect variances:      \n",
      "  0.0  -0.0\n",
      " -0.0   0.0\n",
      "Π:\n",
      "combinations          probability\n",
      "[0.0, 0.0]                    0.0\n",
      "[1.0, 0.0]                    0.0\n",
      "[1.0, 1.0]                    1.0\n",
      "[0.0, 1.0]                    0.0\n",
      "\n",
      "Degree of freedom for hyper-parameters:\n",
      "\n",
      "residual variances:                           4.000\n",
      "iid random effect variances:                  4.000\n",
      "marker effect variances:                      4.000\n",
      "\n",
      "\n",
      "\n"
     ]
    },
    {
     "name": "stderr",
     "output_type": "stream",
     "text": [
      "\u001b[32mrunning MCMC for BayesL... 20%|█████                    |  ETA: 0:01:31\u001b[39m"
     ]
    },
    {
     "name": "stdout",
     "output_type": "stream",
     "text": [
      "\n",
      "Posterior means at iteration: 10000\n",
      "Residual covariance matrix: \n",
      "[0.589217 0.132416; 0.132416 0.542563]\n",
      "Marker effects covariance matrix: \n",
      "[2.6e-5 -1.4e-5; -1.4e-5 2.7e-5]\n",
      "\n"
     ]
    },
    {
     "name": "stderr",
     "output_type": "stream",
     "text": [
      "\u001b[32mrunning MCMC for BayesL... 40%|██████████               |  ETA: 0:01:08\u001b[39m"
     ]
    },
    {
     "name": "stdout",
     "output_type": "stream",
     "text": [
      "\n",
      "Posterior means at iteration: 20000\n",
      "Residual covariance matrix: \n",
      "[0.591307 0.134533; 0.134533 0.546086]\n",
      "Marker effects covariance matrix: \n",
      "[2.6e-5 -1.4e-5; -1.4e-5 2.6e-5]\n",
      "\n"
     ]
    },
    {
     "name": "stderr",
     "output_type": "stream",
     "text": [
      "\u001b[32mrunning MCMC for BayesL... 60%|███████████████          |  ETA: 0:00:45\u001b[39m"
     ]
    },
    {
     "name": "stdout",
     "output_type": "stream",
     "text": [
      "\n",
      "Posterior means at iteration: 30000\n",
      "Residual covariance matrix: \n",
      "[0.590586 0.134805; 0.134805 0.544163]\n",
      "Marker effects covariance matrix: \n",
      "[2.6e-5 -1.4e-5; -1.4e-5 2.7e-5]\n",
      "\n"
     ]
    },
    {
     "name": "stderr",
     "output_type": "stream",
     "text": [
      "\u001b[32mrunning MCMC for BayesL... 80%|████████████████████     |  ETA: 0:00:23\u001b[39m"
     ]
    },
    {
     "name": "stdout",
     "output_type": "stream",
     "text": [
      "\n",
      "Posterior means at iteration: 40000\n",
      "Residual covariance matrix: \n",
      "[0.589273 0.133439; 0.133439 0.54567]\n",
      "Marker effects covariance matrix: \n",
      "[2.6e-5 -1.4e-5; -1.4e-5 2.6e-5]\n",
      "\n"
     ]
    },
    {
     "name": "stderr",
     "output_type": "stream",
     "text": [
      "\u001b[32mrunning MCMC for BayesL...100%|█████████████████████████|  ETA: 0:00:00\u001b[39m"
     ]
    },
    {
     "name": "stdout",
     "output_type": "stream",
     "text": [
      "\n",
      "Posterior means at iteration: 50000\n",
      "Residual covariance matrix: \n",
      "[0.589654 0.134507; 0.134507 0.545926]\n",
      "Marker effects covariance matrix: \n",
      "[2.6e-5 -1.4e-5; -1.4e-5 2.7e-5]\n",
      "\n"
     ]
    },
    {
     "name": "stderr",
     "output_type": "stream",
     "text": [
      "\u001b[32mrunning MCMC for BayesL...100%|█████████████████████████| Time: 0:01:53\u001b[39m\n"
     ]
    },
    {
     "name": "stdout",
     "output_type": "stream",
     "text": [
      "1279 markers on 300 individuals were added.\n",
      "\u001b[31mPhenotyped individuals are not a subset of either\u001b[39m\n",
      "\u001b[31mgenotyped individuals (complete genomic data,non-single-step) or\u001b[39m\n",
      "\u001b[31mindividuals in pedigree (incomplete genomic data, single-step).\u001b[39m\n",
      "\u001b[31mOnly individuals with both information are used in the analysis.\u001b[39m\n",
      "\u001b[32mPi (Π) is not provided.\u001b[39m\n",
      "\u001b[32mPi (Π) is generated assuming all markers have effects on all traits.\u001b[39m\n",
      "\n",
      "\n",
      "\n",
      "A Linear Mixed Model was build using model equations:\n",
      "\n",
      "y1 = intercept\n",
      "y2 = intercept\n",
      "\n",
      "Model Information:\n",
      "\n",
      "Term            C/F          F/R            nLevels\n",
      "intercept       factor       fixed                1\n",
      "\n",
      "MCMC Information:\n",
      "\n",
      "methods                                     RR-BLUP\n",
      "chain_length                                  50000\n",
      "burnin                                         1000\n",
      "estimatePi                                    false\n",
      "starting_value                                false\n",
      "printout_frequency                            10000\n",
      "output_samples_frequency                          0\n",
      "constraint                                    false\n",
      "missing_phenotypes                            false\n",
      "update_priors_frequency                           0\n",
      "\n",
      "Hyper-parameters Information: \n",
      "\n",
      "residual variances:           \n",
      "  0.53   -0.225\n",
      " -0.225   0.572\n",
      "genetic variances (genomic):  \n",
      "  0.0  -0.0\n",
      " -0.0   0.0\n",
      "marker effect variances:      \n",
      "  0.0  -0.0\n",
      " -0.0   0.0\n",
      "Π:\n",
      "combinations          probability\n",
      "[0.0, 0.0]                    0.0\n",
      "[1.0, 0.0]                    0.0\n",
      "[1.0, 1.0]                    1.0\n",
      "[0.0, 1.0]                    0.0\n",
      "\n",
      "Degree of freedom for hyper-parameters:\n",
      "\n",
      "residual variances:                           4.000\n",
      "iid random effect variances:                  4.000\n",
      "marker effect variances:                      4.000\n",
      "\n",
      "\n",
      "\n"
     ]
    },
    {
     "name": "stderr",
     "output_type": "stream",
     "text": [
      "\u001b[32mrunning MCMC for RR-BLUP... 20%|█████                   |  ETA: 0:01:18\u001b[39m"
     ]
    },
    {
     "name": "stdout",
     "output_type": "stream",
     "text": [
      "\n",
      "Posterior means at iteration: 10000\n",
      "Residual covariance matrix: \n",
      "[0.586254 0.135165; 0.135165 0.547576]\n",
      "Marker effects covariance matrix: \n",
      "[0.000321 -0.000173; -0.000173 0.000319]\n",
      "\n"
     ]
    },
    {
     "name": "stderr",
     "output_type": "stream",
     "text": [
      "\u001b[32mrunning MCMC for RR-BLUP... 40%|██████████              |  ETA: 0:00:58\u001b[39m"
     ]
    },
    {
     "name": "stdout",
     "output_type": "stream",
     "text": [
      "\n",
      "Posterior means at iteration: 20000\n",
      "Residual covariance matrix: \n",
      "[0.588595 0.135188; 0.135188 0.548457]\n",
      "Marker effects covariance matrix: \n",
      "[0.000319 -0.000173; -0.000173 0.000316]\n",
      "\n"
     ]
    },
    {
     "name": "stderr",
     "output_type": "stream",
     "text": [
      "\u001b[32mrunning MCMC for RR-BLUP... 60%|██████████████          |  ETA: 0:00:39\u001b[39m"
     ]
    },
    {
     "name": "stdout",
     "output_type": "stream",
     "text": [
      "\n",
      "Posterior means at iteration: 30000\n",
      "Residual covariance matrix: \n",
      "[0.589899 0.133426; 0.133426 0.547611]\n",
      "Marker effects covariance matrix: \n",
      "[0.000317 -0.000169; -0.000169 0.000316]\n",
      "\n"
     ]
    },
    {
     "name": "stderr",
     "output_type": "stream",
     "text": [
      "\u001b[32mrunning MCMC for RR-BLUP... 80%|███████████████████     |  ETA: 0:00:19\u001b[39m"
     ]
    },
    {
     "name": "stdout",
     "output_type": "stream",
     "text": [
      "\n",
      "Posterior means at iteration: 40000\n",
      "Residual covariance matrix: \n",
      "[0.5905 0.134053; 0.134053 0.547159]\n",
      "Marker effects covariance matrix: \n",
      "[0.000316 -0.000172; -0.000172 0.000318]\n",
      "\n"
     ]
    },
    {
     "name": "stderr",
     "output_type": "stream",
     "text": [
      "\u001b[32mrunning MCMC for RR-BLUP...100%|████████████████████████|  ETA: 0:00:00\u001b[39m"
     ]
    },
    {
     "name": "stdout",
     "output_type": "stream",
     "text": [
      "\n",
      "Posterior means at iteration: 50000\n",
      "Residual covariance matrix: \n",
      "[0.590073 0.134322; 0.134322 0.547616]\n",
      "Marker effects covariance matrix: \n",
      "[0.000318 -0.000172; -0.000172 0.000317]\n",
      "\n",
      "1279 markers on 300 individuals were added.\n",
      "\u001b[31mPhenotyped individuals are not a subset of either\u001b[39m\n",
      "\u001b[31mgenotyped individuals (complete genomic data,non-single-step) or\u001b[39m\n",
      "\u001b[31mindividuals in pedigree (incomplete genomic data, single-step).\u001b[39m\n",
      "\u001b[31mOnly individuals with both information are used in the analysis.\u001b[39m\n",
      "\n",
      "\n",
      "\n",
      "A Linear Mixed Model was build using model equations:\n",
      "\n",
      "y1 = intercept\n",
      "y2 = intercept\n",
      "\n",
      "Model Information:\n",
      "\n",
      "Term            C/F          F/R            nLevels\n",
      "intercept       factor       fixed                1\n",
      "\n",
      "MCMC Information:\n",
      "\n",
      "methods                                      BayesC\n",
      "chain_length                                  50000\n",
      "burnin                                         1000\n",
      "estimatePi                                     true\n",
      "starting_value                                false\n",
      "printout_frequency                            10000\n",
      "output_samples_frequency                          0\n",
      "constraint                                    false\n",
      "missing_phenotypes                            false\n",
      "update_priors_frequency                           0\n",
      "\n",
      "Hyper-parameters Information: \n",
      "\n",
      "residual variances:           \n",
      "  0.53   -0.225\n",
      " -0.225   0.572\n",
      "genetic variances (genomic):  \n",
      "  0.0  -0.0\n",
      " -0.0   0.0\n",
      "marker effect variances:      \n",
      "  0.0  -0.0\n",
      " -0.0   0.0\n",
      "Π:\n",
      "combinations          probability\n",
      "[0.0, 0.0]                   0.25\n",
      "[1.0, 0.0]                   0.25\n",
      "[1.0, 1.0]                   0.25\n",
      "[0.0, 1.0]                   0.25\n",
      "\n",
      "Degree of freedom for hyper-parameters:\n",
      "\n",
      "residual variances:                           4.000\n",
      "iid random effect variances:                  4.000\n",
      "marker effect variances:                      4.000\n",
      "\n",
      "\n",
      "\n"
     ]
    },
    {
     "name": "stderr",
     "output_type": "stream",
     "text": [
      "\u001b[32mrunning MCMC for RR-BLUP...100%|████████████████████████| Time: 0:01:36\u001b[39m\n",
      "\u001b[32mrunning MCMC for BayesC... 20%|█████                    |  ETA: 0:03:41\u001b[39m"
     ]
    },
    {
     "name": "stdout",
     "output_type": "stream",
     "text": [
      "\n",
      "Posterior means at iteration: 10000\n",
      "Residual covariance matrix: \n",
      "[0.583485 0.118413; 0.118413 0.534185]\n",
      "Marker effects covariance matrix: \n",
      "[0.000588 -0.000533; -0.000533 0.000709]\n",
      "π: \n",
      "Dict([0.0, 0.0]=>0.177521,[1.0, 0.0]=>0.246486,[1.0, 1.0]=>0.331797,[0.0, 1.0]=>0.244195)\n",
      "\n"
     ]
    },
    {
     "name": "stderr",
     "output_type": "stream",
     "text": [
      "\u001b[32mrunning MCMC for BayesC... 40%|██████████               |  ETA: 0:02:46\u001b[39m"
     ]
    },
    {
     "name": "stdout",
     "output_type": "stream",
     "text": [
      "\n",
      "Posterior means at iteration: 20000\n",
      "Residual covariance matrix: \n",
      "[0.579933 0.116259; 0.116259 0.530865]\n",
      "Marker effects covariance matrix: \n",
      "[0.000712 -0.0006; -0.0006 0.000734]\n",
      "π: \n",
      "Dict([0.0, 0.0]=>0.234739,[1.0, 0.0]=>0.229241,[1.0, 1.0]=>0.285013,[0.0, 1.0]=>0.251006)\n",
      "\n"
     ]
    },
    {
     "name": "stderr",
     "output_type": "stream",
     "text": [
      "\u001b[32mrunning MCMC for BayesC... 60%|███████████████          |  ETA: 0:01:51\u001b[39m"
     ]
    },
    {
     "name": "stdout",
     "output_type": "stream",
     "text": [
      "\n",
      "Posterior means at iteration: 30000\n",
      "Residual covariance matrix: \n",
      "[0.581602 0.116913; 0.116913 0.532462]\n",
      "Marker effects covariance matrix: \n",
      "[0.000653 -0.000547; -0.000547 0.000694]\n",
      "π: \n",
      "Dict([0.0, 0.0]=>0.208058,[1.0, 0.0]=>0.238386,[1.0, 1.0]=>0.309865,[0.0, 1.0]=>0.24369)\n",
      "\n"
     ]
    },
    {
     "name": "stderr",
     "output_type": "stream",
     "text": [
      "\u001b[32mrunning MCMC for BayesC... 80%|████████████████████     |  ETA: 0:00:56\u001b[39m"
     ]
    },
    {
     "name": "stdout",
     "output_type": "stream",
     "text": [
      "\n",
      "Posterior means at iteration: 40000\n",
      "Residual covariance matrix: \n",
      "[0.580973 0.117997; 0.117997 0.532501]\n",
      "Marker effects covariance matrix: \n",
      "[0.000652 -0.000532; -0.000532 0.000666]\n",
      "π: \n",
      "Dict([0.0, 0.0]=>0.203306,[1.0, 0.0]=>0.229568,[1.0, 1.0]=>0.323371,[0.0, 1.0]=>0.243755)\n",
      "\n"
     ]
    },
    {
     "name": "stderr",
     "output_type": "stream",
     "text": [
      "\u001b[32mrunning MCMC for BayesC...100%|█████████████████████████|  ETA: 0:00:00\u001b[39m"
     ]
    },
    {
     "name": "stdout",
     "output_type": "stream",
     "text": [
      "\n",
      "Posterior means at iteration: 50000\n",
      "Residual covariance matrix: \n",
      "[0.5806 0.118508; 0.118508 0.531521]\n",
      "Marker effects covariance matrix: \n",
      "[0.000666 -0.000528; -0.000528 0.000654]\n",
      "π: \n",
      "Dict([0.0, 0.0]=>0.196194,[1.0, 0.0]=>0.226591,[1.0, 1.0]=>0.329402,[0.0, 1.0]=>0.247814)\n",
      "\n"
     ]
    },
    {
     "name": "stderr",
     "output_type": "stream",
     "text": [
      "\u001b[32mrunning MCMC for BayesC...100%|█████████████████████████| Time: 0:04:37\u001b[39m\n"
     ]
    },
    {
     "name": "stdout",
     "output_type": "stream",
     "text": [
      "\n",
      " Iteration: 3\n",
      "\n",
      "1279 markers on 300 individuals were added.\n",
      "\u001b[31mPhenotyped individuals are not a subset of either\u001b[39m\n",
      "\u001b[31mgenotyped individuals (complete genomic data,non-single-step) or\u001b[39m\n",
      "\u001b[31mindividuals in pedigree (incomplete genomic data, single-step).\u001b[39m\n",
      "\u001b[31mOnly individuals with both information are used in the analysis.\u001b[39m\n",
      "\u001b[32mPi (Π) is not provided.\u001b[39m\n",
      "\u001b[32mPi (Π) is generated assuming all markers have effects on all traits.\u001b[39m\n",
      "\n",
      "\n",
      "\n",
      "A Linear Mixed Model was build using model equations:\n",
      "\n",
      "y1 = intercept\n",
      "y2 = intercept\n",
      "\n",
      "Model Information:\n",
      "\n",
      "Term            C/F          F/R            nLevels\n",
      "intercept       factor       fixed                1\n",
      "\n",
      "MCMC Information:\n",
      "\n",
      "methods                                      BayesL\n",
      "chain_length                                  50000\n",
      "burnin                                         1000\n",
      "estimatePi                                    false\n",
      "starting_value                                false\n",
      "printout_frequency                            10000\n",
      "output_samples_frequency                          0\n",
      "constraint                                    false\n",
      "missing_phenotypes                            false\n",
      "update_priors_frequency                           0\n",
      "\n",
      "Hyper-parameters Information: \n",
      "\n",
      "residual variances:           \n",
      "  0.53   -0.225\n",
      " -0.225   0.572\n",
      "genetic variances (genomic):  \n",
      "  0.0  -0.0\n",
      " -0.0   0.0\n",
      "marker effect variances:      \n",
      "  0.0  -0.0\n",
      " -0.0   0.0\n",
      "Π:\n",
      "combinations          probability\n",
      "[0.0, 0.0]                    0.0\n",
      "[1.0, 0.0]                    0.0\n",
      "[1.0, 1.0]                    1.0\n",
      "[0.0, 1.0]                    0.0\n",
      "\n",
      "Degree of freedom for hyper-parameters:\n",
      "\n",
      "residual variances:                           4.000\n",
      "iid random effect variances:                  4.000\n",
      "marker effect variances:                      4.000\n",
      "\n",
      "\n",
      "\n"
     ]
    },
    {
     "name": "stderr",
     "output_type": "stream",
     "text": [
      "\u001b[32mrunning MCMC for BayesL... 20%|█████                    |  ETA: 0:01:30\u001b[39m"
     ]
    },
    {
     "name": "stdout",
     "output_type": "stream",
     "text": [
      "\n",
      "Posterior means at iteration: 10000\n",
      "Residual covariance matrix: \n",
      "[0.59789 0.101507; 0.101507 0.743084]\n",
      "Marker effects covariance matrix: \n",
      "[2.6e-5 -1.0e-5; -1.0e-5 2.3e-5]\n",
      "\n"
     ]
    },
    {
     "name": "stderr",
     "output_type": "stream",
     "text": [
      "\u001b[32mrunning MCMC for BayesL... 40%|██████████               |  ETA: 0:01:08\u001b[39m"
     ]
    },
    {
     "name": "stdout",
     "output_type": "stream",
     "text": [
      "\n",
      "Posterior means at iteration: 20000\n",
      "Residual covariance matrix: \n",
      "[0.599311 0.096835; 0.096835 0.731846]\n",
      "Marker effects covariance matrix: \n",
      "[2.6e-5 -1.0e-5; -1.0e-5 2.4e-5]\n",
      "\n"
     ]
    },
    {
     "name": "stderr",
     "output_type": "stream",
     "text": [
      "\u001b[32mrunning MCMC for BayesL... 60%|███████████████          |  ETA: 0:00:46\u001b[39m"
     ]
    },
    {
     "name": "stdout",
     "output_type": "stream",
     "text": [
      "\n",
      "Posterior means at iteration: 30000\n",
      "Residual covariance matrix: \n",
      "[0.598832 0.097079; 0.097079 0.735053]\n",
      "Marker effects covariance matrix: \n",
      "[2.6e-5 -1.0e-5; -1.0e-5 2.3e-5]\n",
      "\n"
     ]
    },
    {
     "name": "stderr",
     "output_type": "stream",
     "text": [
      "\u001b[32mrunning MCMC for BayesL... 80%|████████████████████     |  ETA: 0:00:23\u001b[39m"
     ]
    },
    {
     "name": "stdout",
     "output_type": "stream",
     "text": [
      "\n",
      "Posterior means at iteration: 40000\n",
      "Residual covariance matrix: \n",
      "[0.597637 0.095171; 0.095171 0.732101]\n",
      "Marker effects covariance matrix: \n",
      "[2.6e-5 -1.0e-5; -1.0e-5 2.4e-5]\n",
      "\n"
     ]
    },
    {
     "name": "stderr",
     "output_type": "stream",
     "text": [
      "\u001b[32mrunning MCMC for BayesL...100%|█████████████████████████|  ETA: 0:00:00\u001b[39m"
     ]
    },
    {
     "name": "stdout",
     "output_type": "stream",
     "text": [
      "\n",
      "Posterior means at iteration: 50000\n",
      "Residual covariance matrix: \n",
      "[0.596314 0.095296; 0.095296 0.732782]\n",
      "Marker effects covariance matrix: \n",
      "[2.6e-5 -1.0e-5; -1.0e-5 2.4e-5]\n",
      "\n"
     ]
    },
    {
     "name": "stderr",
     "output_type": "stream",
     "text": [
      "\u001b[32mrunning MCMC for BayesL...100%|█████████████████████████| Time: 0:01:54\u001b[39m\n"
     ]
    },
    {
     "name": "stdout",
     "output_type": "stream",
     "text": [
      "1279 markers on 300 individuals were added.\n",
      "\u001b[31mPhenotyped individuals are not a subset of either\u001b[39m\n",
      "\u001b[31mgenotyped individuals (complete genomic data,non-single-step) or\u001b[39m\n",
      "\u001b[31mindividuals in pedigree (incomplete genomic data, single-step).\u001b[39m\n",
      "\u001b[31mOnly individuals with both information are used in the analysis.\u001b[39m\n",
      "\u001b[32mPi (Π) is not provided.\u001b[39m\n",
      "\u001b[32mPi (Π) is generated assuming all markers have effects on all traits.\u001b[39m\n",
      "\n",
      "\n",
      "\n",
      "A Linear Mixed Model was build using model equations:\n",
      "\n",
      "y1 = intercept\n",
      "y2 = intercept\n",
      "\n",
      "Model Information:\n",
      "\n",
      "Term            C/F          F/R            nLevels\n",
      "intercept       factor       fixed                1\n",
      "\n",
      "MCMC Information:\n",
      "\n",
      "methods                                     RR-BLUP\n",
      "chain_length                                  50000\n",
      "burnin                                         1000\n",
      "estimatePi                                    false\n",
      "starting_value                                false\n",
      "printout_frequency                            10000\n",
      "output_samples_frequency                          0\n",
      "constraint                                    false\n",
      "missing_phenotypes                            false\n",
      "update_priors_frequency                           0\n",
      "\n",
      "Hyper-parameters Information: \n",
      "\n",
      "residual variances:           \n",
      "  0.53   -0.225\n",
      " -0.225   0.572\n",
      "genetic variances (genomic):  \n",
      "  0.0  -0.0\n",
      " -0.0   0.0\n",
      "marker effect variances:      \n",
      "  0.0  -0.0\n",
      " -0.0   0.0\n",
      "Π:\n",
      "combinations          probability\n",
      "[0.0, 0.0]                    0.0\n",
      "[1.0, 0.0]                    0.0\n",
      "[1.0, 1.0]                    1.0\n",
      "[0.0, 1.0]                    0.0\n",
      "\n",
      "Degree of freedom for hyper-parameters:\n",
      "\n",
      "residual variances:                           4.000\n",
      "iid random effect variances:                  4.000\n",
      "marker effect variances:                      4.000\n",
      "\n",
      "\n",
      "\n"
     ]
    },
    {
     "name": "stderr",
     "output_type": "stream",
     "text": [
      "\u001b[32mrunning MCMC for RR-BLUP... 20%|█████                   |  ETA: 0:01:16\u001b[39m"
     ]
    },
    {
     "name": "stdout",
     "output_type": "stream",
     "text": [
      "\n",
      "Posterior means at iteration: 10000\n",
      "Residual covariance matrix: \n",
      "[0.594797 0.092544; 0.092544 0.723995]\n",
      "Marker effects covariance matrix: \n",
      "[0.000326 -0.000113; -0.000113 0.000299]\n",
      "\n"
     ]
    },
    {
     "name": "stderr",
     "output_type": "stream",
     "text": [
      "\u001b[32mrunning MCMC for RR-BLUP... 40%|██████████              |  ETA: 0:00:56\u001b[39m"
     ]
    },
    {
     "name": "stdout",
     "output_type": "stream",
     "text": [
      "\n",
      "Posterior means at iteration: 20000\n",
      "Residual covariance matrix: \n",
      "[0.593745 0.091604; 0.091604 0.732943]\n",
      "Marker effects covariance matrix: \n",
      "[0.000325 -0.000108; -0.000108 0.000282]\n",
      "\n"
     ]
    },
    {
     "name": "stderr",
     "output_type": "stream",
     "text": [
      "\u001b[32mrunning MCMC for RR-BLUP... 60%|██████████████          |  ETA: 0:00:37\u001b[39m"
     ]
    },
    {
     "name": "stdout",
     "output_type": "stream",
     "text": [
      "\n",
      "Posterior means at iteration: 30000\n",
      "Residual covariance matrix: \n",
      "[0.590205 0.089637; 0.089637 0.732926]\n",
      "Marker effects covariance matrix: \n",
      "[0.00033 -0.000106; -0.000106 0.000283]\n",
      "\n"
     ]
    },
    {
     "name": "stderr",
     "output_type": "stream",
     "text": [
      "\u001b[32mrunning MCMC for RR-BLUP... 80%|███████████████████     |  ETA: 0:00:19\u001b[39m"
     ]
    },
    {
     "name": "stdout",
     "output_type": "stream",
     "text": [
      "\n",
      "Posterior means at iteration: 40000\n",
      "Residual covariance matrix: \n",
      "[0.591294 0.090481; 0.090481 0.732314]\n",
      "Marker effects covariance matrix: \n",
      "[0.000327 -0.000106; -0.000106 0.000283]\n",
      "\n"
     ]
    },
    {
     "name": "stderr",
     "output_type": "stream",
     "text": [
      "\u001b[32mrunning MCMC for RR-BLUP...100%|████████████████████████|  ETA: 0:00:00\u001b[39m"
     ]
    },
    {
     "name": "stdout",
     "output_type": "stream",
     "text": [
      "\n",
      "Posterior means at iteration: 50000\n",
      "Residual covariance matrix: \n",
      "[0.591905 0.090635; 0.090635 0.734799]\n",
      "Marker effects covariance matrix: \n",
      "[0.000327 -0.000106; -0.000106 0.000279]\n",
      "\n"
     ]
    },
    {
     "name": "stderr",
     "output_type": "stream",
     "text": [
      "\u001b[32mrunning MCMC for RR-BLUP...100%|████████████████████████| Time: 0:01:33\u001b[39m\n"
     ]
    },
    {
     "name": "stdout",
     "output_type": "stream",
     "text": [
      "1279 markers on 300 individuals were added.\n",
      "\u001b[31mPhenotyped individuals are not a subset of either\u001b[39m\n",
      "\u001b[31mgenotyped individuals (complete genomic data,non-single-step) or\u001b[39m\n",
      "\u001b[31mindividuals in pedigree (incomplete genomic data, single-step).\u001b[39m\n",
      "\u001b[31mOnly individuals with both information are used in the analysis.\u001b[39m\n",
      "\n",
      "\n",
      "\n",
      "A Linear Mixed Model was build using model equations:\n",
      "\n",
      "y1 = intercept\n",
      "y2 = intercept\n",
      "\n",
      "Model Information:\n",
      "\n",
      "Term            C/F          F/R            nLevels\n",
      "intercept       factor       fixed                1\n",
      "\n",
      "MCMC Information:\n",
      "\n",
      "methods                                      BayesC\n",
      "chain_length                                  50000\n",
      "burnin                                         1000\n",
      "estimatePi                                     true\n",
      "starting_value                                false\n",
      "printout_frequency                            10000\n",
      "output_samples_frequency                          0\n",
      "constraint                                    false\n",
      "missing_phenotypes                            false\n",
      "update_priors_frequency                           0\n",
      "\n",
      "Hyper-parameters Information: \n",
      "\n",
      "residual variances:           \n",
      "  0.53   -0.225\n",
      " -0.225   0.572\n",
      "genetic variances (genomic):  \n",
      "  0.0  -0.0\n",
      " -0.0   0.0\n",
      "marker effect variances:      \n",
      "  0.0  -0.0\n",
      " -0.0   0.0\n",
      "Π:\n",
      "combinations          probability\n",
      "[0.0, 0.0]                   0.25\n",
      "[1.0, 0.0]                   0.25\n",
      "[1.0, 1.0]                   0.25\n",
      "[0.0, 1.0]                   0.25\n",
      "\n",
      "Degree of freedom for hyper-parameters:\n",
      "\n",
      "residual variances:                           4.000\n",
      "iid random effect variances:                  4.000\n",
      "marker effect variances:                      4.000\n",
      "\n",
      "\n",
      "\n"
     ]
    },
    {
     "name": "stderr",
     "output_type": "stream",
     "text": [
      "\u001b[32mrunning MCMC for BayesC... 20%|█████                    |  ETA: 0:03:27\u001b[39m"
     ]
    },
    {
     "name": "stdout",
     "output_type": "stream",
     "text": [
      "\n",
      "Posterior means at iteration: 10000\n",
      "Residual covariance matrix: \n",
      "[0.594059 0.084499; 0.084499 0.721394]\n",
      "Marker effects covariance matrix: \n",
      "[0.000849 -0.000532; -0.000532 0.00059]\n",
      "π: \n",
      "Dict([0.0, 0.0]=>0.245008,[1.0, 0.0]=>0.223583,[1.0, 1.0]=>0.254009,[0.0, 1.0]=>0.277399)\n",
      "\n"
     ]
    },
    {
     "name": "stderr",
     "output_type": "stream",
     "text": [
      "\u001b[32mrunning MCMC for BayesC... 40%|██████████               |  ETA: 0:02:35\u001b[39m"
     ]
    },
    {
     "name": "stdout",
     "output_type": "stream",
     "text": [
      "\n",
      "Posterior means at iteration: 20000\n",
      "Residual covariance matrix: \n",
      "[0.598605 0.092692; 0.092692 0.727723]\n",
      "Marker effects covariance matrix: \n",
      "[0.000688 -0.000434; -0.000434 0.000516]\n",
      "π: \n",
      "Dict([0.0, 0.0]=>0.197594,[1.0, 0.0]=>0.209164,[1.0, 1.0]=>0.337748,[0.0, 1.0]=>0.255493)\n",
      "\n"
     ]
    },
    {
     "name": "stderr",
     "output_type": "stream",
     "text": [
      "\u001b[32mrunning MCMC for BayesC... 60%|███████████████          |  ETA: 0:01:44\u001b[39m"
     ]
    },
    {
     "name": "stdout",
     "output_type": "stream",
     "text": [
      "\n",
      "Posterior means at iteration: 30000\n",
      "Residual covariance matrix: \n",
      "[0.596198 0.088287; 0.088287 0.728718]\n",
      "Marker effects covariance matrix: \n",
      "[0.00063 -0.00038; -0.00038 0.000524]\n",
      "π: \n",
      "Dict([0.0, 0.0]=>0.175775,[1.0, 0.0]=>0.240169,[1.0, 1.0]=>0.344224,[0.0, 1.0]=>0.239832)\n",
      "\n"
     ]
    },
    {
     "name": "stderr",
     "output_type": "stream",
     "text": [
      "\u001b[32mrunning MCMC for BayesC... 80%|████████████████████     |  ETA: 0:00:52\u001b[39m"
     ]
    },
    {
     "name": "stdout",
     "output_type": "stream",
     "text": [
      "\n",
      "Posterior means at iteration: 40000\n",
      "Residual covariance matrix: \n",
      "[0.596127 0.088651; 0.088651 0.730183]\n",
      "Marker effects covariance matrix: \n",
      "[0.000635 -0.000405; -0.000405 0.000534]\n",
      "π: \n",
      "Dict([0.0, 0.0]=>0.176805,[1.0, 0.0]=>0.246542,[1.0, 1.0]=>0.326545,[0.0, 1.0]=>0.250109)\n",
      "\n"
     ]
    },
    {
     "name": "stderr",
     "output_type": "stream",
     "text": [
      "\u001b[32mrunning MCMC for BayesC...100%|█████████████████████████|  ETA: 0:00:00\u001b[39m"
     ]
    },
    {
     "name": "stdout",
     "output_type": "stream",
     "text": [
      "\n",
      "Posterior means at iteration: 50000\n",
      "Residual covariance matrix: \n",
      "[0.595279 0.0879; 0.0879 0.731588]\n",
      "Marker effects covariance matrix: \n",
      "[0.000626 -0.000412; -0.000412 0.000542]\n",
      "π: \n",
      "Dict([0.0, 0.0]=>0.172671,[1.0, 0.0]=>0.26146,[1.0, 1.0]=>0.312423,[0.0, 1.0]=>0.253447)\n",
      "\n"
     ]
    },
    {
     "name": "stderr",
     "output_type": "stream",
     "text": [
      "\u001b[32mrunning MCMC for BayesC...100%|█████████████████████████| Time: 0:04:19\u001b[39m\n"
     ]
    },
    {
     "name": "stdout",
     "output_type": "stream",
     "text": [
      "\n",
      " Iteration: 4\n",
      "\n",
      "1279 markers on 300 individuals were added.\n",
      "\u001b[31mPhenotyped individuals are not a subset of either\u001b[39m\n",
      "\u001b[31mgenotyped individuals (complete genomic data,non-single-step) or\u001b[39m\n",
      "\u001b[31mindividuals in pedigree (incomplete genomic data, single-step).\u001b[39m\n",
      "\u001b[31mOnly individuals with both information are used in the analysis.\u001b[39m\n",
      "\u001b[32mPi (Π) is not provided.\u001b[39m\n",
      "\u001b[32mPi (Π) is generated assuming all markers have effects on all traits.\u001b[39m\n",
      "\n",
      "\n",
      "\n",
      "A Linear Mixed Model was build using model equations:\n",
      "\n",
      "y1 = intercept\n",
      "y2 = intercept\n",
      "\n",
      "Model Information:\n",
      "\n",
      "Term            C/F          F/R            nLevels\n",
      "intercept       factor       fixed                1\n",
      "\n",
      "MCMC Information:\n",
      "\n",
      "methods                                      BayesL\n",
      "chain_length                                  50000\n",
      "burnin                                         1000\n",
      "estimatePi                                    false\n",
      "starting_value                                false\n",
      "printout_frequency                            10000\n",
      "output_samples_frequency                          0\n",
      "constraint                                    false\n",
      "missing_phenotypes                            false\n",
      "update_priors_frequency                           0\n",
      "\n",
      "Hyper-parameters Information: \n",
      "\n",
      "residual variances:           \n",
      "  0.53   -0.225\n",
      " -0.225   0.572\n",
      "genetic variances (genomic):  \n",
      "  0.0  -0.0\n",
      " -0.0   0.0\n",
      "marker effect variances:      \n",
      "  0.0  -0.0\n",
      " -0.0   0.0\n",
      "Π:\n",
      "combinations          probability\n",
      "[0.0, 0.0]                    0.0\n",
      "[1.0, 0.0]                    0.0\n",
      "[1.0, 1.0]                    1.0\n",
      "[0.0, 1.0]                    0.0\n",
      "\n",
      "Degree of freedom for hyper-parameters:\n",
      "\n",
      "residual variances:                           4.000\n",
      "iid random effect variances:                  4.000\n",
      "marker effect variances:                      4.000\n",
      "\n",
      "\n",
      "\n"
     ]
    },
    {
     "name": "stderr",
     "output_type": "stream",
     "text": [
      "\u001b[32mrunning MCMC for BayesL... 20%|█████                    |  ETA: 0:01:25\u001b[39m"
     ]
    },
    {
     "name": "stdout",
     "output_type": "stream",
     "text": [
      "\n",
      "Posterior means at iteration: 10000\n",
      "Residual covariance matrix: \n",
      "[0.564152 0.071295; 0.071295 0.693437]\n",
      "Marker effects covariance matrix: \n",
      "[2.8e-5 -9.0e-6; -9.0e-6 2.6e-5]\n",
      "\n"
     ]
    },
    {
     "name": "stderr",
     "output_type": "stream",
     "text": [
      "\u001b[32mrunning MCMC for BayesL... 40%|██████████               |  ETA: 0:01:04\u001b[39m"
     ]
    },
    {
     "name": "stdout",
     "output_type": "stream",
     "text": [
      "\n",
      "Posterior means at iteration: 20000\n",
      "Residual covariance matrix: \n",
      "[0.565247 0.074078; 0.074078 0.698327]\n",
      "Marker effects covariance matrix: \n",
      "[2.7e-5 -9.0e-6; -9.0e-6 2.5e-5]\n",
      "\n"
     ]
    },
    {
     "name": "stderr",
     "output_type": "stream",
     "text": [
      "\u001b[32mrunning MCMC for BayesL... 60%|███████████████          |  ETA: 0:00:43\u001b[39m"
     ]
    },
    {
     "name": "stdout",
     "output_type": "stream",
     "text": [
      "\n",
      "Posterior means at iteration: 30000\n",
      "Residual covariance matrix: \n",
      "[0.563165 0.075669; 0.075669 0.695087]\n",
      "Marker effects covariance matrix: \n",
      "[2.8e-5 -9.0e-6; -9.0e-6 2.6e-5]\n",
      "\n"
     ]
    },
    {
     "name": "stderr",
     "output_type": "stream",
     "text": [
      "\u001b[32mrunning MCMC for BayesL... 80%|████████████████████     |  ETA: 0:00:21\u001b[39m"
     ]
    },
    {
     "name": "stdout",
     "output_type": "stream",
     "text": [
      "\n",
      "Posterior means at iteration: 40000\n",
      "Residual covariance matrix: \n",
      "[0.563632 0.074628; 0.074628 0.694234]\n",
      "Marker effects covariance matrix: \n",
      "[2.8e-5 -9.0e-6; -9.0e-6 2.6e-5]\n",
      "\n"
     ]
    },
    {
     "name": "stderr",
     "output_type": "stream",
     "text": [
      "\u001b[32mrunning MCMC for BayesL...100%|█████████████████████████|  ETA: 0:00:00\u001b[39m"
     ]
    },
    {
     "name": "stdout",
     "output_type": "stream",
     "text": [
      "\n",
      "Posterior means at iteration: 50000\n",
      "Residual covariance matrix: \n",
      "[0.563045 0.07473; 0.07473 0.693935]\n",
      "Marker effects covariance matrix: \n",
      "[2.8e-5 -9.0e-6; -9.0e-6 2.6e-5]\n",
      "\n"
     ]
    },
    {
     "name": "stderr",
     "output_type": "stream",
     "text": [
      "\u001b[32mrunning MCMC for BayesL...100%|█████████████████████████| Time: 0:01:47\u001b[39m\n"
     ]
    },
    {
     "name": "stdout",
     "output_type": "stream",
     "text": [
      "1279 markers on 300 individuals were added.\n",
      "\u001b[31mPhenotyped individuals are not a subset of either\u001b[39m\n",
      "\u001b[31mgenotyped individuals (complete genomic data,non-single-step) or\u001b[39m\n",
      "\u001b[31mindividuals in pedigree (incomplete genomic data, single-step).\u001b[39m\n",
      "\u001b[31mOnly individuals with both information are used in the analysis.\u001b[39m\n",
      "\u001b[32mPi (Π) is not provided.\u001b[39m\n",
      "\u001b[32mPi (Π) is generated assuming all markers have effects on all traits.\u001b[39m\n",
      "\n",
      "\n",
      "\n",
      "A Linear Mixed Model was build using model equations:\n",
      "\n",
      "y1 = intercept\n",
      "y2 = intercept\n",
      "\n",
      "Model Information:\n",
      "\n",
      "Term            C/F          F/R            nLevels\n",
      "intercept       factor       fixed                1\n",
      "\n",
      "MCMC Information:\n",
      "\n",
      "methods                                     RR-BLUP\n",
      "chain_length                                  50000\n",
      "burnin                                         1000\n",
      "estimatePi                                    false\n",
      "starting_value                                false\n",
      "printout_frequency                            10000\n",
      "output_samples_frequency                          0\n",
      "constraint                                    false\n",
      "missing_phenotypes                            false\n",
      "update_priors_frequency                           0\n",
      "\n",
      "Hyper-parameters Information: \n",
      "\n",
      "residual variances:           \n",
      "  0.53   -0.225\n",
      " -0.225   0.572\n",
      "genetic variances (genomic):  \n",
      "  0.0  -0.0\n",
      " -0.0   0.0\n",
      "marker effect variances:      \n",
      "  0.0  -0.0\n",
      " -0.0   0.0\n",
      "Π:\n",
      "combinations          probability\n",
      "[0.0, 0.0]                    0.0\n",
      "[1.0, 0.0]                    0.0\n",
      "[1.0, 1.0]                    1.0\n",
      "[0.0, 1.0]                    0.0\n",
      "\n",
      "Degree of freedom for hyper-parameters:\n",
      "\n",
      "residual variances:                           4.000\n",
      "iid random effect variances:                  4.000\n",
      "marker effect variances:                      4.000\n",
      "\n",
      "\n",
      "\n"
     ]
    },
    {
     "name": "stderr",
     "output_type": "stream",
     "text": [
      "\u001b[32mrunning MCMC for RR-BLUP... 20%|█████                   |  ETA: 0:01:13\u001b[39m"
     ]
    },
    {
     "name": "stdout",
     "output_type": "stream",
     "text": [
      "\n",
      "Posterior means at iteration: 10000\n",
      "Residual covariance matrix: \n",
      "[0.558784 0.067875; 0.067875 0.690723]\n",
      "Marker effects covariance matrix: \n",
      "[0.00034 -9.8e-5; -9.8e-5 0.000318]\n",
      "\n"
     ]
    },
    {
     "name": "stderr",
     "output_type": "stream",
     "text": [
      "\u001b[32mrunning MCMC for RR-BLUP... 40%|██████████              |  ETA: 0:00:55\u001b[39m"
     ]
    },
    {
     "name": "stdout",
     "output_type": "stream",
     "text": [
      "\n",
      "Posterior means at iteration: 20000\n",
      "Residual covariance matrix: \n",
      "[0.559593 0.07042; 0.07042 0.694629]\n",
      "Marker effects covariance matrix: \n",
      "[0.000339 -0.000101; -0.000101 0.000312]\n",
      "\n"
     ]
    },
    {
     "name": "stderr",
     "output_type": "stream",
     "text": [
      "\u001b[32mrunning MCMC for RR-BLUP... 60%|██████████████          |  ETA: 0:00:36\u001b[39m"
     ]
    },
    {
     "name": "stdout",
     "output_type": "stream",
     "text": [
      "\n",
      "Posterior means at iteration: 30000\n",
      "Residual covariance matrix: \n",
      "[0.559732 0.072121; 0.072121 0.6925]\n",
      "Marker effects covariance matrix: \n",
      "[0.00034 -0.000105; -0.000105 0.000317]\n",
      "\n"
     ]
    },
    {
     "name": "stderr",
     "output_type": "stream",
     "text": [
      "\u001b[32mrunning MCMC for RR-BLUP... 80%|███████████████████     |  ETA: 0:00:18\u001b[39m"
     ]
    },
    {
     "name": "stdout",
     "output_type": "stream",
     "text": [
      "\n",
      "Posterior means at iteration: 40000\n",
      "Residual covariance matrix: \n",
      "[0.560006 0.072502; 0.072502 0.693675]\n",
      "Marker effects covariance matrix: \n",
      "[0.000339 -0.000106; -0.000106 0.000314]\n",
      "\n"
     ]
    },
    {
     "name": "stderr",
     "output_type": "stream",
     "text": [
      "\u001b[32mrunning MCMC for RR-BLUP...100%|████████████████████████|  ETA: 0:00:00\u001b[39m"
     ]
    },
    {
     "name": "stdout",
     "output_type": "stream",
     "text": [
      "\n",
      "Posterior means at iteration: 50000\n",
      "Residual covariance matrix: \n",
      "[0.559613 0.073193; 0.073193 0.692447]\n",
      "Marker effects covariance matrix: \n",
      "[0.000341 -0.000108; -0.000108 0.000317]\n",
      "\n",
      "1279 markers on 300 individuals were added.\n",
      "\u001b[31mPhenotyped individuals are not a subset of either\u001b[39m\n",
      "\u001b[31mgenotyped individuals (complete genomic data,non-single-step) or\u001b[39m\n",
      "\u001b[31mindividuals in pedigree (incomplete genomic data, single-step).\u001b[39m\n",
      "\u001b[31mOnly individuals with both information are used in the analysis.\u001b[39m\n",
      "\n",
      "\n",
      "\n",
      "A Linear Mixed Model was build using model equations:\n",
      "\n",
      "y1 = intercept\n",
      "y2 = intercept\n",
      "\n",
      "Model Information:\n",
      "\n",
      "Term            C/F          F/R            nLevels\n",
      "intercept       factor       fixed                1\n",
      "\n",
      "MCMC Information:\n",
      "\n",
      "methods                                      BayesC\n",
      "chain_length                                  50000\n",
      "burnin                                         1000\n",
      "estimatePi                                     true\n",
      "starting_value                                false\n",
      "printout_frequency                            10000\n",
      "output_samples_frequency                          0\n",
      "constraint                                    false\n",
      "missing_phenotypes                            false\n",
      "update_priors_frequency                           0\n",
      "\n",
      "Hyper-parameters Information: \n",
      "\n",
      "residual variances:           \n",
      "  0.53   -0.225\n",
      " -0.225   0.572\n",
      "genetic variances (genomic):  \n",
      "  0.0  -0.0\n",
      " -0.0   0.0\n",
      "marker effect variances:      \n",
      "  0.0  -0.0\n",
      " -0.0   0.0\n",
      "Π:\n",
      "combinations          probability\n",
      "[0.0, 0.0]                   0.25\n",
      "[1.0, 0.0]                   0.25\n",
      "[1.0, 1.0]                   0.25\n",
      "[0.0, 1.0]                   0.25\n",
      "\n",
      "Degree of freedom for hyper-parameters:\n",
      "\n",
      "residual variances:                           4.000\n",
      "iid random effect variances:                  4.000\n",
      "marker effect variances:                      4.000\n",
      "\n",
      "\n",
      "\n"
     ]
    },
    {
     "name": "stderr",
     "output_type": "stream",
     "text": [
      "\u001b[32mrunning MCMC for RR-BLUP...100%|████████████████████████| Time: 0:01:31\u001b[39m\n",
      "\u001b[32mrunning MCMC for BayesC... 20%|█████                    |  ETA: 0:03:27\u001b[39m"
     ]
    },
    {
     "name": "stdout",
     "output_type": "stream",
     "text": [
      "\n",
      "Posterior means at iteration: 10000\n",
      "Residual covariance matrix: \n",
      "[0.548423 0.07693; 0.07693 0.677303]\n",
      "Marker effects covariance matrix: \n",
      "[0.000707 -0.000593; -0.000593 0.000731]\n",
      "π: \n",
      "Dict([0.0, 0.0]=>0.166123,[1.0, 0.0]=>0.326142,[1.0, 1.0]=>0.226145,[0.0, 1.0]=>0.28159)\n",
      "\n"
     ]
    },
    {
     "name": "stderr",
     "output_type": "stream",
     "text": [
      "\u001b[32mrunning MCMC for BayesC... 40%|██████████               |  ETA: 0:02:36\u001b[39m"
     ]
    },
    {
     "name": "stdout",
     "output_type": "stream",
     "text": [
      "\n",
      "Posterior means at iteration: 20000\n",
      "Residual covariance matrix: \n",
      "[0.554891 0.07402; 0.07402 0.683023]\n",
      "Marker effects covariance matrix: \n",
      "[0.000685 -0.000569; -0.000569 0.000703]\n",
      "π: \n",
      "Dict([0.0, 0.0]=>0.17527,[1.0, 0.0]=>0.317728,[1.0, 1.0]=>0.229251,[0.0, 1.0]=>0.277751)\n",
      "\n"
     ]
    },
    {
     "name": "stderr",
     "output_type": "stream",
     "text": [
      "\u001b[32mrunning MCMC for BayesC... 60%|███████████████          |  ETA: 0:01:44\u001b[39m"
     ]
    },
    {
     "name": "stdout",
     "output_type": "stream",
     "text": [
      "\n",
      "Posterior means at iteration: 30000\n",
      "Residual covariance matrix: \n",
      "[0.55662 0.064717; 0.064717 0.681516]\n",
      "Marker effects covariance matrix: \n",
      "[0.000671 -0.000416; -0.000416 0.000682]\n",
      "π: \n",
      "Dict([0.0, 0.0]=>0.16541,[1.0, 0.0]=>0.308224,[1.0, 1.0]=>0.254407,[0.0, 1.0]=>0.271959)\n",
      "\n"
     ]
    },
    {
     "name": "stderr",
     "output_type": "stream",
     "text": [
      "\u001b[32mrunning MCMC for BayesC... 80%|████████████████████     |  ETA: 0:00:52\u001b[39m"
     ]
    },
    {
     "name": "stdout",
     "output_type": "stream",
     "text": [
      "\n",
      "Posterior means at iteration: 40000\n",
      "Residual covariance matrix: \n",
      "[0.556075 0.066638; 0.066638 0.679506]\n",
      "Marker effects covariance matrix: \n",
      "[0.000657 -0.00046; -0.00046 0.000735]\n",
      "π: \n",
      "Dict([0.0, 0.0]=>0.171123,[1.0, 0.0]=>0.320886,[1.0, 1.0]=>0.253173,[0.0, 1.0]=>0.254818)\n",
      "\n"
     ]
    },
    {
     "name": "stderr",
     "output_type": "stream",
     "text": [
      "\u001b[32mrunning MCMC for BayesC...100%|█████████████████████████|  ETA: 0:00:00\u001b[39m"
     ]
    },
    {
     "name": "stdout",
     "output_type": "stream",
     "text": [
      "\n",
      "Posterior means at iteration: 50000\n",
      "Residual covariance matrix: \n",
      "[0.556687 0.068092; 0.068092 0.679746]\n",
      "Marker effects covariance matrix: \n",
      "[0.000659 -0.000483; -0.000483 0.00076]\n",
      "π: \n",
      "Dict([0.0, 0.0]=>0.18304,[1.0, 0.0]=>0.326642,[1.0, 1.0]=>0.242614,[0.0, 1.0]=>0.247704)\n",
      "\n"
     ]
    },
    {
     "name": "stderr",
     "output_type": "stream",
     "text": [
      "\u001b[32mrunning MCMC for BayesC...100%|█████████████████████████| Time: 0:04:18\u001b[39m\n"
     ]
    },
    {
     "name": "stdout",
     "output_type": "stream",
     "text": [
      "\n",
      " Iteration: 5\n",
      "\n",
      "1279 markers on 300 individuals were added.\n",
      "\u001b[31mPhenotyped individuals are not a subset of either\u001b[39m\n",
      "\u001b[31mgenotyped individuals (complete genomic data,non-single-step) or\u001b[39m\n",
      "\u001b[31mindividuals in pedigree (incomplete genomic data, single-step).\u001b[39m\n",
      "\u001b[31mOnly individuals with both information are used in the analysis.\u001b[39m\n",
      "\u001b[32mPi (Π) is not provided.\u001b[39m\n",
      "\u001b[32mPi (Π) is generated assuming all markers have effects on all traits.\u001b[39m\n",
      "\n",
      "\n",
      "\n",
      "A Linear Mixed Model was build using model equations:\n",
      "\n",
      "y1 = intercept\n",
      "y2 = intercept\n",
      "\n",
      "Model Information:\n",
      "\n",
      "Term            C/F          F/R            nLevels\n",
      "intercept       factor       fixed                1\n",
      "\n",
      "MCMC Information:\n",
      "\n",
      "methods                                      BayesL\n",
      "chain_length                                  50000\n",
      "burnin                                         1000\n",
      "estimatePi                                    false\n",
      "starting_value                                false\n",
      "printout_frequency                            10000\n",
      "output_samples_frequency                          0\n",
      "constraint                                    false\n",
      "missing_phenotypes                            false\n",
      "update_priors_frequency                           0\n",
      "\n",
      "Hyper-parameters Information: \n",
      "\n",
      "residual variances:           \n",
      "  0.53   -0.225\n",
      " -0.225   0.572\n",
      "genetic variances (genomic):  \n",
      "  0.0  -0.0\n",
      " -0.0   0.0\n",
      "marker effect variances:      \n",
      "  0.0  -0.0\n",
      " -0.0   0.0\n",
      "Π:\n",
      "combinations          probability\n",
      "[0.0, 0.0]                    0.0\n",
      "[1.0, 0.0]                    0.0\n",
      "[1.0, 1.0]                    1.0\n",
      "[0.0, 1.0]                    0.0\n",
      "\n",
      "Degree of freedom for hyper-parameters:\n",
      "\n",
      "residual variances:                           4.000\n",
      "iid random effect variances:                  4.000\n",
      "marker effect variances:                      4.000\n",
      "\n",
      "\n",
      "\n"
     ]
    },
    {
     "name": "stderr",
     "output_type": "stream",
     "text": [
      "\u001b[32mrunning MCMC for BayesL... 20%|█████                    |  ETA: 0:01:25\u001b[39m"
     ]
    },
    {
     "name": "stdout",
     "output_type": "stream",
     "text": [
      "\n",
      "Posterior means at iteration: 10000"
     ]
    },
    {
     "name": "stderr",
     "output_type": "stream",
     "text": [
      "\u001b[32mrunning MCMC for BayesL... 20%|█████                    |  ETA: 0:01:25\u001b[39m"
     ]
    },
    {
     "name": "stdout",
     "output_type": "stream",
     "text": [
      "\n",
      "Residual covariance matrix: \n",
      "[0.455781 0.081078; 0.081078 0.691151]\n",
      "Marker effects covariance matrix: \n",
      "[4.0e-5 -1.1e-5; -1.1e-5 2.4e-5]\n",
      "\n"
     ]
    },
    {
     "name": "stderr",
     "output_type": "stream",
     "text": [
      "\u001b[32mrunning MCMC for BayesL... 40%|██████████               |  ETA: 0:01:04\u001b[39m"
     ]
    },
    {
     "name": "stdout",
     "output_type": "stream",
     "text": [
      "\n",
      "Posterior means at iteration: 20000\n",
      "Residual covariance matrix: \n",
      "[0.457894 0.080666; 0.080666 0.691773]\n",
      "Marker effects covariance matrix: \n",
      "[4.0e-5 -1.0e-5; -1.0e-5 2.4e-5]\n",
      "\n"
     ]
    },
    {
     "name": "stderr",
     "output_type": "stream",
     "text": [
      "\u001b[32mrunning MCMC for BayesL... 60%|███████████████          |  ETA: 0:00:43\u001b[39m"
     ]
    },
    {
     "name": "stdout",
     "output_type": "stream",
     "text": [
      "\n",
      "Posterior means at iteration: 30000\n",
      "Residual covariance matrix: \n",
      "[0.458391 0.08044; 0.08044 0.693754]\n",
      "Marker effects covariance matrix: \n",
      "[4.0e-5 -1.0e-5; -1.0e-5 2.4e-5]\n",
      "\n"
     ]
    },
    {
     "name": "stderr",
     "output_type": "stream",
     "text": [
      "\u001b[32mrunning MCMC for BayesL... 80%|████████████████████     |  ETA: 0:00:21\u001b[39m"
     ]
    },
    {
     "name": "stdout",
     "output_type": "stream",
     "text": [
      "\n",
      "Posterior means at iteration: 40000\n",
      "Residual covariance matrix: \n",
      "[0.459675 0.080524; 0.080524 0.697653]\n",
      "Marker effects covariance matrix: \n",
      "[3.9e-5 -1.0e-5; -1.0e-5 2.3e-5]\n",
      "\n"
     ]
    },
    {
     "name": "stderr",
     "output_type": "stream",
     "text": [
      "\u001b[32mrunning MCMC for BayesL...100%|█████████████████████████|  ETA: 0:00:00\u001b[39m"
     ]
    },
    {
     "name": "stdout",
     "output_type": "stream",
     "text": [
      "\n",
      "Posterior means at iteration: 50000\n",
      "Residual covariance matrix: \n",
      "[0.459401 0.080042; 0.080042 0.695997]\n",
      "Marker effects covariance matrix: \n",
      "[3.9e-5 -1.0e-5; -1.0e-5 2.4e-5]\n",
      "\n"
     ]
    },
    {
     "name": "stderr",
     "output_type": "stream",
     "text": [
      "\u001b[32mrunning MCMC for BayesL...100%|█████████████████████████| Time: 0:01:47\u001b[39m\n"
     ]
    },
    {
     "name": "stdout",
     "output_type": "stream",
     "text": [
      "1279 markers on 300 individuals were added.\n",
      "\u001b[31mPhenotyped individuals are not a subset of either\u001b[39m\n",
      "\u001b[31mgenotyped individuals (complete genomic data,non-single-step) or\u001b[39m\n",
      "\u001b[31mindividuals in pedigree (incomplete genomic data, single-step).\u001b[39m\n",
      "\u001b[31mOnly individuals with both information are used in the analysis.\u001b[39m\n",
      "\u001b[32mPi (Π) is not provided.\u001b[39m\n",
      "\u001b[32mPi (Π) is generated assuming all markers have effects on all traits.\u001b[39m\n",
      "\n",
      "\n",
      "\n",
      "A Linear Mixed Model was build using model equations:\n",
      "\n",
      "y1 = intercept\n",
      "y2 = intercept\n",
      "\n",
      "Model Information:\n",
      "\n",
      "Term            C/F          F/R            nLevels\n",
      "intercept       factor       fixed                1\n",
      "\n",
      "MCMC Information:\n",
      "\n",
      "methods                                     RR-BLUP\n",
      "chain_length                                  50000\n",
      "burnin                                         1000\n",
      "estimatePi                                    false\n",
      "starting_value                                false\n",
      "printout_frequency                            10000\n",
      "output_samples_frequency                          0\n",
      "constraint                                    false\n",
      "missing_phenotypes                            false\n",
      "update_priors_frequency                           0\n",
      "\n",
      "Hyper-parameters Information: \n",
      "\n",
      "residual variances:           \n",
      "  0.53   -0.225\n",
      " -0.225   0.572\n",
      "genetic variances (genomic):  \n",
      "  0.0  -0.0\n",
      " -0.0   0.0\n",
      "marker effect variances:      \n",
      "  0.0  -0.0\n",
      " -0.0   0.0\n",
      "Π:\n",
      "combinations          probability\n",
      "[0.0, 0.0]                    0.0\n",
      "[1.0, 0.0]                    0.0\n",
      "[1.0, 1.0]                    1.0\n",
      "[0.0, 1.0]                    0.0\n",
      "\n",
      "Degree of freedom for hyper-parameters:\n",
      "\n",
      "residual variances:                           4.000\n",
      "iid random effect variances:                  4.000\n",
      "marker effect variances:                      4.000\n",
      "\n",
      "\n",
      "\n"
     ]
    },
    {
     "name": "stderr",
     "output_type": "stream",
     "text": [
      "\u001b[32mrunning MCMC for RR-BLUP... 20%|█████                   |  ETA: 0:01:12\u001b[39m"
     ]
    },
    {
     "name": "stdout",
     "output_type": "stream",
     "text": [
      "\n",
      "Posterior means at iteration: 10000\n",
      "Residual covariance matrix: \n",
      "[0.453601 0.07299; 0.07299 0.68873]\n",
      "Marker effects covariance matrix: \n",
      "[0.000489 -0.000108; -0.000108 0.000287]\n",
      "\n"
     ]
    },
    {
     "name": "stderr",
     "output_type": "stream",
     "text": [
      "\u001b[32mrunning MCMC for RR-BLUP... 40%|██████████              |  ETA: 0:00:55\u001b[39m"
     ]
    },
    {
     "name": "stdout",
     "output_type": "stream",
     "text": [
      "\n",
      "Posterior means at iteration: 20000\n",
      "Residual covariance matrix: \n",
      "[0.454889 0.077665; 0.077665 0.690663]\n",
      "Marker effects covariance matrix: \n",
      "[0.000487 -0.000117; -0.000117 0.000286]\n",
      "\n"
     ]
    },
    {
     "name": "stderr",
     "output_type": "stream",
     "text": [
      "\u001b[32mrunning MCMC for RR-BLUP... 60%|██████████████          |  ETA: 0:00:36\u001b[39m"
     ]
    },
    {
     "name": "stdout",
     "output_type": "stream",
     "text": [
      "\n",
      "Posterior means at iteration: 30000\n",
      "Residual covariance matrix: \n",
      "[0.4564 0.078734; 0.078734 0.689357]\n",
      "Marker effects covariance matrix: \n",
      "[0.000482 -0.00012; -0.00012 0.000291]\n",
      "\n"
     ]
    },
    {
     "name": "stderr",
     "output_type": "stream",
     "text": [
      "\u001b[32mrunning MCMC for RR-BLUP... 80%|███████████████████     |  ETA: 0:00:18\u001b[39m"
     ]
    },
    {
     "name": "stdout",
     "output_type": "stream",
     "text": [
      "\n",
      "Posterior means at iteration: 40000\n",
      "Residual covariance matrix: \n",
      "[0.455606 0.076178; 0.076178 0.688425]\n",
      "Marker effects covariance matrix: \n",
      "[0.000483 -0.000116; -0.000116 0.000292]\n",
      "\n"
     ]
    },
    {
     "name": "stderr",
     "output_type": "stream",
     "text": [
      "\u001b[32mrunning MCMC for RR-BLUP...100%|████████████████████████|  ETA: 0:00:00\u001b[39m"
     ]
    },
    {
     "name": "stdout",
     "output_type": "stream",
     "text": [
      "\n",
      "Posterior means at iteration: 50000\n",
      "Residual covariance matrix: \n",
      "[0.456052 0.076577; 0.076577 0.689556]\n",
      "Marker effects covariance matrix: \n",
      "[0.000483 -0.000116; -0.000116 0.00029]\n",
      "\n"
     ]
    },
    {
     "name": "stderr",
     "output_type": "stream",
     "text": [
      "\u001b[32mrunning MCMC for RR-BLUP...100%|████████████████████████| Time: 0:01:31\u001b[39m\n"
     ]
    },
    {
     "name": "stdout",
     "output_type": "stream",
     "text": [
      "1279 markers on 300 individuals were added.\n",
      "\u001b[31mPhenotyped individuals are not a subset of either\u001b[39m\n",
      "\u001b[31mgenotyped individuals (complete genomic data,non-single-step) or\u001b[39m\n",
      "\u001b[31mindividuals in pedigree (incomplete genomic data, single-step).\u001b[39m\n",
      "\u001b[31mOnly individuals with both information are used in the analysis.\u001b[39m\n",
      "\n",
      "\n",
      "\n",
      "A Linear Mixed Model was build using model equations:\n",
      "\n",
      "y1 = intercept\n",
      "y2 = intercept\n",
      "\n",
      "Model Information:\n",
      "\n",
      "Term            C/F          F/R            nLevels\n",
      "intercept       factor       fixed                1\n",
      "\n",
      "MCMC Information:\n",
      "\n",
      "methods                                      BayesC\n",
      "chain_length                                  50000\n",
      "burnin                                         1000\n",
      "estimatePi                                     true\n",
      "starting_value                                false\n",
      "printout_frequency                            10000\n",
      "output_samples_frequency                          0\n",
      "constraint                                    false\n",
      "missing_phenotypes                            false\n",
      "update_priors_frequency                           0\n",
      "\n",
      "Hyper-parameters Information: \n",
      "\n",
      "residual variances:           \n",
      "  0.53   -0.225\n",
      " -0.225   0.572\n",
      "genetic variances (genomic):  \n",
      "  0.0  -0.0\n",
      " -0.0   0.0\n",
      "marker effect variances:      \n",
      "  0.0  -0.0\n",
      " -0.0   0.0\n",
      "Π:\n",
      "combinations          probability\n",
      "[0.0, 0.0]                   0.25\n",
      "[1.0, 0.0]                   0.25\n",
      "[1.0, 1.0]                   0.25\n",
      "[0.0, 1.0]                   0.25\n",
      "\n",
      "Degree of freedom for hyper-parameters:\n",
      "\n",
      "residual variances:                           4.000\n",
      "iid random effect variances:                  4.000\n",
      "marker effect variances:                      4.000\n",
      "\n",
      "\n",
      "\n"
     ]
    },
    {
     "name": "stderr",
     "output_type": "stream",
     "text": [
      "\u001b[32mrunning MCMC for BayesC... 20%|█████                    |  ETA: 0:03:26\u001b[39m"
     ]
    },
    {
     "name": "stdout",
     "output_type": "stream",
     "text": [
      "\n",
      "Posterior means at iteration: 10000\n",
      "Residual covariance matrix: \n",
      "[0.450597 0.066259; 0.066259 0.685823]\n",
      "Marker effects covariance matrix: \n",
      "[0.000847 -0.000628; -0.000628 0.000744]\n",
      "π: \n",
      "Dict([0.0, 0.0]=>0.151768,[1.0, 0.0]=>0.391172,[1.0, 1.0]=>0.236789,[0.0, 1.0]=>0.220271)\n",
      "\n"
     ]
    },
    {
     "name": "stderr",
     "output_type": "stream",
     "text": [
      "\u001b[32mrunning MCMC for BayesC... 40%|██████████               |  ETA: 0:02:36\u001b[39m"
     ]
    },
    {
     "name": "stdout",
     "output_type": "stream",
     "text": [
      "\n",
      "Posterior means at iteration: 20000\n",
      "Residual covariance matrix: \n",
      "[0.449663 0.07008; 0.07008 0.685119]\n",
      "Marker effects covariance matrix: \n",
      "[0.000861 -0.000623; -0.000623 0.000699]\n",
      "π: \n",
      "Dict([0.0, 0.0]=>0.132938,[1.0, 0.0]=>0.382165,[1.0, 1.0]=>0.232772,[0.0, 1.0]=>0.252124)\n",
      "\n"
     ]
    },
    {
     "name": "stderr",
     "output_type": "stream",
     "text": [
      "\u001b[32mrunning MCMC for BayesC... 60%|███████████████          |  ETA: 0:01:44\u001b[39m"
     ]
    },
    {
     "name": "stdout",
     "output_type": "stream",
     "text": [
      "\n",
      "Posterior means at iteration: 30000\n",
      "Residual covariance matrix: \n",
      "[0.453475 0.072985; 0.072985 0.694495]\n",
      "Marker effects covariance matrix: \n",
      "[0.000839 -0.000531; -0.000531 0.000601]\n",
      "π: \n",
      "Dict([0.0, 0.0]=>0.122364,[1.0, 0.0]=>0.332192,[1.0, 1.0]=>0.288543,[0.0, 1.0]=>0.256901)\n",
      "\n"
     ]
    },
    {
     "name": "stderr",
     "output_type": "stream",
     "text": [
      "\u001b[32mrunning MCMC for BayesC... 80%|████████████████████     |  ETA: 0:00:52\u001b[39m"
     ]
    },
    {
     "name": "stdout",
     "output_type": "stream",
     "text": [
      "\n",
      "Posterior means at iteration: 40000\n",
      "Residual covariance matrix: \n",
      "[0.454397 0.072977; 0.072977 0.694352]\n",
      "Marker effects covariance matrix: \n",
      "[0.000847 -0.000559; -0.000559 0.000637]\n",
      "π: \n",
      "Dict([0.0, 0.0]=>0.133751,[1.0, 0.0]=>0.342465,[1.0, 1.0]=>0.270387,[0.0, 1.0]=>0.253397)\n",
      "\n"
     ]
    },
    {
     "name": "stderr",
     "output_type": "stream",
     "text": [
      "\u001b[32mrunning MCMC for BayesC...100%|█████████████████████████|  ETA: 0:00:00\u001b[39m"
     ]
    },
    {
     "name": "stdout",
     "output_type": "stream",
     "text": [
      "\n",
      "Posterior means at iteration: 50000\n",
      "Residual covariance matrix: \n",
      "[0.455503 0.07283; 0.07283 0.693076]\n",
      "Marker effects covariance matrix: \n",
      "[0.000841 -0.000549; -0.000549 0.000643]\n",
      "π: \n",
      "Dict([0.0, 0.0]=>0.132488,[1.0, 0.0]=>0.345545,[1.0, 1.0]=>0.269415,[0.0, 1.0]=>0.252551)\n",
      "\n",
      "\n",
      " Iteration: 6\n",
      "\n",
      "1279 markers on 300 individuals were added.\n",
      "\u001b[31mPhenotyped individuals are not a subset of either\u001b[39m\n",
      "\u001b[31mgenotyped individuals (complete genomic data,non-single-step) or\u001b[39m\n",
      "\u001b[31mindividuals in pedigree (incomplete genomic data, single-step).\u001b[39m\n",
      "\u001b[31mOnly individuals with both information are used in the analysis.\u001b[39m\n",
      "\u001b[32mPi (Π) is not provided.\u001b[39m\n",
      "\u001b[32mPi (Π) is generated assuming all markers have effects on all traits.\u001b[39m\n",
      "\n",
      "\n",
      "\n",
      "A Linear Mixed Model was build using model equations:\n",
      "\n",
      "y1 = intercept\n",
      "y2 = intercept\n",
      "\n",
      "Model Information:\n",
      "\n",
      "Term            C/F          F/R            nLevels\n",
      "intercept       factor       fixed                1\n",
      "\n",
      "MCMC Information:\n",
      "\n",
      "methods                                      BayesL\n",
      "chain_length                                  50000\n",
      "burnin                                         1000\n",
      "estimatePi                                    false\n",
      "starting_value                                false\n",
      "printout_frequency                            10000\n",
      "output_samples_frequency                          0\n",
      "constraint                                    false\n",
      "missing_phenotypes                            false\n",
      "update_priors_frequency                           0\n",
      "\n",
      "Hyper-parameters Information: \n",
      "\n",
      "residual variances:           \n",
      "  0.53   -0.225\n",
      " -0.225   0.572\n",
      "genetic variances (genomic):  \n",
      "  0.0  -0.0\n",
      " -0.0   0.0\n",
      "marker effect variances:      \n",
      "  0.0  -0.0\n",
      " -0.0   0.0\n",
      "Π:\n",
      "combinations          probability\n",
      "[0.0, 0.0]                    0.0\n",
      "[1.0, 0.0]                    0.0\n",
      "[1.0, 1.0]                    1.0\n",
      "[0.0, 1.0]                    0.0\n",
      "\n",
      "Degree of freedom for hyper-parameters:\n",
      "\n",
      "residual variances:                           4.000\n",
      "iid random effect variances:                  4.000\n",
      "marker effect variances:                      4.000\n",
      "\n",
      "\n",
      "\n"
     ]
    },
    {
     "name": "stderr",
     "output_type": "stream",
     "text": [
      "\u001b[32mrunning MCMC for BayesC...100%|█████████████████████████| Time: 0:04:20\u001b[39m\n",
      "\u001b[32mrunning MCMC for BayesL... 20%|█████                    |  ETA: 0:01:27\u001b[39m"
     ]
    },
    {
     "name": "stdout",
     "output_type": "stream",
     "text": [
      "\n",
      "Posterior means at iteration: 10000\n",
      "Residual covariance matrix: \n",
      "[0.49825 0.087763; 0.087763 0.559621]\n",
      "Marker effects covariance matrix: \n",
      "[4.1e-5 -1.5e-5; -1.5e-5 2.5e-5]\n",
      "\n"
     ]
    },
    {
     "name": "stderr",
     "output_type": "stream",
     "text": [
      "\u001b[32mrunning MCMC for BayesL... 40%|██████████               |  ETA: 0:01:05\u001b[39m"
     ]
    },
    {
     "name": "stdout",
     "output_type": "stream",
     "text": [
      "\n",
      "Posterior means at iteration: 20000\n",
      "Residual covariance matrix: \n",
      "[0.494562 0.084781; 0.084781 0.558171]\n",
      "Marker effects covariance matrix: \n",
      "[4.2e-5 -1.4e-5; -1.4e-5 2.5e-5]\n",
      "\n"
     ]
    },
    {
     "name": "stderr",
     "output_type": "stream",
     "text": [
      "\u001b[32mrunning MCMC for BayesL... 60%|███████████████          |  ETA: 0:00:43\u001b[39m"
     ]
    },
    {
     "name": "stdout",
     "output_type": "stream",
     "text": [
      "\n",
      "Posterior means at iteration: 30000\n",
      "Residual covariance matrix: \n",
      "[0.495399 0.085817; 0.085817 0.557964]\n",
      "Marker effects covariance matrix: \n",
      "[4.2e-5 -1.4e-5; -1.4e-5 2.5e-5]\n",
      "\n"
     ]
    },
    {
     "name": "stderr",
     "output_type": "stream",
     "text": [
      "\u001b[32mrunning MCMC for BayesL... 80%|████████████████████     |  ETA: 0:00:22\u001b[39m"
     ]
    },
    {
     "name": "stdout",
     "output_type": "stream",
     "text": [
      "\n",
      "Posterior means at iteration: 40000\n",
      "Residual covariance matrix: \n",
      "[0.495591 0.084508; 0.084508 0.559702]\n",
      "Marker effects covariance matrix: \n",
      "[4.1e-5 -1.4e-5; -1.4e-5 2.5e-5]\n",
      "\n"
     ]
    },
    {
     "name": "stderr",
     "output_type": "stream",
     "text": [
      "\u001b[32mrunning MCMC for BayesL...100%|█████████████████████████|  ETA: 0:00:00\u001b[39m"
     ]
    },
    {
     "name": "stdout",
     "output_type": "stream",
     "text": [
      "\n",
      "Posterior means at iteration: 50000\n",
      "Residual covariance matrix: \n",
      "[0.495736 0.083775; 0.083775 0.558051]\n",
      "Marker effects covariance matrix: \n",
      "[4.1e-5 -1.4e-5; -1.4e-5 2.5e-5]\n",
      "\n",
      "1279 markers on 300 individuals were added.\n",
      "\u001b[31mPhenotyped individuals are not a subset of either\u001b[39m\n",
      "\u001b[31mgenotyped individuals (complete genomic data,non-single-step) or\u001b[39m\n",
      "\u001b[31mindividuals in pedigree (incomplete genomic data, single-step).\u001b[39m\n",
      "\u001b[31mOnly individuals with both information are used in the analysis.\u001b[39m\n",
      "\u001b[32mPi (Π) is not provided.\u001b[39m\n",
      "\u001b[32mPi (Π) is generated assuming all markers have effects on all traits.\u001b[39m\n",
      "\n",
      "\n",
      "\n",
      "A Linear Mixed Model was build using model equations:\n",
      "\n",
      "y1 = intercept\n",
      "y2 = intercept\n",
      "\n",
      "Model Information:\n",
      "\n",
      "Term            C/F          F/R            nLevels\n",
      "intercept       factor       fixed                1\n",
      "\n",
      "MCMC Information:\n",
      "\n",
      "methods                                     RR-BLUP\n",
      "chain_length                                  50000\n",
      "burnin                                         1000\n",
      "estimatePi                                    false\n",
      "starting_value                                false\n",
      "printout_frequency                            10000\n",
      "output_samples_frequency                          0\n",
      "constraint                                    false\n",
      "missing_phenotypes                            false\n",
      "update_priors_frequency                           0\n",
      "\n",
      "Hyper-parameters Information: \n",
      "\n",
      "residual variances:           \n",
      "  0.53   -0.225\n",
      " -0.225   0.572\n",
      "genetic variances (genomic):  \n",
      "  0.0  -0.0\n",
      " -0.0   0.0\n",
      "marker effect variances:      \n",
      "  0.0  -0.0\n",
      " -0.0   0.0\n",
      "Π:\n",
      "combinations          probability\n",
      "[0.0, 0.0]                    0.0\n",
      "[1.0, 0.0]                    0.0\n",
      "[1.0, 1.0]                    1.0\n",
      "[0.0, 1.0]                    0.0\n",
      "\n",
      "Degree of freedom for hyper-parameters:\n",
      "\n",
      "residual variances:                           4.000\n",
      "iid random effect variances:                  4.000\n",
      "marker effect variances:                      4.000\n",
      "\n",
      "\n",
      "\n"
     ]
    },
    {
     "name": "stderr",
     "output_type": "stream",
     "text": [
      "\u001b[32mrunning MCMC for BayesL...100%|█████████████████████████| Time: 0:01:49\u001b[39m\n",
      "\u001b[32mrunning MCMC for RR-BLUP... 20%|█████                   |  ETA: 0:01:13\u001b[39m"
     ]
    },
    {
     "name": "stdout",
     "output_type": "stream",
     "text": [
      "\n",
      "Posterior means at iteration: 10000\n",
      "Residual covariance matrix: \n",
      "[0.494248 0.087817; 0.087817 0.566199]\n",
      "Marker effects covariance matrix: \n",
      "[0.000504 -0.000176; -0.000176 0.000293]\n",
      "\n"
     ]
    },
    {
     "name": "stderr",
     "output_type": "stream",
     "text": [
      "\u001b[32mrunning MCMC for RR-BLUP... 40%|██████████              |  ETA: 0:00:55\u001b[39m"
     ]
    },
    {
     "name": "stdout",
     "output_type": "stream",
     "text": [
      "\n",
      "Posterior means at iteration: 20000\n",
      "Residual covariance matrix: \n",
      "[0.497403 0.089494; 0.089494 0.564223]\n",
      "Marker effects covariance matrix: \n",
      "[0.000495 -0.000179; -0.000179 0.000299]\n",
      "\n"
     ]
    },
    {
     "name": "stderr",
     "output_type": "stream",
     "text": [
      "\u001b[32mrunning MCMC for RR-BLUP... 60%|██████████████          |  ETA: 0:00:37\u001b[39m"
     ]
    },
    {
     "name": "stdout",
     "output_type": "stream",
     "text": [
      "\n",
      "Posterior means at iteration: 30000\n",
      "Residual covariance matrix: \n",
      "[0.497038 0.088729; 0.088729 0.56353]\n",
      "Marker effects covariance matrix: \n",
      "[0.000497 -0.000179; -0.000179 0.0003]\n",
      "\n"
     ]
    },
    {
     "name": "stderr",
     "output_type": "stream",
     "text": [
      "\u001b[32mrunning MCMC for RR-BLUP... 80%|███████████████████     |  ETA: 0:00:18\u001b[39m"
     ]
    },
    {
     "name": "stdout",
     "output_type": "stream",
     "text": [
      "\n",
      "Posterior means at iteration: 40000\n",
      "Residual covariance matrix: \n",
      "[0.496276 0.087528; 0.087528 0.563317]\n",
      "Marker effects covariance matrix: \n",
      "[0.000497 -0.000177; -0.000177 0.000299]\n",
      "\n"
     ]
    },
    {
     "name": "stderr",
     "output_type": "stream",
     "text": [
      "\u001b[32mrunning MCMC for RR-BLUP...100%|████████████████████████|  ETA: 0:00:00\u001b[39m"
     ]
    },
    {
     "name": "stdout",
     "output_type": "stream",
     "text": [
      "\n",
      "Posterior means at iteration: 50000\n",
      "Residual covariance matrix: \n",
      "[0.495917 0.087554; 0.087554 0.56125]\n",
      "Marker effects covariance matrix: \n",
      "[0.000498 -0.000177; -0.000177 0.000302]\n",
      "\n"
     ]
    },
    {
     "name": "stderr",
     "output_type": "stream",
     "text": [
      "\u001b[32mrunning MCMC for RR-BLUP...100%|████████████████████████| Time: 0:01:32\u001b[39m\n"
     ]
    },
    {
     "name": "stdout",
     "output_type": "stream",
     "text": [
      "1279 markers on 300 individuals were added.\n",
      "\u001b[31mPhenotyped individuals are not a subset of either\u001b[39m\n",
      "\u001b[31mgenotyped individuals (complete genomic data,non-single-step) or\u001b[39m\n",
      "\u001b[31mindividuals in pedigree (incomplete genomic data, single-step).\u001b[39m\n",
      "\u001b[31mOnly individuals with both information are used in the analysis.\u001b[39m\n",
      "\n",
      "\n",
      "\n",
      "A Linear Mixed Model was build using model equations:\n",
      "\n",
      "y1 = intercept\n",
      "y2 = intercept\n",
      "\n",
      "Model Information:\n",
      "\n",
      "Term            C/F          F/R            nLevels\n",
      "intercept       factor       fixed                1\n",
      "\n",
      "MCMC Information:\n",
      "\n",
      "methods                                      BayesC\n",
      "chain_length                                  50000\n",
      "burnin                                         1000\n",
      "estimatePi                                     true\n",
      "starting_value                                false\n",
      "printout_frequency                            10000\n",
      "output_samples_frequency                          0\n",
      "constraint                                    false\n",
      "missing_phenotypes                            false\n",
      "update_priors_frequency                           0\n",
      "\n",
      "Hyper-parameters Information: \n",
      "\n",
      "residual variances:           \n",
      "  0.53   -0.225\n",
      " -0.225   0.572\n",
      "genetic variances (genomic):  \n",
      "  0.0  -0.0\n",
      " -0.0   0.0\n",
      "marker effect variances:      \n",
      "  0.0  -0.0\n",
      " -0.0   0.0\n",
      "Π:\n",
      "combinations          probability\n",
      "[0.0, 0.0]                   0.25\n",
      "[1.0, 0.0]                   0.25\n",
      "[1.0, 1.0]                   0.25\n",
      "[0.0, 1.0]                   0.25\n",
      "\n",
      "Degree of freedom for hyper-parameters:\n",
      "\n",
      "residual variances:                           4.000\n",
      "iid random effect variances:                  4.000\n",
      "marker effect variances:                      4.000\n",
      "\n",
      "\n",
      "\n"
     ]
    },
    {
     "name": "stderr",
     "output_type": "stream",
     "text": [
      "\u001b[32mrunning MCMC for BayesC... 20%|█████                    |  ETA: 0:03:30\u001b[39m"
     ]
    },
    {
     "name": "stdout",
     "output_type": "stream",
     "text": [
      "\n",
      "Posterior means at iteration: 10000\n",
      "Residual covariance matrix: \n",
      "[0.493718 0.074556; 0.074556 0.546595]\n",
      "Marker effects covariance matrix: \n",
      "[0.000785 -0.00058; -0.00058 0.000702]\n",
      "π: \n",
      "Dict([0.0, 0.0]=>0.0978688,[1.0, 0.0]=>0.344709,[1.0, 1.0]=>0.324204,[0.0, 1.0]=>0.233218)\n",
      "\n"
     ]
    },
    {
     "name": "stderr",
     "output_type": "stream",
     "text": [
      "\u001b[32mrunning MCMC for BayesC... 40%|██████████               |  ETA: 0:02:37\u001b[39m"
     ]
    },
    {
     "name": "stdout",
     "output_type": "stream",
     "text": [
      "\n",
      "Posterior means at iteration: 20000\n",
      "Residual covariance matrix: \n",
      "[0.49762 0.075016; 0.075016 0.556292]\n",
      "Marker effects covariance matrix: \n",
      "[0.000841 -0.000535; -0.000535 0.000604]\n",
      "π: \n",
      "Dict([0.0, 0.0]=>0.115908,[1.0, 0.0]=>0.30418,[1.0, 1.0]=>0.33668,[0.0, 1.0]=>0.243232)\n",
      "\n"
     ]
    },
    {
     "name": "stderr",
     "output_type": "stream",
     "text": [
      "\u001b[32mrunning MCMC for BayesC... 60%|███████████████          |  ETA: 0:01:45\u001b[39m"
     ]
    },
    {
     "name": "stdout",
     "output_type": "stream",
     "text": [
      "\n",
      "Posterior means at iteration: 30000\n",
      "Residual covariance matrix: \n",
      "[0.496102 0.075265; 0.075265 0.549471]\n",
      "Marker effects covariance matrix: \n",
      "[0.000876 -0.000607; -0.000607 0.000668]\n",
      "π: \n",
      "Dict([0.0, 0.0]=>0.13782,[1.0, 0.0]=>0.31412,[1.0, 1.0]=>0.304331,[0.0, 1.0]=>0.243729)\n",
      "\n"
     ]
    },
    {
     "name": "stderr",
     "output_type": "stream",
     "text": [
      "\u001b[32mrunning MCMC for BayesC... 80%|████████████████████     |  ETA: 0:00:52\u001b[39m"
     ]
    },
    {
     "name": "stdout",
     "output_type": "stream",
     "text": [
      "\n",
      "Posterior means at iteration: 40000\n",
      "Residual covariance matrix: \n",
      "[0.495796 0.078603; 0.078603 0.550309]\n",
      "Marker effects covariance matrix: \n",
      "[0.00088 -0.000596; -0.000596 0.000639]\n",
      "π: \n",
      "Dict([0.0, 0.0]=>0.134653,[1.0, 0.0]=>0.298033,[1.0, 1.0]=>0.315625,[0.0, 1.0]=>0.251689)\n",
      "\n"
     ]
    },
    {
     "name": "stderr",
     "output_type": "stream",
     "text": [
      "\u001b[32mrunning MCMC for BayesC...100%|█████████████████████████|  ETA: 0:00:00\u001b[39m"
     ]
    },
    {
     "name": "stdout",
     "output_type": "stream",
     "text": [
      "\n",
      "Posterior means at iteration: 50000\n",
      "Residual covariance matrix: \n",
      "[0.496235 0.077948; 0.077948 0.55179]\n",
      "Marker effects covariance matrix: \n",
      "[0.000866 -0.000583; -0.000583 0.000629]\n",
      "π: \n",
      "Dict([0.0, 0.0]=>0.132829,[1.0, 0.0]=>0.298115,[1.0, 1.0]=>0.318712,[0.0, 1.0]=>0.250344)\n",
      "\n"
     ]
    },
    {
     "name": "stderr",
     "output_type": "stream",
     "text": [
      "\u001b[32mrunning MCMC for BayesC...100%|█████████████████████████| Time: 0:04:22\u001b[39m\n"
     ]
    },
    {
     "name": "stdout",
     "output_type": "stream",
     "text": [
      "\n",
      " Iteration: 7\n",
      "\n",
      "1279 markers on 300 individuals were added.\n",
      "\u001b[31mPhenotyped individuals are not a subset of either\u001b[39m\n",
      "\u001b[31mgenotyped individuals (complete genomic data,non-single-step) or\u001b[39m\n",
      "\u001b[31mindividuals in pedigree (incomplete genomic data, single-step).\u001b[39m\n",
      "\u001b[31mOnly individuals with both information are used in the analysis.\u001b[39m\n",
      "\u001b[32mPi (Π) is not provided.\u001b[39m\n",
      "\u001b[32mPi (Π) is generated assuming all markers have effects on all traits.\u001b[39m\n",
      "\n",
      "\n",
      "\n",
      "A Linear Mixed Model was build using model equations:\n",
      "\n",
      "y1 = intercept\n",
      "y2 = intercept\n",
      "\n",
      "Model Information:\n",
      "\n",
      "Term            C/F          F/R            nLevels\n",
      "intercept       factor       fixed                1\n",
      "\n",
      "MCMC Information:\n",
      "\n",
      "methods                                      BayesL\n",
      "chain_length                                  50000\n",
      "burnin                                         1000\n",
      "estimatePi                                    false\n",
      "starting_value                                false\n",
      "printout_frequency                            10000\n",
      "output_samples_frequency                          0\n",
      "constraint                                    false\n",
      "missing_phenotypes                            false\n",
      "update_priors_frequency                           0\n",
      "\n",
      "Hyper-parameters Information: \n",
      "\n",
      "residual variances:           \n",
      "  0.53   -0.225\n",
      " -0.225   0.572\n",
      "genetic variances (genomic):  \n",
      "  0.0  -0.0\n",
      " -0.0   0.0\n",
      "marker effect variances:      \n",
      "  0.0  -0.0\n",
      " -0.0   0.0\n",
      "Π:\n",
      "combinations          probability\n",
      "[0.0, 0.0]                    0.0\n",
      "[1.0, 0.0]                    0.0\n",
      "[1.0, 1.0]                    1.0\n",
      "[0.0, 1.0]                    0.0\n",
      "\n",
      "Degree of freedom for hyper-parameters:\n",
      "\n",
      "residual variances:                           4.000\n",
      "iid random effect variances:                  4.000\n",
      "marker effect variances:                      4.000\n",
      "\n",
      "\n",
      "\n"
     ]
    },
    {
     "name": "stderr",
     "output_type": "stream",
     "text": [
      "\u001b[32mrunning MCMC for BayesL... 20%|█████                    |  ETA: 0:01:26\u001b[39m"
     ]
    },
    {
     "name": "stdout",
     "output_type": "stream",
     "text": [
      "\n",
      "Posterior means at iteration: 10000\n",
      "Residual covariance matrix: \n",
      "[0.520573 0.11049; 0.11049 0.582419]\n",
      "Marker effects covariance matrix: \n",
      "[3.3e-5 -1.2e-5; -1.2e-5 3.3e-5]\n",
      "\n"
     ]
    },
    {
     "name": "stderr",
     "output_type": "stream",
     "text": [
      "\u001b[32mrunning MCMC for BayesL... 40%|██████████               |  ETA: 0:01:04\u001b[39m"
     ]
    },
    {
     "name": "stdout",
     "output_type": "stream",
     "text": [
      "\n",
      "Posterior means at iteration: 20000\n",
      "Residual covariance matrix: \n",
      "[0.521555 0.108346; 0.108346 0.580467]\n",
      "Marker effects covariance matrix: \n",
      "[3.2e-5 -1.2e-5; -1.2e-5 3.4e-5]\n",
      "\n"
     ]
    },
    {
     "name": "stderr",
     "output_type": "stream",
     "text": [
      "\u001b[32mrunning MCMC for BayesL... 60%|███████████████          |  ETA: 0:00:43\u001b[39m"
     ]
    },
    {
     "name": "stdout",
     "output_type": "stream",
     "text": [
      "\n",
      "Posterior means at iteration: 30000\n",
      "Residual covariance matrix: \n",
      "[0.521995 0.110082; 0.110082 0.581048]\n",
      "Marker effects covariance matrix: \n",
      "[3.2e-5 -1.2e-5; -1.2e-5 3.4e-5]\n",
      "\n"
     ]
    },
    {
     "name": "stderr",
     "output_type": "stream",
     "text": [
      "\u001b[32mrunning MCMC for BayesL... 80%|████████████████████     |  ETA: 0:00:22\u001b[39m"
     ]
    },
    {
     "name": "stdout",
     "output_type": "stream",
     "text": [
      "\n",
      "Posterior means at iteration: 40000\n",
      "Residual covariance matrix: \n",
      "[0.520908 0.109571; 0.109571 0.582735]\n",
      "Marker effects covariance matrix: \n",
      "[3.2e-5 -1.2e-5; -1.2e-5 3.3e-5]\n",
      "\n"
     ]
    },
    {
     "name": "stderr",
     "output_type": "stream",
     "text": [
      "\u001b[32mrunning MCMC for BayesL...100%|█████████████████████████|  ETA: 0:00:00\u001b[39m"
     ]
    },
    {
     "name": "stdout",
     "output_type": "stream",
     "text": [
      "\n",
      "Posterior means at iteration: 50000\n",
      "Residual covariance matrix: \n",
      "[0.520704 0.10999; 0.10999 0.582991]\n",
      "Marker effects covariance matrix: \n",
      "[3.2e-5 -1.2e-5; -1.2e-5 3.3e-5]\n",
      "\n"
     ]
    },
    {
     "name": "stderr",
     "output_type": "stream",
     "text": [
      "\u001b[32mrunning MCMC for BayesL...100%|█████████████████████████| Time: 0:01:47\u001b[39m\n"
     ]
    },
    {
     "name": "stdout",
     "output_type": "stream",
     "text": [
      "1279 markers on 300 individuals were added.\n",
      "\u001b[31mPhenotyped individuals are not a subset of either\u001b[39m\n",
      "\u001b[31mgenotyped individuals (complete genomic data,non-single-step) or\u001b[39m\n",
      "\u001b[31mindividuals in pedigree (incomplete genomic data, single-step).\u001b[39m\n",
      "\u001b[31mOnly individuals with both information are used in the analysis.\u001b[39m\n",
      "\u001b[32mPi (Π) is not provided.\u001b[39m\n",
      "\u001b[32mPi (Π) is generated assuming all markers have effects on all traits.\u001b[39m\n",
      "\n",
      "\n",
      "\n",
      "A Linear Mixed Model was build using model equations:\n",
      "\n",
      "y1 = intercept\n",
      "y2 = intercept\n",
      "\n",
      "Model Information:\n",
      "\n",
      "Term            C/F          F/R            nLevels\n",
      "intercept       factor       fixed                1\n",
      "\n",
      "MCMC Information:\n",
      "\n",
      "methods                                     RR-BLUP\n",
      "chain_length                                  50000\n",
      "burnin                                         1000\n",
      "estimatePi                                    false\n",
      "starting_value                                false\n",
      "printout_frequency                            10000\n",
      "output_samples_frequency                          0\n",
      "constraint                                    false\n",
      "missing_phenotypes                            false\n",
      "update_priors_frequency                           0\n",
      "\n",
      "Hyper-parameters Information: \n",
      "\n",
      "residual variances:           \n",
      "  0.53   -0.225\n",
      " -0.225   0.572\n",
      "genetic variances (genomic):  \n",
      "  0.0  -0.0\n",
      " -0.0   0.0\n",
      "marker effect variances:      \n",
      "  0.0  -0.0\n",
      " -0.0   0.0\n",
      "Π:\n",
      "combinations          probability\n",
      "[0.0, 0.0]                    0.0\n",
      "[1.0, 0.0]                    0.0\n",
      "[1.0, 1.0]                    1.0\n",
      "[0.0, 1.0]                    0.0\n",
      "\n",
      "Degree of freedom for hyper-parameters:\n",
      "\n",
      "residual variances:                           4.000\n",
      "iid random effect variances:                  4.000\n",
      "marker effect variances:                      4.000\n",
      "\n",
      "\n",
      "\n"
     ]
    },
    {
     "name": "stderr",
     "output_type": "stream",
     "text": [
      "\u001b[32mrunning MCMC for RR-BLUP... 20%|█████                   |  ETA: 0:01:13\u001b[39m"
     ]
    },
    {
     "name": "stdout",
     "output_type": "stream",
     "text": [
      "\n",
      "Posterior means at iteration: 10000\n",
      "Residual covariance matrix: \n",
      "[0.53288 0.111096; 0.111096 0.591136]\n",
      "Marker effects covariance matrix: \n",
      "[0.00036 -0.000143; -0.000143 0.000386]\n",
      "\n"
     ]
    },
    {
     "name": "stderr",
     "output_type": "stream",
     "text": [
      "\u001b[32mrunning MCMC for RR-BLUP... 40%|██████████              |  ETA: 0:00:54\u001b[39m"
     ]
    },
    {
     "name": "stdout",
     "output_type": "stream",
     "text": [
      "\n",
      "Posterior means at iteration: 20000\n",
      "Residual covariance matrix: \n",
      "[0.525133 0.110178; 0.110178 0.587404]\n",
      "Marker effects covariance matrix: \n",
      "[0.000379 -0.000143; -0.000143 0.000394]\n",
      "\n"
     ]
    },
    {
     "name": "stderr",
     "output_type": "stream",
     "text": [
      "\u001b[32mrunning MCMC for RR-BLUP... 60%|██████████████          |  ETA: 0:00:36\u001b[39m"
     ]
    },
    {
     "name": "stdout",
     "output_type": "stream",
     "text": [
      "\n",
      "Posterior means at iteration: 30000\n",
      "Residual covariance matrix: \n",
      "[0.52438 0.11258; 0.11258 0.588828]\n",
      "Marker effects covariance matrix: \n",
      "[0.000382 -0.000149; -0.000149 0.000393]\n",
      "\n"
     ]
    },
    {
     "name": "stderr",
     "output_type": "stream",
     "text": [
      "\u001b[32mrunning MCMC for RR-BLUP... 80%|███████████████████     |  ETA: 0:00:18\u001b[39m"
     ]
    },
    {
     "name": "stdout",
     "output_type": "stream",
     "text": [
      "\n",
      "Posterior means at iteration: 40000\n",
      "Residual covariance matrix: \n",
      "[0.523778 0.111372; 0.111372 0.587127]\n",
      "Marker effects covariance matrix: \n",
      "[0.000384 -0.000147; -0.000147 0.000395]\n",
      "\n"
     ]
    },
    {
     "name": "stderr",
     "output_type": "stream",
     "text": [
      "\u001b[32mrunning MCMC for RR-BLUP...100%|████████████████████████|  ETA: 0:00:00\u001b[39m"
     ]
    },
    {
     "name": "stdout",
     "output_type": "stream",
     "text": [
      "\n",
      "Posterior means at iteration: 50000\n",
      "Residual covariance matrix: \n",
      "[0.524002 0.111037; 0.111037 0.587514]\n",
      "Marker effects covariance matrix: \n",
      "[0.000384 -0.000147; -0.000147 0.000394]\n",
      "\n"
     ]
    },
    {
     "name": "stderr",
     "output_type": "stream",
     "text": [
      "\u001b[32mrunning MCMC for RR-BLUP...100%|████████████████████████| Time: 0:01:31\u001b[39m\n"
     ]
    },
    {
     "name": "stdout",
     "output_type": "stream",
     "text": [
      "1279 markers on 300 individuals were added.\n",
      "\u001b[31mPhenotyped individuals are not a subset of either\u001b[39m\n",
      "\u001b[31mgenotyped individuals (complete genomic data,non-single-step) or\u001b[39m\n",
      "\u001b[31mindividuals in pedigree (incomplete genomic data, single-step).\u001b[39m\n",
      "\u001b[31mOnly individuals with both information are used in the analysis.\u001b[39m\n",
      "\n",
      "\n",
      "\n",
      "A Linear Mixed Model was build using model equations:\n",
      "\n",
      "y1 = intercept\n",
      "y2 = intercept\n",
      "\n",
      "Model Information:\n",
      "\n",
      "Term            C/F          F/R            nLevels\n",
      "intercept       factor       fixed                1\n",
      "\n",
      "MCMC Information:\n",
      "\n",
      "methods                                      BayesC\n",
      "chain_length                                  50000\n",
      "burnin                                         1000\n",
      "estimatePi                                     true\n",
      "starting_value                                false\n",
      "printout_frequency                            10000\n",
      "output_samples_frequency                          0\n",
      "constraint                                    false\n",
      "missing_phenotypes                            false\n",
      "update_priors_frequency                           0\n",
      "\n",
      "Hyper-parameters Information: \n",
      "\n",
      "residual variances:           \n",
      "  0.53   -0.225\n",
      " -0.225   0.572\n",
      "genetic variances (genomic):  \n",
      "  0.0  -0.0\n",
      " -0.0   0.0\n",
      "marker effect variances:      \n",
      "  0.0  -0.0\n",
      " -0.0   0.0\n",
      "Π:\n",
      "combinations          probability\n",
      "[0.0, 0.0]                   0.25\n",
      "[1.0, 0.0]                   0.25\n",
      "[1.0, 1.0]                   0.25\n",
      "[0.0, 1.0]                   0.25\n",
      "\n",
      "Degree of freedom for hyper-parameters:\n",
      "\n",
      "residual variances:                           4.000\n",
      "iid random effect variances:                  4.000\n",
      "marker effect variances:                      4.000\n",
      "\n",
      "\n",
      "\n"
     ]
    },
    {
     "name": "stderr",
     "output_type": "stream",
     "text": [
      "\u001b[32mrunning MCMC for BayesC... 20%|█████                    |  ETA: 0:03:27\u001b[39m"
     ]
    },
    {
     "name": "stdout",
     "output_type": "stream",
     "text": [
      "\n",
      "Posterior means at iteration: 10000\n",
      "Residual covariance matrix: \n",
      "[0.522584 0.108668; 0.108668 0.581225]\n",
      "Marker effects covariance matrix: \n",
      "[0.000798 -0.000695; -0.000695 0.000839]\n",
      "π: \n",
      "Dict([0.0, 0.0]=>0.174514,[1.0, 0.0]=>0.2853,[1.0, 1.0]=>0.252095,[0.0, 1.0]=>0.28809)\n",
      "\n"
     ]
    },
    {
     "name": "stderr",
     "output_type": "stream",
     "text": [
      "\u001b[32mrunning MCMC for BayesC... 40%|██████████               |  ETA: 0:02:35\u001b[39m"
     ]
    },
    {
     "name": "stdout",
     "output_type": "stream",
     "text": [
      "\n",
      "Posterior means at iteration: 20000\n",
      "Residual covariance matrix: \n",
      "[0.521536 0.110218; 0.110218 0.574727]\n",
      "Marker effects covariance matrix: \n",
      "[0.000849 -0.000718; -0.000718 0.000845]\n",
      "π: \n",
      "Dict([0.0, 0.0]=>0.186311,[1.0, 0.0]=>0.254232,[1.0, 1.0]=>0.254462,[0.0, 1.0]=>0.304995)\n",
      "\n"
     ]
    },
    {
     "name": "stderr",
     "output_type": "stream",
     "text": [
      "\u001b[32mrunning MCMC for BayesC... 60%|███████████████          |  ETA: 0:01:44\u001b[39m"
     ]
    },
    {
     "name": "stdout",
     "output_type": "stream",
     "text": [
      "\n",
      "Posterior means at iteration: 30000\n",
      "Residual covariance matrix: \n",
      "[0.520485 0.108764; 0.108764 0.577137]\n",
      "Marker effects covariance matrix: \n",
      "[0.000895 -0.000701; -0.000701 0.00078]\n",
      "π: \n",
      "Dict([0.0, 0.0]=>0.168059,[1.0, 0.0]=>0.239554,[1.0, 1.0]=>0.247258,[0.0, 1.0]=>0.345129)\n",
      "\n"
     ]
    },
    {
     "name": "stderr",
     "output_type": "stream",
     "text": [
      "\u001b[32mrunning MCMC for BayesC... 80%|████████████████████     |  ETA: 0:00:52\u001b[39m"
     ]
    },
    {
     "name": "stdout",
     "output_type": "stream",
     "text": [
      "\n",
      "Posterior means at iteration: 40000\n",
      "Residual covariance matrix: \n",
      "[0.52148 0.110804; 0.110804 0.57824]\n",
      "Marker effects covariance matrix: \n",
      "[0.000839 -0.000652; -0.000652 0.000764]\n",
      "π: \n",
      "Dict([0.0, 0.0]=>0.160809,[1.0, 0.0]=>0.246594,[1.0, 1.0]=>0.273518,[0.0, 1.0]=>0.31908)\n",
      "\n"
     ]
    },
    {
     "name": "stderr",
     "output_type": "stream",
     "text": [
      "\u001b[32mrunning MCMC for BayesC...100%|█████████████████████████|  ETA: 0:00:00\u001b[39m"
     ]
    },
    {
     "name": "stdout",
     "output_type": "stream",
     "text": [
      "\n",
      "Posterior means at iteration: 50000\n",
      "Residual covariance matrix: \n",
      "[0.520093 0.109135; 0.109135 0.580383]\n",
      "Marker effects covariance matrix: \n",
      "[0.00085 -0.000662; -0.000662 0.00076]\n",
      "π: \n",
      "Dict([0.0, 0.0]=>0.160767,[1.0, 0.0]=>0.252223,[1.0, 1.0]=>0.262793,[0.0, 1.0]=>0.324217)\n",
      "\n",
      "\n",
      " Iteration: 8\n",
      "\n",
      "1279 markers on 300 individuals were added.\n",
      "\u001b[31mPhenotyped individuals are not a subset of either\u001b[39m\n",
      "\u001b[31mgenotyped individuals (complete genomic data,non-single-step) or\u001b[39m\n",
      "\u001b[31mindividuals in pedigree (incomplete genomic data, single-step).\u001b[39m\n",
      "\u001b[31mOnly individuals with both information are used in the analysis.\u001b[39m\n"
     ]
    },
    {
     "name": "stderr",
     "output_type": "stream",
     "text": [
      "\u001b[32mrunning MCMC for BayesC...100%|█████████████████████████| Time: 0:04:19\u001b[39m\n"
     ]
    },
    {
     "name": "stdout",
     "output_type": "stream",
     "text": [
      "\u001b[32mPi (Π) is not provided.\u001b[39m\n",
      "\u001b[32mPi (Π) is generated assuming all markers have effects on all traits.\u001b[39m\n",
      "\n",
      "\n",
      "\n",
      "A Linear Mixed Model was build using model equations:\n",
      "\n",
      "y1 = intercept\n",
      "y2 = intercept\n",
      "\n",
      "Model Information:\n",
      "\n",
      "Term            C/F          F/R            nLevels\n",
      "intercept       factor       fixed                1\n",
      "\n",
      "MCMC Information:\n",
      "\n",
      "methods                                      BayesL\n",
      "chain_length                                  50000\n",
      "burnin                                         1000\n",
      "estimatePi                                    false\n",
      "starting_value                                false\n",
      "printout_frequency                            10000\n",
      "output_samples_frequency                          0\n",
      "constraint                                    false\n",
      "missing_phenotypes                            false\n",
      "update_priors_frequency                           0\n",
      "\n",
      "Hyper-parameters Information: \n",
      "\n",
      "residual variances:           \n",
      "  0.53   -0.225\n",
      " -0.225   0.572\n",
      "genetic variances (genomic):  \n",
      "  0.0  -0.0\n",
      " -0.0   0.0\n",
      "marker effect variances:      \n",
      "  0.0  -0.0\n",
      " -0.0   0.0\n",
      "Π:\n",
      "combinations          probability\n",
      "[0.0, 0.0]                    0.0\n",
      "[1.0, 0.0]                    0.0\n",
      "[1.0, 1.0]                    1.0\n",
      "[0.0, 1.0]                    0.0\n",
      "\n",
      "Degree of freedom for hyper-parameters:\n",
      "\n",
      "residual variances:                           4.000\n",
      "iid random effect variances:                  4.000\n",
      "marker effect variances:                      4.000\n",
      "\n",
      "\n",
      "\n"
     ]
    },
    {
     "name": "stderr",
     "output_type": "stream",
     "text": [
      "\u001b[32mrunning MCMC for BayesL... 20%|█████                    |  ETA: 0:01:26\u001b[39m"
     ]
    },
    {
     "name": "stdout",
     "output_type": "stream",
     "text": [
      "\n",
      "Posterior means at iteration: 10000\n",
      "Residual covariance matrix: \n",
      "[0.554998 0.121308; 0.121308 0.562527]\n",
      "Marker effects covariance matrix: \n",
      "[3.5e-5 -1.6e-5; -1.6e-5 3.0e-5]\n",
      "\n"
     ]
    },
    {
     "name": "stderr",
     "output_type": "stream",
     "text": [
      "\u001b[32mrunning MCMC for BayesL... 40%|██████████               |  ETA: 0:01:04\u001b[39m"
     ]
    },
    {
     "name": "stdout",
     "output_type": "stream",
     "text": [
      "\n",
      "Posterior means at iteration: 20000\n",
      "Residual covariance matrix: \n",
      "[0.551225 0.120465; 0.120465 0.562064]\n",
      "Marker effects covariance matrix: \n",
      "[3.6e-5 -1.6e-5; -1.6e-5 3.0e-5]\n",
      "\n"
     ]
    },
    {
     "name": "stderr",
     "output_type": "stream",
     "text": [
      "\u001b[32mrunning MCMC for BayesL... 60%|███████████████          |  ETA: 0:00:43\u001b[39m"
     ]
    },
    {
     "name": "stdout",
     "output_type": "stream",
     "text": [
      "\n",
      "Posterior means at iteration: 30000\n",
      "Residual covariance matrix: \n",
      "[0.549991 0.119531; 0.119531 0.560504]\n",
      "Marker effects covariance matrix: \n",
      "[3.6e-5 -1.6e-5; -1.6e-5 3.1e-5]\n",
      "\n"
     ]
    },
    {
     "name": "stderr",
     "output_type": "stream",
     "text": [
      "\u001b[32mrunning MCMC for BayesL... 80%|████████████████████     |  ETA: 0:00:22\u001b[39m"
     ]
    },
    {
     "name": "stdout",
     "output_type": "stream",
     "text": [
      "\n",
      "Posterior means at iteration: 40000\n",
      "Residual covariance matrix: \n",
      "[0.552041 0.118353; 0.118353 0.559825]\n",
      "Marker effects covariance matrix: \n",
      "[3.6e-5 -1.6e-5; -1.6e-5 3.1e-5]\n",
      "\n"
     ]
    },
    {
     "name": "stderr",
     "output_type": "stream",
     "text": [
      "\u001b[32mrunning MCMC for BayesL...100%|█████████████████████████|  ETA: 0:00:00\u001b[39m"
     ]
    },
    {
     "name": "stdout",
     "output_type": "stream",
     "text": [
      "\n",
      "Posterior means at iteration: 50000\n",
      "Residual covariance matrix: \n",
      "[0.551286 0.117851; 0.117851 0.560289]\n",
      "Marker effects covariance matrix: \n",
      "[3.6e-5 -1.6e-5; -1.6e-5 3.1e-5]\n",
      "\n",
      "1279 markers on 300 individuals were added.\n",
      "\u001b[31mPhenotyped individuals are not a subset of either\u001b[39m\n",
      "\u001b[31mgenotyped individuals (complete genomic data,non-single-step) or\u001b[39m\n",
      "\u001b[31mindividuals in pedigree (incomplete genomic data, single-step).\u001b[39m\n",
      "\u001b[31mOnly individuals with both information are used in the analysis.\u001b[39m\n",
      "\u001b[32mPi (Π) is not provided.\u001b[39m\n",
      "\u001b[32mPi (Π) is generated assuming all markers have effects on all traits.\u001b[39m\n",
      "\n",
      "\n",
      "\n",
      "A Linear Mixed Model was build using model equations:\n",
      "\n",
      "y1 = intercept\n",
      "y2 = intercept\n",
      "\n",
      "Model Information:\n",
      "\n",
      "Term            C/F          F/R            nLevels\n",
      "intercept       factor       fixed                1\n",
      "\n",
      "MCMC Information:\n",
      "\n",
      "methods                                     RR-BLUP\n",
      "chain_length                                  50000\n",
      "burnin                                         1000\n",
      "estimatePi                                    false\n",
      "starting_value                                false\n",
      "printout_frequency                            10000\n",
      "output_samples_frequency                          0\n",
      "constraint                                    false\n",
      "missing_phenotypes                            false\n",
      "update_priors_frequency                           0\n",
      "\n",
      "Hyper-parameters Information: \n",
      "\n",
      "residual variances:           \n",
      "  0.53   -0.225\n",
      " -0.225   0.572\n",
      "genetic variances (genomic):  \n",
      "  0.0  -0.0\n",
      " -0.0   0.0\n",
      "marker effect variances:      \n",
      "  0.0  -0.0\n",
      " -0.0   0.0\n",
      "Π:\n",
      "combinations          probability\n",
      "[0.0, 0.0]                    0.0\n",
      "[1.0, 0.0]                    0.0\n",
      "[1.0, 1.0]                    1.0\n",
      "[0.0, 1.0]                    0.0\n",
      "\n",
      "Degree of freedom for hyper-parameters:\n",
      "\n",
      "residual variances:                           4.000\n",
      "iid random effect variances:                  4.000\n",
      "marker effect variances:                      4.000\n",
      "\n",
      "\n",
      "\n"
     ]
    },
    {
     "name": "stderr",
     "output_type": "stream",
     "text": [
      "\u001b[32mrunning MCMC for BayesL...100%|█████████████████████████| Time: 0:01:48\u001b[39m\n",
      "\u001b[32mrunning MCMC for RR-BLUP... 20%|█████                   |  ETA: 0:01:14\u001b[39m"
     ]
    },
    {
     "name": "stdout",
     "output_type": "stream",
     "text": [
      "\n",
      "Posterior means at iteration: 10000\n",
      "Residual covariance matrix: \n",
      "[0.556623 0.115735; 0.115735 0.557602]\n",
      "Marker effects covariance matrix: \n",
      "[0.000427 -0.000186; -0.000186 0.000375]\n",
      "\n"
     ]
    },
    {
     "name": "stderr",
     "output_type": "stream",
     "text": [
      "\u001b[32mrunning MCMC for RR-BLUP... 40%|██████████              |  ETA: 0:00:55\u001b[39m"
     ]
    },
    {
     "name": "stdout",
     "output_type": "stream",
     "text": [
      "\n",
      "Posterior means at iteration: 20000\n",
      "Residual covariance matrix: \n",
      "[0.551275 0.115246; 0.115246 0.558196]\n",
      "Marker effects covariance matrix: \n",
      "[0.000439 -0.000186; -0.000186 0.000374]\n",
      "\n"
     ]
    },
    {
     "name": "stderr",
     "output_type": "stream",
     "text": [
      "\u001b[32mrunning MCMC for RR-BLUP... 60%|██████████████          |  ETA: 0:00:37\u001b[39m"
     ]
    },
    {
     "name": "stdout",
     "output_type": "stream",
     "text": [
      "\n",
      "Posterior means at iteration: 30000\n",
      "Residual covariance matrix: \n",
      "[0.554075 0.116959; 0.116959 0.559035]\n",
      "Marker effects covariance matrix: \n",
      "[0.000433 -0.000188; -0.000188 0.000372]\n",
      "\n"
     ]
    },
    {
     "name": "stderr",
     "output_type": "stream",
     "text": [
      "\u001b[32mrunning MCMC for RR-BLUP... 80%|███████████████████     |  ETA: 0:00:19\u001b[39m"
     ]
    },
    {
     "name": "stdout",
     "output_type": "stream",
     "text": [
      "\n",
      "Posterior means at iteration: 40000\n",
      "Residual covariance matrix: \n",
      "[0.553186 0.118698; 0.118698 0.559554]\n",
      "Marker effects covariance matrix: \n",
      "[0.000435 -0.000192; -0.000192 0.000373]\n",
      "\n"
     ]
    },
    {
     "name": "stderr",
     "output_type": "stream",
     "text": [
      "\u001b[32mrunning MCMC for RR-BLUP...100%|████████████████████████|  ETA: 0:00:00\u001b[39m"
     ]
    },
    {
     "name": "stdout",
     "output_type": "stream",
     "text": [
      "\n",
      "Posterior means at iteration: 50000\n",
      "Residual covariance matrix: \n",
      "[0.551583 0.119181; 0.119181 0.560173]\n",
      "Marker effects covariance matrix: \n",
      "[0.000439 -0.000193; -0.000193 0.000371]\n",
      "\n",
      "1279 markers on 300 individuals were added.\n",
      "\u001b[31mPhenotyped individuals are not a subset of either\u001b[39m\n",
      "\u001b[31mgenotyped individuals (complete genomic data,non-single-step) or\u001b[39m\n",
      "\u001b[31mindividuals in pedigree (incomplete genomic data, single-step).\u001b[39m\n",
      "\u001b[31mOnly individuals with both information are used in the analysis.\u001b[39m\n",
      "\n",
      "\n",
      "\n",
      "A Linear Mixed Model was build using model equations:\n",
      "\n",
      "y1 = intercept\n",
      "y2 = intercept\n",
      "\n",
      "Model Information:\n",
      "\n",
      "Term            C/F          F/R            nLevels\n",
      "intercept       factor       fixed                1\n",
      "\n",
      "MCMC Information:\n",
      "\n",
      "methods                                      BayesC\n",
      "chain_length                                  50000\n",
      "burnin                                         1000\n",
      "estimatePi                                     true\n",
      "starting_value                                false\n",
      "printout_frequency                            10000\n",
      "output_samples_frequency                          0\n",
      "constraint                                    false\n",
      "missing_phenotypes                            false\n",
      "update_priors_frequency                           0\n",
      "\n",
      "Hyper-parameters Information: \n",
      "\n",
      "residual variances:           \n",
      "  0.53   -0.225\n",
      " -0.225   0.572\n",
      "genetic variances (genomic):  \n",
      "  0.0  -0.0\n",
      " -0.0   0.0\n",
      "marker effect variances:      \n",
      "  0.0  -0.0\n",
      " -0.0   0.0\n",
      "Π:\n",
      "combinations          probability\n",
      "[0.0, 0.0]                   0.25\n",
      "[1.0, 0.0]                   0.25\n",
      "[1.0, 1.0]                   0.25\n",
      "[0.0, 1.0]                   0.25\n",
      "\n",
      "Degree of freedom for hyper-parameters:\n",
      "\n",
      "residual variances:                           4.000\n",
      "iid random effect variances:                  4.000\n",
      "marker effect variances:                      4.000\n",
      "\n",
      "\n",
      "\n"
     ]
    },
    {
     "name": "stderr",
     "output_type": "stream",
     "text": [
      "\u001b[32mrunning MCMC for RR-BLUP...100%|████████████████████████| Time: 0:01:32\u001b[39m\n",
      "\u001b[32mrunning MCMC for BayesC... 20%|█████                    |  ETA: 0:03:30\u001b[39m"
     ]
    },
    {
     "name": "stdout",
     "output_type": "stream",
     "text": [
      "\n",
      "Posterior means at iteration: 10000\n",
      "Residual covariance matrix: \n",
      "[0.545377 0.113265; 0.113265 0.55831]\n",
      "Marker effects covariance matrix: \n",
      "[0.000831 -0.000642; -0.000642 0.000747]\n",
      "π: \n",
      "Dict([0.0, 0.0]=>0.165659,[1.0, 0.0]=>0.269311,[1.0, 1.0]=>0.32803,[0.0, 1.0]=>0.237)\n",
      "\n"
     ]
    },
    {
     "name": "stderr",
     "output_type": "stream",
     "text": [
      "\u001b[32mrunning MCMC for BayesC... 40%|██████████               |  ETA: 0:02:37\u001b[39m"
     ]
    },
    {
     "name": "stdout",
     "output_type": "stream",
     "text": [
      "\n",
      "Posterior means at iteration: 20000\n",
      "Residual covariance matrix: \n",
      "[0.545951 0.111061; 0.111061 0.556472]\n",
      "Marker effects covariance matrix: \n",
      "[0.0009 -0.000636; -0.000636 0.000682]\n",
      "π: \n",
      "Dict([0.0, 0.0]=>0.155781,[1.0, 0.0]=>0.232235,[1.0, 1.0]=>0.318797,[0.0, 1.0]=>0.293187)\n",
      "\n"
     ]
    },
    {
     "name": "stderr",
     "output_type": "stream",
     "text": [
      "\u001b[32mrunning MCMC for BayesC... 60%|███████████████          |  ETA: 0:01:45\u001b[39m"
     ]
    },
    {
     "name": "stdout",
     "output_type": "stream",
     "text": [
      "\n",
      "Posterior means at iteration: 30000\n",
      "Residual covariance matrix: \n",
      "[0.5495 0.11356; 0.11356 0.555986]\n",
      "Marker effects covariance matrix: \n",
      "[0.000881 -0.000626; -0.000626 0.000683]\n",
      "π: \n",
      "Dict([0.0, 0.0]=>0.161574,[1.0, 0.0]=>0.227288,[1.0, 1.0]=>0.333596,[0.0, 1.0]=>0.277542)\n",
      "\n"
     ]
    },
    {
     "name": "stderr",
     "output_type": "stream",
     "text": [
      "\u001b[32mrunning MCMC for BayesC... 80%|████████████████████     |  ETA: 0:00:52\u001b[39m"
     ]
    },
    {
     "name": "stdout",
     "output_type": "stream",
     "text": [
      "\n",
      "Posterior means at iteration: 40000\n",
      "Residual covariance matrix: \n",
      "[0.549822 0.112518; 0.112518 0.556058]\n",
      "Marker effects covariance matrix: \n",
      "[0.000835 -0.000617; -0.000617 0.000717]\n",
      "π: \n",
      "Dict([0.0, 0.0]=>0.158015,[1.0, 0.0]=>0.250041,[1.0, 1.0]=>0.331238,[0.0, 1.0]=>0.260706)\n",
      "\n"
     ]
    },
    {
     "name": "stderr",
     "output_type": "stream",
     "text": [
      "\u001b[32mrunning MCMC for BayesC...100%|█████████████████████████|  ETA: 0:00:00\u001b[39m"
     ]
    },
    {
     "name": "stdout",
     "output_type": "stream",
     "text": [
      "\n",
      "Posterior means at iteration: 50000\n",
      "Residual covariance matrix: \n",
      "[0.550102 0.113059; 0.113059 0.554962]\n",
      "Marker effects covariance matrix: \n",
      "[0.000862 -0.000636; -0.000636 0.00072]\n",
      "π: \n",
      "Dict([0.0, 0.0]=>0.166115,[1.0, 0.0]=>0.244086,[1.0, 1.0]=>0.324575,[0.0, 1.0]=>0.265224)\n",
      "\n",
      "\n",
      " Iteration: 9\n",
      "\n"
     ]
    },
    {
     "name": "stderr",
     "output_type": "stream",
     "text": [
      "\u001b[32mrunning MCMC for BayesC...100%|█████████████████████████| Time: 0:04:22\u001b[39m\n"
     ]
    },
    {
     "name": "stdout",
     "output_type": "stream",
     "text": [
      "1279 markers on 300 individuals were added.\n",
      "\u001b[31mPhenotyped individuals are not a subset of either\u001b[39m\n",
      "\u001b[31mgenotyped individuals (complete genomic data,non-single-step) or\u001b[39m\n",
      "\u001b[31mindividuals in pedigree (incomplete genomic data, single-step).\u001b[39m\n",
      "\u001b[31mOnly individuals with both information are used in the analysis.\u001b[39m\n",
      "\u001b[32mPi (Π) is not provided.\u001b[39m\n",
      "\u001b[32mPi (Π) is generated assuming all markers have effects on all traits.\u001b[39m\n",
      "\n",
      "\n",
      "\n",
      "A Linear Mixed Model was build using model equations:\n",
      "\n",
      "y1 = intercept\n",
      "y2 = intercept\n",
      "\n",
      "Model Information:\n",
      "\n",
      "Term            C/F          F/R            nLevels\n",
      "intercept       factor       fixed                1\n",
      "\n",
      "MCMC Information:\n",
      "\n",
      "methods                                      BayesL\n",
      "chain_length                                  50000\n",
      "burnin                                         1000\n",
      "estimatePi                                    false\n",
      "starting_value                                false\n",
      "printout_frequency                            10000\n",
      "output_samples_frequency                          0\n",
      "constraint                                    false\n",
      "missing_phenotypes                            false\n",
      "update_priors_frequency                           0\n",
      "\n",
      "Hyper-parameters Information: \n",
      "\n",
      "residual variances:           \n",
      "  0.53   -0.225\n",
      " -0.225   0.572\n",
      "genetic variances (genomic):  \n",
      "  0.0  -0.0\n",
      " -0.0   0.0\n",
      "marker effect variances:      \n",
      "  0.0  -0.0\n",
      " -0.0   0.0\n",
      "Π:\n",
      "combinations          probability\n",
      "[0.0, 0.0]                    0.0\n",
      "[1.0, 0.0]                    0.0\n",
      "[1.0, 1.0]                    1.0\n",
      "[0.0, 1.0]                    0.0\n",
      "\n",
      "Degree of freedom for hyper-parameters:\n",
      "\n",
      "residual variances:                           4.000\n",
      "iid random effect variances:                  4.000\n",
      "marker effect variances:                      4.000\n",
      "\n",
      "\n",
      "\n"
     ]
    },
    {
     "name": "stderr",
     "output_type": "stream",
     "text": [
      "\u001b[32mrunning MCMC for BayesL... 20%|█████                    |  ETA: 0:01:27\u001b[39m"
     ]
    },
    {
     "name": "stdout",
     "output_type": "stream",
     "text": [
      "\n",
      "Posterior means at iteration: 10000\n",
      "Residual covariance matrix: \n",
      "[0.560645 0.1749; 0.1749 0.637838]\n",
      "Marker effects covariance matrix: \n",
      "[3.4e-5 -1.7e-5; -1.7e-5 3.0e-5]\n",
      "\n"
     ]
    },
    {
     "name": "stderr",
     "output_type": "stream",
     "text": [
      "\u001b[32mrunning MCMC for BayesL... 40%|██████████               |  ETA: 0:01:05\u001b[39m"
     ]
    },
    {
     "name": "stdout",
     "output_type": "stream",
     "text": [
      "\n",
      "Posterior means at iteration: 20000\n",
      "Residual covariance matrix: \n",
      "[0.556642 0.173375; 0.173375 0.632247]\n",
      "Marker effects covariance matrix: \n",
      "[3.5e-5 -1.8e-5; -1.8e-5 3.1e-5]\n",
      "\n"
     ]
    },
    {
     "name": "stderr",
     "output_type": "stream",
     "text": [
      "\u001b[32mrunning MCMC for BayesL... 60%|███████████████          |  ETA: 0:00:44\u001b[39m"
     ]
    },
    {
     "name": "stdout",
     "output_type": "stream",
     "text": [
      "\n",
      "Posterior means at iteration: 30000\n",
      "Residual covariance matrix: \n",
      "[0.556143 0.174177; 0.174177 0.629871]\n",
      "Marker effects covariance matrix: \n",
      "[3.5e-5 -1.8e-5; -1.8e-5 3.1e-5]\n",
      "\n"
     ]
    },
    {
     "name": "stderr",
     "output_type": "stream",
     "text": [
      "\u001b[32mrunning MCMC for BayesL... 80%|████████████████████     |  ETA: 0:00:22\u001b[39m"
     ]
    },
    {
     "name": "stdout",
     "output_type": "stream",
     "text": [
      "\n",
      "Posterior means at iteration: 40000\n",
      "Residual covariance matrix: \n",
      "[0.555883 0.172192; 0.172192 0.628048]\n",
      "Marker effects covariance matrix: \n",
      "[3.5e-5 -1.7e-5; -1.7e-5 3.1e-5]\n",
      "\n"
     ]
    },
    {
     "name": "stderr",
     "output_type": "stream",
     "text": [
      "\u001b[32mrunning MCMC for BayesL...100%|█████████████████████████|  ETA: 0:00:00\u001b[39m"
     ]
    },
    {
     "name": "stdout",
     "output_type": "stream",
     "text": [
      "\n",
      "Posterior means at iteration: 50000\n",
      "Residual covariance matrix: \n",
      "[0.555422 0.173318; 0.173318 0.629276]\n",
      "Marker effects covariance matrix: \n",
      "[3.5e-5 -1.8e-5; -1.8e-5 3.1e-5]\n",
      "\n"
     ]
    },
    {
     "name": "stderr",
     "output_type": "stream",
     "text": [
      "\u001b[32mrunning MCMC for BayesL...100%|█████████████████████████| Time: 0:01:49\u001b[39m\n"
     ]
    },
    {
     "name": "stdout",
     "output_type": "stream",
     "text": [
      "1279 markers on 300 individuals were added.\n",
      "\u001b[31mPhenotyped individuals are not a subset of either\u001b[39m\n",
      "\u001b[31mgenotyped individuals (complete genomic data,non-single-step) or\u001b[39m\n",
      "\u001b[31mindividuals in pedigree (incomplete genomic data, single-step).\u001b[39m\n",
      "\u001b[31mOnly individuals with both information are used in the analysis.\u001b[39m\n",
      "\u001b[32mPi (Π) is not provided.\u001b[39m\n",
      "\u001b[32mPi (Π) is generated assuming all markers have effects on all traits.\u001b[39m\n",
      "\n",
      "\n",
      "\n",
      "A Linear Mixed Model was build using model equations:\n",
      "\n",
      "y1 = intercept\n",
      "y2 = intercept\n",
      "\n",
      "Model Information:\n",
      "\n",
      "Term            C/F          F/R            nLevels\n",
      "intercept       factor       fixed                1\n",
      "\n",
      "MCMC Information:\n",
      "\n",
      "methods                                     RR-BLUP\n",
      "chain_length                                  50000\n",
      "burnin                                         1000\n",
      "estimatePi                                    false\n",
      "starting_value                                false\n",
      "printout_frequency                            10000\n",
      "output_samples_frequency                          0\n",
      "constraint                                    false\n",
      "missing_phenotypes                            false\n",
      "update_priors_frequency                           0\n",
      "\n",
      "Hyper-parameters Information: \n",
      "\n",
      "residual variances:           \n",
      "  0.53   -0.225\n",
      " -0.225   0.572\n",
      "genetic variances (genomic):  \n",
      "  0.0  -0.0\n",
      " -0.0   0.0\n",
      "marker effect variances:      \n",
      "  0.0  -0.0\n",
      " -0.0   0.0\n",
      "Π:\n",
      "combinations          probability\n",
      "[0.0, 0.0]                    0.0\n",
      "[1.0, 0.0]                    0.0\n",
      "[1.0, 1.0]                    1.0\n",
      "[0.0, 1.0]                    0.0\n",
      "\n",
      "Degree of freedom for hyper-parameters:\n",
      "\n",
      "residual variances:                           4.000\n",
      "iid random effect variances:                  4.000\n",
      "marker effect variances:                      4.000\n",
      "\n",
      "\n",
      "\n"
     ]
    },
    {
     "name": "stderr",
     "output_type": "stream",
     "text": [
      "\u001b[32mrunning MCMC for RR-BLUP... 20%|█████                   |  ETA: 0:01:14\u001b[39m"
     ]
    },
    {
     "name": "stdout",
     "output_type": "stream",
     "text": [
      "\n",
      "Posterior means at iteration: 10000\n",
      "Residual covariance matrix: \n",
      "[0.555784 0.173865; 0.173865 0.630478]\n",
      "Marker effects covariance matrix: \n",
      "[0.000421 -0.000207; -0.000207 0.00037]\n",
      "\n"
     ]
    },
    {
     "name": "stderr",
     "output_type": "stream",
     "text": [
      "\u001b[32mrunning MCMC for RR-BLUP... 40%|██████████              |  ETA: 0:00:56\u001b[39m"
     ]
    },
    {
     "name": "stdout",
     "output_type": "stream",
     "text": [
      "\n",
      "Posterior means at iteration: 20000\n",
      "Residual covariance matrix: \n",
      "[0.548941 0.171617; 0.171617 0.624901]\n",
      "Marker effects covariance matrix: \n",
      "[0.000435 -0.000206; -0.000206 0.000378]\n",
      "\n"
     ]
    },
    {
     "name": "stderr",
     "output_type": "stream",
     "text": [
      "\u001b[32mrunning MCMC for RR-BLUP... 60%|██████████████          |  ETA: 0:00:37\u001b[39m"
     ]
    },
    {
     "name": "stdout",
     "output_type": "stream",
     "text": [
      "\n",
      "Posterior means at iteration: 30000\n",
      "Residual covariance matrix: \n",
      "[0.551354 0.171826; 0.171826 0.62968]\n",
      "Marker effects covariance matrix: \n",
      "[0.00043 -0.000205; -0.000205 0.00037]\n",
      "\n"
     ]
    },
    {
     "name": "stderr",
     "output_type": "stream",
     "text": [
      "\u001b[32mrunning MCMC for RR-BLUP... 80%|███████████████████     |  ETA: 0:00:19\u001b[39m"
     ]
    },
    {
     "name": "stdout",
     "output_type": "stream",
     "text": [
      "\n",
      "Posterior means at iteration: 40000\n",
      "Residual covariance matrix: \n",
      "[0.551492 0.172573; 0.172573 0.62916]\n",
      "Marker effects covariance matrix: \n",
      "[0.000431 -0.000207; -0.000207 0.000372]\n",
      "\n"
     ]
    },
    {
     "name": "stderr",
     "output_type": "stream",
     "text": [
      "\u001b[32mrunning MCMC for RR-BLUP...100%|████████████████████████|  ETA: 0:00:00\u001b[39m"
     ]
    },
    {
     "name": "stdout",
     "output_type": "stream",
     "text": [
      "\n",
      "Posterior means at iteration: 50000\n",
      "Residual covariance matrix: \n",
      "[0.552813 0.17193; 0.17193 0.629231]\n",
      "Marker effects covariance matrix: \n",
      "[0.000429 -0.000205; -0.000205 0.000372]\n",
      "\n",
      "1279 markers on 300 individuals were added.\n",
      "\u001b[31mPhenotyped individuals are not a subset of either\u001b[39m\n",
      "\u001b[31mgenotyped individuals (complete genomic data,non-single-step) or\u001b[39m\n",
      "\u001b[31mindividuals in pedigree (incomplete genomic data, single-step).\u001b[39m\n",
      "\u001b[31mOnly individuals with both information are used in the analysis.\u001b[39m\n",
      "\n",
      "\n",
      "\n",
      "A Linear Mixed Model was build using model equations:\n",
      "\n",
      "y1 = intercept\n",
      "y2 = intercept\n",
      "\n",
      "Model Information:\n",
      "\n",
      "Term            C/F          F/R            nLevels\n",
      "intercept       factor       fixed                1\n",
      "\n",
      "MCMC Information:\n",
      "\n",
      "methods                                      BayesC\n",
      "chain_length                                  50000\n",
      "burnin                                         1000\n",
      "estimatePi                                     true\n",
      "starting_value                                false\n",
      "printout_frequency                            10000\n",
      "output_samples_frequency                          0\n",
      "constraint                                    false\n",
      "missing_phenotypes                            false\n",
      "update_priors_frequency                           0\n",
      "\n",
      "Hyper-parameters Information: \n",
      "\n",
      "residual variances:           \n",
      "  0.53   -0.225\n",
      " -0.225   0.572\n",
      "genetic variances (genomic):  \n",
      "  0.0  -0.0\n",
      " -0.0   0.0\n",
      "marker effect variances:      \n",
      "  0.0  -0.0\n",
      " -0.0   0.0\n",
      "Π:\n",
      "combinations          probability\n",
      "[0.0, 0.0]                   0.25\n",
      "[1.0, 0.0]                   0.25\n",
      "[1.0, 1.0]                   0.25\n",
      "[0.0, 1.0]                   0.25\n",
      "\n",
      "Degree of freedom for hyper-parameters:\n",
      "\n",
      "residual variances:                           4.000\n",
      "iid random effect variances:                  4.000\n",
      "marker effect variances:                      4.000\n",
      "\n",
      "\n",
      "\n"
     ]
    },
    {
     "name": "stderr",
     "output_type": "stream",
     "text": [
      "\u001b[32mrunning MCMC for RR-BLUP...100%|████████████████████████| Time: 0:01:33\u001b[39m\n",
      "\u001b[32mrunning MCMC for BayesC... 20%|█████                    |  ETA: 0:03:29\u001b[39m"
     ]
    },
    {
     "name": "stdout",
     "output_type": "stream",
     "text": [
      "\n",
      "Posterior means at iteration: 10000\n",
      "Residual covariance matrix: \n",
      "[0.541886 0.158186; 0.158186 0.619923]\n",
      "Marker effects covariance matrix: \n",
      "[0.000822 -0.00064; -0.00064 0.000679]\n",
      "π: \n",
      "Dict([0.0, 0.0]=>0.13648,[1.0, 0.0]=>0.269695,[1.0, 1.0]=>0.314665,[0.0, 1.0]=>0.27916)\n",
      "\n"
     ]
    },
    {
     "name": "stderr",
     "output_type": "stream",
     "text": [
      "\u001b[32mrunning MCMC for BayesC... 40%|██████████               |  ETA: 0:02:45\u001b[39m"
     ]
    },
    {
     "name": "stdout",
     "output_type": "stream",
     "text": [
      "\n",
      "Posterior means at iteration: 20000\n",
      "Residual covariance matrix: \n",
      "[0.540875 0.158458; 0.158458 0.619724]\n",
      "Marker effects covariance matrix: \n",
      "[0.000818 -0.000622; -0.000622 0.000663]\n",
      "π: \n",
      "Dict([0.0, 0.0]=>0.136403,[1.0, 0.0]=>0.254287,[1.0, 1.0]=>0.337631,[0.0, 1.0]=>0.271679)\n",
      "\n"
     ]
    },
    {
     "name": "stderr",
     "output_type": "stream",
     "text": [
      "\u001b[32mrunning MCMC for BayesC... 60%|███████████████          |  ETA: 0:01:51\u001b[39m"
     ]
    },
    {
     "name": "stdout",
     "output_type": "stream",
     "text": [
      "\n",
      "Posterior means at iteration: 30000\n",
      "Residual covariance matrix: \n",
      "[0.545542 0.158645; 0.158645 0.622605]\n",
      "Marker effects covariance matrix: \n",
      "[0.000829 -0.000611; -0.000611 0.000639]\n",
      "π: \n",
      "Dict([0.0, 0.0]=>0.14143,[1.0, 0.0]=>0.230303,[1.0, 1.0]=>0.339106,[0.0, 1.0]=>0.289161)\n",
      "\n"
     ]
    },
    {
     "name": "stderr",
     "output_type": "stream",
     "text": [
      "\u001b[32mrunning MCMC for BayesC... 80%|████████████████████     |  ETA: 0:00:56\u001b[39m"
     ]
    },
    {
     "name": "stdout",
     "output_type": "stream",
     "text": [
      "\n",
      "Posterior means at iteration: 40000\n",
      "Residual covariance matrix: \n",
      "[0.545236 0.159028; 0.159028 0.620964]\n",
      "Marker effects covariance matrix: \n",
      "[0.000827 -0.000609; -0.000609 0.000646]\n",
      "π: \n",
      "Dict([0.0, 0.0]=>0.141533,[1.0, 0.0]=>0.231093,[1.0, 1.0]=>0.341921,[0.0, 1.0]=>0.285454)\n",
      "\n"
     ]
    },
    {
     "name": "stderr",
     "output_type": "stream",
     "text": [
      "\u001b[32mrunning MCMC for BayesC...100%|█████████████████████████|  ETA: 0:00:00\u001b[39m"
     ]
    },
    {
     "name": "stdout",
     "output_type": "stream",
     "text": [
      "\n",
      "Posterior means at iteration: 50000\n",
      "Residual covariance matrix: \n",
      "[0.543696 0.157922; 0.157922 0.621367]\n",
      "Marker effects covariance matrix: \n",
      "[0.000855 -0.0006; -0.0006 0.00064]\n",
      "π: \n",
      "Dict([0.0, 0.0]=>0.143485,[1.0, 0.0]=>0.225375,[1.0, 1.0]=>0.337142,[0.0, 1.0]=>0.293998)\n",
      "\n"
     ]
    },
    {
     "name": "stderr",
     "output_type": "stream",
     "text": [
      "\u001b[32mrunning MCMC for BayesC...100%|█████████████████████████| Time: 0:04:40\u001b[39m\n"
     ]
    },
    {
     "name": "stdout",
     "output_type": "stream",
     "text": [
      "\n",
      " Iteration: 10\n",
      "\n",
      "1279 markers on 300 individuals were added.\n",
      "\u001b[31mPhenotyped individuals are not a subset of either\u001b[39m\n",
      "\u001b[31mgenotyped individuals (complete genomic data,non-single-step) or\u001b[39m\n",
      "\u001b[31mindividuals in pedigree (incomplete genomic data, single-step).\u001b[39m\n",
      "\u001b[31mOnly individuals with both information are used in the analysis.\u001b[39m\n",
      "\u001b[32mPi (Π) is not provided.\u001b[39m\n",
      "\u001b[32mPi (Π) is generated assuming all markers have effects on all traits.\u001b[39m\n",
      "\n",
      "\n",
      "\n",
      "A Linear Mixed Model was build using model equations:\n",
      "\n",
      "y1 = intercept\n",
      "y2 = intercept\n",
      "\n",
      "Model Information:\n",
      "\n",
      "Term            C/F          F/R            nLevels\n",
      "intercept       factor       fixed                1\n",
      "\n",
      "MCMC Information:\n",
      "\n",
      "methods                                      BayesL\n",
      "chain_length                                  50000\n",
      "burnin                                         1000\n",
      "estimatePi                                    false\n",
      "starting_value                                false\n",
      "printout_frequency                            10000\n",
      "output_samples_frequency                          0\n",
      "constraint                                    false\n",
      "missing_phenotypes                            false\n",
      "update_priors_frequency                           0\n",
      "\n",
      "Hyper-parameters Information: \n",
      "\n",
      "residual variances:           \n",
      "  0.53   -0.225\n",
      " -0.225   0.572\n",
      "genetic variances (genomic):  \n",
      "  0.0  -0.0\n",
      " -0.0   0.0\n",
      "marker effect variances:      \n",
      "  0.0  -0.0\n",
      " -0.0   0.0\n",
      "Π:\n",
      "combinations          probability\n",
      "[0.0, 0.0]                    0.0\n",
      "[1.0, 0.0]                    0.0\n",
      "[1.0, 1.0]                    1.0\n",
      "[0.0, 1.0]                    0.0\n",
      "\n",
      "Degree of freedom for hyper-parameters:\n",
      "\n",
      "residual variances:                           4.000\n",
      "iid random effect variances:                  4.000\n",
      "marker effect variances:                      4.000\n",
      "\n",
      "\n",
      "\n"
     ]
    },
    {
     "name": "stderr",
     "output_type": "stream",
     "text": [
      "\u001b[32mrunning MCMC for BayesL... 20%|█████                    |  ETA: 0:01:30\u001b[39m"
     ]
    },
    {
     "name": "stdout",
     "output_type": "stream",
     "text": [
      "\n",
      "Posterior means at iteration: 10000\n",
      "Residual covariance matrix: \n",
      "[0.505011 0.160163; 0.160163 0.733027]\n",
      "Marker effects covariance matrix: \n",
      "[4.6e-5 -2.0e-5; -2.0e-5 2.7e-5]\n",
      "\n"
     ]
    },
    {
     "name": "stderr",
     "output_type": "stream",
     "text": [
      "\u001b[32mrunning MCMC for BayesL... 40%|██████████               |  ETA: 0:01:08\u001b[39m"
     ]
    },
    {
     "name": "stdout",
     "output_type": "stream",
     "text": [
      "\n",
      "Posterior means at iteration: 20000\n",
      "Residual covariance matrix: \n",
      "[0.508769 0.164013; 0.164013 0.729061]\n",
      "Marker effects covariance matrix: \n",
      "[4.6e-5 -2.0e-5; -2.0e-5 2.8e-5]\n",
      "\n"
     ]
    },
    {
     "name": "stderr",
     "output_type": "stream",
     "text": [
      "\u001b[32mrunning MCMC for BayesL... 60%|███████████████          |  ETA: 0:00:45\u001b[39m"
     ]
    },
    {
     "name": "stdout",
     "output_type": "stream",
     "text": [
      "\n",
      "Posterior means at iteration: 30000\n",
      "Residual covariance matrix: \n",
      "[0.508374 0.165395; 0.165395 0.732782]\n",
      "Marker effects covariance matrix: \n",
      "[4.6e-5 -2.0e-5; -2.0e-5 2.7e-5]\n",
      "\n"
     ]
    },
    {
     "name": "stderr",
     "output_type": "stream",
     "text": [
      "\u001b[32mrunning MCMC for BayesL... 80%|████████████████████     |  ETA: 0:00:23\u001b[39m"
     ]
    },
    {
     "name": "stdout",
     "output_type": "stream",
     "text": [
      "\n",
      "Posterior means at iteration: 40000\n",
      "Residual covariance matrix: \n",
      "[0.508785 0.164672; 0.164672 0.73116]\n",
      "Marker effects covariance matrix: \n",
      "[4.5e-5 -2.0e-5; -2.0e-5 2.7e-5]\n",
      "\n"
     ]
    },
    {
     "name": "stderr",
     "output_type": "stream",
     "text": [
      "\u001b[32mrunning MCMC for BayesL...100%|█████████████████████████|  ETA: 0:00:00\u001b[39m"
     ]
    },
    {
     "name": "stdout",
     "output_type": "stream",
     "text": [
      "\n",
      "Posterior means at iteration: 50000\n",
      "Residual covariance matrix: \n",
      "[0.509079 0.164196; 0.164196 0.733436]\n",
      "Marker effects covariance matrix: \n",
      "[4.5e-5 -2.0e-5; -2.0e-5 2.7e-5]\n",
      "\n"
     ]
    },
    {
     "name": "stderr",
     "output_type": "stream",
     "text": [
      "\u001b[32mrunning MCMC for BayesL...100%|█████████████████████████| Time: 0:01:55\u001b[39m\n"
     ]
    },
    {
     "name": "stdout",
     "output_type": "stream",
     "text": [
      "1279 markers on 300 individuals were added.\n",
      "\u001b[31mPhenotyped individuals are not a subset of either\u001b[39m\n",
      "\u001b[31mgenotyped individuals (complete genomic data,non-single-step) or\u001b[39m\n",
      "\u001b[31mindividuals in pedigree (incomplete genomic data, single-step).\u001b[39m\n",
      "\u001b[31mOnly individuals with both information are used in the analysis.\u001b[39m\n",
      "\u001b[32mPi (Π) is not provided.\u001b[39m\n",
      "\u001b[32mPi (Π) is generated assuming all markers have effects on all traits.\u001b[39m\n",
      "\n",
      "\n",
      "\n",
      "A Linear Mixed Model was build using model equations:\n",
      "\n",
      "y1 = intercept\n",
      "y2 = intercept\n",
      "\n",
      "Model Information:\n",
      "\n",
      "Term            C/F          F/R            nLevels\n",
      "intercept       factor       fixed                1\n",
      "\n",
      "MCMC Information:\n",
      "\n",
      "methods                                     RR-BLUP\n",
      "chain_length                                  50000\n",
      "burnin                                         1000\n",
      "estimatePi                                    false\n",
      "starting_value                                false\n",
      "printout_frequency                            10000\n",
      "output_samples_frequency                          0\n",
      "constraint                                    false\n",
      "missing_phenotypes                            false\n",
      "update_priors_frequency                           0\n",
      "\n",
      "Hyper-parameters Information: \n",
      "\n",
      "residual variances:           \n",
      "  0.53   -0.225\n",
      " -0.225   0.572\n",
      "genetic variances (genomic):  \n",
      "  0.0  -0.0\n",
      " -0.0   0.0\n",
      "marker effect variances:      \n",
      "  0.0  -0.0\n",
      " -0.0   0.0\n",
      "Π:\n",
      "combinations          probability\n",
      "[0.0, 0.0]                    0.0\n",
      "[1.0, 0.0]                    0.0\n",
      "[1.0, 1.0]                    1.0\n",
      "[0.0, 1.0]                    0.0\n",
      "\n",
      "Degree of freedom for hyper-parameters:\n",
      "\n",
      "residual variances:                           4.000\n",
      "iid random effect variances:                  4.000\n",
      "marker effect variances:                      4.000\n",
      "\n",
      "\n",
      "\n"
     ]
    },
    {
     "name": "stderr",
     "output_type": "stream",
     "text": [
      "\u001b[32mrunning MCMC for RR-BLUP... 20%|█████                   |  ETA: 0:01:18\u001b[39m"
     ]
    },
    {
     "name": "stdout",
     "output_type": "stream",
     "text": [
      "\n",
      "Posterior means at iteration: 10000\n",
      "Residual covariance matrix: \n",
      "[0.512604 0.16177; 0.16177 0.732868]\n",
      "Marker effects covariance matrix: \n",
      "[0.000535 -0.000234; -0.000234 0.00032]\n",
      "\n"
     ]
    },
    {
     "name": "stderr",
     "output_type": "stream",
     "text": [
      "\u001b[32mrunning MCMC for RR-BLUP... 40%|██████████              |  ETA: 0:00:58\u001b[39m"
     ]
    },
    {
     "name": "stdout",
     "output_type": "stream",
     "text": [
      "\n",
      "Posterior means at iteration: 20000\n",
      "Residual covariance matrix: \n",
      "[0.515668 0.162499; 0.162499 0.735991]\n",
      "Marker effects covariance matrix: \n",
      "[0.000528 -0.000235; -0.000235 0.000319]\n",
      "\n"
     ]
    },
    {
     "name": "stderr",
     "output_type": "stream",
     "text": [
      "\u001b[32mrunning MCMC for RR-BLUP... 60%|██████████████          |  ETA: 0:00:38\u001b[39m"
     ]
    },
    {
     "name": "stdout",
     "output_type": "stream",
     "text": [
      "\n",
      "Posterior means at iteration: 30000\n",
      "Residual covariance matrix: \n",
      "[0.51295 0.162512; 0.162512 0.7384]\n",
      "Marker effects covariance matrix: \n",
      "[0.000535 -0.000234; -0.000234 0.000313]\n",
      "\n"
     ]
    },
    {
     "name": "stderr",
     "output_type": "stream",
     "text": [
      "\u001b[32mrunning MCMC for RR-BLUP... 80%|███████████████████     |  ETA: 0:00:19\u001b[39m"
     ]
    },
    {
     "name": "stdout",
     "output_type": "stream",
     "text": [
      "\n",
      "Posterior means at iteration: 40000\n",
      "Residual covariance matrix: \n",
      "[0.512431 0.162565; 0.162565 0.738742]\n",
      "Marker effects covariance matrix: \n",
      "[0.000536 -0.000234; -0.000234 0.000313]\n",
      "\n"
     ]
    },
    {
     "name": "stderr",
     "output_type": "stream",
     "text": [
      "\u001b[32mrunning MCMC for RR-BLUP...100%|████████████████████████|  ETA: 0:00:00\u001b[39m"
     ]
    },
    {
     "name": "stdout",
     "output_type": "stream",
     "text": [
      "\n",
      "Posterior means at iteration: 50000\n",
      "Residual covariance matrix: \n",
      "[0.512761 0.164053; 0.164053 0.737499]\n",
      "Marker effects covariance matrix: \n",
      "[0.000538 -0.000238; -0.000238 0.000317]\n",
      "\n"
     ]
    },
    {
     "name": "stderr",
     "output_type": "stream",
     "text": [
      "\u001b[32mrunning MCMC for RR-BLUP...100%|████████████████████████| Time: 0:01:35\u001b[39m\n"
     ]
    },
    {
     "name": "stdout",
     "output_type": "stream",
     "text": [
      "1279 markers on 300 individuals were added.\n",
      "\u001b[31mPhenotyped individuals are not a subset of either\u001b[39m\n",
      "\u001b[31mgenotyped individuals (complete genomic data,non-single-step) or\u001b[39m\n",
      "\u001b[31mindividuals in pedigree (incomplete genomic data, single-step).\u001b[39m\n",
      "\u001b[31mOnly individuals with both information are used in the analysis.\u001b[39m\n",
      "\n",
      "\n",
      "\n",
      "A Linear Mixed Model was build using model equations:\n",
      "\n",
      "y1 = intercept\n",
      "y2 = intercept\n",
      "\n",
      "Model Information:\n",
      "\n",
      "Term            C/F          F/R            nLevels\n",
      "intercept       factor       fixed                1\n",
      "\n",
      "MCMC Information:\n",
      "\n",
      "methods                                      BayesC\n",
      "chain_length                                  50000\n",
      "burnin                                         1000\n",
      "estimatePi                                     true\n",
      "starting_value                                false\n",
      "printout_frequency                            10000\n",
      "output_samples_frequency                          0\n",
      "constraint                                    false\n",
      "missing_phenotypes                            false\n",
      "update_priors_frequency                           0\n",
      "\n",
      "Hyper-parameters Information: \n",
      "\n",
      "residual variances:           \n",
      "  0.53   -0.225\n",
      " -0.225   0.572\n",
      "genetic variances (genomic):  \n",
      "  0.0  -0.0\n",
      " -0.0   0.0\n",
      "marker effect variances:      \n",
      "  0.0  -0.0\n",
      " -0.0   0.0\n",
      "Π:\n",
      "combinations          probability\n",
      "[0.0, 0.0]                   0.25\n",
      "[1.0, 0.0]                   0.25\n",
      "[1.0, 1.0]                   0.25\n",
      "[0.0, 1.0]                   0.25\n",
      "\n",
      "Degree of freedom for hyper-parameters:\n",
      "\n",
      "residual variances:                           4.000\n",
      "iid random effect variances:                  4.000\n",
      "marker effect variances:                      4.000\n",
      "\n",
      "\n",
      "\n"
     ]
    },
    {
     "name": "stderr",
     "output_type": "stream",
     "text": [
      "\u001b[32mrunning MCMC for BayesC... 20%|█████                    |  ETA: 0:03:42\u001b[39m"
     ]
    },
    {
     "name": "stdout",
     "output_type": "stream",
     "text": [
      "\n",
      "Posterior means at iteration: 10000\n",
      "Residual covariance matrix: \n",
      "[0.496615 0.150752; 0.150752 0.716016]\n",
      "Marker effects covariance matrix: \n",
      "[0.000882 -0.000724; -0.000724 0.000818]\n",
      "π: \n",
      "Dict([0.0, 0.0]=>0.163209,[1.0, 0.0]=>0.333354,[1.0, 1.0]=>0.351063,[0.0, 1.0]=>0.152375)\n",
      "\n"
     ]
    },
    {
     "name": "stderr",
     "output_type": "stream",
     "text": [
      "\u001b[32mrunning MCMC for BayesC... 40%|██████████               |  ETA: 0:02:47\u001b[39m"
     ]
    },
    {
     "name": "stdout",
     "output_type": "stream",
     "text": [
      "\n",
      "Posterior means at iteration: 20000\n",
      "Residual covariance matrix: \n",
      "[0.499624 0.15052; 0.15052 0.717292]\n",
      "Marker effects covariance matrix: \n",
      "[0.000917 -0.0007; -0.0007 0.000764]\n",
      "π: \n",
      "Dict([0.0, 0.0]=>0.177678,[1.0, 0.0]=>0.30201,[1.0, 1.0]=>0.355718,[0.0, 1.0]=>0.164594)\n",
      "\n"
     ]
    },
    {
     "name": "stderr",
     "output_type": "stream",
     "text": [
      "\u001b[32mrunning MCMC for BayesC... 60%|███████████████          |  ETA: 0:01:51\u001b[39m"
     ]
    },
    {
     "name": "stdout",
     "output_type": "stream",
     "text": [
      "\n",
      "Posterior means at iteration: 30000\n",
      "Residual covariance matrix: \n",
      "[0.496768 0.149153; 0.149153 0.719528]\n",
      "Marker effects covariance matrix: \n",
      "[0.00098 -0.000681; -0.000681 0.000689]\n",
      "π: \n",
      "Dict([0.0, 0.0]=>0.159985,[1.0, 0.0]=>0.281296,[1.0, 1.0]=>0.352531,[0.0, 1.0]=>0.206188)\n",
      "\n"
     ]
    },
    {
     "name": "stderr",
     "output_type": "stream",
     "text": [
      "\u001b[32mrunning MCMC for BayesC... 80%|████████████████████     |  ETA: 0:00:56\u001b[39m"
     ]
    },
    {
     "name": "stdout",
     "output_type": "stream",
     "text": [
      "\n",
      "Posterior means at iteration: 40000\n",
      "Residual covariance matrix: \n",
      "[0.502584 0.149186; 0.149186 0.721801]\n",
      "Marker effects covariance matrix: \n",
      "[0.000932 -0.00065; -0.00065 0.000656]\n",
      "π: \n",
      "Dict([0.0, 0.0]=>0.147522,[1.0, 0.0]=>0.283779,[1.0, 1.0]=>0.360544,[0.0, 1.0]=>0.208155)\n",
      "\n"
     ]
    },
    {
     "name": "stderr",
     "output_type": "stream",
     "text": [
      "\u001b[32mrunning MCMC for BayesC...100%|█████████████████████████|  ETA: 0:00:00\u001b[39m"
     ]
    },
    {
     "name": "stdout",
     "output_type": "stream",
     "text": [
      "\n",
      "Posterior means at iteration: 50000\n",
      "Residual covariance matrix: \n",
      "[0.503707 0.148926; 0.148926 0.719171]\n",
      "Marker effects covariance matrix: \n",
      "[0.000967 -0.000674; -0.000674 0.000667]\n",
      "π: \n",
      "Dict([0.0, 0.0]=>0.158582,[1.0, 0.0]=>0.271684,[1.0, 1.0]=>0.350166,[0.0, 1.0]=>0.219567)\n",
      "\n"
     ]
    },
    {
     "name": "stderr",
     "output_type": "stream",
     "text": [
      "\u001b[32mrunning MCMC for BayesC...100%|█████████████████████████| Time: 0:04:38\u001b[39m\n"
     ]
    },
    {
     "ename": "LoadError",
     "evalue": "syntax: unexpected \"end\"",
     "output_type": "error",
     "traceback": [
      "syntax: unexpected \"end\"",
      ""
     ]
    }
   ],
   "source": [
    "for i=1:10\n",
    "    println(\"\\n Iteration: \",i,\"\\n\")\n",
    "    trnSet,valSet = getTrnValSets(N,trnSize)\n",
    "    \n",
    "    ### BayesL ###\n",
    "    model = build_model(model_equation,R)\n",
    "    add_genotypes(model,M[trnSet,:],G,header=headerMarkers,rowID=id[trnSet],G_is_marker_variance=true);\n",
    "    out=runMCMC(model,phenotypes,methods=\"BayesL\",\n",
    "            chain_length = 50_000,\n",
    "            burnin = 1_000,\n",
    "            estimatePi = false,\n",
    "            printout_frequency = 10_000,\n",
    "            output_samples_frequency = 0\n",
    "    )\n",
    "    ebv1 = M[valSet,:]*out[\"Posterior mean of marker effects\"][1][:,2] \n",
    "    ebv2 = M[valSet,:]*out[\"Posterior mean of marker effects\"][2][:,2] \n",
    "\n",
    "    y1 = convert(Array,phenotypes[valSet,2])\n",
    "    y2 = convert(Array,phenotypes[valSet,3])\n",
    "    corL1 = cor(y1,ebv1)\n",
    "    corL2 = cor(y2,ebv2)\n",
    "    \n",
    "    ### BayesC0 ###\n",
    "    model = build_model(model_equation,R)\n",
    "    add_genotypes(model,M[trnSet,:],G,header=headerMarkers,rowID=id[trnSet],G_is_marker_variance=true);\n",
    "    out=runMCMC(model,phenotypes,methods=\"RR-BLUP\",\n",
    "            chain_length = 50_000,\n",
    "            burnin = 1_000,\n",
    "            estimatePi = false,\n",
    "            printout_frequency = 10_000,\n",
    "            output_samples_frequency = 0\n",
    "    )\n",
    "    ebv1 = M[valSet,:]*out[\"Posterior mean of marker effects\"][1][:,2]\n",
    "    ebv2 = M[valSet,:]*out[\"Posterior mean of marker effects\"][2][:,2]\n",
    "    y1 = convert(Array,phenotypes[valSet,2])\n",
    "    y2 = convert(Array,phenotypes[valSet,3])\n",
    "    corC01 = cor(y1,ebv1)\n",
    "    corC02 = cor(y2,ebv2)\n",
    "    \n",
    "    ### BayesC ###\n",
    "    π1 = 0.5\n",
    "    Pi = Dict([1.0; 1.0]=>(1-π1)^2,[1.0; 0.0]=>(1-π1)*π1,[0.0; 1.0]=>(1-π1)*π1,[0.0; 0.0]=>π1*π1)\n",
    "    model = build_model(model_equation,R)\n",
    "    add_genotypes(model,M[trnSet,:],G,header=headerMarkers,rowID=id[trnSet],G_is_marker_variance=true);\n",
    "    out=runMCMC(model,phenotypes,methods=\"BayesC\",\n",
    "            chain_length = 50_000,\n",
    "            burnin = 1_000,\n",
    "            Pi = Pi,\n",
    "            estimatePi = true,\n",
    "            printout_frequency = 10_000,\n",
    "            output_samples_frequency = 0\n",
    "    )\n",
    "    ebv1 = M[valSet,:]*out[\"Posterior mean of marker effects\"][1][:,2]\n",
    "    ebv2 = M[valSet,:]*out[\"Posterior mean of marker effects\"][2][:,2]\n",
    "    y1 = convert(Array,phenotypes[valSet,2])\n",
    "    y2 = convert(Array,phenotypes[valSet,3])\n",
    "    corC1 = cor(y1,ebv1)\n",
    "    corC2 = cor(y2,ebv2)\n",
    "\n",
    "    @printf(resFile,\"%4.2f %4.2f %4.2f %4.2f %4.2f %4.2f\\n\",corL1,corL2,corC01, corC02, corC1, corC2)\n",
    "    flush(resFile) #print immediately\n",
    "    end\n",
    "end\n",
    "close(resFile)"
   ]
  },
  {
   "cell_type": "code",
   "execution_count": 27,
   "metadata": {},
   "outputs": [
    {
     "data": {
      "text/plain": [
       "10×6 Array{Union{Missing, Float64},2}:\n",
       " 0.51  0.46  0.5   0.46  0.5   0.47\n",
       " 0.46  0.43  0.46  0.44  0.47  0.44\n",
       " 0.49  0.48  0.5   0.48  0.49  0.49\n",
       " 0.5   0.5   0.5   0.5   0.5   0.5 \n",
       " 0.44  0.52  0.44  0.52  0.44  0.52\n",
       " 0.46  0.45  0.46  0.45  0.46  0.46\n",
       " 0.49  0.42  0.49  0.42  0.49  0.42\n",
       " 0.49  0.35  0.49  0.35  0.49  0.35\n",
       " 0.48  0.47  0.48  0.47  0.49  0.47\n",
       " 0.49  0.45  0.49  0.45  0.49  0.46"
      ]
     },
     "execution_count": 27,
     "metadata": {},
     "output_type": "execute_result"
    }
   ],
   "source": [
    "resCorr = Matrix(readtable(\"wheatCorrelations\",separator=' ',header=false))"
   ]
  },
  {
   "cell_type": "code",
   "execution_count": 28,
   "metadata": {},
   "outputs": [
    {
     "data": {
      "text/plain": [
       "0.52"
      ]
     },
     "execution_count": 28,
     "metadata": {},
     "output_type": "execute_result"
    }
   ],
   "source": [
    "minVal = minimum(resCorr)\n",
    "maxVal = maximum(resCorr)"
   ]
  },
  {
   "cell_type": "code",
   "execution_count": 29,
   "metadata": {},
   "outputs": [
    {
     "data": {
      "text/plain": [
       "1×6 Array{Union{Missing, Float64},2}:\n",
       " 0.481  0.453  0.481  0.454  0.482  0.458"
      ]
     },
     "execution_count": 29,
     "metadata": {},
     "output_type": "execute_result"
    }
   ],
   "source": [
    "mean(resCorr,dims=1)"
   ]
  },
  {
   "cell_type": "code",
   "execution_count": 30,
   "metadata": {},
   "outputs": [],
   "source": [
    "using Plots"
   ]
  },
  {
   "cell_type": "code",
   "execution_count": 31,
   "metadata": {
    "scrolled": false
   },
   "outputs": [
    {
     "data": {
      "image/svg+xml": [
       "<?xml version=\"1.0\" encoding=\"utf-8\"?>\n",
       "<svg xmlns=\"http://www.w3.org/2000/svg\" xmlns:xlink=\"http://www.w3.org/1999/xlink\" width=\"600\" height=\"400\" viewBox=\"0 0 2400 1600\">\n",
       "<defs>\n",
       "  <clipPath id=\"clip8400\">\n",
       "    <rect x=\"0\" y=\"0\" width=\"2000\" height=\"2000\"/>\n",
       "  </clipPath>\n",
       "</defs>\n",
       "<defs>\n",
       "  <clipPath id=\"clip8401\">\n",
       "    <rect x=\"0\" y=\"0\" width=\"2400\" height=\"1600\"/>\n",
       "  </clipPath>\n",
       "</defs>\n",
       "<polygon clip-path=\"url(#clip8401)\" points=\"\n",
       "0,1600 2400,1600 2400,0 0,0 \n",
       "  \" fill=\"#ffffff\" fill-rule=\"evenodd\" fill-opacity=\"1\"/>\n",
       "<defs>\n",
       "  <clipPath id=\"clip8402\">\n",
       "    <rect x=\"480\" y=\"0\" width=\"1681\" height=\"1600\"/>\n",
       "  </clipPath>\n",
       "</defs>\n",
       "<polygon clip-path=\"url(#clip8401)\" points=\"\n",
       "251.149,1440.48 2321.26,1440.48 2321.26,125.984 251.149,125.984 \n",
       "  \" fill=\"#ffffff\" fill-rule=\"evenodd\" fill-opacity=\"1\"/>\n",
       "<defs>\n",
       "  <clipPath id=\"clip8403\">\n",
       "    <rect x=\"251\" y=\"125\" width=\"2071\" height=\"1315\"/>\n",
       "  </clipPath>\n",
       "</defs>\n",
       "<polyline clip-path=\"url(#clip8403)\" style=\"stroke:#000000; stroke-width:2; stroke-opacity:0.1; fill:none\" points=\"\n",
       "  290.226,1440.48 290.226,125.984 \n",
       "  \"/>\n",
       "<polyline clip-path=\"url(#clip8403)\" style=\"stroke:#000000; stroke-width:2; stroke-opacity:0.1; fill:none\" points=\"\n",
       "  877.825,1440.48 877.825,125.984 \n",
       "  \"/>\n",
       "<polyline clip-path=\"url(#clip8403)\" style=\"stroke:#000000; stroke-width:2; stroke-opacity:0.1; fill:none\" points=\"\n",
       "  1465.42,1440.48 1465.42,125.984 \n",
       "  \"/>\n",
       "<polyline clip-path=\"url(#clip8403)\" style=\"stroke:#000000; stroke-width:2; stroke-opacity:0.1; fill:none\" points=\"\n",
       "  2053.02,1440.48 2053.02,125.984 \n",
       "  \"/>\n",
       "<polyline clip-path=\"url(#clip8403)\" style=\"stroke:#000000; stroke-width:2; stroke-opacity:0.1; fill:none\" points=\"\n",
       "  251.149,1415.67 2321.26,1415.67 \n",
       "  \"/>\n",
       "<polyline clip-path=\"url(#clip8403)\" style=\"stroke:#000000; stroke-width:2; stroke-opacity:0.1; fill:none\" points=\"\n",
       "  251.149,1042.55 2321.26,1042.55 \n",
       "  \"/>\n",
       "<polyline clip-path=\"url(#clip8403)\" style=\"stroke:#000000; stroke-width:2; stroke-opacity:0.1; fill:none\" points=\"\n",
       "  251.149,669.431 2321.26,669.431 \n",
       "  \"/>\n",
       "<polyline clip-path=\"url(#clip8403)\" style=\"stroke:#000000; stroke-width:2; stroke-opacity:0.1; fill:none\" points=\"\n",
       "  251.149,296.312 2321.26,296.312 \n",
       "  \"/>\n",
       "<polyline clip-path=\"url(#clip8401)\" style=\"stroke:#000000; stroke-width:4; stroke-opacity:1; fill:none\" points=\"\n",
       "  251.149,1440.48 2321.26,1440.48 \n",
       "  \"/>\n",
       "<polyline clip-path=\"url(#clip8401)\" style=\"stroke:#000000; stroke-width:4; stroke-opacity:1; fill:none\" points=\"\n",
       "  251.149,1440.48 251.149,125.984 \n",
       "  \"/>\n",
       "<polyline clip-path=\"url(#clip8401)\" style=\"stroke:#000000; stroke-width:4; stroke-opacity:1; fill:none\" points=\"\n",
       "  290.226,1440.48 290.226,1420.77 \n",
       "  \"/>\n",
       "<polyline clip-path=\"url(#clip8401)\" style=\"stroke:#000000; stroke-width:4; stroke-opacity:1; fill:none\" points=\"\n",
       "  877.825,1440.48 877.825,1420.77 \n",
       "  \"/>\n",
       "<polyline clip-path=\"url(#clip8401)\" style=\"stroke:#000000; stroke-width:4; stroke-opacity:1; fill:none\" points=\"\n",
       "  1465.42,1440.48 1465.42,1420.77 \n",
       "  \"/>\n",
       "<polyline clip-path=\"url(#clip8401)\" style=\"stroke:#000000; stroke-width:4; stroke-opacity:1; fill:none\" points=\"\n",
       "  2053.02,1440.48 2053.02,1420.77 \n",
       "  \"/>\n",
       "<polyline clip-path=\"url(#clip8401)\" style=\"stroke:#000000; stroke-width:4; stroke-opacity:1; fill:none\" points=\"\n",
       "  251.149,1415.67 282.2,1415.67 \n",
       "  \"/>\n",
       "<polyline clip-path=\"url(#clip8401)\" style=\"stroke:#000000; stroke-width:4; stroke-opacity:1; fill:none\" points=\"\n",
       "  251.149,1042.55 282.2,1042.55 \n",
       "  \"/>\n",
       "<polyline clip-path=\"url(#clip8401)\" style=\"stroke:#000000; stroke-width:4; stroke-opacity:1; fill:none\" points=\"\n",
       "  251.149,669.431 282.2,669.431 \n",
       "  \"/>\n",
       "<polyline clip-path=\"url(#clip8401)\" style=\"stroke:#000000; stroke-width:4; stroke-opacity:1; fill:none\" points=\"\n",
       "  251.149,296.312 282.2,296.312 \n",
       "  \"/>\n",
       "<g clip-path=\"url(#clip8401)\">\n",
       "<text style=\"fill:#000000; fill-opacity:1; font-family:Arial,Helvetica Neue,Helvetica,sans-serif; font-size:48px; text-anchor:middle;\" transform=\"rotate(0, 290.226, 1494.48)\" x=\"290.226\" y=\"1494.48\">0.35</text>\n",
       "</g>\n",
       "<g clip-path=\"url(#clip8401)\">\n",
       "<text style=\"fill:#000000; fill-opacity:1; font-family:Arial,Helvetica Neue,Helvetica,sans-serif; font-size:48px; text-anchor:middle;\" transform=\"rotate(0, 877.825, 1494.48)\" x=\"877.825\" y=\"1494.48\">0.40</text>\n",
       "</g>\n",
       "<g clip-path=\"url(#clip8401)\">\n",
       "<text style=\"fill:#000000; fill-opacity:1; font-family:Arial,Helvetica Neue,Helvetica,sans-serif; font-size:48px; text-anchor:middle;\" transform=\"rotate(0, 1465.42, 1494.48)\" x=\"1465.42\" y=\"1494.48\">0.45</text>\n",
       "</g>\n",
       "<g clip-path=\"url(#clip8401)\">\n",
       "<text style=\"fill:#000000; fill-opacity:1; font-family:Arial,Helvetica Neue,Helvetica,sans-serif; font-size:48px; text-anchor:middle;\" transform=\"rotate(0, 2053.02, 1494.48)\" x=\"2053.02\" y=\"1494.48\">0.50</text>\n",
       "</g>\n",
       "<g clip-path=\"url(#clip8401)\">\n",
       "<text style=\"fill:#000000; fill-opacity:1; font-family:Arial,Helvetica Neue,Helvetica,sans-serif; font-size:48px; text-anchor:end;\" transform=\"rotate(0, 227.149, 1433.17)\" x=\"227.149\" y=\"1433.17\">0.35</text>\n",
       "</g>\n",
       "<g clip-path=\"url(#clip8401)\">\n",
       "<text style=\"fill:#000000; fill-opacity:1; font-family:Arial,Helvetica Neue,Helvetica,sans-serif; font-size:48px; text-anchor:end;\" transform=\"rotate(0, 227.149, 1060.05)\" x=\"227.149\" y=\"1060.05\">0.40</text>\n",
       "</g>\n",
       "<g clip-path=\"url(#clip8401)\">\n",
       "<text style=\"fill:#000000; fill-opacity:1; font-family:Arial,Helvetica Neue,Helvetica,sans-serif; font-size:48px; text-anchor:end;\" transform=\"rotate(0, 227.149, 686.931)\" x=\"227.149\" y=\"686.931\">0.45</text>\n",
       "</g>\n",
       "<g clip-path=\"url(#clip8401)\">\n",
       "<text style=\"fill:#000000; fill-opacity:1; font-family:Arial,Helvetica Neue,Helvetica,sans-serif; font-size:48px; text-anchor:end;\" transform=\"rotate(0, 227.149, 313.812)\" x=\"227.149\" y=\"313.812\">0.50</text>\n",
       "</g>\n",
       "<g clip-path=\"url(#clip8401)\">\n",
       "<text style=\"fill:#000000; fill-opacity:1; font-family:Arial,Helvetica Neue,Helvetica,sans-serif; font-size:84px; text-anchor:middle;\" transform=\"rotate(0, 1286.2, 73.2)\" x=\"1286.2\" y=\"73.2\">y1</text>\n",
       "</g>\n",
       "<g clip-path=\"url(#clip8401)\">\n",
       "<text style=\"fill:#000000; fill-opacity:1; font-family:Arial,Helvetica Neue,Helvetica,sans-serif; font-size:66px; text-anchor:middle;\" transform=\"rotate(0, 1286.2, 1590.4)\" x=\"1286.2\" y=\"1590.4\">RR-BLUP</text>\n",
       "</g>\n",
       "<g clip-path=\"url(#clip8401)\">\n",
       "<text style=\"fill:#000000; fill-opacity:1; font-family:Arial,Helvetica Neue,Helvetica,sans-serif; font-size:66px; text-anchor:middle;\" transform=\"rotate(-90, 57.6, 783.233)\" x=\"57.6\" y=\"783.233\">BayesL</text>\n",
       "</g>\n",
       "<polyline clip-path=\"url(#clip8403)\" style=\"stroke:#009af9; stroke-width:4; stroke-opacity:1; fill:none\" points=\"\n",
       "  309.737,1403.28 490.139,1288.73 598.554,1219.88 690.217,1161.68 789.789,1098.45 881.585,1040.16 980.001,977.669 1094.02,905.265 1195.36,840.921 1284.21,784.497 \n",
       "  1381.09,722.98 1478.55,661.097 1586.3,592.677 1688.82,527.578 1795.42,459.889 1885.15,402.91 1994.7,333.345 2097.68,267.952 2262.67,163.187 \n",
       "  \"/>\n",
       "<circle clip-path=\"url(#clip8403)\" style=\"fill:#000000; stroke:none; fill-opacity:1\" cx=\"2053.02\" cy=\"221.688\" r=\"18\"/>\n",
       "<circle clip-path=\"url(#clip8403)\" style=\"fill:#e26f46; stroke:none; fill-opacity:1\" cx=\"2053.02\" cy=\"221.688\" r=\"14\"/>\n",
       "<circle clip-path=\"url(#clip8403)\" style=\"fill:#000000; stroke:none; fill-opacity:1\" cx=\"1582.94\" cy=\"594.807\" r=\"18\"/>\n",
       "<circle clip-path=\"url(#clip8403)\" style=\"fill:#e26f46; stroke:none; fill-opacity:1\" cx=\"1582.94\" cy=\"594.807\" r=\"14\"/>\n",
       "<circle clip-path=\"url(#clip8403)\" style=\"fill:#000000; stroke:none; fill-opacity:1\" cx=\"2053.02\" cy=\"370.936\" r=\"18\"/>\n",
       "<circle clip-path=\"url(#clip8403)\" style=\"fill:#e26f46; stroke:none; fill-opacity:1\" cx=\"2053.02\" cy=\"370.936\" r=\"14\"/>\n",
       "<circle clip-path=\"url(#clip8403)\" style=\"fill:#000000; stroke:none; fill-opacity:1\" cx=\"2053.02\" cy=\"296.312\" r=\"18\"/>\n",
       "<circle clip-path=\"url(#clip8403)\" style=\"fill:#e26f46; stroke:none; fill-opacity:1\" cx=\"2053.02\" cy=\"296.312\" r=\"14\"/>\n",
       "<circle clip-path=\"url(#clip8403)\" style=\"fill:#000000; stroke:none; fill-opacity:1\" cx=\"1347.9\" cy=\"744.055\" r=\"18\"/>\n",
       "<circle clip-path=\"url(#clip8403)\" style=\"fill:#e26f46; stroke:none; fill-opacity:1\" cx=\"1347.9\" cy=\"744.055\" r=\"14\"/>\n",
       "<circle clip-path=\"url(#clip8403)\" style=\"fill:#000000; stroke:none; fill-opacity:1\" cx=\"1582.94\" cy=\"594.807\" r=\"18\"/>\n",
       "<circle clip-path=\"url(#clip8403)\" style=\"fill:#e26f46; stroke:none; fill-opacity:1\" cx=\"1582.94\" cy=\"594.807\" r=\"14\"/>\n",
       "<circle clip-path=\"url(#clip8403)\" style=\"fill:#000000; stroke:none; fill-opacity:1\" cx=\"1935.5\" cy=\"370.936\" r=\"18\"/>\n",
       "<circle clip-path=\"url(#clip8403)\" style=\"fill:#e26f46; stroke:none; fill-opacity:1\" cx=\"1935.5\" cy=\"370.936\" r=\"14\"/>\n",
       "<circle clip-path=\"url(#clip8403)\" style=\"fill:#000000; stroke:none; fill-opacity:1\" cx=\"1935.5\" cy=\"370.936\" r=\"18\"/>\n",
       "<circle clip-path=\"url(#clip8403)\" style=\"fill:#e26f46; stroke:none; fill-opacity:1\" cx=\"1935.5\" cy=\"370.936\" r=\"14\"/>\n",
       "<circle clip-path=\"url(#clip8403)\" style=\"fill:#000000; stroke:none; fill-opacity:1\" cx=\"1817.98\" cy=\"445.559\" r=\"18\"/>\n",
       "<circle clip-path=\"url(#clip8403)\" style=\"fill:#e26f46; stroke:none; fill-opacity:1\" cx=\"1817.98\" cy=\"445.559\" r=\"14\"/>\n",
       "<circle clip-path=\"url(#clip8403)\" style=\"fill:#000000; stroke:none; fill-opacity:1\" cx=\"1935.5\" cy=\"370.936\" r=\"18\"/>\n",
       "<circle clip-path=\"url(#clip8403)\" style=\"fill:#e26f46; stroke:none; fill-opacity:1\" cx=\"1935.5\" cy=\"370.936\" r=\"14\"/>\n",
       "</svg>\n"
      ]
     },
     "execution_count": 31,
     "metadata": {},
     "output_type": "execute_result"
    }
   ],
   "source": [
    "plot(x->x,minVal,maxVal,lab=\"\",title=\"y1\")\n",
    "scatter!(resCorr[:,3],resCorr[:,1],xlabel=\"RR-BLUP\",ylabel=\"BayesL\",lab=\"\")"
   ]
  },
  {
   "cell_type": "code",
   "execution_count": 32,
   "metadata": {
    "scrolled": false
   },
   "outputs": [
    {
     "data": {
      "image/svg+xml": [
       "<?xml version=\"1.0\" encoding=\"utf-8\"?>\n",
       "<svg xmlns=\"http://www.w3.org/2000/svg\" xmlns:xlink=\"http://www.w3.org/1999/xlink\" width=\"600\" height=\"400\" viewBox=\"0 0 2400 1600\">\n",
       "<defs>\n",
       "  <clipPath id=\"clip8600\">\n",
       "    <rect x=\"0\" y=\"0\" width=\"2000\" height=\"2000\"/>\n",
       "  </clipPath>\n",
       "</defs>\n",
       "<defs>\n",
       "  <clipPath id=\"clip8601\">\n",
       "    <rect x=\"0\" y=\"0\" width=\"2400\" height=\"1600\"/>\n",
       "  </clipPath>\n",
       "</defs>\n",
       "<polygon clip-path=\"url(#clip8601)\" points=\"\n",
       "0,1600 2400,1600 2400,0 0,0 \n",
       "  \" fill=\"#ffffff\" fill-rule=\"evenodd\" fill-opacity=\"1\"/>\n",
       "<defs>\n",
       "  <clipPath id=\"clip8602\">\n",
       "    <rect x=\"480\" y=\"0\" width=\"1681\" height=\"1600\"/>\n",
       "  </clipPath>\n",
       "</defs>\n",
       "<polygon clip-path=\"url(#clip8601)\" points=\"\n",
       "251.149,1440.48 2321.26,1440.48 2321.26,125.984 251.149,125.984 \n",
       "  \" fill=\"#ffffff\" fill-rule=\"evenodd\" fill-opacity=\"1\"/>\n",
       "<defs>\n",
       "  <clipPath id=\"clip8603\">\n",
       "    <rect x=\"251\" y=\"125\" width=\"2071\" height=\"1315\"/>\n",
       "  </clipPath>\n",
       "</defs>\n",
       "<polyline clip-path=\"url(#clip8603)\" style=\"stroke:#000000; stroke-width:2; stroke-opacity:0.1; fill:none\" points=\"\n",
       "  309.737,1440.48 309.737,125.984 \n",
       "  \"/>\n",
       "<polyline clip-path=\"url(#clip8603)\" style=\"stroke:#000000; stroke-width:2; stroke-opacity:0.1; fill:none\" points=\"\n",
       "  705.352,1440.48 705.352,125.984 \n",
       "  \"/>\n",
       "<polyline clip-path=\"url(#clip8603)\" style=\"stroke:#000000; stroke-width:2; stroke-opacity:0.1; fill:none\" points=\"\n",
       "  1100.97,1440.48 1100.97,125.984 \n",
       "  \"/>\n",
       "<polyline clip-path=\"url(#clip8603)\" style=\"stroke:#000000; stroke-width:2; stroke-opacity:0.1; fill:none\" points=\"\n",
       "  1496.58,1440.48 1496.58,125.984 \n",
       "  \"/>\n",
       "<polyline clip-path=\"url(#clip8603)\" style=\"stroke:#000000; stroke-width:2; stroke-opacity:0.1; fill:none\" points=\"\n",
       "  1892.2,1440.48 1892.2,125.984 \n",
       "  \"/>\n",
       "<polyline clip-path=\"url(#clip8603)\" style=\"stroke:#000000; stroke-width:2; stroke-opacity:0.1; fill:none\" points=\"\n",
       "  2287.81,1440.48 2287.81,125.984 \n",
       "  \"/>\n",
       "<polyline clip-path=\"url(#clip8603)\" style=\"stroke:#000000; stroke-width:2; stroke-opacity:0.1; fill:none\" points=\"\n",
       "  251.149,1403.28 2321.26,1403.28 \n",
       "  \"/>\n",
       "<polyline clip-path=\"url(#clip8603)\" style=\"stroke:#000000; stroke-width:2; stroke-opacity:0.1; fill:none\" points=\"\n",
       "  251.149,1152.07 2321.26,1152.07 \n",
       "  \"/>\n",
       "<polyline clip-path=\"url(#clip8603)\" style=\"stroke:#000000; stroke-width:2; stroke-opacity:0.1; fill:none\" points=\"\n",
       "  251.149,900.857 2321.26,900.857 \n",
       "  \"/>\n",
       "<polyline clip-path=\"url(#clip8603)\" style=\"stroke:#000000; stroke-width:2; stroke-opacity:0.1; fill:none\" points=\"\n",
       "  251.149,649.646 2321.26,649.646 \n",
       "  \"/>\n",
       "<polyline clip-path=\"url(#clip8603)\" style=\"stroke:#000000; stroke-width:2; stroke-opacity:0.1; fill:none\" points=\"\n",
       "  251.149,398.435 2321.26,398.435 \n",
       "  \"/>\n",
       "<polyline clip-path=\"url(#clip8603)\" style=\"stroke:#000000; stroke-width:2; stroke-opacity:0.1; fill:none\" points=\"\n",
       "  251.149,147.224 2321.26,147.224 \n",
       "  \"/>\n",
       "<polyline clip-path=\"url(#clip8601)\" style=\"stroke:#000000; stroke-width:4; stroke-opacity:1; fill:none\" points=\"\n",
       "  251.149,1440.48 2321.26,1440.48 \n",
       "  \"/>\n",
       "<polyline clip-path=\"url(#clip8601)\" style=\"stroke:#000000; stroke-width:4; stroke-opacity:1; fill:none\" points=\"\n",
       "  251.149,1440.48 251.149,125.984 \n",
       "  \"/>\n",
       "<polyline clip-path=\"url(#clip8601)\" style=\"stroke:#000000; stroke-width:4; stroke-opacity:1; fill:none\" points=\"\n",
       "  309.737,1440.48 309.737,1420.77 \n",
       "  \"/>\n",
       "<polyline clip-path=\"url(#clip8601)\" style=\"stroke:#000000; stroke-width:4; stroke-opacity:1; fill:none\" points=\"\n",
       "  705.352,1440.48 705.352,1420.77 \n",
       "  \"/>\n",
       "<polyline clip-path=\"url(#clip8601)\" style=\"stroke:#000000; stroke-width:4; stroke-opacity:1; fill:none\" points=\"\n",
       "  1100.97,1440.48 1100.97,1420.77 \n",
       "  \"/>\n",
       "<polyline clip-path=\"url(#clip8601)\" style=\"stroke:#000000; stroke-width:4; stroke-opacity:1; fill:none\" points=\"\n",
       "  1496.58,1440.48 1496.58,1420.77 \n",
       "  \"/>\n",
       "<polyline clip-path=\"url(#clip8601)\" style=\"stroke:#000000; stroke-width:4; stroke-opacity:1; fill:none\" points=\"\n",
       "  1892.2,1440.48 1892.2,1420.77 \n",
       "  \"/>\n",
       "<polyline clip-path=\"url(#clip8601)\" style=\"stroke:#000000; stroke-width:4; stroke-opacity:1; fill:none\" points=\"\n",
       "  2287.81,1440.48 2287.81,1420.77 \n",
       "  \"/>\n",
       "<polyline clip-path=\"url(#clip8601)\" style=\"stroke:#000000; stroke-width:4; stroke-opacity:1; fill:none\" points=\"\n",
       "  251.149,1403.28 282.2,1403.28 \n",
       "  \"/>\n",
       "<polyline clip-path=\"url(#clip8601)\" style=\"stroke:#000000; stroke-width:4; stroke-opacity:1; fill:none\" points=\"\n",
       "  251.149,1152.07 282.2,1152.07 \n",
       "  \"/>\n",
       "<polyline clip-path=\"url(#clip8601)\" style=\"stroke:#000000; stroke-width:4; stroke-opacity:1; fill:none\" points=\"\n",
       "  251.149,900.857 282.2,900.857 \n",
       "  \"/>\n",
       "<polyline clip-path=\"url(#clip8601)\" style=\"stroke:#000000; stroke-width:4; stroke-opacity:1; fill:none\" points=\"\n",
       "  251.149,649.646 282.2,649.646 \n",
       "  \"/>\n",
       "<polyline clip-path=\"url(#clip8601)\" style=\"stroke:#000000; stroke-width:4; stroke-opacity:1; fill:none\" points=\"\n",
       "  251.149,398.435 282.2,398.435 \n",
       "  \"/>\n",
       "<polyline clip-path=\"url(#clip8601)\" style=\"stroke:#000000; stroke-width:4; stroke-opacity:1; fill:none\" points=\"\n",
       "  251.149,147.224 282.2,147.224 \n",
       "  \"/>\n",
       "<g clip-path=\"url(#clip8601)\">\n",
       "<text style=\"fill:#000000; fill-opacity:1; font-family:Arial,Helvetica Neue,Helvetica,sans-serif; font-size:48px; text-anchor:middle;\" transform=\"rotate(0, 309.737, 1494.48)\" x=\"309.737\" y=\"1494.48\">0.35</text>\n",
       "</g>\n",
       "<g clip-path=\"url(#clip8601)\">\n",
       "<text style=\"fill:#000000; fill-opacity:1; font-family:Arial,Helvetica Neue,Helvetica,sans-serif; font-size:48px; text-anchor:middle;\" transform=\"rotate(0, 705.352, 1494.48)\" x=\"705.352\" y=\"1494.48\">0.40</text>\n",
       "</g>\n",
       "<g clip-path=\"url(#clip8601)\">\n",
       "<text style=\"fill:#000000; fill-opacity:1; font-family:Arial,Helvetica Neue,Helvetica,sans-serif; font-size:48px; text-anchor:middle;\" transform=\"rotate(0, 1100.97, 1494.48)\" x=\"1100.97\" y=\"1494.48\">0.45</text>\n",
       "</g>\n",
       "<g clip-path=\"url(#clip8601)\">\n",
       "<text style=\"fill:#000000; fill-opacity:1; font-family:Arial,Helvetica Neue,Helvetica,sans-serif; font-size:48px; text-anchor:middle;\" transform=\"rotate(0, 1496.58, 1494.48)\" x=\"1496.58\" y=\"1494.48\">0.50</text>\n",
       "</g>\n",
       "<g clip-path=\"url(#clip8601)\">\n",
       "<text style=\"fill:#000000; fill-opacity:1; font-family:Arial,Helvetica Neue,Helvetica,sans-serif; font-size:48px; text-anchor:middle;\" transform=\"rotate(0, 1892.2, 1494.48)\" x=\"1892.2\" y=\"1494.48\">0.55</text>\n",
       "</g>\n",
       "<g clip-path=\"url(#clip8601)\">\n",
       "<text style=\"fill:#000000; fill-opacity:1; font-family:Arial,Helvetica Neue,Helvetica,sans-serif; font-size:48px; text-anchor:middle;\" transform=\"rotate(0, 2287.81, 1494.48)\" x=\"2287.81\" y=\"1494.48\">0.60</text>\n",
       "</g>\n",
       "<g clip-path=\"url(#clip8601)\">\n",
       "<text style=\"fill:#000000; fill-opacity:1; font-family:Arial,Helvetica Neue,Helvetica,sans-serif; font-size:48px; text-anchor:end;\" transform=\"rotate(0, 227.149, 1420.78)\" x=\"227.149\" y=\"1420.78\">0.35</text>\n",
       "</g>\n",
       "<g clip-path=\"url(#clip8601)\">\n",
       "<text style=\"fill:#000000; fill-opacity:1; font-family:Arial,Helvetica Neue,Helvetica,sans-serif; font-size:48px; text-anchor:end;\" transform=\"rotate(0, 227.149, 1169.57)\" x=\"227.149\" y=\"1169.57\">0.40</text>\n",
       "</g>\n",
       "<g clip-path=\"url(#clip8601)\">\n",
       "<text style=\"fill:#000000; fill-opacity:1; font-family:Arial,Helvetica Neue,Helvetica,sans-serif; font-size:48px; text-anchor:end;\" transform=\"rotate(0, 227.149, 918.357)\" x=\"227.149\" y=\"918.357\">0.45</text>\n",
       "</g>\n",
       "<g clip-path=\"url(#clip8601)\">\n",
       "<text style=\"fill:#000000; fill-opacity:1; font-family:Arial,Helvetica Neue,Helvetica,sans-serif; font-size:48px; text-anchor:end;\" transform=\"rotate(0, 227.149, 667.146)\" x=\"227.149\" y=\"667.146\">0.50</text>\n",
       "</g>\n",
       "<g clip-path=\"url(#clip8601)\">\n",
       "<text style=\"fill:#000000; fill-opacity:1; font-family:Arial,Helvetica Neue,Helvetica,sans-serif; font-size:48px; text-anchor:end;\" transform=\"rotate(0, 227.149, 415.935)\" x=\"227.149\" y=\"415.935\">0.55</text>\n",
       "</g>\n",
       "<g clip-path=\"url(#clip8601)\">\n",
       "<text style=\"fill:#000000; fill-opacity:1; font-family:Arial,Helvetica Neue,Helvetica,sans-serif; font-size:48px; text-anchor:end;\" transform=\"rotate(0, 227.149, 164.724)\" x=\"227.149\" y=\"164.724\">0.60</text>\n",
       "</g>\n",
       "<g clip-path=\"url(#clip8601)\">\n",
       "<text style=\"fill:#000000; fill-opacity:1; font-family:Arial,Helvetica Neue,Helvetica,sans-serif; font-size:84px; text-anchor:middle;\" transform=\"rotate(0, 1286.2, 73.2)\" x=\"1286.2\" y=\"73.2\">y2</text>\n",
       "</g>\n",
       "<g clip-path=\"url(#clip8601)\">\n",
       "<text style=\"fill:#000000; fill-opacity:1; font-family:Arial,Helvetica Neue,Helvetica,sans-serif; font-size:66px; text-anchor:middle;\" transform=\"rotate(0, 1286.2, 1590.4)\" x=\"1286.2\" y=\"1590.4\">RR-BLUP</text>\n",
       "</g>\n",
       "<g clip-path=\"url(#clip8601)\">\n",
       "<text style=\"fill:#000000; fill-opacity:1; font-family:Arial,Helvetica Neue,Helvetica,sans-serif; font-size:66px; text-anchor:middle;\" transform=\"rotate(-90, 57.6, 783.233)\" x=\"57.6\" y=\"783.233\">BayesL</text>\n",
       "</g>\n",
       "<polyline clip-path=\"url(#clip8603)\" style=\"stroke:#009af9; stroke-width:4; stroke-opacity:1; fill:none\" points=\"\n",
       "  329.054,1391.01 507.672,1277.59 615.015,1209.43 705.771,1151.8 804.358,1089.2 895.247,1031.49 992.689,969.613 1105.58,897.925 1205.91,834.217 1293.89,778.351 \n",
       "  1389.81,717.442 1486.3,656.172 1592.99,588.429 1694.49,523.973 1800.04,456.955 1888.88,400.539 1997.35,331.662 2099.32,266.916 2262.67,163.187 \n",
       "  \"/>\n",
       "<circle clip-path=\"url(#clip8603)\" style=\"fill:#000000; stroke:none; fill-opacity:1\" cx=\"1180.09\" cy=\"850.615\" r=\"18\"/>\n",
       "<circle clip-path=\"url(#clip8603)\" style=\"fill:#e26f46; stroke:none; fill-opacity:1\" cx=\"1180.09\" cy=\"850.615\" r=\"14\"/>\n",
       "<circle clip-path=\"url(#clip8603)\" style=\"fill:#000000; stroke:none; fill-opacity:1\" cx=\"1021.84\" cy=\"1001.34\" r=\"18\"/>\n",
       "<circle clip-path=\"url(#clip8603)\" style=\"fill:#e26f46; stroke:none; fill-opacity:1\" cx=\"1021.84\" cy=\"1001.34\" r=\"14\"/>\n",
       "<circle clip-path=\"url(#clip8603)\" style=\"fill:#000000; stroke:none; fill-opacity:1\" cx=\"1338.34\" cy=\"750.131\" r=\"18\"/>\n",
       "<circle clip-path=\"url(#clip8603)\" style=\"fill:#e26f46; stroke:none; fill-opacity:1\" cx=\"1338.34\" cy=\"750.131\" r=\"14\"/>\n",
       "<circle clip-path=\"url(#clip8603)\" style=\"fill:#000000; stroke:none; fill-opacity:1\" cx=\"1496.58\" cy=\"649.646\" r=\"18\"/>\n",
       "<circle clip-path=\"url(#clip8603)\" style=\"fill:#e26f46; stroke:none; fill-opacity:1\" cx=\"1496.58\" cy=\"649.646\" r=\"14\"/>\n",
       "<circle clip-path=\"url(#clip8603)\" style=\"fill:#000000; stroke:none; fill-opacity:1\" cx=\"1654.83\" cy=\"549.162\" r=\"18\"/>\n",
       "<circle clip-path=\"url(#clip8603)\" style=\"fill:#e26f46; stroke:none; fill-opacity:1\" cx=\"1654.83\" cy=\"549.162\" r=\"14\"/>\n",
       "<circle clip-path=\"url(#clip8603)\" style=\"fill:#000000; stroke:none; fill-opacity:1\" cx=\"1100.97\" cy=\"900.857\" r=\"18\"/>\n",
       "<circle clip-path=\"url(#clip8603)\" style=\"fill:#e26f46; stroke:none; fill-opacity:1\" cx=\"1100.97\" cy=\"900.857\" r=\"14\"/>\n",
       "<circle clip-path=\"url(#clip8603)\" style=\"fill:#000000; stroke:none; fill-opacity:1\" cx=\"863.598\" cy=\"1051.58\" r=\"18\"/>\n",
       "<circle clip-path=\"url(#clip8603)\" style=\"fill:#e26f46; stroke:none; fill-opacity:1\" cx=\"863.598\" cy=\"1051.58\" r=\"14\"/>\n",
       "<circle clip-path=\"url(#clip8603)\" style=\"fill:#000000; stroke:none; fill-opacity:1\" cx=\"309.737\" cy=\"1403.28\" r=\"18\"/>\n",
       "<circle clip-path=\"url(#clip8603)\" style=\"fill:#e26f46; stroke:none; fill-opacity:1\" cx=\"309.737\" cy=\"1403.28\" r=\"14\"/>\n",
       "<circle clip-path=\"url(#clip8603)\" style=\"fill:#000000; stroke:none; fill-opacity:1\" cx=\"1259.21\" cy=\"800.373\" r=\"18\"/>\n",
       "<circle clip-path=\"url(#clip8603)\" style=\"fill:#e26f46; stroke:none; fill-opacity:1\" cx=\"1259.21\" cy=\"800.373\" r=\"14\"/>\n",
       "<circle clip-path=\"url(#clip8603)\" style=\"fill:#000000; stroke:none; fill-opacity:1\" cx=\"1100.97\" cy=\"900.857\" r=\"18\"/>\n",
       "<circle clip-path=\"url(#clip8603)\" style=\"fill:#e26f46; stroke:none; fill-opacity:1\" cx=\"1100.97\" cy=\"900.857\" r=\"14\"/>\n",
       "</svg>\n"
      ]
     },
     "execution_count": 32,
     "metadata": {},
     "output_type": "execute_result"
    }
   ],
   "source": [
    "plot(x->x,0.35,0.6,title=\"y2\",lab=\"\")\n",
    "scatter!(resCorr[:,4],resCorr[:,2],xlabel=\"RR-BLUP\",ylabel=\"BayesL\",lab=\"\")"
   ]
  },
  {
   "cell_type": "code",
   "execution_count": 33,
   "metadata": {},
   "outputs": [
    {
     "data": {
      "image/svg+xml": [
       "<?xml version=\"1.0\" encoding=\"utf-8\"?>\n",
       "<svg xmlns=\"http://www.w3.org/2000/svg\" xmlns:xlink=\"http://www.w3.org/1999/xlink\" width=\"600\" height=\"400\" viewBox=\"0 0 2400 1600\">\n",
       "<defs>\n",
       "  <clipPath id=\"clip8800\">\n",
       "    <rect x=\"0\" y=\"0\" width=\"2000\" height=\"2000\"/>\n",
       "  </clipPath>\n",
       "</defs>\n",
       "<defs>\n",
       "  <clipPath id=\"clip8801\">\n",
       "    <rect x=\"0\" y=\"0\" width=\"2400\" height=\"1600\"/>\n",
       "  </clipPath>\n",
       "</defs>\n",
       "<polygon clip-path=\"url(#clip8801)\" points=\"\n",
       "0,1600 2400,1600 2400,0 0,0 \n",
       "  \" fill=\"#ffffff\" fill-rule=\"evenodd\" fill-opacity=\"1\"/>\n",
       "<defs>\n",
       "  <clipPath id=\"clip8802\">\n",
       "    <rect x=\"480\" y=\"0\" width=\"1681\" height=\"1600\"/>\n",
       "  </clipPath>\n",
       "</defs>\n",
       "<polygon clip-path=\"url(#clip8801)\" points=\"\n",
       "251.149,1440.48 2321.26,1440.48 2321.26,125.984 251.149,125.984 \n",
       "  \" fill=\"#ffffff\" fill-rule=\"evenodd\" fill-opacity=\"1\"/>\n",
       "<defs>\n",
       "  <clipPath id=\"clip8803\">\n",
       "    <rect x=\"251\" y=\"125\" width=\"2071\" height=\"1315\"/>\n",
       "  </clipPath>\n",
       "</defs>\n",
       "<polyline clip-path=\"url(#clip8803)\" style=\"stroke:#000000; stroke-width:2; stroke-opacity:0.1; fill:none\" points=\"\n",
       "  290.226,1440.48 290.226,125.984 \n",
       "  \"/>\n",
       "<polyline clip-path=\"url(#clip8803)\" style=\"stroke:#000000; stroke-width:2; stroke-opacity:0.1; fill:none\" points=\"\n",
       "  689.793,1440.48 689.793,125.984 \n",
       "  \"/>\n",
       "<polyline clip-path=\"url(#clip8803)\" style=\"stroke:#000000; stroke-width:2; stroke-opacity:0.1; fill:none\" points=\"\n",
       "  1089.36,1440.48 1089.36,125.984 \n",
       "  \"/>\n",
       "<polyline clip-path=\"url(#clip8803)\" style=\"stroke:#000000; stroke-width:2; stroke-opacity:0.1; fill:none\" points=\"\n",
       "  1488.93,1440.48 1488.93,125.984 \n",
       "  \"/>\n",
       "<polyline clip-path=\"url(#clip8803)\" style=\"stroke:#000000; stroke-width:2; stroke-opacity:0.1; fill:none\" points=\"\n",
       "  1888.5,1440.48 1888.5,125.984 \n",
       "  \"/>\n",
       "<polyline clip-path=\"url(#clip8803)\" style=\"stroke:#000000; stroke-width:2; stroke-opacity:0.1; fill:none\" points=\"\n",
       "  2288.06,1440.48 2288.06,125.984 \n",
       "  \"/>\n",
       "<polyline clip-path=\"url(#clip8803)\" style=\"stroke:#000000; stroke-width:2; stroke-opacity:0.1; fill:none\" points=\"\n",
       "  251.149,1415.67 2321.26,1415.67 \n",
       "  \"/>\n",
       "<polyline clip-path=\"url(#clip8803)\" style=\"stroke:#000000; stroke-width:2; stroke-opacity:0.1; fill:none\" points=\"\n",
       "  251.149,1161.95 2321.26,1161.95 \n",
       "  \"/>\n",
       "<polyline clip-path=\"url(#clip8803)\" style=\"stroke:#000000; stroke-width:2; stroke-opacity:0.1; fill:none\" points=\"\n",
       "  251.149,908.227 2321.26,908.227 \n",
       "  \"/>\n",
       "<polyline clip-path=\"url(#clip8803)\" style=\"stroke:#000000; stroke-width:2; stroke-opacity:0.1; fill:none\" points=\"\n",
       "  251.149,654.506 2321.26,654.506 \n",
       "  \"/>\n",
       "<polyline clip-path=\"url(#clip8803)\" style=\"stroke:#000000; stroke-width:2; stroke-opacity:0.1; fill:none\" points=\"\n",
       "  251.149,400.785 2321.26,400.785 \n",
       "  \"/>\n",
       "<polyline clip-path=\"url(#clip8803)\" style=\"stroke:#000000; stroke-width:2; stroke-opacity:0.1; fill:none\" points=\"\n",
       "  251.149,147.064 2321.26,147.064 \n",
       "  \"/>\n",
       "<polyline clip-path=\"url(#clip8801)\" style=\"stroke:#000000; stroke-width:4; stroke-opacity:1; fill:none\" points=\"\n",
       "  251.149,1440.48 2321.26,1440.48 \n",
       "  \"/>\n",
       "<polyline clip-path=\"url(#clip8801)\" style=\"stroke:#000000; stroke-width:4; stroke-opacity:1; fill:none\" points=\"\n",
       "  251.149,1440.48 251.149,125.984 \n",
       "  \"/>\n",
       "<polyline clip-path=\"url(#clip8801)\" style=\"stroke:#000000; stroke-width:4; stroke-opacity:1; fill:none\" points=\"\n",
       "  290.226,1440.48 290.226,1420.77 \n",
       "  \"/>\n",
       "<polyline clip-path=\"url(#clip8801)\" style=\"stroke:#000000; stroke-width:4; stroke-opacity:1; fill:none\" points=\"\n",
       "  689.793,1440.48 689.793,1420.77 \n",
       "  \"/>\n",
       "<polyline clip-path=\"url(#clip8801)\" style=\"stroke:#000000; stroke-width:4; stroke-opacity:1; fill:none\" points=\"\n",
       "  1089.36,1440.48 1089.36,1420.77 \n",
       "  \"/>\n",
       "<polyline clip-path=\"url(#clip8801)\" style=\"stroke:#000000; stroke-width:4; stroke-opacity:1; fill:none\" points=\"\n",
       "  1488.93,1440.48 1488.93,1420.77 \n",
       "  \"/>\n",
       "<polyline clip-path=\"url(#clip8801)\" style=\"stroke:#000000; stroke-width:4; stroke-opacity:1; fill:none\" points=\"\n",
       "  1888.5,1440.48 1888.5,1420.77 \n",
       "  \"/>\n",
       "<polyline clip-path=\"url(#clip8801)\" style=\"stroke:#000000; stroke-width:4; stroke-opacity:1; fill:none\" points=\"\n",
       "  2288.06,1440.48 2288.06,1420.77 \n",
       "  \"/>\n",
       "<polyline clip-path=\"url(#clip8801)\" style=\"stroke:#000000; stroke-width:4; stroke-opacity:1; fill:none\" points=\"\n",
       "  251.149,1415.67 282.2,1415.67 \n",
       "  \"/>\n",
       "<polyline clip-path=\"url(#clip8801)\" style=\"stroke:#000000; stroke-width:4; stroke-opacity:1; fill:none\" points=\"\n",
       "  251.149,1161.95 282.2,1161.95 \n",
       "  \"/>\n",
       "<polyline clip-path=\"url(#clip8801)\" style=\"stroke:#000000; stroke-width:4; stroke-opacity:1; fill:none\" points=\"\n",
       "  251.149,908.227 282.2,908.227 \n",
       "  \"/>\n",
       "<polyline clip-path=\"url(#clip8801)\" style=\"stroke:#000000; stroke-width:4; stroke-opacity:1; fill:none\" points=\"\n",
       "  251.149,654.506 282.2,654.506 \n",
       "  \"/>\n",
       "<polyline clip-path=\"url(#clip8801)\" style=\"stroke:#000000; stroke-width:4; stroke-opacity:1; fill:none\" points=\"\n",
       "  251.149,400.785 282.2,400.785 \n",
       "  \"/>\n",
       "<polyline clip-path=\"url(#clip8801)\" style=\"stroke:#000000; stroke-width:4; stroke-opacity:1; fill:none\" points=\"\n",
       "  251.149,147.064 282.2,147.064 \n",
       "  \"/>\n",
       "<g clip-path=\"url(#clip8801)\">\n",
       "<text style=\"fill:#000000; fill-opacity:1; font-family:Arial,Helvetica Neue,Helvetica,sans-serif; font-size:48px; text-anchor:middle;\" transform=\"rotate(0, 290.226, 1494.48)\" x=\"290.226\" y=\"1494.48\">0.35</text>\n",
       "</g>\n",
       "<g clip-path=\"url(#clip8801)\">\n",
       "<text style=\"fill:#000000; fill-opacity:1; font-family:Arial,Helvetica Neue,Helvetica,sans-serif; font-size:48px; text-anchor:middle;\" transform=\"rotate(0, 689.793, 1494.48)\" x=\"689.793\" y=\"1494.48\">0.40</text>\n",
       "</g>\n",
       "<g clip-path=\"url(#clip8801)\">\n",
       "<text style=\"fill:#000000; fill-opacity:1; font-family:Arial,Helvetica Neue,Helvetica,sans-serif; font-size:48px; text-anchor:middle;\" transform=\"rotate(0, 1089.36, 1494.48)\" x=\"1089.36\" y=\"1494.48\">0.45</text>\n",
       "</g>\n",
       "<g clip-path=\"url(#clip8801)\">\n",
       "<text style=\"fill:#000000; fill-opacity:1; font-family:Arial,Helvetica Neue,Helvetica,sans-serif; font-size:48px; text-anchor:middle;\" transform=\"rotate(0, 1488.93, 1494.48)\" x=\"1488.93\" y=\"1494.48\">0.50</text>\n",
       "</g>\n",
       "<g clip-path=\"url(#clip8801)\">\n",
       "<text style=\"fill:#000000; fill-opacity:1; font-family:Arial,Helvetica Neue,Helvetica,sans-serif; font-size:48px; text-anchor:middle;\" transform=\"rotate(0, 1888.5, 1494.48)\" x=\"1888.5\" y=\"1494.48\">0.55</text>\n",
       "</g>\n",
       "<g clip-path=\"url(#clip8801)\">\n",
       "<text style=\"fill:#000000; fill-opacity:1; font-family:Arial,Helvetica Neue,Helvetica,sans-serif; font-size:48px; text-anchor:middle;\" transform=\"rotate(0, 2288.06, 1494.48)\" x=\"2288.06\" y=\"1494.48\">0.60</text>\n",
       "</g>\n",
       "<g clip-path=\"url(#clip8801)\">\n",
       "<text style=\"fill:#000000; fill-opacity:1; font-family:Arial,Helvetica Neue,Helvetica,sans-serif; font-size:48px; text-anchor:end;\" transform=\"rotate(0, 227.149, 1433.17)\" x=\"227.149\" y=\"1433.17\">0.35</text>\n",
       "</g>\n",
       "<g clip-path=\"url(#clip8801)\">\n",
       "<text style=\"fill:#000000; fill-opacity:1; font-family:Arial,Helvetica Neue,Helvetica,sans-serif; font-size:48px; text-anchor:end;\" transform=\"rotate(0, 227.149, 1179.45)\" x=\"227.149\" y=\"1179.45\">0.40</text>\n",
       "</g>\n",
       "<g clip-path=\"url(#clip8801)\">\n",
       "<text style=\"fill:#000000; fill-opacity:1; font-family:Arial,Helvetica Neue,Helvetica,sans-serif; font-size:48px; text-anchor:end;\" transform=\"rotate(0, 227.149, 925.727)\" x=\"227.149\" y=\"925.727\">0.45</text>\n",
       "</g>\n",
       "<g clip-path=\"url(#clip8801)\">\n",
       "<text style=\"fill:#000000; fill-opacity:1; font-family:Arial,Helvetica Neue,Helvetica,sans-serif; font-size:48px; text-anchor:end;\" transform=\"rotate(0, 227.149, 672.006)\" x=\"227.149\" y=\"672.006\">0.50</text>\n",
       "</g>\n",
       "<g clip-path=\"url(#clip8801)\">\n",
       "<text style=\"fill:#000000; fill-opacity:1; font-family:Arial,Helvetica Neue,Helvetica,sans-serif; font-size:48px; text-anchor:end;\" transform=\"rotate(0, 227.149, 418.285)\" x=\"227.149\" y=\"418.285\">0.55</text>\n",
       "</g>\n",
       "<g clip-path=\"url(#clip8801)\">\n",
       "<text style=\"fill:#000000; fill-opacity:1; font-family:Arial,Helvetica Neue,Helvetica,sans-serif; font-size:48px; text-anchor:end;\" transform=\"rotate(0, 227.149, 164.564)\" x=\"227.149\" y=\"164.564\">0.60</text>\n",
       "</g>\n",
       "<g clip-path=\"url(#clip8801)\">\n",
       "<text style=\"fill:#000000; fill-opacity:1; font-family:Arial,Helvetica Neue,Helvetica,sans-serif; font-size:84px; text-anchor:middle;\" transform=\"rotate(0, 1286.2, 73.2)\" x=\"1286.2\" y=\"73.2\">y1</text>\n",
       "</g>\n",
       "<g clip-path=\"url(#clip8801)\">\n",
       "<text style=\"fill:#000000; fill-opacity:1; font-family:Arial,Helvetica Neue,Helvetica,sans-serif; font-size:66px; text-anchor:middle;\" transform=\"rotate(0, 1286.2, 1590.4)\" x=\"1286.2\" y=\"1590.4\">RR-BLUP</text>\n",
       "</g>\n",
       "<g clip-path=\"url(#clip8801)\">\n",
       "<text style=\"fill:#000000; fill-opacity:1; font-family:Arial,Helvetica Neue,Helvetica,sans-serif; font-size:66px; text-anchor:middle;\" transform=\"rotate(-90, 57.6, 783.233)\" x=\"57.6\" y=\"783.233\">BayesCPi</text>\n",
       "</g>\n",
       "<polyline clip-path=\"url(#clip8803)\" style=\"stroke:#009af9; stroke-width:4; stroke-opacity:1; fill:none\" points=\"\n",
       "  309.737,1403.28 490.139,1288.73 598.554,1219.88 690.217,1161.68 789.789,1098.45 881.585,1040.16 980.001,977.669 1094.02,905.265 1195.36,840.921 1284.21,784.497 \n",
       "  1381.09,722.98 1478.55,661.097 1586.3,592.677 1688.82,527.578 1795.42,459.889 1885.15,402.91 1994.7,333.345 2097.68,267.952 2262.67,163.187 \n",
       "  \"/>\n",
       "<circle clip-path=\"url(#clip8803)\" style=\"fill:#000000; stroke:none; fill-opacity:1\" cx=\"1488.93\" cy=\"654.506\" r=\"18\"/>\n",
       "<circle clip-path=\"url(#clip8803)\" style=\"fill:#e26f46; stroke:none; fill-opacity:1\" cx=\"1488.93\" cy=\"654.506\" r=\"14\"/>\n",
       "<circle clip-path=\"url(#clip8803)\" style=\"fill:#000000; stroke:none; fill-opacity:1\" cx=\"1169.27\" cy=\"806.739\" r=\"18\"/>\n",
       "<circle clip-path=\"url(#clip8803)\" style=\"fill:#e26f46; stroke:none; fill-opacity:1\" cx=\"1169.27\" cy=\"806.739\" r=\"14\"/>\n",
       "<circle clip-path=\"url(#clip8803)\" style=\"fill:#000000; stroke:none; fill-opacity:1\" cx=\"1488.93\" cy=\"705.25\" r=\"18\"/>\n",
       "<circle clip-path=\"url(#clip8803)\" style=\"fill:#e26f46; stroke:none; fill-opacity:1\" cx=\"1488.93\" cy=\"705.25\" r=\"14\"/>\n",
       "<circle clip-path=\"url(#clip8803)\" style=\"fill:#000000; stroke:none; fill-opacity:1\" cx=\"1488.93\" cy=\"654.506\" r=\"18\"/>\n",
       "<circle clip-path=\"url(#clip8803)\" style=\"fill:#e26f46; stroke:none; fill-opacity:1\" cx=\"1488.93\" cy=\"654.506\" r=\"14\"/>\n",
       "<circle clip-path=\"url(#clip8803)\" style=\"fill:#000000; stroke:none; fill-opacity:1\" cx=\"1009.45\" cy=\"958.971\" r=\"18\"/>\n",
       "<circle clip-path=\"url(#clip8803)\" style=\"fill:#e26f46; stroke:none; fill-opacity:1\" cx=\"1009.45\" cy=\"958.971\" r=\"14\"/>\n",
       "<circle clip-path=\"url(#clip8803)\" style=\"fill:#000000; stroke:none; fill-opacity:1\" cx=\"1169.27\" cy=\"857.483\" r=\"18\"/>\n",
       "<circle clip-path=\"url(#clip8803)\" style=\"fill:#e26f46; stroke:none; fill-opacity:1\" cx=\"1169.27\" cy=\"857.483\" r=\"14\"/>\n",
       "<circle clip-path=\"url(#clip8803)\" style=\"fill:#000000; stroke:none; fill-opacity:1\" cx=\"1409.01\" cy=\"705.25\" r=\"18\"/>\n",
       "<circle clip-path=\"url(#clip8803)\" style=\"fill:#e26f46; stroke:none; fill-opacity:1\" cx=\"1409.01\" cy=\"705.25\" r=\"14\"/>\n",
       "<circle clip-path=\"url(#clip8803)\" style=\"fill:#000000; stroke:none; fill-opacity:1\" cx=\"1409.01\" cy=\"705.25\" r=\"18\"/>\n",
       "<circle clip-path=\"url(#clip8803)\" style=\"fill:#e26f46; stroke:none; fill-opacity:1\" cx=\"1409.01\" cy=\"705.25\" r=\"14\"/>\n",
       "<circle clip-path=\"url(#clip8803)\" style=\"fill:#000000; stroke:none; fill-opacity:1\" cx=\"1329.1\" cy=\"705.25\" r=\"18\"/>\n",
       "<circle clip-path=\"url(#clip8803)\" style=\"fill:#e26f46; stroke:none; fill-opacity:1\" cx=\"1329.1\" cy=\"705.25\" r=\"14\"/>\n",
       "<circle clip-path=\"url(#clip8803)\" style=\"fill:#000000; stroke:none; fill-opacity:1\" cx=\"1409.01\" cy=\"705.25\" r=\"18\"/>\n",
       "<circle clip-path=\"url(#clip8803)\" style=\"fill:#e26f46; stroke:none; fill-opacity:1\" cx=\"1409.01\" cy=\"705.25\" r=\"14\"/>\n",
       "</svg>\n"
      ]
     },
     "execution_count": 33,
     "metadata": {},
     "output_type": "execute_result"
    }
   ],
   "source": [
    "plot(x->x,0.35,0.6,title=\"y1\",lab=\"\")\n",
    "scatter!(resCorr[:,3],resCorr[:,5], xlabel=\"RR-BLUP\",ylabel=\"BayesCPi\",lab=\"\")"
   ]
  },
  {
   "cell_type": "code",
   "execution_count": 34,
   "metadata": {},
   "outputs": [
    {
     "data": {
      "image/svg+xml": [
       "<?xml version=\"1.0\" encoding=\"utf-8\"?>\n",
       "<svg xmlns=\"http://www.w3.org/2000/svg\" xmlns:xlink=\"http://www.w3.org/1999/xlink\" width=\"600\" height=\"400\" viewBox=\"0 0 2400 1600\">\n",
       "<defs>\n",
       "  <clipPath id=\"clip9000\">\n",
       "    <rect x=\"0\" y=\"0\" width=\"2000\" height=\"2000\"/>\n",
       "  </clipPath>\n",
       "</defs>\n",
       "<defs>\n",
       "  <clipPath id=\"clip9001\">\n",
       "    <rect x=\"0\" y=\"0\" width=\"2400\" height=\"1600\"/>\n",
       "  </clipPath>\n",
       "</defs>\n",
       "<polygon clip-path=\"url(#clip9001)\" points=\"\n",
       "0,1600 2400,1600 2400,0 0,0 \n",
       "  \" fill=\"#ffffff\" fill-rule=\"evenodd\" fill-opacity=\"1\"/>\n",
       "<defs>\n",
       "  <clipPath id=\"clip9002\">\n",
       "    <rect x=\"480\" y=\"0\" width=\"1681\" height=\"1600\"/>\n",
       "  </clipPath>\n",
       "</defs>\n",
       "<polygon clip-path=\"url(#clip9001)\" points=\"\n",
       "251.149,1440.48 2321.26,1440.48 2321.26,125.984 251.149,125.984 \n",
       "  \" fill=\"#ffffff\" fill-rule=\"evenodd\" fill-opacity=\"1\"/>\n",
       "<defs>\n",
       "  <clipPath id=\"clip9003\">\n",
       "    <rect x=\"251\" y=\"125\" width=\"2071\" height=\"1315\"/>\n",
       "  </clipPath>\n",
       "</defs>\n",
       "<polyline clip-path=\"url(#clip9003)\" style=\"stroke:#000000; stroke-width:2; stroke-opacity:0.1; fill:none\" points=\"\n",
       "  309.737,1440.48 309.737,125.984 \n",
       "  \"/>\n",
       "<polyline clip-path=\"url(#clip9003)\" style=\"stroke:#000000; stroke-width:2; stroke-opacity:0.1; fill:none\" points=\"\n",
       "  705.352,1440.48 705.352,125.984 \n",
       "  \"/>\n",
       "<polyline clip-path=\"url(#clip9003)\" style=\"stroke:#000000; stroke-width:2; stroke-opacity:0.1; fill:none\" points=\"\n",
       "  1100.97,1440.48 1100.97,125.984 \n",
       "  \"/>\n",
       "<polyline clip-path=\"url(#clip9003)\" style=\"stroke:#000000; stroke-width:2; stroke-opacity:0.1; fill:none\" points=\"\n",
       "  1496.58,1440.48 1496.58,125.984 \n",
       "  \"/>\n",
       "<polyline clip-path=\"url(#clip9003)\" style=\"stroke:#000000; stroke-width:2; stroke-opacity:0.1; fill:none\" points=\"\n",
       "  1892.2,1440.48 1892.2,125.984 \n",
       "  \"/>\n",
       "<polyline clip-path=\"url(#clip9003)\" style=\"stroke:#000000; stroke-width:2; stroke-opacity:0.1; fill:none\" points=\"\n",
       "  2287.81,1440.48 2287.81,125.984 \n",
       "  \"/>\n",
       "<polyline clip-path=\"url(#clip9003)\" style=\"stroke:#000000; stroke-width:2; stroke-opacity:0.1; fill:none\" points=\"\n",
       "  251.149,1403.28 2321.26,1403.28 \n",
       "  \"/>\n",
       "<polyline clip-path=\"url(#clip9003)\" style=\"stroke:#000000; stroke-width:2; stroke-opacity:0.1; fill:none\" points=\"\n",
       "  251.149,1152.07 2321.26,1152.07 \n",
       "  \"/>\n",
       "<polyline clip-path=\"url(#clip9003)\" style=\"stroke:#000000; stroke-width:2; stroke-opacity:0.1; fill:none\" points=\"\n",
       "  251.149,900.857 2321.26,900.857 \n",
       "  \"/>\n",
       "<polyline clip-path=\"url(#clip9003)\" style=\"stroke:#000000; stroke-width:2; stroke-opacity:0.1; fill:none\" points=\"\n",
       "  251.149,649.646 2321.26,649.646 \n",
       "  \"/>\n",
       "<polyline clip-path=\"url(#clip9003)\" style=\"stroke:#000000; stroke-width:2; stroke-opacity:0.1; fill:none\" points=\"\n",
       "  251.149,398.435 2321.26,398.435 \n",
       "  \"/>\n",
       "<polyline clip-path=\"url(#clip9003)\" style=\"stroke:#000000; stroke-width:2; stroke-opacity:0.1; fill:none\" points=\"\n",
       "  251.149,147.224 2321.26,147.224 \n",
       "  \"/>\n",
       "<polyline clip-path=\"url(#clip9001)\" style=\"stroke:#000000; stroke-width:4; stroke-opacity:1; fill:none\" points=\"\n",
       "  251.149,1440.48 2321.26,1440.48 \n",
       "  \"/>\n",
       "<polyline clip-path=\"url(#clip9001)\" style=\"stroke:#000000; stroke-width:4; stroke-opacity:1; fill:none\" points=\"\n",
       "  251.149,1440.48 251.149,125.984 \n",
       "  \"/>\n",
       "<polyline clip-path=\"url(#clip9001)\" style=\"stroke:#000000; stroke-width:4; stroke-opacity:1; fill:none\" points=\"\n",
       "  309.737,1440.48 309.737,1420.77 \n",
       "  \"/>\n",
       "<polyline clip-path=\"url(#clip9001)\" style=\"stroke:#000000; stroke-width:4; stroke-opacity:1; fill:none\" points=\"\n",
       "  705.352,1440.48 705.352,1420.77 \n",
       "  \"/>\n",
       "<polyline clip-path=\"url(#clip9001)\" style=\"stroke:#000000; stroke-width:4; stroke-opacity:1; fill:none\" points=\"\n",
       "  1100.97,1440.48 1100.97,1420.77 \n",
       "  \"/>\n",
       "<polyline clip-path=\"url(#clip9001)\" style=\"stroke:#000000; stroke-width:4; stroke-opacity:1; fill:none\" points=\"\n",
       "  1496.58,1440.48 1496.58,1420.77 \n",
       "  \"/>\n",
       "<polyline clip-path=\"url(#clip9001)\" style=\"stroke:#000000; stroke-width:4; stroke-opacity:1; fill:none\" points=\"\n",
       "  1892.2,1440.48 1892.2,1420.77 \n",
       "  \"/>\n",
       "<polyline clip-path=\"url(#clip9001)\" style=\"stroke:#000000; stroke-width:4; stroke-opacity:1; fill:none\" points=\"\n",
       "  2287.81,1440.48 2287.81,1420.77 \n",
       "  \"/>\n",
       "<polyline clip-path=\"url(#clip9001)\" style=\"stroke:#000000; stroke-width:4; stroke-opacity:1; fill:none\" points=\"\n",
       "  251.149,1403.28 282.2,1403.28 \n",
       "  \"/>\n",
       "<polyline clip-path=\"url(#clip9001)\" style=\"stroke:#000000; stroke-width:4; stroke-opacity:1; fill:none\" points=\"\n",
       "  251.149,1152.07 282.2,1152.07 \n",
       "  \"/>\n",
       "<polyline clip-path=\"url(#clip9001)\" style=\"stroke:#000000; stroke-width:4; stroke-opacity:1; fill:none\" points=\"\n",
       "  251.149,900.857 282.2,900.857 \n",
       "  \"/>\n",
       "<polyline clip-path=\"url(#clip9001)\" style=\"stroke:#000000; stroke-width:4; stroke-opacity:1; fill:none\" points=\"\n",
       "  251.149,649.646 282.2,649.646 \n",
       "  \"/>\n",
       "<polyline clip-path=\"url(#clip9001)\" style=\"stroke:#000000; stroke-width:4; stroke-opacity:1; fill:none\" points=\"\n",
       "  251.149,398.435 282.2,398.435 \n",
       "  \"/>\n",
       "<polyline clip-path=\"url(#clip9001)\" style=\"stroke:#000000; stroke-width:4; stroke-opacity:1; fill:none\" points=\"\n",
       "  251.149,147.224 282.2,147.224 \n",
       "  \"/>\n",
       "<g clip-path=\"url(#clip9001)\">\n",
       "<text style=\"fill:#000000; fill-opacity:1; font-family:Arial,Helvetica Neue,Helvetica,sans-serif; font-size:48px; text-anchor:middle;\" transform=\"rotate(0, 309.737, 1494.48)\" x=\"309.737\" y=\"1494.48\">0.35</text>\n",
       "</g>\n",
       "<g clip-path=\"url(#clip9001)\">\n",
       "<text style=\"fill:#000000; fill-opacity:1; font-family:Arial,Helvetica Neue,Helvetica,sans-serif; font-size:48px; text-anchor:middle;\" transform=\"rotate(0, 705.352, 1494.48)\" x=\"705.352\" y=\"1494.48\">0.40</text>\n",
       "</g>\n",
       "<g clip-path=\"url(#clip9001)\">\n",
       "<text style=\"fill:#000000; fill-opacity:1; font-family:Arial,Helvetica Neue,Helvetica,sans-serif; font-size:48px; text-anchor:middle;\" transform=\"rotate(0, 1100.97, 1494.48)\" x=\"1100.97\" y=\"1494.48\">0.45</text>\n",
       "</g>\n",
       "<g clip-path=\"url(#clip9001)\">\n",
       "<text style=\"fill:#000000; fill-opacity:1; font-family:Arial,Helvetica Neue,Helvetica,sans-serif; font-size:48px; text-anchor:middle;\" transform=\"rotate(0, 1496.58, 1494.48)\" x=\"1496.58\" y=\"1494.48\">0.50</text>\n",
       "</g>\n",
       "<g clip-path=\"url(#clip9001)\">\n",
       "<text style=\"fill:#000000; fill-opacity:1; font-family:Arial,Helvetica Neue,Helvetica,sans-serif; font-size:48px; text-anchor:middle;\" transform=\"rotate(0, 1892.2, 1494.48)\" x=\"1892.2\" y=\"1494.48\">0.55</text>\n",
       "</g>\n",
       "<g clip-path=\"url(#clip9001)\">\n",
       "<text style=\"fill:#000000; fill-opacity:1; font-family:Arial,Helvetica Neue,Helvetica,sans-serif; font-size:48px; text-anchor:middle;\" transform=\"rotate(0, 2287.81, 1494.48)\" x=\"2287.81\" y=\"1494.48\">0.60</text>\n",
       "</g>\n",
       "<g clip-path=\"url(#clip9001)\">\n",
       "<text style=\"fill:#000000; fill-opacity:1; font-family:Arial,Helvetica Neue,Helvetica,sans-serif; font-size:48px; text-anchor:end;\" transform=\"rotate(0, 227.149, 1420.78)\" x=\"227.149\" y=\"1420.78\">0.35</text>\n",
       "</g>\n",
       "<g clip-path=\"url(#clip9001)\">\n",
       "<text style=\"fill:#000000; fill-opacity:1; font-family:Arial,Helvetica Neue,Helvetica,sans-serif; font-size:48px; text-anchor:end;\" transform=\"rotate(0, 227.149, 1169.57)\" x=\"227.149\" y=\"1169.57\">0.40</text>\n",
       "</g>\n",
       "<g clip-path=\"url(#clip9001)\">\n",
       "<text style=\"fill:#000000; fill-opacity:1; font-family:Arial,Helvetica Neue,Helvetica,sans-serif; font-size:48px; text-anchor:end;\" transform=\"rotate(0, 227.149, 918.357)\" x=\"227.149\" y=\"918.357\">0.45</text>\n",
       "</g>\n",
       "<g clip-path=\"url(#clip9001)\">\n",
       "<text style=\"fill:#000000; fill-opacity:1; font-family:Arial,Helvetica Neue,Helvetica,sans-serif; font-size:48px; text-anchor:end;\" transform=\"rotate(0, 227.149, 667.146)\" x=\"227.149\" y=\"667.146\">0.50</text>\n",
       "</g>\n",
       "<g clip-path=\"url(#clip9001)\">\n",
       "<text style=\"fill:#000000; fill-opacity:1; font-family:Arial,Helvetica Neue,Helvetica,sans-serif; font-size:48px; text-anchor:end;\" transform=\"rotate(0, 227.149, 415.935)\" x=\"227.149\" y=\"415.935\">0.55</text>\n",
       "</g>\n",
       "<g clip-path=\"url(#clip9001)\">\n",
       "<text style=\"fill:#000000; fill-opacity:1; font-family:Arial,Helvetica Neue,Helvetica,sans-serif; font-size:48px; text-anchor:end;\" transform=\"rotate(0, 227.149, 164.724)\" x=\"227.149\" y=\"164.724\">0.60</text>\n",
       "</g>\n",
       "<g clip-path=\"url(#clip9001)\">\n",
       "<text style=\"fill:#000000; fill-opacity:1; font-family:Arial,Helvetica Neue,Helvetica,sans-serif; font-size:84px; text-anchor:middle;\" transform=\"rotate(0, 1286.2, 73.2)\" x=\"1286.2\" y=\"73.2\">y2</text>\n",
       "</g>\n",
       "<g clip-path=\"url(#clip9001)\">\n",
       "<text style=\"fill:#000000; fill-opacity:1; font-family:Arial,Helvetica Neue,Helvetica,sans-serif; font-size:66px; text-anchor:middle;\" transform=\"rotate(0, 1286.2, 1590.4)\" x=\"1286.2\" y=\"1590.4\">RR-BLUP</text>\n",
       "</g>\n",
       "<g clip-path=\"url(#clip9001)\">\n",
       "<text style=\"fill:#000000; fill-opacity:1; font-family:Arial,Helvetica Neue,Helvetica,sans-serif; font-size:66px; text-anchor:middle;\" transform=\"rotate(-90, 57.6, 783.233)\" x=\"57.6\" y=\"783.233\">BayesCPi</text>\n",
       "</g>\n",
       "<polyline clip-path=\"url(#clip9003)\" style=\"stroke:#009af9; stroke-width:4; stroke-opacity:1; fill:none\" points=\"\n",
       "  329.054,1391.01 507.672,1277.59 615.015,1209.43 705.771,1151.8 804.358,1089.2 895.247,1031.49 992.689,969.613 1105.58,897.925 1205.91,834.217 1293.89,778.351 \n",
       "  1389.81,717.442 1486.3,656.172 1592.99,588.429 1694.49,523.973 1800.04,456.955 1888.88,400.539 1997.35,331.662 2099.32,266.916 2262.67,163.187 \n",
       "  \"/>\n",
       "<circle clip-path=\"url(#clip9003)\" style=\"fill:#000000; stroke:none; fill-opacity:1\" cx=\"1180.09\" cy=\"800.373\" r=\"18\"/>\n",
       "<circle clip-path=\"url(#clip9003)\" style=\"fill:#e26f46; stroke:none; fill-opacity:1\" cx=\"1180.09\" cy=\"800.373\" r=\"14\"/>\n",
       "<circle clip-path=\"url(#clip9003)\" style=\"fill:#000000; stroke:none; fill-opacity:1\" cx=\"1021.84\" cy=\"951.1\" r=\"18\"/>\n",
       "<circle clip-path=\"url(#clip9003)\" style=\"fill:#e26f46; stroke:none; fill-opacity:1\" cx=\"1021.84\" cy=\"951.1\" r=\"14\"/>\n",
       "<circle clip-path=\"url(#clip9003)\" style=\"fill:#000000; stroke:none; fill-opacity:1\" cx=\"1338.34\" cy=\"699.888\" r=\"18\"/>\n",
       "<circle clip-path=\"url(#clip9003)\" style=\"fill:#e26f46; stroke:none; fill-opacity:1\" cx=\"1338.34\" cy=\"699.888\" r=\"14\"/>\n",
       "<circle clip-path=\"url(#clip9003)\" style=\"fill:#000000; stroke:none; fill-opacity:1\" cx=\"1496.58\" cy=\"649.646\" r=\"18\"/>\n",
       "<circle clip-path=\"url(#clip9003)\" style=\"fill:#e26f46; stroke:none; fill-opacity:1\" cx=\"1496.58\" cy=\"649.646\" r=\"14\"/>\n",
       "<circle clip-path=\"url(#clip9003)\" style=\"fill:#000000; stroke:none; fill-opacity:1\" cx=\"1654.83\" cy=\"549.162\" r=\"18\"/>\n",
       "<circle clip-path=\"url(#clip9003)\" style=\"fill:#e26f46; stroke:none; fill-opacity:1\" cx=\"1654.83\" cy=\"549.162\" r=\"14\"/>\n",
       "<circle clip-path=\"url(#clip9003)\" style=\"fill:#000000; stroke:none; fill-opacity:1\" cx=\"1100.97\" cy=\"850.615\" r=\"18\"/>\n",
       "<circle clip-path=\"url(#clip9003)\" style=\"fill:#e26f46; stroke:none; fill-opacity:1\" cx=\"1100.97\" cy=\"850.615\" r=\"14\"/>\n",
       "<circle clip-path=\"url(#clip9003)\" style=\"fill:#000000; stroke:none; fill-opacity:1\" cx=\"863.598\" cy=\"1051.58\" r=\"18\"/>\n",
       "<circle clip-path=\"url(#clip9003)\" style=\"fill:#e26f46; stroke:none; fill-opacity:1\" cx=\"863.598\" cy=\"1051.58\" r=\"14\"/>\n",
       "<circle clip-path=\"url(#clip9003)\" style=\"fill:#000000; stroke:none; fill-opacity:1\" cx=\"309.737\" cy=\"1403.28\" r=\"18\"/>\n",
       "<circle clip-path=\"url(#clip9003)\" style=\"fill:#e26f46; stroke:none; fill-opacity:1\" cx=\"309.737\" cy=\"1403.28\" r=\"14\"/>\n",
       "<circle clip-path=\"url(#clip9003)\" style=\"fill:#000000; stroke:none; fill-opacity:1\" cx=\"1259.21\" cy=\"800.373\" r=\"18\"/>\n",
       "<circle clip-path=\"url(#clip9003)\" style=\"fill:#e26f46; stroke:none; fill-opacity:1\" cx=\"1259.21\" cy=\"800.373\" r=\"14\"/>\n",
       "<circle clip-path=\"url(#clip9003)\" style=\"fill:#000000; stroke:none; fill-opacity:1\" cx=\"1100.97\" cy=\"850.615\" r=\"18\"/>\n",
       "<circle clip-path=\"url(#clip9003)\" style=\"fill:#e26f46; stroke:none; fill-opacity:1\" cx=\"1100.97\" cy=\"850.615\" r=\"14\"/>\n",
       "</svg>\n"
      ]
     },
     "execution_count": 34,
     "metadata": {},
     "output_type": "execute_result"
    }
   ],
   "source": [
    "plot(x->x,0.35,0.6,title=\"y2\",lab=\"\")\n",
    "scatter!(resCorr[:,4],resCorr[:,6], xlabel=\"RR-BLUP\",ylabel=\"BayesCPi\",lab=\"\")"
   ]
  },
  {
   "cell_type": "code",
   "execution_count": 35,
   "metadata": {},
   "outputs": [
    {
     "data": {
      "image/svg+xml": [
       "<?xml version=\"1.0\" encoding=\"utf-8\"?>\n",
       "<svg xmlns=\"http://www.w3.org/2000/svg\" xmlns:xlink=\"http://www.w3.org/1999/xlink\" width=\"600\" height=\"400\" viewBox=\"0 0 2400 1600\">\n",
       "<defs>\n",
       "  <clipPath id=\"clip9200\">\n",
       "    <rect x=\"0\" y=\"0\" width=\"2000\" height=\"2000\"/>\n",
       "  </clipPath>\n",
       "</defs>\n",
       "<defs>\n",
       "  <clipPath id=\"clip9201\">\n",
       "    <rect x=\"0\" y=\"0\" width=\"2400\" height=\"1600\"/>\n",
       "  </clipPath>\n",
       "</defs>\n",
       "<polygon clip-path=\"url(#clip9201)\" points=\"\n",
       "0,1600 2400,1600 2400,0 0,0 \n",
       "  \" fill=\"#ffffff\" fill-rule=\"evenodd\" fill-opacity=\"1\"/>\n",
       "<defs>\n",
       "  <clipPath id=\"clip9202\">\n",
       "    <rect x=\"480\" y=\"0\" width=\"1681\" height=\"1600\"/>\n",
       "  </clipPath>\n",
       "</defs>\n",
       "<polygon clip-path=\"url(#clip9201)\" points=\"\n",
       "251.149,1440.48 2321.26,1440.48 2321.26,125.984 251.149,125.984 \n",
       "  \" fill=\"#ffffff\" fill-rule=\"evenodd\" fill-opacity=\"1\"/>\n",
       "<defs>\n",
       "  <clipPath id=\"clip9203\">\n",
       "    <rect x=\"251\" y=\"125\" width=\"2071\" height=\"1315\"/>\n",
       "  </clipPath>\n",
       "</defs>\n",
       "<polyline clip-path=\"url(#clip9203)\" style=\"stroke:#000000; stroke-width:2; stroke-opacity:0.1; fill:none\" points=\"\n",
       "  290.226,1440.48 290.226,125.984 \n",
       "  \"/>\n",
       "<polyline clip-path=\"url(#clip9203)\" style=\"stroke:#000000; stroke-width:2; stroke-opacity:0.1; fill:none\" points=\"\n",
       "  689.793,1440.48 689.793,125.984 \n",
       "  \"/>\n",
       "<polyline clip-path=\"url(#clip9203)\" style=\"stroke:#000000; stroke-width:2; stroke-opacity:0.1; fill:none\" points=\"\n",
       "  1089.36,1440.48 1089.36,125.984 \n",
       "  \"/>\n",
       "<polyline clip-path=\"url(#clip9203)\" style=\"stroke:#000000; stroke-width:2; stroke-opacity:0.1; fill:none\" points=\"\n",
       "  1488.93,1440.48 1488.93,125.984 \n",
       "  \"/>\n",
       "<polyline clip-path=\"url(#clip9203)\" style=\"stroke:#000000; stroke-width:2; stroke-opacity:0.1; fill:none\" points=\"\n",
       "  1888.5,1440.48 1888.5,125.984 \n",
       "  \"/>\n",
       "<polyline clip-path=\"url(#clip9203)\" style=\"stroke:#000000; stroke-width:2; stroke-opacity:0.1; fill:none\" points=\"\n",
       "  2288.06,1440.48 2288.06,125.984 \n",
       "  \"/>\n",
       "<polyline clip-path=\"url(#clip9203)\" style=\"stroke:#000000; stroke-width:2; stroke-opacity:0.1; fill:none\" points=\"\n",
       "  251.149,1415.67 2321.26,1415.67 \n",
       "  \"/>\n",
       "<polyline clip-path=\"url(#clip9203)\" style=\"stroke:#000000; stroke-width:2; stroke-opacity:0.1; fill:none\" points=\"\n",
       "  251.149,1161.95 2321.26,1161.95 \n",
       "  \"/>\n",
       "<polyline clip-path=\"url(#clip9203)\" style=\"stroke:#000000; stroke-width:2; stroke-opacity:0.1; fill:none\" points=\"\n",
       "  251.149,908.227 2321.26,908.227 \n",
       "  \"/>\n",
       "<polyline clip-path=\"url(#clip9203)\" style=\"stroke:#000000; stroke-width:2; stroke-opacity:0.1; fill:none\" points=\"\n",
       "  251.149,654.506 2321.26,654.506 \n",
       "  \"/>\n",
       "<polyline clip-path=\"url(#clip9203)\" style=\"stroke:#000000; stroke-width:2; stroke-opacity:0.1; fill:none\" points=\"\n",
       "  251.149,400.785 2321.26,400.785 \n",
       "  \"/>\n",
       "<polyline clip-path=\"url(#clip9203)\" style=\"stroke:#000000; stroke-width:2; stroke-opacity:0.1; fill:none\" points=\"\n",
       "  251.149,147.064 2321.26,147.064 \n",
       "  \"/>\n",
       "<polyline clip-path=\"url(#clip9201)\" style=\"stroke:#000000; stroke-width:4; stroke-opacity:1; fill:none\" points=\"\n",
       "  251.149,1440.48 2321.26,1440.48 \n",
       "  \"/>\n",
       "<polyline clip-path=\"url(#clip9201)\" style=\"stroke:#000000; stroke-width:4; stroke-opacity:1; fill:none\" points=\"\n",
       "  251.149,1440.48 251.149,125.984 \n",
       "  \"/>\n",
       "<polyline clip-path=\"url(#clip9201)\" style=\"stroke:#000000; stroke-width:4; stroke-opacity:1; fill:none\" points=\"\n",
       "  290.226,1440.48 290.226,1420.77 \n",
       "  \"/>\n",
       "<polyline clip-path=\"url(#clip9201)\" style=\"stroke:#000000; stroke-width:4; stroke-opacity:1; fill:none\" points=\"\n",
       "  689.793,1440.48 689.793,1420.77 \n",
       "  \"/>\n",
       "<polyline clip-path=\"url(#clip9201)\" style=\"stroke:#000000; stroke-width:4; stroke-opacity:1; fill:none\" points=\"\n",
       "  1089.36,1440.48 1089.36,1420.77 \n",
       "  \"/>\n",
       "<polyline clip-path=\"url(#clip9201)\" style=\"stroke:#000000; stroke-width:4; stroke-opacity:1; fill:none\" points=\"\n",
       "  1488.93,1440.48 1488.93,1420.77 \n",
       "  \"/>\n",
       "<polyline clip-path=\"url(#clip9201)\" style=\"stroke:#000000; stroke-width:4; stroke-opacity:1; fill:none\" points=\"\n",
       "  1888.5,1440.48 1888.5,1420.77 \n",
       "  \"/>\n",
       "<polyline clip-path=\"url(#clip9201)\" style=\"stroke:#000000; stroke-width:4; stroke-opacity:1; fill:none\" points=\"\n",
       "  2288.06,1440.48 2288.06,1420.77 \n",
       "  \"/>\n",
       "<polyline clip-path=\"url(#clip9201)\" style=\"stroke:#000000; stroke-width:4; stroke-opacity:1; fill:none\" points=\"\n",
       "  251.149,1415.67 282.2,1415.67 \n",
       "  \"/>\n",
       "<polyline clip-path=\"url(#clip9201)\" style=\"stroke:#000000; stroke-width:4; stroke-opacity:1; fill:none\" points=\"\n",
       "  251.149,1161.95 282.2,1161.95 \n",
       "  \"/>\n",
       "<polyline clip-path=\"url(#clip9201)\" style=\"stroke:#000000; stroke-width:4; stroke-opacity:1; fill:none\" points=\"\n",
       "  251.149,908.227 282.2,908.227 \n",
       "  \"/>\n",
       "<polyline clip-path=\"url(#clip9201)\" style=\"stroke:#000000; stroke-width:4; stroke-opacity:1; fill:none\" points=\"\n",
       "  251.149,654.506 282.2,654.506 \n",
       "  \"/>\n",
       "<polyline clip-path=\"url(#clip9201)\" style=\"stroke:#000000; stroke-width:4; stroke-opacity:1; fill:none\" points=\"\n",
       "  251.149,400.785 282.2,400.785 \n",
       "  \"/>\n",
       "<polyline clip-path=\"url(#clip9201)\" style=\"stroke:#000000; stroke-width:4; stroke-opacity:1; fill:none\" points=\"\n",
       "  251.149,147.064 282.2,147.064 \n",
       "  \"/>\n",
       "<g clip-path=\"url(#clip9201)\">\n",
       "<text style=\"fill:#000000; fill-opacity:1; font-family:Arial,Helvetica Neue,Helvetica,sans-serif; font-size:48px; text-anchor:middle;\" transform=\"rotate(0, 290.226, 1494.48)\" x=\"290.226\" y=\"1494.48\">0.35</text>\n",
       "</g>\n",
       "<g clip-path=\"url(#clip9201)\">\n",
       "<text style=\"fill:#000000; fill-opacity:1; font-family:Arial,Helvetica Neue,Helvetica,sans-serif; font-size:48px; text-anchor:middle;\" transform=\"rotate(0, 689.793, 1494.48)\" x=\"689.793\" y=\"1494.48\">0.40</text>\n",
       "</g>\n",
       "<g clip-path=\"url(#clip9201)\">\n",
       "<text style=\"fill:#000000; fill-opacity:1; font-family:Arial,Helvetica Neue,Helvetica,sans-serif; font-size:48px; text-anchor:middle;\" transform=\"rotate(0, 1089.36, 1494.48)\" x=\"1089.36\" y=\"1494.48\">0.45</text>\n",
       "</g>\n",
       "<g clip-path=\"url(#clip9201)\">\n",
       "<text style=\"fill:#000000; fill-opacity:1; font-family:Arial,Helvetica Neue,Helvetica,sans-serif; font-size:48px; text-anchor:middle;\" transform=\"rotate(0, 1488.93, 1494.48)\" x=\"1488.93\" y=\"1494.48\">0.50</text>\n",
       "</g>\n",
       "<g clip-path=\"url(#clip9201)\">\n",
       "<text style=\"fill:#000000; fill-opacity:1; font-family:Arial,Helvetica Neue,Helvetica,sans-serif; font-size:48px; text-anchor:middle;\" transform=\"rotate(0, 1888.5, 1494.48)\" x=\"1888.5\" y=\"1494.48\">0.55</text>\n",
       "</g>\n",
       "<g clip-path=\"url(#clip9201)\">\n",
       "<text style=\"fill:#000000; fill-opacity:1; font-family:Arial,Helvetica Neue,Helvetica,sans-serif; font-size:48px; text-anchor:middle;\" transform=\"rotate(0, 2288.06, 1494.48)\" x=\"2288.06\" y=\"1494.48\">0.60</text>\n",
       "</g>\n",
       "<g clip-path=\"url(#clip9201)\">\n",
       "<text style=\"fill:#000000; fill-opacity:1; font-family:Arial,Helvetica Neue,Helvetica,sans-serif; font-size:48px; text-anchor:end;\" transform=\"rotate(0, 227.149, 1433.17)\" x=\"227.149\" y=\"1433.17\">0.35</text>\n",
       "</g>\n",
       "<g clip-path=\"url(#clip9201)\">\n",
       "<text style=\"fill:#000000; fill-opacity:1; font-family:Arial,Helvetica Neue,Helvetica,sans-serif; font-size:48px; text-anchor:end;\" transform=\"rotate(0, 227.149, 1179.45)\" x=\"227.149\" y=\"1179.45\">0.40</text>\n",
       "</g>\n",
       "<g clip-path=\"url(#clip9201)\">\n",
       "<text style=\"fill:#000000; fill-opacity:1; font-family:Arial,Helvetica Neue,Helvetica,sans-serif; font-size:48px; text-anchor:end;\" transform=\"rotate(0, 227.149, 925.727)\" x=\"227.149\" y=\"925.727\">0.45</text>\n",
       "</g>\n",
       "<g clip-path=\"url(#clip9201)\">\n",
       "<text style=\"fill:#000000; fill-opacity:1; font-family:Arial,Helvetica Neue,Helvetica,sans-serif; font-size:48px; text-anchor:end;\" transform=\"rotate(0, 227.149, 672.006)\" x=\"227.149\" y=\"672.006\">0.50</text>\n",
       "</g>\n",
       "<g clip-path=\"url(#clip9201)\">\n",
       "<text style=\"fill:#000000; fill-opacity:1; font-family:Arial,Helvetica Neue,Helvetica,sans-serif; font-size:48px; text-anchor:end;\" transform=\"rotate(0, 227.149, 418.285)\" x=\"227.149\" y=\"418.285\">0.55</text>\n",
       "</g>\n",
       "<g clip-path=\"url(#clip9201)\">\n",
       "<text style=\"fill:#000000; fill-opacity:1; font-family:Arial,Helvetica Neue,Helvetica,sans-serif; font-size:48px; text-anchor:end;\" transform=\"rotate(0, 227.149, 164.564)\" x=\"227.149\" y=\"164.564\">0.60</text>\n",
       "</g>\n",
       "<g clip-path=\"url(#clip9201)\">\n",
       "<text style=\"fill:#000000; fill-opacity:1; font-family:Arial,Helvetica Neue,Helvetica,sans-serif; font-size:84px; text-anchor:middle;\" transform=\"rotate(0, 1286.2, 73.2)\" x=\"1286.2\" y=\"73.2\">y1</text>\n",
       "</g>\n",
       "<g clip-path=\"url(#clip9201)\">\n",
       "<text style=\"fill:#000000; fill-opacity:1; font-family:Arial,Helvetica Neue,Helvetica,sans-serif; font-size:66px; text-anchor:middle;\" transform=\"rotate(0, 1286.2, 1590.4)\" x=\"1286.2\" y=\"1590.4\">BayesL</text>\n",
       "</g>\n",
       "<g clip-path=\"url(#clip9201)\">\n",
       "<text style=\"fill:#000000; fill-opacity:1; font-family:Arial,Helvetica Neue,Helvetica,sans-serif; font-size:66px; text-anchor:middle;\" transform=\"rotate(-90, 57.6, 783.233)\" x=\"57.6\" y=\"783.233\">BayesCPi</text>\n",
       "</g>\n",
       "<polyline clip-path=\"url(#clip9203)\" style=\"stroke:#009af9; stroke-width:4; stroke-opacity:1; fill:none\" points=\"\n",
       "  309.737,1403.28 490.139,1288.73 598.554,1219.88 690.217,1161.68 789.789,1098.45 881.585,1040.16 980.001,977.669 1094.02,905.265 1195.36,840.921 1284.21,784.497 \n",
       "  1381.09,722.98 1478.55,661.097 1586.3,592.677 1688.82,527.578 1795.42,459.889 1885.15,402.91 1994.7,333.345 2097.68,267.952 2262.67,163.187 \n",
       "  \"/>\n",
       "<circle clip-path=\"url(#clip9203)\" style=\"fill:#000000; stroke:none; fill-opacity:1\" cx=\"1568.84\" cy=\"654.506\" r=\"18\"/>\n",
       "<circle clip-path=\"url(#clip9203)\" style=\"fill:#e26f46; stroke:none; fill-opacity:1\" cx=\"1568.84\" cy=\"654.506\" r=\"14\"/>\n",
       "<circle clip-path=\"url(#clip9203)\" style=\"fill:#000000; stroke:none; fill-opacity:1\" cx=\"1169.27\" cy=\"806.739\" r=\"18\"/>\n",
       "<circle clip-path=\"url(#clip9203)\" style=\"fill:#e26f46; stroke:none; fill-opacity:1\" cx=\"1169.27\" cy=\"806.739\" r=\"14\"/>\n",
       "<circle clip-path=\"url(#clip9203)\" style=\"fill:#000000; stroke:none; fill-opacity:1\" cx=\"1409.01\" cy=\"705.25\" r=\"18\"/>\n",
       "<circle clip-path=\"url(#clip9203)\" style=\"fill:#e26f46; stroke:none; fill-opacity:1\" cx=\"1409.01\" cy=\"705.25\" r=\"14\"/>\n",
       "<circle clip-path=\"url(#clip9203)\" style=\"fill:#000000; stroke:none; fill-opacity:1\" cx=\"1488.93\" cy=\"654.506\" r=\"18\"/>\n",
       "<circle clip-path=\"url(#clip9203)\" style=\"fill:#e26f46; stroke:none; fill-opacity:1\" cx=\"1488.93\" cy=\"654.506\" r=\"14\"/>\n",
       "<circle clip-path=\"url(#clip9203)\" style=\"fill:#000000; stroke:none; fill-opacity:1\" cx=\"1009.45\" cy=\"958.971\" r=\"18\"/>\n",
       "<circle clip-path=\"url(#clip9203)\" style=\"fill:#e26f46; stroke:none; fill-opacity:1\" cx=\"1009.45\" cy=\"958.971\" r=\"14\"/>\n",
       "<circle clip-path=\"url(#clip9203)\" style=\"fill:#000000; stroke:none; fill-opacity:1\" cx=\"1169.27\" cy=\"857.483\" r=\"18\"/>\n",
       "<circle clip-path=\"url(#clip9203)\" style=\"fill:#e26f46; stroke:none; fill-opacity:1\" cx=\"1169.27\" cy=\"857.483\" r=\"14\"/>\n",
       "<circle clip-path=\"url(#clip9203)\" style=\"fill:#000000; stroke:none; fill-opacity:1\" cx=\"1409.01\" cy=\"705.25\" r=\"18\"/>\n",
       "<circle clip-path=\"url(#clip9203)\" style=\"fill:#e26f46; stroke:none; fill-opacity:1\" cx=\"1409.01\" cy=\"705.25\" r=\"14\"/>\n",
       "<circle clip-path=\"url(#clip9203)\" style=\"fill:#000000; stroke:none; fill-opacity:1\" cx=\"1409.01\" cy=\"705.25\" r=\"18\"/>\n",
       "<circle clip-path=\"url(#clip9203)\" style=\"fill:#e26f46; stroke:none; fill-opacity:1\" cx=\"1409.01\" cy=\"705.25\" r=\"14\"/>\n",
       "<circle clip-path=\"url(#clip9203)\" style=\"fill:#000000; stroke:none; fill-opacity:1\" cx=\"1329.1\" cy=\"705.25\" r=\"18\"/>\n",
       "<circle clip-path=\"url(#clip9203)\" style=\"fill:#e26f46; stroke:none; fill-opacity:1\" cx=\"1329.1\" cy=\"705.25\" r=\"14\"/>\n",
       "<circle clip-path=\"url(#clip9203)\" style=\"fill:#000000; stroke:none; fill-opacity:1\" cx=\"1409.01\" cy=\"705.25\" r=\"18\"/>\n",
       "<circle clip-path=\"url(#clip9203)\" style=\"fill:#e26f46; stroke:none; fill-opacity:1\" cx=\"1409.01\" cy=\"705.25\" r=\"14\"/>\n",
       "</svg>\n"
      ]
     },
     "execution_count": 35,
     "metadata": {},
     "output_type": "execute_result"
    }
   ],
   "source": [
    "plot(x->x,0.35,0.6,title=\"y1\",lab=\"\")\n",
    "scatter!(resCorr[:,1],resCorr[:,5], xlabel=\"BayesL\",ylabel=\"BayesCPi\",lab=\"\")"
   ]
  },
  {
   "cell_type": "code",
   "execution_count": 36,
   "metadata": {},
   "outputs": [
    {
     "data": {
      "image/svg+xml": [
       "<?xml version=\"1.0\" encoding=\"utf-8\"?>\n",
       "<svg xmlns=\"http://www.w3.org/2000/svg\" xmlns:xlink=\"http://www.w3.org/1999/xlink\" width=\"600\" height=\"400\" viewBox=\"0 0 2400 1600\">\n",
       "<defs>\n",
       "  <clipPath id=\"clip9400\">\n",
       "    <rect x=\"0\" y=\"0\" width=\"2000\" height=\"2000\"/>\n",
       "  </clipPath>\n",
       "</defs>\n",
       "<defs>\n",
       "  <clipPath id=\"clip9401\">\n",
       "    <rect x=\"0\" y=\"0\" width=\"2400\" height=\"1600\"/>\n",
       "  </clipPath>\n",
       "</defs>\n",
       "<polygon clip-path=\"url(#clip9401)\" points=\"\n",
       "0,1600 2400,1600 2400,0 0,0 \n",
       "  \" fill=\"#ffffff\" fill-rule=\"evenodd\" fill-opacity=\"1\"/>\n",
       "<defs>\n",
       "  <clipPath id=\"clip9402\">\n",
       "    <rect x=\"480\" y=\"0\" width=\"1681\" height=\"1600\"/>\n",
       "  </clipPath>\n",
       "</defs>\n",
       "<polygon clip-path=\"url(#clip9401)\" points=\"\n",
       "251.149,1440.48 2321.26,1440.48 2321.26,125.984 251.149,125.984 \n",
       "  \" fill=\"#ffffff\" fill-rule=\"evenodd\" fill-opacity=\"1\"/>\n",
       "<defs>\n",
       "  <clipPath id=\"clip9403\">\n",
       "    <rect x=\"251\" y=\"125\" width=\"2071\" height=\"1315\"/>\n",
       "  </clipPath>\n",
       "</defs>\n",
       "<polyline clip-path=\"url(#clip9403)\" style=\"stroke:#000000; stroke-width:2; stroke-opacity:0.1; fill:none\" points=\"\n",
       "  309.737,1440.48 309.737,125.984 \n",
       "  \"/>\n",
       "<polyline clip-path=\"url(#clip9403)\" style=\"stroke:#000000; stroke-width:2; stroke-opacity:0.1; fill:none\" points=\"\n",
       "  705.352,1440.48 705.352,125.984 \n",
       "  \"/>\n",
       "<polyline clip-path=\"url(#clip9403)\" style=\"stroke:#000000; stroke-width:2; stroke-opacity:0.1; fill:none\" points=\"\n",
       "  1100.97,1440.48 1100.97,125.984 \n",
       "  \"/>\n",
       "<polyline clip-path=\"url(#clip9403)\" style=\"stroke:#000000; stroke-width:2; stroke-opacity:0.1; fill:none\" points=\"\n",
       "  1496.58,1440.48 1496.58,125.984 \n",
       "  \"/>\n",
       "<polyline clip-path=\"url(#clip9403)\" style=\"stroke:#000000; stroke-width:2; stroke-opacity:0.1; fill:none\" points=\"\n",
       "  1892.2,1440.48 1892.2,125.984 \n",
       "  \"/>\n",
       "<polyline clip-path=\"url(#clip9403)\" style=\"stroke:#000000; stroke-width:2; stroke-opacity:0.1; fill:none\" points=\"\n",
       "  2287.81,1440.48 2287.81,125.984 \n",
       "  \"/>\n",
       "<polyline clip-path=\"url(#clip9403)\" style=\"stroke:#000000; stroke-width:2; stroke-opacity:0.1; fill:none\" points=\"\n",
       "  251.149,1403.28 2321.26,1403.28 \n",
       "  \"/>\n",
       "<polyline clip-path=\"url(#clip9403)\" style=\"stroke:#000000; stroke-width:2; stroke-opacity:0.1; fill:none\" points=\"\n",
       "  251.149,1152.07 2321.26,1152.07 \n",
       "  \"/>\n",
       "<polyline clip-path=\"url(#clip9403)\" style=\"stroke:#000000; stroke-width:2; stroke-opacity:0.1; fill:none\" points=\"\n",
       "  251.149,900.857 2321.26,900.857 \n",
       "  \"/>\n",
       "<polyline clip-path=\"url(#clip9403)\" style=\"stroke:#000000; stroke-width:2; stroke-opacity:0.1; fill:none\" points=\"\n",
       "  251.149,649.646 2321.26,649.646 \n",
       "  \"/>\n",
       "<polyline clip-path=\"url(#clip9403)\" style=\"stroke:#000000; stroke-width:2; stroke-opacity:0.1; fill:none\" points=\"\n",
       "  251.149,398.435 2321.26,398.435 \n",
       "  \"/>\n",
       "<polyline clip-path=\"url(#clip9403)\" style=\"stroke:#000000; stroke-width:2; stroke-opacity:0.1; fill:none\" points=\"\n",
       "  251.149,147.224 2321.26,147.224 \n",
       "  \"/>\n",
       "<polyline clip-path=\"url(#clip9401)\" style=\"stroke:#000000; stroke-width:4; stroke-opacity:1; fill:none\" points=\"\n",
       "  251.149,1440.48 2321.26,1440.48 \n",
       "  \"/>\n",
       "<polyline clip-path=\"url(#clip9401)\" style=\"stroke:#000000; stroke-width:4; stroke-opacity:1; fill:none\" points=\"\n",
       "  251.149,1440.48 251.149,125.984 \n",
       "  \"/>\n",
       "<polyline clip-path=\"url(#clip9401)\" style=\"stroke:#000000; stroke-width:4; stroke-opacity:1; fill:none\" points=\"\n",
       "  309.737,1440.48 309.737,1420.77 \n",
       "  \"/>\n",
       "<polyline clip-path=\"url(#clip9401)\" style=\"stroke:#000000; stroke-width:4; stroke-opacity:1; fill:none\" points=\"\n",
       "  705.352,1440.48 705.352,1420.77 \n",
       "  \"/>\n",
       "<polyline clip-path=\"url(#clip9401)\" style=\"stroke:#000000; stroke-width:4; stroke-opacity:1; fill:none\" points=\"\n",
       "  1100.97,1440.48 1100.97,1420.77 \n",
       "  \"/>\n",
       "<polyline clip-path=\"url(#clip9401)\" style=\"stroke:#000000; stroke-width:4; stroke-opacity:1; fill:none\" points=\"\n",
       "  1496.58,1440.48 1496.58,1420.77 \n",
       "  \"/>\n",
       "<polyline clip-path=\"url(#clip9401)\" style=\"stroke:#000000; stroke-width:4; stroke-opacity:1; fill:none\" points=\"\n",
       "  1892.2,1440.48 1892.2,1420.77 \n",
       "  \"/>\n",
       "<polyline clip-path=\"url(#clip9401)\" style=\"stroke:#000000; stroke-width:4; stroke-opacity:1; fill:none\" points=\"\n",
       "  2287.81,1440.48 2287.81,1420.77 \n",
       "  \"/>\n",
       "<polyline clip-path=\"url(#clip9401)\" style=\"stroke:#000000; stroke-width:4; stroke-opacity:1; fill:none\" points=\"\n",
       "  251.149,1403.28 282.2,1403.28 \n",
       "  \"/>\n",
       "<polyline clip-path=\"url(#clip9401)\" style=\"stroke:#000000; stroke-width:4; stroke-opacity:1; fill:none\" points=\"\n",
       "  251.149,1152.07 282.2,1152.07 \n",
       "  \"/>\n",
       "<polyline clip-path=\"url(#clip9401)\" style=\"stroke:#000000; stroke-width:4; stroke-opacity:1; fill:none\" points=\"\n",
       "  251.149,900.857 282.2,900.857 \n",
       "  \"/>\n",
       "<polyline clip-path=\"url(#clip9401)\" style=\"stroke:#000000; stroke-width:4; stroke-opacity:1; fill:none\" points=\"\n",
       "  251.149,649.646 282.2,649.646 \n",
       "  \"/>\n",
       "<polyline clip-path=\"url(#clip9401)\" style=\"stroke:#000000; stroke-width:4; stroke-opacity:1; fill:none\" points=\"\n",
       "  251.149,398.435 282.2,398.435 \n",
       "  \"/>\n",
       "<polyline clip-path=\"url(#clip9401)\" style=\"stroke:#000000; stroke-width:4; stroke-opacity:1; fill:none\" points=\"\n",
       "  251.149,147.224 282.2,147.224 \n",
       "  \"/>\n",
       "<g clip-path=\"url(#clip9401)\">\n",
       "<text style=\"fill:#000000; fill-opacity:1; font-family:Arial,Helvetica Neue,Helvetica,sans-serif; font-size:48px; text-anchor:middle;\" transform=\"rotate(0, 309.737, 1494.48)\" x=\"309.737\" y=\"1494.48\">0.35</text>\n",
       "</g>\n",
       "<g clip-path=\"url(#clip9401)\">\n",
       "<text style=\"fill:#000000; fill-opacity:1; font-family:Arial,Helvetica Neue,Helvetica,sans-serif; font-size:48px; text-anchor:middle;\" transform=\"rotate(0, 705.352, 1494.48)\" x=\"705.352\" y=\"1494.48\">0.40</text>\n",
       "</g>\n",
       "<g clip-path=\"url(#clip9401)\">\n",
       "<text style=\"fill:#000000; fill-opacity:1; font-family:Arial,Helvetica Neue,Helvetica,sans-serif; font-size:48px; text-anchor:middle;\" transform=\"rotate(0, 1100.97, 1494.48)\" x=\"1100.97\" y=\"1494.48\">0.45</text>\n",
       "</g>\n",
       "<g clip-path=\"url(#clip9401)\">\n",
       "<text style=\"fill:#000000; fill-opacity:1; font-family:Arial,Helvetica Neue,Helvetica,sans-serif; font-size:48px; text-anchor:middle;\" transform=\"rotate(0, 1496.58, 1494.48)\" x=\"1496.58\" y=\"1494.48\">0.50</text>\n",
       "</g>\n",
       "<g clip-path=\"url(#clip9401)\">\n",
       "<text style=\"fill:#000000; fill-opacity:1; font-family:Arial,Helvetica Neue,Helvetica,sans-serif; font-size:48px; text-anchor:middle;\" transform=\"rotate(0, 1892.2, 1494.48)\" x=\"1892.2\" y=\"1494.48\">0.55</text>\n",
       "</g>\n",
       "<g clip-path=\"url(#clip9401)\">\n",
       "<text style=\"fill:#000000; fill-opacity:1; font-family:Arial,Helvetica Neue,Helvetica,sans-serif; font-size:48px; text-anchor:middle;\" transform=\"rotate(0, 2287.81, 1494.48)\" x=\"2287.81\" y=\"1494.48\">0.60</text>\n",
       "</g>\n",
       "<g clip-path=\"url(#clip9401)\">\n",
       "<text style=\"fill:#000000; fill-opacity:1; font-family:Arial,Helvetica Neue,Helvetica,sans-serif; font-size:48px; text-anchor:end;\" transform=\"rotate(0, 227.149, 1420.78)\" x=\"227.149\" y=\"1420.78\">0.35</text>\n",
       "</g>\n",
       "<g clip-path=\"url(#clip9401)\">\n",
       "<text style=\"fill:#000000; fill-opacity:1; font-family:Arial,Helvetica Neue,Helvetica,sans-serif; font-size:48px; text-anchor:end;\" transform=\"rotate(0, 227.149, 1169.57)\" x=\"227.149\" y=\"1169.57\">0.40</text>\n",
       "</g>\n",
       "<g clip-path=\"url(#clip9401)\">\n",
       "<text style=\"fill:#000000; fill-opacity:1; font-family:Arial,Helvetica Neue,Helvetica,sans-serif; font-size:48px; text-anchor:end;\" transform=\"rotate(0, 227.149, 918.357)\" x=\"227.149\" y=\"918.357\">0.45</text>\n",
       "</g>\n",
       "<g clip-path=\"url(#clip9401)\">\n",
       "<text style=\"fill:#000000; fill-opacity:1; font-family:Arial,Helvetica Neue,Helvetica,sans-serif; font-size:48px; text-anchor:end;\" transform=\"rotate(0, 227.149, 667.146)\" x=\"227.149\" y=\"667.146\">0.50</text>\n",
       "</g>\n",
       "<g clip-path=\"url(#clip9401)\">\n",
       "<text style=\"fill:#000000; fill-opacity:1; font-family:Arial,Helvetica Neue,Helvetica,sans-serif; font-size:48px; text-anchor:end;\" transform=\"rotate(0, 227.149, 415.935)\" x=\"227.149\" y=\"415.935\">0.55</text>\n",
       "</g>\n",
       "<g clip-path=\"url(#clip9401)\">\n",
       "<text style=\"fill:#000000; fill-opacity:1; font-family:Arial,Helvetica Neue,Helvetica,sans-serif; font-size:48px; text-anchor:end;\" transform=\"rotate(0, 227.149, 164.724)\" x=\"227.149\" y=\"164.724\">0.60</text>\n",
       "</g>\n",
       "<g clip-path=\"url(#clip9401)\">\n",
       "<text style=\"fill:#000000; fill-opacity:1; font-family:Arial,Helvetica Neue,Helvetica,sans-serif; font-size:84px; text-anchor:middle;\" transform=\"rotate(0, 1286.2, 73.2)\" x=\"1286.2\" y=\"73.2\">y2</text>\n",
       "</g>\n",
       "<g clip-path=\"url(#clip9401)\">\n",
       "<text style=\"fill:#000000; fill-opacity:1; font-family:Arial,Helvetica Neue,Helvetica,sans-serif; font-size:66px; text-anchor:middle;\" transform=\"rotate(0, 1286.2, 1590.4)\" x=\"1286.2\" y=\"1590.4\">BayesL</text>\n",
       "</g>\n",
       "<g clip-path=\"url(#clip9401)\">\n",
       "<text style=\"fill:#000000; fill-opacity:1; font-family:Arial,Helvetica Neue,Helvetica,sans-serif; font-size:66px; text-anchor:middle;\" transform=\"rotate(-90, 57.6, 783.233)\" x=\"57.6\" y=\"783.233\">BayesCPi</text>\n",
       "</g>\n",
       "<polyline clip-path=\"url(#clip9403)\" style=\"stroke:#009af9; stroke-width:4; stroke-opacity:1; fill:none\" points=\"\n",
       "  329.054,1391.01 507.672,1277.59 615.015,1209.43 705.771,1151.8 804.358,1089.2 895.247,1031.49 992.689,969.613 1105.58,897.925 1205.91,834.217 1293.89,778.351 \n",
       "  1389.81,717.442 1486.3,656.172 1592.99,588.429 1694.49,523.973 1800.04,456.955 1888.88,400.539 1997.35,331.662 2099.32,266.916 2262.67,163.187 \n",
       "  \"/>\n",
       "<circle clip-path=\"url(#clip9403)\" style=\"fill:#000000; stroke:none; fill-opacity:1\" cx=\"1180.09\" cy=\"800.373\" r=\"18\"/>\n",
       "<circle clip-path=\"url(#clip9403)\" style=\"fill:#e26f46; stroke:none; fill-opacity:1\" cx=\"1180.09\" cy=\"800.373\" r=\"14\"/>\n",
       "<circle clip-path=\"url(#clip9403)\" style=\"fill:#000000; stroke:none; fill-opacity:1\" cx=\"942.721\" cy=\"951.1\" r=\"18\"/>\n",
       "<circle clip-path=\"url(#clip9403)\" style=\"fill:#e26f46; stroke:none; fill-opacity:1\" cx=\"942.721\" cy=\"951.1\" r=\"14\"/>\n",
       "<circle clip-path=\"url(#clip9403)\" style=\"fill:#000000; stroke:none; fill-opacity:1\" cx=\"1338.34\" cy=\"699.888\" r=\"18\"/>\n",
       "<circle clip-path=\"url(#clip9403)\" style=\"fill:#e26f46; stroke:none; fill-opacity:1\" cx=\"1338.34\" cy=\"699.888\" r=\"14\"/>\n",
       "<circle clip-path=\"url(#clip9403)\" style=\"fill:#000000; stroke:none; fill-opacity:1\" cx=\"1496.58\" cy=\"649.646\" r=\"18\"/>\n",
       "<circle clip-path=\"url(#clip9403)\" style=\"fill:#e26f46; stroke:none; fill-opacity:1\" cx=\"1496.58\" cy=\"649.646\" r=\"14\"/>\n",
       "<circle clip-path=\"url(#clip9403)\" style=\"fill:#000000; stroke:none; fill-opacity:1\" cx=\"1654.83\" cy=\"549.162\" r=\"18\"/>\n",
       "<circle clip-path=\"url(#clip9403)\" style=\"fill:#e26f46; stroke:none; fill-opacity:1\" cx=\"1654.83\" cy=\"549.162\" r=\"14\"/>\n",
       "<circle clip-path=\"url(#clip9403)\" style=\"fill:#000000; stroke:none; fill-opacity:1\" cx=\"1100.97\" cy=\"850.615\" r=\"18\"/>\n",
       "<circle clip-path=\"url(#clip9403)\" style=\"fill:#e26f46; stroke:none; fill-opacity:1\" cx=\"1100.97\" cy=\"850.615\" r=\"14\"/>\n",
       "<circle clip-path=\"url(#clip9403)\" style=\"fill:#000000; stroke:none; fill-opacity:1\" cx=\"863.598\" cy=\"1051.58\" r=\"18\"/>\n",
       "<circle clip-path=\"url(#clip9403)\" style=\"fill:#e26f46; stroke:none; fill-opacity:1\" cx=\"863.598\" cy=\"1051.58\" r=\"14\"/>\n",
       "<circle clip-path=\"url(#clip9403)\" style=\"fill:#000000; stroke:none; fill-opacity:1\" cx=\"309.737\" cy=\"1403.28\" r=\"18\"/>\n",
       "<circle clip-path=\"url(#clip9403)\" style=\"fill:#e26f46; stroke:none; fill-opacity:1\" cx=\"309.737\" cy=\"1403.28\" r=\"14\"/>\n",
       "<circle clip-path=\"url(#clip9403)\" style=\"fill:#000000; stroke:none; fill-opacity:1\" cx=\"1259.21\" cy=\"800.373\" r=\"18\"/>\n",
       "<circle clip-path=\"url(#clip9403)\" style=\"fill:#e26f46; stroke:none; fill-opacity:1\" cx=\"1259.21\" cy=\"800.373\" r=\"14\"/>\n",
       "<circle clip-path=\"url(#clip9403)\" style=\"fill:#000000; stroke:none; fill-opacity:1\" cx=\"1100.97\" cy=\"850.615\" r=\"18\"/>\n",
       "<circle clip-path=\"url(#clip9403)\" style=\"fill:#e26f46; stroke:none; fill-opacity:1\" cx=\"1100.97\" cy=\"850.615\" r=\"14\"/>\n",
       "</svg>\n"
      ]
     },
     "execution_count": 36,
     "metadata": {},
     "output_type": "execute_result"
    }
   ],
   "source": [
    "plot(x->x,0.35,0.6,title=\"y2\",lab=\"\")\n",
    "scatter!(resCorr[:,2],resCorr[:,6], xlabel=\"BayesL\",ylabel=\"BayesCPi\",lab=\"\")"
   ]
  }
 ],
 "metadata": {
  "kernelspec": {
   "display_name": "Julia 1.0.2",
   "language": "julia",
   "name": "julia-1.0"
  },
  "language_info": {
   "file_extension": ".jl",
   "mimetype": "application/julia",
   "name": "julia",
   "version": "1.0.2"
  }
 },
 "nbformat": 4,
 "nbformat_minor": 2
}
