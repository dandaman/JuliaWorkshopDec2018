{
 "cells": [
  {
   "cell_type": "code",
   "execution_count": 26,
   "metadata": {},
   "outputs": [],
   "source": [
    "using CSV\n",
    "using GraphDataFrameBridge\n",
    "using MetaGraphs"
   ]
  },
  {
   "cell_type": "code",
   "execution_count": 13,
   "metadata": {},
   "outputs": [
    {
     "data": {
      "text/html": [
       "<table class=\"data-frame\"><thead><tr><th></th><th>child</th><th>mum</th><th>dad</th></tr><tr><th></th><th>String⍰</th><th>String⍰</th><th>String⍰</th></tr></thead><tbody><p>4 rows × 3 columns</p><tr><th>1</th><td>F</td><td>A</td><td>D</td></tr><tr><th>2</th><td>C</td><td>A</td><td>B1</td></tr><tr><th>3</th><td>D</td><td>A</td><td>B1</td></tr><tr><th>4</th><td>E</td><td>C</td><td>D</td></tr></tbody></table>"
      ],
      "text/latex": [
       "\\begin{tabular}{r|ccc}\n",
       "\t& child & mum & dad\\\\\n",
       "\t\\hline\n",
       "\t1 & F & A & D \\\\\n",
       "\t2 & C & A & B1 \\\\\n",
       "\t3 & D & A & B1 \\\\\n",
       "\t4 & E & C & D \\\\\n",
       "\\end{tabular}\n"
      ],
      "text/plain": [
       "4×3 DataFrames.DataFrame\n",
       "│ Row │ child   │ mum     │ dad     │\n",
       "│     │ \u001b[90mString⍰\u001b[39m │ \u001b[90mString⍰\u001b[39m │ \u001b[90mString⍰\u001b[39m │\n",
       "├─────┼─────────┼─────────┼─────────┤\n",
       "│ 1   │ F       │ A       │ D       │\n",
       "│ 2   │ C       │ A       │ B1      │\n",
       "│ 3   │ D       │ A       │ B1      │\n",
       "│ 4   │ E       │ C       │ D       │"
      ]
     },
     "execution_count": 13,
     "metadata": {},
     "output_type": "execute_result"
    }
   ],
   "source": [
    "d=CSV.read(\"../day5/ped1\",delim=\" \",header=[:child,:mum,:dad])"
   ]
  },
  {
   "cell_type": "code",
   "execution_count": 17,
   "metadata": {},
   "outputs": [
    {
     "data": {
      "text/plain": [
       "-1"
      ]
     },
     "execution_count": 17,
     "metadata": {},
     "output_type": "execute_result"
    }
   ],
   "source": [
    "d[:weight]=-1"
   ]
  },
  {
   "cell_type": "code",
   "execution_count": 18,
   "metadata": {},
   "outputs": [
    {
     "data": {
      "text/html": [
       "<table class=\"data-frame\"><thead><tr><th></th><th>child</th><th>mum</th><th>dad</th><th>weight</th></tr><tr><th></th><th>String⍰</th><th>String⍰</th><th>String⍰</th><th>Int64</th></tr></thead><tbody><p>4 rows × 4 columns</p><tr><th>1</th><td>F</td><td>A</td><td>D</td><td>-1</td></tr><tr><th>2</th><td>C</td><td>A</td><td>B1</td><td>-1</td></tr><tr><th>3</th><td>D</td><td>A</td><td>B1</td><td>-1</td></tr><tr><th>4</th><td>E</td><td>C</td><td>D</td><td>-1</td></tr></tbody></table>"
      ],
      "text/latex": [
       "\\begin{tabular}{r|cccc}\n",
       "\t& child & mum & dad & weight\\\\\n",
       "\t\\hline\n",
       "\t1 & F & A & D & -1 \\\\\n",
       "\t2 & C & A & B1 & -1 \\\\\n",
       "\t3 & D & A & B1 & -1 \\\\\n",
       "\t4 & E & C & D & -1 \\\\\n",
       "\\end{tabular}\n"
      ],
      "text/plain": [
       "4×4 DataFrames.DataFrame\n",
       "│ Row │ child   │ mum     │ dad     │ weight │\n",
       "│     │ \u001b[90mString⍰\u001b[39m │ \u001b[90mString⍰\u001b[39m │ \u001b[90mString⍰\u001b[39m │ \u001b[90mInt64\u001b[39m  │\n",
       "├─────┼─────────┼─────────┼─────────┼────────┤\n",
       "│ 1   │ F       │ A       │ D       │ -1     │\n",
       "│ 2   │ C       │ A       │ B1      │ -1     │\n",
       "│ 3   │ D       │ A       │ B1      │ -1     │\n",
       "│ 4   │ E       │ C       │ D       │ -1     │"
      ]
     },
     "execution_count": 18,
     "metadata": {},
     "output_type": "execute_result"
    }
   ],
   "source": [
    "first(d,10)"
   ]
  },
  {
   "cell_type": "code",
   "execution_count": 22,
   "metadata": {},
   "outputs": [
    {
     "data": {
      "text/plain": [
       "{4, 3} undirected Int64 metagraph with Float64 weights defined by :weight (default weight 1.0)"
      ]
     },
     "execution_count": 22,
     "metadata": {},
     "output_type": "execute_result"
    }
   ],
   "source": [
    "g = MetaGraph(d, :mum, :dad, weight=:weight,edge_attributes=:child)"
   ]
  },
  {
   "cell_type": "code",
   "execution_count": 30,
   "metadata": {},
   "outputs": [
    {
     "data": {
      "text/plain": [
       "Dict{Symbol,Any} with 2 entries:\n",
       "  :child  => \"D\"\n",
       "  :weight => -1"
      ]
     },
     "execution_count": 30,
     "metadata": {},
     "output_type": "execute_result"
    }
   ],
   "source": [
    "props(g,1,2)"
   ]
  }
 ],
 "metadata": {
  "kernelspec": {
   "display_name": "Julia 1.0.2",
   "language": "julia",
   "name": "julia-1.0"
  },
  "language_info": {
   "file_extension": ".jl",
   "mimetype": "application/julia",
   "name": "julia",
   "version": "1.0.2"
  }
 },
 "nbformat": 4,
 "nbformat_minor": 2
}
